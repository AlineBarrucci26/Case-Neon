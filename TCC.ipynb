{
  "nbformat": 4,
  "nbformat_minor": 0,
  "metadata": {
    "colab": {
      "name": "TCC.ipynb",
      "provenance": [],
      "authorship_tag": "ABX9TyPJJHXBfi9g3Nl2BY+gi22r",
      "include_colab_link": true
    },
    "kernelspec": {
      "name": "python3",
      "display_name": "Python 3"
    },
    "language_info": {
      "name": "python"
    }
  },
  "cells": [
    {
      "cell_type": "markdown",
      "metadata": {
        "id": "view-in-github",
        "colab_type": "text"
      },
      "source": [
        "<a href=\"https://colab.research.google.com/github/AlineBarrucci26/AlineBarrucci26/blob/main/TCC.ipynb\" target=\"_parent\"><img src=\"https://colab.research.google.com/assets/colab-badge.svg\" alt=\"Open In Colab\"/></a>"
      ]
    },
    {
      "cell_type": "code",
      "source": [
        "! pip install investpy"
      ],
      "metadata": {
        "colab": {
          "base_uri": "https://localhost:8080/"
        },
        "id": "_o_bHjcx09Ur",
        "outputId": "6d7e0205-5c7f-4cfa-d0e1-b122cba35558"
      },
      "execution_count": 4,
      "outputs": [
        {
          "output_type": "stream",
          "name": "stdout",
          "text": [
            "Looking in indexes: https://pypi.org/simple, https://us-python.pkg.dev/colab-wheels/public/simple/\n",
            "Collecting investpy\n",
            "  Downloading investpy-1.0.8.tar.gz (4.4 MB)\n",
            "\u001b[K     |████████████████████████████████| 4.4 MB 5.0 MB/s \n",
            "\u001b[?25hCollecting Unidecode>=1.1.1\n",
            "  Downloading Unidecode-1.3.4-py3-none-any.whl (235 kB)\n",
            "\u001b[K     |████████████████████████████████| 235 kB 40.2 MB/s \n",
            "\u001b[?25hRequirement already satisfied: setuptools>=41.2.0 in /usr/local/lib/python3.7/dist-packages (from investpy) (57.4.0)\n",
            "Requirement already satisfied: numpy>=1.17.2 in /usr/local/lib/python3.7/dist-packages (from investpy) (1.21.6)\n",
            "Requirement already satisfied: pandas>=0.25.1 in /usr/local/lib/python3.7/dist-packages (from investpy) (1.3.5)\n",
            "Collecting lxml>=4.4.1\n",
            "  Downloading lxml-4.9.1-cp37-cp37m-manylinux_2_17_x86_64.manylinux2014_x86_64.manylinux_2_24_x86_64.whl (6.4 MB)\n",
            "\u001b[K     |████████████████████████████████| 6.4 MB 35.8 MB/s \n",
            "\u001b[?25hRequirement already satisfied: requests>=2.22.0 in /usr/local/lib/python3.7/dist-packages (from investpy) (2.23.0)\n",
            "Requirement already satisfied: pytz>=2019.3 in /usr/local/lib/python3.7/dist-packages (from investpy) (2022.1)\n",
            "Requirement already satisfied: python-dateutil>=2.7.3 in /usr/local/lib/python3.7/dist-packages (from pandas>=0.25.1->investpy) (2.8.2)\n",
            "Requirement already satisfied: six>=1.5 in /usr/local/lib/python3.7/dist-packages (from python-dateutil>=2.7.3->pandas>=0.25.1->investpy) (1.15.0)\n",
            "Requirement already satisfied: chardet<4,>=3.0.2 in /usr/local/lib/python3.7/dist-packages (from requests>=2.22.0->investpy) (3.0.4)\n",
            "Requirement already satisfied: certifi>=2017.4.17 in /usr/local/lib/python3.7/dist-packages (from requests>=2.22.0->investpy) (2022.6.15)\n",
            "Requirement already satisfied: idna<3,>=2.5 in /usr/local/lib/python3.7/dist-packages (from requests>=2.22.0->investpy) (2.10)\n",
            "Requirement already satisfied: urllib3!=1.25.0,!=1.25.1,<1.26,>=1.21.1 in /usr/local/lib/python3.7/dist-packages (from requests>=2.22.0->investpy) (1.24.3)\n",
            "Building wheels for collected packages: investpy\n",
            "  Building wheel for investpy (setup.py) ... \u001b[?25l\u001b[?25hdone\n",
            "  Created wheel for investpy: filename=investpy-1.0.8-py3-none-any.whl size=4481592 sha256=c975073d45bc4d5677178ca929657feeef7bbea411f6d9bc5b8fa959e3899fda\n",
            "  Stored in directory: /root/.cache/pip/wheels/96/a8/a5/0d33c72eaf00b41df7b9dc1e15d2b7c7154b3f1379ed350211\n",
            "Successfully built investpy\n",
            "Installing collected packages: Unidecode, lxml, investpy\n",
            "  Attempting uninstall: lxml\n",
            "    Found existing installation: lxml 4.2.6\n",
            "    Uninstalling lxml-4.2.6:\n",
            "      Successfully uninstalled lxml-4.2.6\n",
            "Successfully installed Unidecode-1.3.4 investpy-1.0.8 lxml-4.9.1\n"
          ]
        }
      ]
    },
    {
      "cell_type": "code",
      "source": [
        "import investpy\n",
        "import numpy as np\n",
        "import pandas as pd\n",
        "import matplotlib.pyplot as plt"
      ],
      "metadata": {
        "id": "cuiTJjjA0hu0"
      },
      "execution_count": 14,
      "outputs": []
    },
    {
      "cell_type": "code",
      "source": [
        "itsa4 = investpy.get_stock_historical_data(stock=\"ITSA4\", country='Brazil', from_date=\"01/01/2008\", to_date=\"01/01/2018\")"
      ],
      "metadata": {
        "id": "ZEuQ9xrX4GE_"
      },
      "execution_count": 19,
      "outputs": []
    },
    {
      "cell_type": "code",
      "source": [
        "itsa4.head()"
      ],
      "metadata": {
        "colab": {
          "base_uri": "https://localhost:8080/",
          "height": 237
        },
        "id": "5I0E7SZw5GfY",
        "outputId": "65f37710-c8af-4345-b757-cd2a618709f3"
      },
      "execution_count": 20,
      "outputs": [
        {
          "output_type": "execute_result",
          "data": {
            "text/plain": [
              "            Open  High   Low  Close    Volume Currency\n",
              "Date                                                  \n",
              "2008-01-02  2.44  2.47  2.32   2.34  14185087      BRL\n",
              "2008-01-03  2.33  2.38  2.29   2.31  16507810      BRL\n",
              "2008-01-04  2.34  2.35  2.24   2.30  18853530      BRL\n",
              "2008-01-07  2.31  2.34  2.26   2.30  12627341      BRL\n",
              "2008-01-08  2.34  2.36  2.30   2.32  14923406      BRL"
            ],
            "text/html": [
              "\n",
              "  <div id=\"df-71fe24ea-eda7-4608-8634-547182bcb59e\">\n",
              "    <div class=\"colab-df-container\">\n",
              "      <div>\n",
              "<style scoped>\n",
              "    .dataframe tbody tr th:only-of-type {\n",
              "        vertical-align: middle;\n",
              "    }\n",
              "\n",
              "    .dataframe tbody tr th {\n",
              "        vertical-align: top;\n",
              "    }\n",
              "\n",
              "    .dataframe thead th {\n",
              "        text-align: right;\n",
              "    }\n",
              "</style>\n",
              "<table border=\"1\" class=\"dataframe\">\n",
              "  <thead>\n",
              "    <tr style=\"text-align: right;\">\n",
              "      <th></th>\n",
              "      <th>Open</th>\n",
              "      <th>High</th>\n",
              "      <th>Low</th>\n",
              "      <th>Close</th>\n",
              "      <th>Volume</th>\n",
              "      <th>Currency</th>\n",
              "    </tr>\n",
              "    <tr>\n",
              "      <th>Date</th>\n",
              "      <th></th>\n",
              "      <th></th>\n",
              "      <th></th>\n",
              "      <th></th>\n",
              "      <th></th>\n",
              "      <th></th>\n",
              "    </tr>\n",
              "  </thead>\n",
              "  <tbody>\n",
              "    <tr>\n",
              "      <th>2008-01-02</th>\n",
              "      <td>2.44</td>\n",
              "      <td>2.47</td>\n",
              "      <td>2.32</td>\n",
              "      <td>2.34</td>\n",
              "      <td>14185087</td>\n",
              "      <td>BRL</td>\n",
              "    </tr>\n",
              "    <tr>\n",
              "      <th>2008-01-03</th>\n",
              "      <td>2.33</td>\n",
              "      <td>2.38</td>\n",
              "      <td>2.29</td>\n",
              "      <td>2.31</td>\n",
              "      <td>16507810</td>\n",
              "      <td>BRL</td>\n",
              "    </tr>\n",
              "    <tr>\n",
              "      <th>2008-01-04</th>\n",
              "      <td>2.34</td>\n",
              "      <td>2.35</td>\n",
              "      <td>2.24</td>\n",
              "      <td>2.30</td>\n",
              "      <td>18853530</td>\n",
              "      <td>BRL</td>\n",
              "    </tr>\n",
              "    <tr>\n",
              "      <th>2008-01-07</th>\n",
              "      <td>2.31</td>\n",
              "      <td>2.34</td>\n",
              "      <td>2.26</td>\n",
              "      <td>2.30</td>\n",
              "      <td>12627341</td>\n",
              "      <td>BRL</td>\n",
              "    </tr>\n",
              "    <tr>\n",
              "      <th>2008-01-08</th>\n",
              "      <td>2.34</td>\n",
              "      <td>2.36</td>\n",
              "      <td>2.30</td>\n",
              "      <td>2.32</td>\n",
              "      <td>14923406</td>\n",
              "      <td>BRL</td>\n",
              "    </tr>\n",
              "  </tbody>\n",
              "</table>\n",
              "</div>\n",
              "      <button class=\"colab-df-convert\" onclick=\"convertToInteractive('df-71fe24ea-eda7-4608-8634-547182bcb59e')\"\n",
              "              title=\"Convert this dataframe to an interactive table.\"\n",
              "              style=\"display:none;\">\n",
              "        \n",
              "  <svg xmlns=\"http://www.w3.org/2000/svg\" height=\"24px\"viewBox=\"0 0 24 24\"\n",
              "       width=\"24px\">\n",
              "    <path d=\"M0 0h24v24H0V0z\" fill=\"none\"/>\n",
              "    <path d=\"M18.56 5.44l.94 2.06.94-2.06 2.06-.94-2.06-.94-.94-2.06-.94 2.06-2.06.94zm-11 1L8.5 8.5l.94-2.06 2.06-.94-2.06-.94L8.5 2.5l-.94 2.06-2.06.94zm10 10l.94 2.06.94-2.06 2.06-.94-2.06-.94-.94-2.06-.94 2.06-2.06.94z\"/><path d=\"M17.41 7.96l-1.37-1.37c-.4-.4-.92-.59-1.43-.59-.52 0-1.04.2-1.43.59L10.3 9.45l-7.72 7.72c-.78.78-.78 2.05 0 2.83L4 21.41c.39.39.9.59 1.41.59.51 0 1.02-.2 1.41-.59l7.78-7.78 2.81-2.81c.8-.78.8-2.07 0-2.86zM5.41 20L4 18.59l7.72-7.72 1.47 1.35L5.41 20z\"/>\n",
              "  </svg>\n",
              "      </button>\n",
              "      \n",
              "  <style>\n",
              "    .colab-df-container {\n",
              "      display:flex;\n",
              "      flex-wrap:wrap;\n",
              "      gap: 12px;\n",
              "    }\n",
              "\n",
              "    .colab-df-convert {\n",
              "      background-color: #E8F0FE;\n",
              "      border: none;\n",
              "      border-radius: 50%;\n",
              "      cursor: pointer;\n",
              "      display: none;\n",
              "      fill: #1967D2;\n",
              "      height: 32px;\n",
              "      padding: 0 0 0 0;\n",
              "      width: 32px;\n",
              "    }\n",
              "\n",
              "    .colab-df-convert:hover {\n",
              "      background-color: #E2EBFA;\n",
              "      box-shadow: 0px 1px 2px rgba(60, 64, 67, 0.3), 0px 1px 3px 1px rgba(60, 64, 67, 0.15);\n",
              "      fill: #174EA6;\n",
              "    }\n",
              "\n",
              "    [theme=dark] .colab-df-convert {\n",
              "      background-color: #3B4455;\n",
              "      fill: #D2E3FC;\n",
              "    }\n",
              "\n",
              "    [theme=dark] .colab-df-convert:hover {\n",
              "      background-color: #434B5C;\n",
              "      box-shadow: 0px 1px 3px 1px rgba(0, 0, 0, 0.15);\n",
              "      filter: drop-shadow(0px 1px 2px rgba(0, 0, 0, 0.3));\n",
              "      fill: #FFFFFF;\n",
              "    }\n",
              "  </style>\n",
              "\n",
              "      <script>\n",
              "        const buttonEl =\n",
              "          document.querySelector('#df-71fe24ea-eda7-4608-8634-547182bcb59e button.colab-df-convert');\n",
              "        buttonEl.style.display =\n",
              "          google.colab.kernel.accessAllowed ? 'block' : 'none';\n",
              "\n",
              "        async function convertToInteractive(key) {\n",
              "          const element = document.querySelector('#df-71fe24ea-eda7-4608-8634-547182bcb59e');\n",
              "          const dataTable =\n",
              "            await google.colab.kernel.invokeFunction('convertToInteractive',\n",
              "                                                     [key], {});\n",
              "          if (!dataTable) return;\n",
              "\n",
              "          const docLinkHtml = 'Like what you see? Visit the ' +\n",
              "            '<a target=\"_blank\" href=https://colab.research.google.com/notebooks/data_table.ipynb>data table notebook</a>'\n",
              "            + ' to learn more about interactive tables.';\n",
              "          element.innerHTML = '';\n",
              "          dataTable['output_type'] = 'display_data';\n",
              "          await google.colab.output.renderOutput(dataTable, element);\n",
              "          const docLink = document.createElement('div');\n",
              "          docLink.innerHTML = docLinkHtml;\n",
              "          element.appendChild(docLink);\n",
              "        }\n",
              "      </script>\n",
              "    </div>\n",
              "  </div>\n",
              "  "
            ]
          },
          "metadata": {},
          "execution_count": 20
        }
      ]
    },
    {
      "cell_type": "code",
      "source": [
        "itsa4 = itsa4.rename({\"Close\": \"ITAU\"}, axis=1)\n",
        "itsa4"
      ],
      "metadata": {
        "colab": {
          "base_uri": "https://localhost:8080/",
          "height": 455
        },
        "id": "zRnMje2r5Z5V",
        "outputId": "127ae2ac-381e-488a-8190-e9d8894f8dfe"
      },
      "execution_count": 22,
      "outputs": [
        {
          "output_type": "execute_result",
          "data": {
            "text/plain": [
              "            Open  High   Low  ITAU    Volume Currency\n",
              "Date                                                 \n",
              "2008-01-02  2.44  2.47  2.32  2.34  14185087      BRL\n",
              "2008-01-03  2.33  2.38  2.29  2.31  16507810      BRL\n",
              "2008-01-04  2.34  2.35  2.24  2.30  18853530      BRL\n",
              "2008-01-07  2.31  2.34  2.26  2.30  12627341      BRL\n",
              "2008-01-08  2.34  2.36  2.30  2.32  14923406      BRL\n",
              "...          ...   ...   ...   ...       ...      ...\n",
              "2017-12-21  7.05  7.30  7.03  7.30  20315652      BRL\n",
              "2017-12-22  7.26  7.31  7.22  7.30  10227103      BRL\n",
              "2017-12-26  7.36  7.41  7.32  7.34   7789505      BRL\n",
              "2017-12-27  7.36  7.41  7.29  7.31  12736254      BRL\n",
              "2017-12-28  7.33  7.36  7.29  7.32  17139292      BRL\n",
              "\n",
              "[2474 rows x 6 columns]"
            ],
            "text/html": [
              "\n",
              "  <div id=\"df-c64ededb-53ac-479d-bcf3-a01420c4123b\">\n",
              "    <div class=\"colab-df-container\">\n",
              "      <div>\n",
              "<style scoped>\n",
              "    .dataframe tbody tr th:only-of-type {\n",
              "        vertical-align: middle;\n",
              "    }\n",
              "\n",
              "    .dataframe tbody tr th {\n",
              "        vertical-align: top;\n",
              "    }\n",
              "\n",
              "    .dataframe thead th {\n",
              "        text-align: right;\n",
              "    }\n",
              "</style>\n",
              "<table border=\"1\" class=\"dataframe\">\n",
              "  <thead>\n",
              "    <tr style=\"text-align: right;\">\n",
              "      <th></th>\n",
              "      <th>Open</th>\n",
              "      <th>High</th>\n",
              "      <th>Low</th>\n",
              "      <th>ITAU</th>\n",
              "      <th>Volume</th>\n",
              "      <th>Currency</th>\n",
              "    </tr>\n",
              "    <tr>\n",
              "      <th>Date</th>\n",
              "      <th></th>\n",
              "      <th></th>\n",
              "      <th></th>\n",
              "      <th></th>\n",
              "      <th></th>\n",
              "      <th></th>\n",
              "    </tr>\n",
              "  </thead>\n",
              "  <tbody>\n",
              "    <tr>\n",
              "      <th>2008-01-02</th>\n",
              "      <td>2.44</td>\n",
              "      <td>2.47</td>\n",
              "      <td>2.32</td>\n",
              "      <td>2.34</td>\n",
              "      <td>14185087</td>\n",
              "      <td>BRL</td>\n",
              "    </tr>\n",
              "    <tr>\n",
              "      <th>2008-01-03</th>\n",
              "      <td>2.33</td>\n",
              "      <td>2.38</td>\n",
              "      <td>2.29</td>\n",
              "      <td>2.31</td>\n",
              "      <td>16507810</td>\n",
              "      <td>BRL</td>\n",
              "    </tr>\n",
              "    <tr>\n",
              "      <th>2008-01-04</th>\n",
              "      <td>2.34</td>\n",
              "      <td>2.35</td>\n",
              "      <td>2.24</td>\n",
              "      <td>2.30</td>\n",
              "      <td>18853530</td>\n",
              "      <td>BRL</td>\n",
              "    </tr>\n",
              "    <tr>\n",
              "      <th>2008-01-07</th>\n",
              "      <td>2.31</td>\n",
              "      <td>2.34</td>\n",
              "      <td>2.26</td>\n",
              "      <td>2.30</td>\n",
              "      <td>12627341</td>\n",
              "      <td>BRL</td>\n",
              "    </tr>\n",
              "    <tr>\n",
              "      <th>2008-01-08</th>\n",
              "      <td>2.34</td>\n",
              "      <td>2.36</td>\n",
              "      <td>2.30</td>\n",
              "      <td>2.32</td>\n",
              "      <td>14923406</td>\n",
              "      <td>BRL</td>\n",
              "    </tr>\n",
              "    <tr>\n",
              "      <th>...</th>\n",
              "      <td>...</td>\n",
              "      <td>...</td>\n",
              "      <td>...</td>\n",
              "      <td>...</td>\n",
              "      <td>...</td>\n",
              "      <td>...</td>\n",
              "    </tr>\n",
              "    <tr>\n",
              "      <th>2017-12-21</th>\n",
              "      <td>7.05</td>\n",
              "      <td>7.30</td>\n",
              "      <td>7.03</td>\n",
              "      <td>7.30</td>\n",
              "      <td>20315652</td>\n",
              "      <td>BRL</td>\n",
              "    </tr>\n",
              "    <tr>\n",
              "      <th>2017-12-22</th>\n",
              "      <td>7.26</td>\n",
              "      <td>7.31</td>\n",
              "      <td>7.22</td>\n",
              "      <td>7.30</td>\n",
              "      <td>10227103</td>\n",
              "      <td>BRL</td>\n",
              "    </tr>\n",
              "    <tr>\n",
              "      <th>2017-12-26</th>\n",
              "      <td>7.36</td>\n",
              "      <td>7.41</td>\n",
              "      <td>7.32</td>\n",
              "      <td>7.34</td>\n",
              "      <td>7789505</td>\n",
              "      <td>BRL</td>\n",
              "    </tr>\n",
              "    <tr>\n",
              "      <th>2017-12-27</th>\n",
              "      <td>7.36</td>\n",
              "      <td>7.41</td>\n",
              "      <td>7.29</td>\n",
              "      <td>7.31</td>\n",
              "      <td>12736254</td>\n",
              "      <td>BRL</td>\n",
              "    </tr>\n",
              "    <tr>\n",
              "      <th>2017-12-28</th>\n",
              "      <td>7.33</td>\n",
              "      <td>7.36</td>\n",
              "      <td>7.29</td>\n",
              "      <td>7.32</td>\n",
              "      <td>17139292</td>\n",
              "      <td>BRL</td>\n",
              "    </tr>\n",
              "  </tbody>\n",
              "</table>\n",
              "<p>2474 rows × 6 columns</p>\n",
              "</div>\n",
              "      <button class=\"colab-df-convert\" onclick=\"convertToInteractive('df-c64ededb-53ac-479d-bcf3-a01420c4123b')\"\n",
              "              title=\"Convert this dataframe to an interactive table.\"\n",
              "              style=\"display:none;\">\n",
              "        \n",
              "  <svg xmlns=\"http://www.w3.org/2000/svg\" height=\"24px\"viewBox=\"0 0 24 24\"\n",
              "       width=\"24px\">\n",
              "    <path d=\"M0 0h24v24H0V0z\" fill=\"none\"/>\n",
              "    <path d=\"M18.56 5.44l.94 2.06.94-2.06 2.06-.94-2.06-.94-.94-2.06-.94 2.06-2.06.94zm-11 1L8.5 8.5l.94-2.06 2.06-.94-2.06-.94L8.5 2.5l-.94 2.06-2.06.94zm10 10l.94 2.06.94-2.06 2.06-.94-2.06-.94-.94-2.06-.94 2.06-2.06.94z\"/><path d=\"M17.41 7.96l-1.37-1.37c-.4-.4-.92-.59-1.43-.59-.52 0-1.04.2-1.43.59L10.3 9.45l-7.72 7.72c-.78.78-.78 2.05 0 2.83L4 21.41c.39.39.9.59 1.41.59.51 0 1.02-.2 1.41-.59l7.78-7.78 2.81-2.81c.8-.78.8-2.07 0-2.86zM5.41 20L4 18.59l7.72-7.72 1.47 1.35L5.41 20z\"/>\n",
              "  </svg>\n",
              "      </button>\n",
              "      \n",
              "  <style>\n",
              "    .colab-df-container {\n",
              "      display:flex;\n",
              "      flex-wrap:wrap;\n",
              "      gap: 12px;\n",
              "    }\n",
              "\n",
              "    .colab-df-convert {\n",
              "      background-color: #E8F0FE;\n",
              "      border: none;\n",
              "      border-radius: 50%;\n",
              "      cursor: pointer;\n",
              "      display: none;\n",
              "      fill: #1967D2;\n",
              "      height: 32px;\n",
              "      padding: 0 0 0 0;\n",
              "      width: 32px;\n",
              "    }\n",
              "\n",
              "    .colab-df-convert:hover {\n",
              "      background-color: #E2EBFA;\n",
              "      box-shadow: 0px 1px 2px rgba(60, 64, 67, 0.3), 0px 1px 3px 1px rgba(60, 64, 67, 0.15);\n",
              "      fill: #174EA6;\n",
              "    }\n",
              "\n",
              "    [theme=dark] .colab-df-convert {\n",
              "      background-color: #3B4455;\n",
              "      fill: #D2E3FC;\n",
              "    }\n",
              "\n",
              "    [theme=dark] .colab-df-convert:hover {\n",
              "      background-color: #434B5C;\n",
              "      box-shadow: 0px 1px 3px 1px rgba(0, 0, 0, 0.15);\n",
              "      filter: drop-shadow(0px 1px 2px rgba(0, 0, 0, 0.3));\n",
              "      fill: #FFFFFF;\n",
              "    }\n",
              "  </style>\n",
              "\n",
              "      <script>\n",
              "        const buttonEl =\n",
              "          document.querySelector('#df-c64ededb-53ac-479d-bcf3-a01420c4123b button.colab-df-convert');\n",
              "        buttonEl.style.display =\n",
              "          google.colab.kernel.accessAllowed ? 'block' : 'none';\n",
              "\n",
              "        async function convertToInteractive(key) {\n",
              "          const element = document.querySelector('#df-c64ededb-53ac-479d-bcf3-a01420c4123b');\n",
              "          const dataTable =\n",
              "            await google.colab.kernel.invokeFunction('convertToInteractive',\n",
              "                                                     [key], {});\n",
              "          if (!dataTable) return;\n",
              "\n",
              "          const docLinkHtml = 'Like what you see? Visit the ' +\n",
              "            '<a target=\"_blank\" href=https://colab.research.google.com/notebooks/data_table.ipynb>data table notebook</a>'\n",
              "            + ' to learn more about interactive tables.';\n",
              "          element.innerHTML = '';\n",
              "          dataTable['output_type'] = 'display_data';\n",
              "          await google.colab.output.renderOutput(dataTable, element);\n",
              "          const docLink = document.createElement('div');\n",
              "          docLink.innerHTML = docLinkHtml;\n",
              "          element.appendChild(docLink);\n",
              "        }\n",
              "      </script>\n",
              "    </div>\n",
              "  </div>\n",
              "  "
            ]
          },
          "metadata": {},
          "execution_count": 22
        }
      ]
    },
    {
      "cell_type": "code",
      "source": [
        "itsa4 = itsa4.drop(itsa4.columns[[0,1,2,4,5]], axis=1)\n",
        "itsa4.head()"
      ],
      "metadata": {
        "colab": {
          "base_uri": "https://localhost:8080/",
          "height": 237
        },
        "id": "xCvpdcmC5kcG",
        "outputId": "e5afccce-8a5c-401f-b9de-8ec0851cf067"
      },
      "execution_count": 23,
      "outputs": [
        {
          "output_type": "execute_result",
          "data": {
            "text/plain": [
              "            ITAU\n",
              "Date            \n",
              "2008-01-02  2.34\n",
              "2008-01-03  2.31\n",
              "2008-01-04  2.30\n",
              "2008-01-07  2.30\n",
              "2008-01-08  2.32"
            ],
            "text/html": [
              "\n",
              "  <div id=\"df-84289d85-d381-4cbb-b359-da874b83a1e6\">\n",
              "    <div class=\"colab-df-container\">\n",
              "      <div>\n",
              "<style scoped>\n",
              "    .dataframe tbody tr th:only-of-type {\n",
              "        vertical-align: middle;\n",
              "    }\n",
              "\n",
              "    .dataframe tbody tr th {\n",
              "        vertical-align: top;\n",
              "    }\n",
              "\n",
              "    .dataframe thead th {\n",
              "        text-align: right;\n",
              "    }\n",
              "</style>\n",
              "<table border=\"1\" class=\"dataframe\">\n",
              "  <thead>\n",
              "    <tr style=\"text-align: right;\">\n",
              "      <th></th>\n",
              "      <th>ITAU</th>\n",
              "    </tr>\n",
              "    <tr>\n",
              "      <th>Date</th>\n",
              "      <th></th>\n",
              "    </tr>\n",
              "  </thead>\n",
              "  <tbody>\n",
              "    <tr>\n",
              "      <th>2008-01-02</th>\n",
              "      <td>2.34</td>\n",
              "    </tr>\n",
              "    <tr>\n",
              "      <th>2008-01-03</th>\n",
              "      <td>2.31</td>\n",
              "    </tr>\n",
              "    <tr>\n",
              "      <th>2008-01-04</th>\n",
              "      <td>2.30</td>\n",
              "    </tr>\n",
              "    <tr>\n",
              "      <th>2008-01-07</th>\n",
              "      <td>2.30</td>\n",
              "    </tr>\n",
              "    <tr>\n",
              "      <th>2008-01-08</th>\n",
              "      <td>2.32</td>\n",
              "    </tr>\n",
              "  </tbody>\n",
              "</table>\n",
              "</div>\n",
              "      <button class=\"colab-df-convert\" onclick=\"convertToInteractive('df-84289d85-d381-4cbb-b359-da874b83a1e6')\"\n",
              "              title=\"Convert this dataframe to an interactive table.\"\n",
              "              style=\"display:none;\">\n",
              "        \n",
              "  <svg xmlns=\"http://www.w3.org/2000/svg\" height=\"24px\"viewBox=\"0 0 24 24\"\n",
              "       width=\"24px\">\n",
              "    <path d=\"M0 0h24v24H0V0z\" fill=\"none\"/>\n",
              "    <path d=\"M18.56 5.44l.94 2.06.94-2.06 2.06-.94-2.06-.94-.94-2.06-.94 2.06-2.06.94zm-11 1L8.5 8.5l.94-2.06 2.06-.94-2.06-.94L8.5 2.5l-.94 2.06-2.06.94zm10 10l.94 2.06.94-2.06 2.06-.94-2.06-.94-.94-2.06-.94 2.06-2.06.94z\"/><path d=\"M17.41 7.96l-1.37-1.37c-.4-.4-.92-.59-1.43-.59-.52 0-1.04.2-1.43.59L10.3 9.45l-7.72 7.72c-.78.78-.78 2.05 0 2.83L4 21.41c.39.39.9.59 1.41.59.51 0 1.02-.2 1.41-.59l7.78-7.78 2.81-2.81c.8-.78.8-2.07 0-2.86zM5.41 20L4 18.59l7.72-7.72 1.47 1.35L5.41 20z\"/>\n",
              "  </svg>\n",
              "      </button>\n",
              "      \n",
              "  <style>\n",
              "    .colab-df-container {\n",
              "      display:flex;\n",
              "      flex-wrap:wrap;\n",
              "      gap: 12px;\n",
              "    }\n",
              "\n",
              "    .colab-df-convert {\n",
              "      background-color: #E8F0FE;\n",
              "      border: none;\n",
              "      border-radius: 50%;\n",
              "      cursor: pointer;\n",
              "      display: none;\n",
              "      fill: #1967D2;\n",
              "      height: 32px;\n",
              "      padding: 0 0 0 0;\n",
              "      width: 32px;\n",
              "    }\n",
              "\n",
              "    .colab-df-convert:hover {\n",
              "      background-color: #E2EBFA;\n",
              "      box-shadow: 0px 1px 2px rgba(60, 64, 67, 0.3), 0px 1px 3px 1px rgba(60, 64, 67, 0.15);\n",
              "      fill: #174EA6;\n",
              "    }\n",
              "\n",
              "    [theme=dark] .colab-df-convert {\n",
              "      background-color: #3B4455;\n",
              "      fill: #D2E3FC;\n",
              "    }\n",
              "\n",
              "    [theme=dark] .colab-df-convert:hover {\n",
              "      background-color: #434B5C;\n",
              "      box-shadow: 0px 1px 3px 1px rgba(0, 0, 0, 0.15);\n",
              "      filter: drop-shadow(0px 1px 2px rgba(0, 0, 0, 0.3));\n",
              "      fill: #FFFFFF;\n",
              "    }\n",
              "  </style>\n",
              "\n",
              "      <script>\n",
              "        const buttonEl =\n",
              "          document.querySelector('#df-84289d85-d381-4cbb-b359-da874b83a1e6 button.colab-df-convert');\n",
              "        buttonEl.style.display =\n",
              "          google.colab.kernel.accessAllowed ? 'block' : 'none';\n",
              "\n",
              "        async function convertToInteractive(key) {\n",
              "          const element = document.querySelector('#df-84289d85-d381-4cbb-b359-da874b83a1e6');\n",
              "          const dataTable =\n",
              "            await google.colab.kernel.invokeFunction('convertToInteractive',\n",
              "                                                     [key], {});\n",
              "          if (!dataTable) return;\n",
              "\n",
              "          const docLinkHtml = 'Like what you see? Visit the ' +\n",
              "            '<a target=\"_blank\" href=https://colab.research.google.com/notebooks/data_table.ipynb>data table notebook</a>'\n",
              "            + ' to learn more about interactive tables.';\n",
              "          element.innerHTML = '';\n",
              "          dataTable['output_type'] = 'display_data';\n",
              "          await google.colab.output.renderOutput(dataTable, element);\n",
              "          const docLink = document.createElement('div');\n",
              "          docLink.innerHTML = docLinkHtml;\n",
              "          element.appendChild(docLink);\n",
              "        }\n",
              "      </script>\n",
              "    </div>\n",
              "  </div>\n",
              "  "
            ]
          },
          "metadata": {},
          "execution_count": 23
        }
      ]
    },
    {
      "cell_type": "code",
      "source": [
        "itau_retornos = itsa4.pct_change()\n",
        "itau_retornos"
      ],
      "metadata": {
        "colab": {
          "base_uri": "https://localhost:8080/",
          "height": 455
        },
        "id": "3HM8ms2g5wsg",
        "outputId": "9f011ad9-180b-437d-f56e-97035495284b"
      },
      "execution_count": 25,
      "outputs": [
        {
          "output_type": "execute_result",
          "data": {
            "text/plain": [
              "                ITAU\n",
              "Date                \n",
              "2008-01-02       NaN\n",
              "2008-01-03 -0.012821\n",
              "2008-01-04 -0.004329\n",
              "2008-01-07  0.000000\n",
              "2008-01-08  0.008696\n",
              "...              ...\n",
              "2017-12-21  0.036932\n",
              "2017-12-22  0.000000\n",
              "2017-12-26  0.005479\n",
              "2017-12-27 -0.004087\n",
              "2017-12-28  0.001368\n",
              "\n",
              "[2474 rows x 1 columns]"
            ],
            "text/html": [
              "\n",
              "  <div id=\"df-e0f5f0ea-bfec-4ed6-a5c3-deb8045fe5f4\">\n",
              "    <div class=\"colab-df-container\">\n",
              "      <div>\n",
              "<style scoped>\n",
              "    .dataframe tbody tr th:only-of-type {\n",
              "        vertical-align: middle;\n",
              "    }\n",
              "\n",
              "    .dataframe tbody tr th {\n",
              "        vertical-align: top;\n",
              "    }\n",
              "\n",
              "    .dataframe thead th {\n",
              "        text-align: right;\n",
              "    }\n",
              "</style>\n",
              "<table border=\"1\" class=\"dataframe\">\n",
              "  <thead>\n",
              "    <tr style=\"text-align: right;\">\n",
              "      <th></th>\n",
              "      <th>ITAU</th>\n",
              "    </tr>\n",
              "    <tr>\n",
              "      <th>Date</th>\n",
              "      <th></th>\n",
              "    </tr>\n",
              "  </thead>\n",
              "  <tbody>\n",
              "    <tr>\n",
              "      <th>2008-01-02</th>\n",
              "      <td>NaN</td>\n",
              "    </tr>\n",
              "    <tr>\n",
              "      <th>2008-01-03</th>\n",
              "      <td>-0.012821</td>\n",
              "    </tr>\n",
              "    <tr>\n",
              "      <th>2008-01-04</th>\n",
              "      <td>-0.004329</td>\n",
              "    </tr>\n",
              "    <tr>\n",
              "      <th>2008-01-07</th>\n",
              "      <td>0.000000</td>\n",
              "    </tr>\n",
              "    <tr>\n",
              "      <th>2008-01-08</th>\n",
              "      <td>0.008696</td>\n",
              "    </tr>\n",
              "    <tr>\n",
              "      <th>...</th>\n",
              "      <td>...</td>\n",
              "    </tr>\n",
              "    <tr>\n",
              "      <th>2017-12-21</th>\n",
              "      <td>0.036932</td>\n",
              "    </tr>\n",
              "    <tr>\n",
              "      <th>2017-12-22</th>\n",
              "      <td>0.000000</td>\n",
              "    </tr>\n",
              "    <tr>\n",
              "      <th>2017-12-26</th>\n",
              "      <td>0.005479</td>\n",
              "    </tr>\n",
              "    <tr>\n",
              "      <th>2017-12-27</th>\n",
              "      <td>-0.004087</td>\n",
              "    </tr>\n",
              "    <tr>\n",
              "      <th>2017-12-28</th>\n",
              "      <td>0.001368</td>\n",
              "    </tr>\n",
              "  </tbody>\n",
              "</table>\n",
              "<p>2474 rows × 1 columns</p>\n",
              "</div>\n",
              "      <button class=\"colab-df-convert\" onclick=\"convertToInteractive('df-e0f5f0ea-bfec-4ed6-a5c3-deb8045fe5f4')\"\n",
              "              title=\"Convert this dataframe to an interactive table.\"\n",
              "              style=\"display:none;\">\n",
              "        \n",
              "  <svg xmlns=\"http://www.w3.org/2000/svg\" height=\"24px\"viewBox=\"0 0 24 24\"\n",
              "       width=\"24px\">\n",
              "    <path d=\"M0 0h24v24H0V0z\" fill=\"none\"/>\n",
              "    <path d=\"M18.56 5.44l.94 2.06.94-2.06 2.06-.94-2.06-.94-.94-2.06-.94 2.06-2.06.94zm-11 1L8.5 8.5l.94-2.06 2.06-.94-2.06-.94L8.5 2.5l-.94 2.06-2.06.94zm10 10l.94 2.06.94-2.06 2.06-.94-2.06-.94-.94-2.06-.94 2.06-2.06.94z\"/><path d=\"M17.41 7.96l-1.37-1.37c-.4-.4-.92-.59-1.43-.59-.52 0-1.04.2-1.43.59L10.3 9.45l-7.72 7.72c-.78.78-.78 2.05 0 2.83L4 21.41c.39.39.9.59 1.41.59.51 0 1.02-.2 1.41-.59l7.78-7.78 2.81-2.81c.8-.78.8-2.07 0-2.86zM5.41 20L4 18.59l7.72-7.72 1.47 1.35L5.41 20z\"/>\n",
              "  </svg>\n",
              "      </button>\n",
              "      \n",
              "  <style>\n",
              "    .colab-df-container {\n",
              "      display:flex;\n",
              "      flex-wrap:wrap;\n",
              "      gap: 12px;\n",
              "    }\n",
              "\n",
              "    .colab-df-convert {\n",
              "      background-color: #E8F0FE;\n",
              "      border: none;\n",
              "      border-radius: 50%;\n",
              "      cursor: pointer;\n",
              "      display: none;\n",
              "      fill: #1967D2;\n",
              "      height: 32px;\n",
              "      padding: 0 0 0 0;\n",
              "      width: 32px;\n",
              "    }\n",
              "\n",
              "    .colab-df-convert:hover {\n",
              "      background-color: #E2EBFA;\n",
              "      box-shadow: 0px 1px 2px rgba(60, 64, 67, 0.3), 0px 1px 3px 1px rgba(60, 64, 67, 0.15);\n",
              "      fill: #174EA6;\n",
              "    }\n",
              "\n",
              "    [theme=dark] .colab-df-convert {\n",
              "      background-color: #3B4455;\n",
              "      fill: #D2E3FC;\n",
              "    }\n",
              "\n",
              "    [theme=dark] .colab-df-convert:hover {\n",
              "      background-color: #434B5C;\n",
              "      box-shadow: 0px 1px 3px 1px rgba(0, 0, 0, 0.15);\n",
              "      filter: drop-shadow(0px 1px 2px rgba(0, 0, 0, 0.3));\n",
              "      fill: #FFFFFF;\n",
              "    }\n",
              "  </style>\n",
              "\n",
              "      <script>\n",
              "        const buttonEl =\n",
              "          document.querySelector('#df-e0f5f0ea-bfec-4ed6-a5c3-deb8045fe5f4 button.colab-df-convert');\n",
              "        buttonEl.style.display =\n",
              "          google.colab.kernel.accessAllowed ? 'block' : 'none';\n",
              "\n",
              "        async function convertToInteractive(key) {\n",
              "          const element = document.querySelector('#df-e0f5f0ea-bfec-4ed6-a5c3-deb8045fe5f4');\n",
              "          const dataTable =\n",
              "            await google.colab.kernel.invokeFunction('convertToInteractive',\n",
              "                                                     [key], {});\n",
              "          if (!dataTable) return;\n",
              "\n",
              "          const docLinkHtml = 'Like what you see? Visit the ' +\n",
              "            '<a target=\"_blank\" href=https://colab.research.google.com/notebooks/data_table.ipynb>data table notebook</a>'\n",
              "            + ' to learn more about interactive tables.';\n",
              "          element.innerHTML = '';\n",
              "          dataTable['output_type'] = 'display_data';\n",
              "          await google.colab.output.renderOutput(dataTable, element);\n",
              "          const docLink = document.createElement('div');\n",
              "          docLink.innerHTML = docLinkHtml;\n",
              "          element.appendChild(docLink);\n",
              "        }\n",
              "      </script>\n",
              "    </div>\n",
              "  </div>\n",
              "  "
            ]
          },
          "metadata": {},
          "execution_count": 25
        }
      ]
    },
    {
      "cell_type": "markdown",
      "source": [
        "4. Visualizações de dados"
      ],
      "metadata": {
        "id": "f6DiJKte58tB"
      }
    },
    {
      "cell_type": "code",
      "source": [
        "itsa4.plot();"
      ],
      "metadata": {
        "colab": {
          "base_uri": "https://localhost:8080/",
          "height": 269
        },
        "id": "eU7B3o8I5wuC",
        "outputId": "849cccdd-a1db-42a8-fef9-1378314a4fa9"
      },
      "execution_count": 26,
      "outputs": [
        {
          "output_type": "display_data",
          "data": {
            "text/plain": [
              "<Figure size 432x288 with 1 Axes>"
            ],
            "image/png": "[encoded data removed]"
          },
          "metadata": {
            "needs_background": "light"
          }
        }
      ]
    },
    {
      "cell_type": "code",
      "source": [
        "itau_retornos.plot();"
      ],
      "metadata": {
        "colab": {
          "base_uri": "https://localhost:8080/",
          "height": 269
        },
        "id": "V26nNsUq5wyx",
        "outputId": "1f5ce1ac-c46a-4f0f-c5f8-a08d0b5d7aba"
      },
      "execution_count": 27,
      "outputs": [
        {
          "output_type": "display_data",
          "data": {
            "text/plain": [
              "<Figure size 432x288 with 1 Axes>"
            ],
            "image/png": "[encoded data removed]"
          },
          "metadata": {
            "needs_background": "light"
          }
        }
      ]
    },
    {
      "cell_type": "code",
      "source": [
        "itau_retornos.plot.hist(bins=60);"
      ],
      "metadata": {
        "colab": {
          "base_uri": "https://localhost:8080/",
          "height": 265
        },
        "id": "GpInaxF77afb",
        "outputId": "9e4ac0cf-f9ce-4de5-ab2b-ff398dba5521"
      },
      "execution_count": 28,
      "outputs": [
        {
          "output_type": "display_data",
          "data": {
            "text/plain": [
              "<Figure size 432x288 with 1 Axes>"
            ],
            "image/png": "[encoded data removed]"
          },
          "metadata": {
            "needs_background": "light"
          }
        }
      ]
    },
    {
      "cell_type": "code",
      "source": [
        "import pandas as pd\n",
        "import investpy \n",
        "import numpy as np"
      ],
      "metadata": {
        "id": "gfTnvNCQ7ahM"
      },
      "execution_count": 29,
      "outputs": []
    },
    {
      "cell_type": "code",
      "source": [
        "ativos = ['ITSA4', 'PETR4', 'VALE3', 'ABEV3']\n",
        "\n",
        "carteira_passado = pd.DataFrame()\n",
        "\n",
        "for i in ativos:\n",
        "  df_passado = investpy.get_stock_historical_data(stock=i, country='Brazil', from_date='01/01/2008', to_date='31/12/2018').Close\n",
        "  df_passado.rename(i,inplace=True)\n",
        "  df_passado.columns = [i]\n",
        "  carteira_passado = pd.concat([carteira_passado, df_passado], axis=1)\n",
        "  carteira_passado.index.name=\"Date\"\n",
        "carteira_passado"
      ],
      "metadata": {
        "colab": {
          "base_uri": "https://localhost:8080/",
          "height": 455
        },
        "id": "8gPw5qcJ7alb",
        "outputId": "09522d87-61ca-4739-cae6-2aca9845aa64"
      },
      "execution_count": 32,
      "outputs": [
        {
          "output_type": "execute_result",
          "data": {
            "text/plain": [
              "            ITSA4  PETR4  VALE3  ABEV3\n",
              "Date                                  \n",
              "2008-01-02   2.34  32.37  29.85   3.43\n",
              "2008-01-03   2.31  31.84  30.00   3.44\n",
              "2008-01-04   2.30  30.28  28.92   3.40\n",
              "2008-01-07   2.30  29.39  28.41   3.31\n",
              "2008-01-08   2.32  31.01  28.97   3.37\n",
              "...           ...    ...    ...    ...\n",
              "2018-12-20   9.43  20.13  39.59  14.44\n",
              "2018-12-21   9.33  20.18  40.43  14.40\n",
              "2018-12-26   9.21  20.98  40.09  14.37\n",
              "2018-12-27   9.37  20.98  39.35  14.33\n",
              "2018-12-28   9.59  21.95  40.54  14.60\n",
              "\n",
              "[2719 rows x 4 columns]"
            ],
            "text/html": [
              "\n",
              "  <div id=\"df-3ad547b2-4e51-4644-8a8c-b21b455d7938\">\n",
              "    <div class=\"colab-df-container\">\n",
              "      <div>\n",
              "<style scoped>\n",
              "    .dataframe tbody tr th:only-of-type {\n",
              "        vertical-align: middle;\n",
              "    }\n",
              "\n",
              "    .dataframe tbody tr th {\n",
              "        vertical-align: top;\n",
              "    }\n",
              "\n",
              "    .dataframe thead th {\n",
              "        text-align: right;\n",
              "    }\n",
              "</style>\n",
              "<table border=\"1\" class=\"dataframe\">\n",
              "  <thead>\n",
              "    <tr style=\"text-align: right;\">\n",
              "      <th></th>\n",
              "      <th>ITSA4</th>\n",
              "      <th>PETR4</th>\n",
              "      <th>VALE3</th>\n",
              "      <th>ABEV3</th>\n",
              "    </tr>\n",
              "    <tr>\n",
              "      <th>Date</th>\n",
              "      <th></th>\n",
              "      <th></th>\n",
              "      <th></th>\n",
              "      <th></th>\n",
              "    </tr>\n",
              "  </thead>\n",
              "  <tbody>\n",
              "    <tr>\n",
              "      <th>2008-01-02</th>\n",
              "      <td>2.34</td>\n",
              "      <td>32.37</td>\n",
              "      <td>29.85</td>\n",
              "      <td>3.43</td>\n",
              "    </tr>\n",
              "    <tr>\n",
              "      <th>2008-01-03</th>\n",
              "      <td>2.31</td>\n",
              "      <td>31.84</td>\n",
              "      <td>30.00</td>\n",
              "      <td>3.44</td>\n",
              "    </tr>\n",
              "    <tr>\n",
              "      <th>2008-01-04</th>\n",
              "      <td>2.30</td>\n",
              "      <td>30.28</td>\n",
              "      <td>28.92</td>\n",
              "      <td>3.40</td>\n",
              "    </tr>\n",
              "    <tr>\n",
              "      <th>2008-01-07</th>\n",
              "      <td>2.30</td>\n",
              "      <td>29.39</td>\n",
              "      <td>28.41</td>\n",
              "      <td>3.31</td>\n",
              "    </tr>\n",
              "    <tr>\n",
              "      <th>2008-01-08</th>\n",
              "      <td>2.32</td>\n",
              "      <td>31.01</td>\n",
              "      <td>28.97</td>\n",
              "      <td>3.37</td>\n",
              "    </tr>\n",
              "    <tr>\n",
              "      <th>...</th>\n",
              "      <td>...</td>\n",
              "      <td>...</td>\n",
              "      <td>...</td>\n",
              "      <td>...</td>\n",
              "    </tr>\n",
              "    <tr>\n",
              "      <th>2018-12-20</th>\n",
              "      <td>9.43</td>\n",
              "      <td>20.13</td>\n",
              "      <td>39.59</td>\n",
              "      <td>14.44</td>\n",
              "    </tr>\n",
              "    <tr>\n",
              "      <th>2018-12-21</th>\n",
              "      <td>9.33</td>\n",
              "      <td>20.18</td>\n",
              "      <td>40.43</td>\n",
              "      <td>14.40</td>\n",
              "    </tr>\n",
              "    <tr>\n",
              "      <th>2018-12-26</th>\n",
              "      <td>9.21</td>\n",
              "      <td>20.98</td>\n",
              "      <td>40.09</td>\n",
              "      <td>14.37</td>\n",
              "    </tr>\n",
              "    <tr>\n",
              "      <th>2018-12-27</th>\n",
              "      <td>9.37</td>\n",
              "      <td>20.98</td>\n",
              "      <td>39.35</td>\n",
              "      <td>14.33</td>\n",
              "    </tr>\n",
              "    <tr>\n",
              "      <th>2018-12-28</th>\n",
              "      <td>9.59</td>\n",
              "      <td>21.95</td>\n",
              "      <td>40.54</td>\n",
              "      <td>14.60</td>\n",
              "    </tr>\n",
              "  </tbody>\n",
              "</table>\n",
              "<p>2719 rows × 4 columns</p>\n",
              "</div>\n",
              "      <button class=\"colab-df-convert\" onclick=\"convertToInteractive('df-3ad547b2-4e51-4644-8a8c-b21b455d7938')\"\n",
              "              title=\"Convert this dataframe to an interactive table.\"\n",
              "              style=\"display:none;\">\n",
              "        \n",
              "  <svg xmlns=\"http://www.w3.org/2000/svg\" height=\"24px\"viewBox=\"0 0 24 24\"\n",
              "       width=\"24px\">\n",
              "    <path d=\"M0 0h24v24H0V0z\" fill=\"none\"/>\n",
              "    <path d=\"M18.56 5.44l.94 2.06.94-2.06 2.06-.94-2.06-.94-.94-2.06-.94 2.06-2.06.94zm-11 1L8.5 8.5l.94-2.06 2.06-.94-2.06-.94L8.5 2.5l-.94 2.06-2.06.94zm10 10l.94 2.06.94-2.06 2.06-.94-2.06-.94-.94-2.06-.94 2.06-2.06.94z\"/><path d=\"M17.41 7.96l-1.37-1.37c-.4-.4-.92-.59-1.43-.59-.52 0-1.04.2-1.43.59L10.3 9.45l-7.72 7.72c-.78.78-.78 2.05 0 2.83L4 21.41c.39.39.9.59 1.41.59.51 0 1.02-.2 1.41-.59l7.78-7.78 2.81-2.81c.8-.78.8-2.07 0-2.86zM5.41 20L4 18.59l7.72-7.72 1.47 1.35L5.41 20z\"/>\n",
              "  </svg>\n",
              "      </button>\n",
              "      \n",
              "  <style>\n",
              "    .colab-df-container {\n",
              "      display:flex;\n",
              "      flex-wrap:wrap;\n",
              "      gap: 12px;\n",
              "    }\n",
              "\n",
              "    .colab-df-convert {\n",
              "      background-color: #E8F0FE;\n",
              "      border: none;\n",
              "      border-radius: 50%;\n",
              "      cursor: pointer;\n",
              "      display: none;\n",
              "      fill: #1967D2;\n",
              "      height: 32px;\n",
              "      padding: 0 0 0 0;\n",
              "      width: 32px;\n",
              "    }\n",
              "\n",
              "    .colab-df-convert:hover {\n",
              "      background-color: #E2EBFA;\n",
              "      box-shadow: 0px 1px 2px rgba(60, 64, 67, 0.3), 0px 1px 3px 1px rgba(60, 64, 67, 0.15);\n",
              "      fill: #174EA6;\n",
              "    }\n",
              "\n",
              "    [theme=dark] .colab-df-convert {\n",
              "      background-color: #3B4455;\n",
              "      fill: #D2E3FC;\n",
              "    }\n",
              "\n",
              "    [theme=dark] .colab-df-convert:hover {\n",
              "      background-color: #434B5C;\n",
              "      box-shadow: 0px 1px 3px 1px rgba(0, 0, 0, 0.15);\n",
              "      filter: drop-shadow(0px 1px 2px rgba(0, 0, 0, 0.3));\n",
              "      fill: #FFFFFF;\n",
              "    }\n",
              "  </style>\n",
              "\n",
              "      <script>\n",
              "        const buttonEl =\n",
              "          document.querySelector('#df-3ad547b2-4e51-4644-8a8c-b21b455d7938 button.colab-df-convert');\n",
              "        buttonEl.style.display =\n",
              "          google.colab.kernel.accessAllowed ? 'block' : 'none';\n",
              "\n",
              "        async function convertToInteractive(key) {\n",
              "          const element = document.querySelector('#df-3ad547b2-4e51-4644-8a8c-b21b455d7938');\n",
              "          const dataTable =\n",
              "            await google.colab.kernel.invokeFunction('convertToInteractive',\n",
              "                                                     [key], {});\n",
              "          if (!dataTable) return;\n",
              "\n",
              "          const docLinkHtml = 'Like what you see? Visit the ' +\n",
              "            '<a target=\"_blank\" href=https://colab.research.google.com/notebooks/data_table.ipynb>data table notebook</a>'\n",
              "            + ' to learn more about interactive tables.';\n",
              "          element.innerHTML = '';\n",
              "          dataTable['output_type'] = 'display_data';\n",
              "          await google.colab.output.renderOutput(dataTable, element);\n",
              "          const docLink = document.createElement('div');\n",
              "          docLink.innerHTML = docLinkHtml;\n",
              "          element.appendChild(docLink);\n",
              "        }\n",
              "      </script>\n",
              "    </div>\n",
              "  </div>\n",
              "  "
            ]
          },
          "metadata": {},
          "execution_count": 32
        }
      ]
    },
    {
      "cell_type": "code",
      "source": [
        "carteira_futuro = pd.DataFrame()\n",
        "\n",
        "for i in ativos:\n",
        "  df_futuro = investpy.get_stock_historical_data(stock=i, country='Brazil', from_date='01/01/2019', to_date='31/12/2020').Close\n",
        "  df_futuro.rename(i,inplace=True)\n",
        "  df_futuro.columns = [i]\n",
        "  carteira_futuro = pd.concat([carteira_futuro, df_futuro], axis=1)\n",
        "  carteira_futuro.index.name=\"Date\"\n",
        "carteira_futuro"
      ],
      "metadata": {
        "colab": {
          "base_uri": "https://localhost:8080/",
          "height": 455
        },
        "id": "yt_z5yyZ7amh",
        "outputId": "1068af44-10b8-4f21-beb1-d6de26a1187e"
      },
      "execution_count": 33,
      "outputs": [
        {
          "output_type": "execute_result",
          "data": {
            "text/plain": [
              "            ITSA4  PETR4  VALE3  ABEV3\n",
              "Date                                  \n",
              "2019-01-02  10.05  23.29  40.61  15.33\n",
              "2019-01-03  10.13  23.86  38.95  15.50\n",
              "2019-01-04  10.10  23.93  41.49  15.71\n",
              "2019-01-07  10.09  24.30  41.26  15.64\n",
              "2019-01-08  10.23  24.16  41.66  15.33\n",
              "...           ...    ...    ...    ...\n",
              "2020-12-22  10.97  27.28  73.90  15.51\n",
              "2020-12-23  11.23  27.95  74.26  15.50\n",
              "2020-12-28  11.35  28.18  74.22  15.77\n",
              "2020-12-29  11.42  28.27  74.01  15.95\n",
              "2020-12-30  11.29  28.34  74.34  15.65\n",
              "\n",
              "[497 rows x 4 columns]"
            ],
            "text/html": [
              "\n",
              "  <div id=\"df-1178903e-517c-44b7-b42f-29bb17622c87\">\n",
              "    <div class=\"colab-df-container\">\n",
              "      <div>\n",
              "<style scoped>\n",
              "    .dataframe tbody tr th:only-of-type {\n",
              "        vertical-align: middle;\n",
              "    }\n",
              "\n",
              "    .dataframe tbody tr th {\n",
              "        vertical-align: top;\n",
              "    }\n",
              "\n",
              "    .dataframe thead th {\n",
              "        text-align: right;\n",
              "    }\n",
              "</style>\n",
              "<table border=\"1\" class=\"dataframe\">\n",
              "  <thead>\n",
              "    <tr style=\"text-align: right;\">\n",
              "      <th></th>\n",
              "      <th>ITSA4</th>\n",
              "      <th>PETR4</th>\n",
              "      <th>VALE3</th>\n",
              "      <th>ABEV3</th>\n",
              "    </tr>\n",
              "    <tr>\n",
              "      <th>Date</th>\n",
              "      <th></th>\n",
              "      <th></th>\n",
              "      <th></th>\n",
              "      <th></th>\n",
              "    </tr>\n",
              "  </thead>\n",
              "  <tbody>\n",
              "    <tr>\n",
              "      <th>2019-01-02</th>\n",
              "      <td>10.05</td>\n",
              "      <td>23.29</td>\n",
              "      <td>40.61</td>\n",
              "      <td>15.33</td>\n",
              "    </tr>\n",
              "    <tr>\n",
              "      <th>2019-01-03</th>\n",
              "      <td>10.13</td>\n",
              "      <td>23.86</td>\n",
              "      <td>38.95</td>\n",
              "      <td>15.50</td>\n",
              "    </tr>\n",
              "    <tr>\n",
              "      <th>2019-01-04</th>\n",
              "      <td>10.10</td>\n",
              "      <td>23.93</td>\n",
              "      <td>41.49</td>\n",
              "      <td>15.71</td>\n",
              "    </tr>\n",
              "    <tr>\n",
              "      <th>2019-01-07</th>\n",
              "      <td>10.09</td>\n",
              "      <td>24.30</td>\n",
              "      <td>41.26</td>\n",
              "      <td>15.64</td>\n",
              "    </tr>\n",
              "    <tr>\n",
              "      <th>2019-01-08</th>\n",
              "      <td>10.23</td>\n",
              "      <td>24.16</td>\n",
              "      <td>41.66</td>\n",
              "      <td>15.33</td>\n",
              "    </tr>\n",
              "    <tr>\n",
              "      <th>...</th>\n",
              "      <td>...</td>\n",
              "      <td>...</td>\n",
              "      <td>...</td>\n",
              "      <td>...</td>\n",
              "    </tr>\n",
              "    <tr>\n",
              "      <th>2020-12-22</th>\n",
              "      <td>10.97</td>\n",
              "      <td>27.28</td>\n",
              "      <td>73.90</td>\n",
              "      <td>15.51</td>\n",
              "    </tr>\n",
              "    <tr>\n",
              "      <th>2020-12-23</th>\n",
              "      <td>11.23</td>\n",
              "      <td>27.95</td>\n",
              "      <td>74.26</td>\n",
              "      <td>15.50</td>\n",
              "    </tr>\n",
              "    <tr>\n",
              "      <th>2020-12-28</th>\n",
              "      <td>11.35</td>\n",
              "      <td>28.18</td>\n",
              "      <td>74.22</td>\n",
              "      <td>15.77</td>\n",
              "    </tr>\n",
              "    <tr>\n",
              "      <th>2020-12-29</th>\n",
              "      <td>11.42</td>\n",
              "      <td>28.27</td>\n",
              "      <td>74.01</td>\n",
              "      <td>15.95</td>\n",
              "    </tr>\n",
              "    <tr>\n",
              "      <th>2020-12-30</th>\n",
              "      <td>11.29</td>\n",
              "      <td>28.34</td>\n",
              "      <td>74.34</td>\n",
              "      <td>15.65</td>\n",
              "    </tr>\n",
              "  </tbody>\n",
              "</table>\n",
              "<p>497 rows × 4 columns</p>\n",
              "</div>\n",
              "      <button class=\"colab-df-convert\" onclick=\"convertToInteractive('df-1178903e-517c-44b7-b42f-29bb17622c87')\"\n",
              "              title=\"Convert this dataframe to an interactive table.\"\n",
              "              style=\"display:none;\">\n",
              "        \n",
              "  <svg xmlns=\"http://www.w3.org/2000/svg\" height=\"24px\"viewBox=\"0 0 24 24\"\n",
              "       width=\"24px\">\n",
              "    <path d=\"M0 0h24v24H0V0z\" fill=\"none\"/>\n",
              "    <path d=\"M18.56 5.44l.94 2.06.94-2.06 2.06-.94-2.06-.94-.94-2.06-.94 2.06-2.06.94zm-11 1L8.5 8.5l.94-2.06 2.06-.94-2.06-.94L8.5 2.5l-.94 2.06-2.06.94zm10 10l.94 2.06.94-2.06 2.06-.94-2.06-.94-.94-2.06-.94 2.06-2.06.94z\"/><path d=\"M17.41 7.96l-1.37-1.37c-.4-.4-.92-.59-1.43-.59-.52 0-1.04.2-1.43.59L10.3 9.45l-7.72 7.72c-.78.78-.78 2.05 0 2.83L4 21.41c.39.39.9.59 1.41.59.51 0 1.02-.2 1.41-.59l7.78-7.78 2.81-2.81c.8-.78.8-2.07 0-2.86zM5.41 20L4 18.59l7.72-7.72 1.47 1.35L5.41 20z\"/>\n",
              "  </svg>\n",
              "      </button>\n",
              "      \n",
              "  <style>\n",
              "    .colab-df-container {\n",
              "      display:flex;\n",
              "      flex-wrap:wrap;\n",
              "      gap: 12px;\n",
              "    }\n",
              "\n",
              "    .colab-df-convert {\n",
              "      background-color: #E8F0FE;\n",
              "      border: none;\n",
              "      border-radius: 50%;\n",
              "      cursor: pointer;\n",
              "      display: none;\n",
              "      fill: #1967D2;\n",
              "      height: 32px;\n",
              "      padding: 0 0 0 0;\n",
              "      width: 32px;\n",
              "    }\n",
              "\n",
              "    .colab-df-convert:hover {\n",
              "      background-color: #E2EBFA;\n",
              "      box-shadow: 0px 1px 2px rgba(60, 64, 67, 0.3), 0px 1px 3px 1px rgba(60, 64, 67, 0.15);\n",
              "      fill: #174EA6;\n",
              "    }\n",
              "\n",
              "    [theme=dark] .colab-df-convert {\n",
              "      background-color: #3B4455;\n",
              "      fill: #D2E3FC;\n",
              "    }\n",
              "\n",
              "    [theme=dark] .colab-df-convert:hover {\n",
              "      background-color: #434B5C;\n",
              "      box-shadow: 0px 1px 3px 1px rgba(0, 0, 0, 0.15);\n",
              "      filter: drop-shadow(0px 1px 2px rgba(0, 0, 0, 0.3));\n",
              "      fill: #FFFFFF;\n",
              "    }\n",
              "  </style>\n",
              "\n",
              "      <script>\n",
              "        const buttonEl =\n",
              "          document.querySelector('#df-1178903e-517c-44b7-b42f-29bb17622c87 button.colab-df-convert');\n",
              "        buttonEl.style.display =\n",
              "          google.colab.kernel.accessAllowed ? 'block' : 'none';\n",
              "\n",
              "        async function convertToInteractive(key) {\n",
              "          const element = document.querySelector('#df-1178903e-517c-44b7-b42f-29bb17622c87');\n",
              "          const dataTable =\n",
              "            await google.colab.kernel.invokeFunction('convertToInteractive',\n",
              "                                                     [key], {});\n",
              "          if (!dataTable) return;\n",
              "\n",
              "          const docLinkHtml = 'Like what you see? Visit the ' +\n",
              "            '<a target=\"_blank\" href=https://colab.research.google.com/notebooks/data_table.ipynb>data table notebook</a>'\n",
              "            + ' to learn more about interactive tables.';\n",
              "          element.innerHTML = '';\n",
              "          dataTable['output_type'] = 'display_data';\n",
              "          await google.colab.output.renderOutput(dataTable, element);\n",
              "          const docLink = document.createElement('div');\n",
              "          docLink.innerHTML = docLinkHtml;\n",
              "          element.appendChild(docLink);\n",
              "        }\n",
              "      </script>\n",
              "    </div>\n",
              "  </div>\n",
              "  "
            ]
          },
          "metadata": {},
          "execution_count": 33
        }
      ]
    },
    {
      "cell_type": "code",
      "source": [
        "#Pesos dummy\n",
        "\n",
        "pesos = np.array([0.25,0.25,0.25,0.25])"
      ],
      "metadata": {
        "id": "aO-_Iqt_5w0w"
      },
      "execution_count": 34,
      "outputs": []
    },
    {
      "cell_type": "code",
      "source": [
        "cf_anualizado = (carteira_futuro.iloc[-1]-carteira_futuro.iloc[0])/carteira_futuro.iloc[0]\n",
        "cf_anualizado = ((1+cf_anualizado)**(12/48))-1\n",
        "cf_anualizado"
      ],
      "metadata": {
        "colab": {
          "base_uri": "https://localhost:8080/"
        },
        "id": "XU9R4JKQ81O-",
        "outputId": "5bce1926-6bf7-492e-b2f8-0c08ecbbb3de"
      },
      "execution_count": 35,
      "outputs": [
        {
          "output_type": "execute_result",
          "data": {
            "text/plain": [
              "ITSA4    0.029513\n",
              "PETR4    0.050286\n",
              "VALE3    0.163181\n",
              "ABEV3    0.005178\n",
              "dtype: float64"
            ]
          },
          "metadata": {},
          "execution_count": 35
        }
      ]
    },
    {
      "cell_type": "code",
      "source": [
        "cf_anualizado_carteira = cf_anualizado.dot(pesos)\n",
        "cf_anualizado_carteira"
      ],
      "metadata": {
        "colab": {
          "base_uri": "https://localhost:8080/"
        },
        "id": "akjRIqsk81QU",
        "outputId": "cfb04e31-44e1-49d5-ec57-9a2d5ca11679"
      },
      "execution_count": 36,
      "outputs": [
        {
          "output_type": "execute_result",
          "data": {
            "text/plain": [
              "0.06203969122674363"
            ]
          },
          "metadata": {},
          "execution_count": 36
        }
      ]
    },
    {
      "cell_type": "markdown",
      "source": [
        "##4. Volatilidade da Carteira"
      ],
      "metadata": {
        "id": "a4NODRZF9BDk"
      }
    },
    {
      "cell_type": "code",
      "source": [
        "carteira_futuro_retornos = carteira_futuro.pct_change()\n",
        "cov_fut = carteira_futuro_retornos.cov()\n",
        "\n",
        "vol_fut_diaria = np.sqrt(np.dot(pesos.T, np.dot(cov_fut,pesos)))\n",
        "vol_fut_ano = vol_fut_diaria*np.sqrt(252)\n",
        "vol_fut_ano"
      ],
      "metadata": {
        "colab": {
          "base_uri": "https://localhost:8080/"
        },
        "id": "c8wVhKBf81Ud",
        "outputId": "de73b8eb-1cb1-4055-88c4-b34bae5f9cc7"
      },
      "execution_count": 37,
      "outputs": [
        {
          "output_type": "execute_result",
          "data": {
            "text/plain": [
              "0.3482335843316492"
            ]
          },
          "metadata": {},
          "execution_count": 37
        }
      ]
    },
    {
      "cell_type": "markdown",
      "source": [
        "##5. Estimando Retornos"
      ],
      "metadata": {
        "id": "_qdQddr19Mr5"
      }
    },
    {
      "cell_type": "markdown",
      "source": [
        "##5.1. Retorno médio Histórico\n",
        "\n",
        "Calcula a média anaulizada dos retornos históricos dos preços (diários). Usar o argumento compounding se necessário para mudar de média geométrica para média aritmética."
      ],
      "metadata": {
        "id": "aB8xlvYR9PVs"
      }
    },
    {
      "cell_type": "code",
      "source": [
        "! pip install PyPortfolioOpt"
      ],
      "metadata": {
        "colab": {
          "base_uri": "https://localhost:8080/"
        },
        "id": "_i4bkFs79pLp",
        "outputId": "a944f69e-d024-4ac4-af15-03835209479b"
      },
      "execution_count": 39,
      "outputs": [
        {
          "output_type": "stream",
          "name": "stdout",
          "text": [
            "Looking in indexes: https://pypi.org/simple, https://us-python.pkg.dev/colab-wheels/public/simple/\n",
            "Collecting PyPortfolioOpt\n",
            "  Downloading pyportfolioopt-1.5.2-py3-none-any.whl (61 kB)\n",
            "\u001b[K     |████████████████████████████████| 61 kB 3.4 MB/s \n",
            "\u001b[?25hCollecting cvxpy<2.0.0,>=1.1.10\n",
            "  Downloading cvxpy-1.2.1-cp37-cp37m-manylinux_2_24_x86_64.whl (2.8 MB)\n",
            "\u001b[K     |████████████████████████████████| 2.8 MB 11.2 MB/s \n",
            "\u001b[?25hRequirement already satisfied: numpy<2.0,>=1.12 in /usr/local/lib/python3.7/dist-packages (from PyPortfolioOpt) (1.21.6)\n",
            "Requirement already satisfied: pandas>=0.19 in /usr/local/lib/python3.7/dist-packages (from PyPortfolioOpt) (1.3.5)\n",
            "Requirement already satisfied: scipy<2.0,>=1.3 in /usr/local/lib/python3.7/dist-packages (from PyPortfolioOpt) (1.7.3)\n",
            "Requirement already satisfied: scs>=1.1.6 in /usr/local/lib/python3.7/dist-packages (from cvxpy<2.0.0,>=1.1.10->PyPortfolioOpt) (3.2.0)\n",
            "Requirement already satisfied: osqp>=0.4.1 in /usr/local/lib/python3.7/dist-packages (from cvxpy<2.0.0,>=1.1.10->PyPortfolioOpt) (0.6.2.post0)\n",
            "Requirement already satisfied: ecos>=2 in /usr/local/lib/python3.7/dist-packages (from cvxpy<2.0.0,>=1.1.10->PyPortfolioOpt) (2.0.10)\n",
            "Requirement already satisfied: qdldl in /usr/local/lib/python3.7/dist-packages (from osqp>=0.4.1->cvxpy<2.0.0,>=1.1.10->PyPortfolioOpt) (0.1.5.post2)\n",
            "Requirement already satisfied: python-dateutil>=2.7.3 in /usr/local/lib/python3.7/dist-packages (from pandas>=0.19->PyPortfolioOpt) (2.8.2)\n",
            "Requirement already satisfied: pytz>=2017.3 in /usr/local/lib/python3.7/dist-packages (from pandas>=0.19->PyPortfolioOpt) (2022.1)\n",
            "Requirement already satisfied: six>=1.5 in /usr/local/lib/python3.7/dist-packages (from python-dateutil>=2.7.3->pandas>=0.19->PyPortfolioOpt) (1.15.0)\n",
            "Installing collected packages: cvxpy, PyPortfolioOpt\n",
            "  Attempting uninstall: cvxpy\n",
            "    Found existing installation: cvxpy 1.0.31\n",
            "    Uninstalling cvxpy-1.0.31:\n",
            "      Successfully uninstalled cvxpy-1.0.31\n",
            "Successfully installed PyPortfolioOpt-1.5.2 cvxpy-1.2.1\n"
          ]
        }
      ]
    },
    {
      "cell_type": "code",
      "source": [
        "from pypfopt import expected_returns"
      ],
      "metadata": {
        "id": "79K4OGQI81Vy"
      },
      "execution_count": 40,
      "outputs": []
    },
    {
      "cell_type": "code",
      "source": [
        "#Calcular o retorno médio histórico carteira passado\n",
        "\n",
        "retorno_medio = expected_returns.mean_historical_return(carteira_passado)\n",
        "\n",
        "retorno_medio"
      ],
      "metadata": {
        "colab": {
          "base_uri": "https://localhost:8080/"
        },
        "id": "3O_xr2Uc81ZG",
        "outputId": "442a7a68-7f09-4551-b745-b08d27c776d7"
      },
      "execution_count": 41,
      "outputs": [
        {
          "output_type": "execute_result",
          "data": {
            "text/plain": [
              "ITSA4    0.139719\n",
              "PETR4   -0.035376\n",
              "VALE3    0.028787\n",
              "ABEV3    0.143730\n",
              "dtype: float64"
            ]
          },
          "metadata": {},
          "execution_count": 41
        }
      ]
    },
    {
      "cell_type": "code",
      "source": [
        "#EMA Retorno médio histórico\n",
        "\n",
        "ema_retorno_medio = np.sum(np.abs(retorno_medio-cf_anualizado))/len(retorno_medio)\n",
        "ema_retorno_medio"
      ],
      "metadata": {
        "colab": {
          "base_uri": "https://localhost:8080/"
        },
        "id": "OPYDrben81as",
        "outputId": "2886bf10-fc28-43dd-c0a6-92a2a7fcef2e"
      },
      "execution_count": 42,
      "outputs": [
        {
          "output_type": "execute_result",
          "data": {
            "text/plain": [
              "0.11720311526744692"
            ]
          },
          "metadata": {},
          "execution_count": 42
        }
      ]
    },
    {
      "cell_type": "code",
      "source": [
        "#Média Movel Exponencial \n",
        "\n",
        "mme = expected_returns.ema_historical_return(carteira_passado, span=300)\n",
        "mme"
      ],
      "metadata": {
        "colab": {
          "base_uri": "https://localhost:8080/"
        },
        "id": "4UHTCW7o-ERe",
        "outputId": "5444adf2-c951-4445-d1b3-b9888036fbe5"
      },
      "execution_count": 43,
      "outputs": [
        {
          "output_type": "execute_result",
          "data": {
            "text/plain": [
              "ITSA4    0.398203\n",
              "PETR4    0.458609\n",
              "VALE3    0.312667\n",
              "ABEV3   -0.259820\n",
              "Name: 2018-12-28 00:00:00, dtype: float64"
            ]
          },
          "metadata": {},
          "execution_count": 43
        }
      ]
    },
    {
      "cell_type": "code",
      "source": [
        "#Erro médio Absoluto de MME\n",
        "\n",
        "ema_mme = np.sum(np.abs(mme-cf_anualizado))/len(mme)\n",
        "\n",
        "ema_mme"
      ],
      "metadata": {
        "colab": {
          "base_uri": "https://localhost:8080/"
        },
        "id": "itlvPWAX-ESu",
        "outputId": "68f40ce7-b24a-47a2-ef8e-2fd3e4f7acce"
      },
      "execution_count": 44,
      "outputs": [
        {
          "output_type": "execute_result",
          "data": {
            "text/plain": [
              "0.29787408796039716"
            ]
          },
          "metadata": {},
          "execution_count": 44
        }
      ]
    },
    {
      "cell_type": "code",
      "source": [
        "#1º Calcular Selic Diaria\n",
        "\n",
        "selic_aa = 0.064\n",
        "selic_diaria = (1+selic_aa)**(1/252) -1\n",
        "selic_diaria"
      ],
      "metadata": {
        "colab": {
          "base_uri": "https://localhost:8080/"
        },
        "id": "onZUfwBr-EXG",
        "outputId": "65f1ab5f-5d79-42b5-a12a-f14c4fa21679"
      },
      "execution_count": 45,
      "outputs": [
        {
          "output_type": "execute_result",
          "data": {
            "text/plain": [
              "0.00024620248904749786"
            ]
          },
          "metadata": {},
          "execution_count": 45
        }
      ]
    },
    {
      "cell_type": "code",
      "source": [
        "#2º Calcular IBOV\n",
        "\n",
        "ibov = investpy.get_index_historical_data('Bovespa', country='Brazil', from_date='01/01/2016', to_date='31/12/2018')\n",
        "ibov = pd.DataFrame(ibov['Close'])\n",
        "ibov"
      ],
      "metadata": {
        "colab": {
          "base_uri": "https://localhost:8080/",
          "height": 455
        },
        "id": "_s0asFyv-EYW",
        "outputId": "c2b7acea-e76d-4988-9344-0482060a252f"
      },
      "execution_count": 46,
      "outputs": [
        {
          "output_type": "execute_result",
          "data": {
            "text/plain": [
              "              Close\n",
              "Date               \n",
              "2016-01-04  42141.0\n",
              "2016-01-05  42419.0\n",
              "2016-01-06  41773.0\n",
              "2016-01-07  40695.0\n",
              "2016-01-08  40612.0\n",
              "...             ...\n",
              "2018-12-20  85269.0\n",
              "2018-12-21  85697.0\n",
              "2018-12-26  85136.0\n",
              "2018-12-27  85460.0\n",
              "2018-12-28  87887.0\n",
              "\n",
              "[740 rows x 1 columns]"
            ],
            "text/html": [
              "\n",
              "  <div id=\"df-0d6864c6-2482-4651-8ab7-98a81cbd1458\">\n",
              "    <div class=\"colab-df-container\">\n",
              "      <div>\n",
              "<style scoped>\n",
              "    .dataframe tbody tr th:only-of-type {\n",
              "        vertical-align: middle;\n",
              "    }\n",
              "\n",
              "    .dataframe tbody tr th {\n",
              "        vertical-align: top;\n",
              "    }\n",
              "\n",
              "    .dataframe thead th {\n",
              "        text-align: right;\n",
              "    }\n",
              "</style>\n",
              "<table border=\"1\" class=\"dataframe\">\n",
              "  <thead>\n",
              "    <tr style=\"text-align: right;\">\n",
              "      <th></th>\n",
              "      <th>Close</th>\n",
              "    </tr>\n",
              "    <tr>\n",
              "      <th>Date</th>\n",
              "      <th></th>\n",
              "    </tr>\n",
              "  </thead>\n",
              "  <tbody>\n",
              "    <tr>\n",
              "      <th>2016-01-04</th>\n",
              "      <td>42141.0</td>\n",
              "    </tr>\n",
              "    <tr>\n",
              "      <th>2016-01-05</th>\n",
              "      <td>42419.0</td>\n",
              "    </tr>\n",
              "    <tr>\n",
              "      <th>2016-01-06</th>\n",
              "      <td>41773.0</td>\n",
              "    </tr>\n",
              "    <tr>\n",
              "      <th>2016-01-07</th>\n",
              "      <td>40695.0</td>\n",
              "    </tr>\n",
              "    <tr>\n",
              "      <th>2016-01-08</th>\n",
              "      <td>40612.0</td>\n",
              "    </tr>\n",
              "    <tr>\n",
              "      <th>...</th>\n",
              "      <td>...</td>\n",
              "    </tr>\n",
              "    <tr>\n",
              "      <th>2018-12-20</th>\n",
              "      <td>85269.0</td>\n",
              "    </tr>\n",
              "    <tr>\n",
              "      <th>2018-12-21</th>\n",
              "      <td>85697.0</td>\n",
              "    </tr>\n",
              "    <tr>\n",
              "      <th>2018-12-26</th>\n",
              "      <td>85136.0</td>\n",
              "    </tr>\n",
              "    <tr>\n",
              "      <th>2018-12-27</th>\n",
              "      <td>85460.0</td>\n",
              "    </tr>\n",
              "    <tr>\n",
              "      <th>2018-12-28</th>\n",
              "      <td>87887.0</td>\n",
              "    </tr>\n",
              "  </tbody>\n",
              "</table>\n",
              "<p>740 rows × 1 columns</p>\n",
              "</div>\n",
              "      <button class=\"colab-df-convert\" onclick=\"convertToInteractive('df-0d6864c6-2482-4651-8ab7-98a81cbd1458')\"\n",
              "              title=\"Convert this dataframe to an interactive table.\"\n",
              "              style=\"display:none;\">\n",
              "        \n",
              "  <svg xmlns=\"http://www.w3.org/2000/svg\" height=\"24px\"viewBox=\"0 0 24 24\"\n",
              "       width=\"24px\">\n",
              "    <path d=\"M0 0h24v24H0V0z\" fill=\"none\"/>\n",
              "    <path d=\"M18.56 5.44l.94 2.06.94-2.06 2.06-.94-2.06-.94-.94-2.06-.94 2.06-2.06.94zm-11 1L8.5 8.5l.94-2.06 2.06-.94-2.06-.94L8.5 2.5l-.94 2.06-2.06.94zm10 10l.94 2.06.94-2.06 2.06-.94-2.06-.94-.94-2.06-.94 2.06-2.06.94z\"/><path d=\"M17.41 7.96l-1.37-1.37c-.4-.4-.92-.59-1.43-.59-.52 0-1.04.2-1.43.59L10.3 9.45l-7.72 7.72c-.78.78-.78 2.05 0 2.83L4 21.41c.39.39.9.59 1.41.59.51 0 1.02-.2 1.41-.59l7.78-7.78 2.81-2.81c.8-.78.8-2.07 0-2.86zM5.41 20L4 18.59l7.72-7.72 1.47 1.35L5.41 20z\"/>\n",
              "  </svg>\n",
              "      </button>\n",
              "      \n",
              "  <style>\n",
              "    .colab-df-container {\n",
              "      display:flex;\n",
              "      flex-wrap:wrap;\n",
              "      gap: 12px;\n",
              "    }\n",
              "\n",
              "    .colab-df-convert {\n",
              "      background-color: #E8F0FE;\n",
              "      border: none;\n",
              "      border-radius: 50%;\n",
              "      cursor: pointer;\n",
              "      display: none;\n",
              "      fill: #1967D2;\n",
              "      height: 32px;\n",
              "      padding: 0 0 0 0;\n",
              "      width: 32px;\n",
              "    }\n",
              "\n",
              "    .colab-df-convert:hover {\n",
              "      background-color: #E2EBFA;\n",
              "      box-shadow: 0px 1px 2px rgba(60, 64, 67, 0.3), 0px 1px 3px 1px rgba(60, 64, 67, 0.15);\n",
              "      fill: #174EA6;\n",
              "    }\n",
              "\n",
              "    [theme=dark] .colab-df-convert {\n",
              "      background-color: #3B4455;\n",
              "      fill: #D2E3FC;\n",
              "    }\n",
              "\n",
              "    [theme=dark] .colab-df-convert:hover {\n",
              "      background-color: #434B5C;\n",
              "      box-shadow: 0px 1px 3px 1px rgba(0, 0, 0, 0.15);\n",
              "      filter: drop-shadow(0px 1px 2px rgba(0, 0, 0, 0.3));\n",
              "      fill: #FFFFFF;\n",
              "    }\n",
              "  </style>\n",
              "\n",
              "      <script>\n",
              "        const buttonEl =\n",
              "          document.querySelector('#df-0d6864c6-2482-4651-8ab7-98a81cbd1458 button.colab-df-convert');\n",
              "        buttonEl.style.display =\n",
              "          google.colab.kernel.accessAllowed ? 'block' : 'none';\n",
              "\n",
              "        async function convertToInteractive(key) {\n",
              "          const element = document.querySelector('#df-0d6864c6-2482-4651-8ab7-98a81cbd1458');\n",
              "          const dataTable =\n",
              "            await google.colab.kernel.invokeFunction('convertToInteractive',\n",
              "                                                     [key], {});\n",
              "          if (!dataTable) return;\n",
              "\n",
              "          const docLinkHtml = 'Like what you see? Visit the ' +\n",
              "            '<a target=\"_blank\" href=https://colab.research.google.com/notebooks/data_table.ipynb>data table notebook</a>'\n",
              "            + ' to learn more about interactive tables.';\n",
              "          element.innerHTML = '';\n",
              "          dataTable['output_type'] = 'display_data';\n",
              "          await google.colab.output.renderOutput(dataTable, element);\n",
              "          const docLink = document.createElement('div');\n",
              "          docLink.innerHTML = docLinkHtml;\n",
              "          element.appendChild(docLink);\n",
              "        }\n",
              "      </script>\n",
              "    </div>\n",
              "  </div>\n",
              "  "
            ]
          },
          "metadata": {},
          "execution_count": 46
        }
      ]
    },
    {
      "cell_type": "code",
      "source": [
        "#3º Calcular retornos com modelo CAPM\n",
        "\n",
        "capm = expected_returns.capm_return(carteira_passado, market_prices=ibov, risk_free_rate=selic_diaria)\n",
        "capm"
      ],
      "metadata": {
        "colab": {
          "base_uri": "https://localhost:8080/"
        },
        "id": "DvSxwDAE-oja",
        "outputId": "5dbf3f05-79b7-478a-85dd-742bbf4c0482"
      },
      "execution_count": 47,
      "outputs": [
        {
          "output_type": "execute_result",
          "data": {
            "text/plain": [
              "ITSA4    0.319990\n",
              "PETR4    0.518483\n",
              "VALE3    0.342230\n",
              "ABEV3    0.135851\n",
              "Name: mkt, dtype: float64"
            ]
          },
          "metadata": {},
          "execution_count": 47
        }
      ]
    },
    {
      "cell_type": "code",
      "source": [
        "#Calcular erro médio absoluto modelo CAPM\n",
        "\n",
        "ema_capm = np.sum(np.abs(capm-cf_anualizado))/len(capm)\n",
        "ema_capm"
      ],
      "metadata": {
        "colab": {
          "base_uri": "https://localhost:8080/"
        },
        "id": "JqVIHf8f-ok6",
        "outputId": "7d6cf32f-6832-4389-ab7b-77066bedb9c7"
      },
      "execution_count": 48,
      "outputs": [
        {
          "output_type": "execute_result",
          "data": {
            "text/plain": [
              "0.26709909702702445"
            ]
          },
          "metadata": {},
          "execution_count": 48
        }
      ]
    },
    {
      "cell_type": "code",
      "source": [
        "from pypfopt import risk_models"
      ],
      "metadata": {
        "id": "SVJ2qvtb-oo9"
      },
      "execution_count": 49,
      "outputs": []
    },
    {
      "cell_type": "code",
      "source": [
        "#Sample Covariance\n",
        "\n",
        "sample_cov = risk_models.sample_cov(carteira_passado)\n",
        "sample_cov"
      ],
      "metadata": {
        "colab": {
          "base_uri": "https://localhost:8080/",
          "height": 175
        },
        "id": "YiSKVoT6-oq7",
        "outputId": "288afcc9-d225-424d-d85e-8b9b6eccfc3b"
      },
      "execution_count": 50,
      "outputs": [
        {
          "output_type": "execute_result",
          "data": {
            "text/plain": [
              "          ITSA4     PETR4     VALE3     ABEV3\n",
              "ITSA4  0.128223  0.097718  0.075684  0.038609\n",
              "PETR4  0.097718  0.220092  0.115600  0.040881\n",
              "VALE3  0.075684  0.115600  0.198039  0.040410\n",
              "ABEV3  0.038609  0.040881  0.040410  0.066275"
            ],
            "text/html": [
              "\n",
              "  <div id=\"df-c4947013-07c4-4734-88ce-beb3e97f4cdc\">\n",
              "    <div class=\"colab-df-container\">\n",
              "      <div>\n",
              "<style scoped>\n",
              "    .dataframe tbody tr th:only-of-type {\n",
              "        vertical-align: middle;\n",
              "    }\n",
              "\n",
              "    .dataframe tbody tr th {\n",
              "        vertical-align: top;\n",
              "    }\n",
              "\n",
              "    .dataframe thead th {\n",
              "        text-align: right;\n",
              "    }\n",
              "</style>\n",
              "<table border=\"1\" class=\"dataframe\">\n",
              "  <thead>\n",
              "    <tr style=\"text-align: right;\">\n",
              "      <th></th>\n",
              "      <th>ITSA4</th>\n",
              "      <th>PETR4</th>\n",
              "      <th>VALE3</th>\n",
              "      <th>ABEV3</th>\n",
              "    </tr>\n",
              "  </thead>\n",
              "  <tbody>\n",
              "    <tr>\n",
              "      <th>ITSA4</th>\n",
              "      <td>0.128223</td>\n",
              "      <td>0.097718</td>\n",
              "      <td>0.075684</td>\n",
              "      <td>0.038609</td>\n",
              "    </tr>\n",
              "    <tr>\n",
              "      <th>PETR4</th>\n",
              "      <td>0.097718</td>\n",
              "      <td>0.220092</td>\n",
              "      <td>0.115600</td>\n",
              "      <td>0.040881</td>\n",
              "    </tr>\n",
              "    <tr>\n",
              "      <th>VALE3</th>\n",
              "      <td>0.075684</td>\n",
              "      <td>0.115600</td>\n",
              "      <td>0.198039</td>\n",
              "      <td>0.040410</td>\n",
              "    </tr>\n",
              "    <tr>\n",
              "      <th>ABEV3</th>\n",
              "      <td>0.038609</td>\n",
              "      <td>0.040881</td>\n",
              "      <td>0.040410</td>\n",
              "      <td>0.066275</td>\n",
              "    </tr>\n",
              "  </tbody>\n",
              "</table>\n",
              "</div>\n",
              "      <button class=\"colab-df-convert\" onclick=\"convertToInteractive('df-c4947013-07c4-4734-88ce-beb3e97f4cdc')\"\n",
              "              title=\"Convert this dataframe to an interactive table.\"\n",
              "              style=\"display:none;\">\n",
              "        \n",
              "  <svg xmlns=\"http://www.w3.org/2000/svg\" height=\"24px\"viewBox=\"0 0 24 24\"\n",
              "       width=\"24px\">\n",
              "    <path d=\"M0 0h24v24H0V0z\" fill=\"none\"/>\n",
              "    <path d=\"M18.56 5.44l.94 2.06.94-2.06 2.06-.94-2.06-.94-.94-2.06-.94 2.06-2.06.94zm-11 1L8.5 8.5l.94-2.06 2.06-.94-2.06-.94L8.5 2.5l-.94 2.06-2.06.94zm10 10l.94 2.06.94-2.06 2.06-.94-2.06-.94-.94-2.06-.94 2.06-2.06.94z\"/><path d=\"M17.41 7.96l-1.37-1.37c-.4-.4-.92-.59-1.43-.59-.52 0-1.04.2-1.43.59L10.3 9.45l-7.72 7.72c-.78.78-.78 2.05 0 2.83L4 21.41c.39.39.9.59 1.41.59.51 0 1.02-.2 1.41-.59l7.78-7.78 2.81-2.81c.8-.78.8-2.07 0-2.86zM5.41 20L4 18.59l7.72-7.72 1.47 1.35L5.41 20z\"/>\n",
              "  </svg>\n",
              "      </button>\n",
              "      \n",
              "  <style>\n",
              "    .colab-df-container {\n",
              "      display:flex;\n",
              "      flex-wrap:wrap;\n",
              "      gap: 12px;\n",
              "    }\n",
              "\n",
              "    .colab-df-convert {\n",
              "      background-color: #E8F0FE;\n",
              "      border: none;\n",
              "      border-radius: 50%;\n",
              "      cursor: pointer;\n",
              "      display: none;\n",
              "      fill: #1967D2;\n",
              "      height: 32px;\n",
              "      padding: 0 0 0 0;\n",
              "      width: 32px;\n",
              "    }\n",
              "\n",
              "    .colab-df-convert:hover {\n",
              "      background-color: #E2EBFA;\n",
              "      box-shadow: 0px 1px 2px rgba(60, 64, 67, 0.3), 0px 1px 3px 1px rgba(60, 64, 67, 0.15);\n",
              "      fill: #174EA6;\n",
              "    }\n",
              "\n",
              "    [theme=dark] .colab-df-convert {\n",
              "      background-color: #3B4455;\n",
              "      fill: #D2E3FC;\n",
              "    }\n",
              "\n",
              "    [theme=dark] .colab-df-convert:hover {\n",
              "      background-color: #434B5C;\n",
              "      box-shadow: 0px 1px 3px 1px rgba(0, 0, 0, 0.15);\n",
              "      filter: drop-shadow(0px 1px 2px rgba(0, 0, 0, 0.3));\n",
              "      fill: #FFFFFF;\n",
              "    }\n",
              "  </style>\n",
              "\n",
              "      <script>\n",
              "        const buttonEl =\n",
              "          document.querySelector('#df-c4947013-07c4-4734-88ce-beb3e97f4cdc button.colab-df-convert');\n",
              "        buttonEl.style.display =\n",
              "          google.colab.kernel.accessAllowed ? 'block' : 'none';\n",
              "\n",
              "        async function convertToInteractive(key) {\n",
              "          const element = document.querySelector('#df-c4947013-07c4-4734-88ce-beb3e97f4cdc');\n",
              "          const dataTable =\n",
              "            await google.colab.kernel.invokeFunction('convertToInteractive',\n",
              "                                                     [key], {});\n",
              "          if (!dataTable) return;\n",
              "\n",
              "          const docLinkHtml = 'Like what you see? Visit the ' +\n",
              "            '<a target=\"_blank\" href=https://colab.research.google.com/notebooks/data_table.ipynb>data table notebook</a>'\n",
              "            + ' to learn more about interactive tables.';\n",
              "          element.innerHTML = '';\n",
              "          dataTable['output_type'] = 'display_data';\n",
              "          await google.colab.output.renderOutput(dataTable, element);\n",
              "          const docLink = document.createElement('div');\n",
              "          docLink.innerHTML = docLinkHtml;\n",
              "          element.appendChild(docLink);\n",
              "        }\n",
              "      </script>\n",
              "    </div>\n",
              "  </div>\n",
              "  "
            ]
          },
          "metadata": {},
          "execution_count": 50
        }
      ]
    },
    {
      "cell_type": "code",
      "source": [
        "#Erro medio absoluto sample covariance\n",
        "\n",
        "ema_sample_cova = np.sum(np.abs(np.diag(sample_cov)-np.diag(cov_fut)))/len(np.diag(sample_cov))\n",
        "ema_sample_cova"
      ],
      "metadata": {
        "colab": {
          "base_uri": "https://localhost:8080/"
        },
        "id": "k_opCNPL-ouu",
        "outputId": "695af492-d7bb-40f0-8810-db4e98581afd"
      },
      "execution_count": 51,
      "outputs": [
        {
          "output_type": "execute_result",
          "data": {
            "text/plain": [
              "0.15238845092916337"
            ]
          },
          "metadata": {},
          "execution_count": 51
        }
      ]
    },
    {
      "cell_type": "code",
      "source": [
        "semicov = risk_models.semicovariance(carteira_passado,benchmark=0)\n",
        "semicov"
      ],
      "metadata": {
        "colab": {
          "base_uri": "https://localhost:8080/",
          "height": 175
        },
        "id": "wMvoSpJh-ov_",
        "outputId": "61919f74-7cc8-4222-80c3-e1fe51b17a87"
      },
      "execution_count": 52,
      "outputs": [
        {
          "output_type": "execute_result",
          "data": {
            "text/plain": [
              "          ITSA4     PETR4     VALE3     ABEV3\n",
              "ITSA4  0.055263  0.050071  0.042084  0.023110\n",
              "PETR4  0.050071  0.105873  0.062175  0.027878\n",
              "VALE3  0.042084  0.062175  0.092579  0.026119\n",
              "ABEV3  0.023110  0.027878  0.026119  0.029996"
            ],
            "text/html": [
              "\n",
              "  <div id=\"df-0fe88bda-0548-4a1e-8a0c-73698c2ba9af\">\n",
              "    <div class=\"colab-df-container\">\n",
              "      <div>\n",
              "<style scoped>\n",
              "    .dataframe tbody tr th:only-of-type {\n",
              "        vertical-align: middle;\n",
              "    }\n",
              "\n",
              "    .dataframe tbody tr th {\n",
              "        vertical-align: top;\n",
              "    }\n",
              "\n",
              "    .dataframe thead th {\n",
              "        text-align: right;\n",
              "    }\n",
              "</style>\n",
              "<table border=\"1\" class=\"dataframe\">\n",
              "  <thead>\n",
              "    <tr style=\"text-align: right;\">\n",
              "      <th></th>\n",
              "      <th>ITSA4</th>\n",
              "      <th>PETR4</th>\n",
              "      <th>VALE3</th>\n",
              "      <th>ABEV3</th>\n",
              "    </tr>\n",
              "  </thead>\n",
              "  <tbody>\n",
              "    <tr>\n",
              "      <th>ITSA4</th>\n",
              "      <td>0.055263</td>\n",
              "      <td>0.050071</td>\n",
              "      <td>0.042084</td>\n",
              "      <td>0.023110</td>\n",
              "    </tr>\n",
              "    <tr>\n",
              "      <th>PETR4</th>\n",
              "      <td>0.050071</td>\n",
              "      <td>0.105873</td>\n",
              "      <td>0.062175</td>\n",
              "      <td>0.027878</td>\n",
              "    </tr>\n",
              "    <tr>\n",
              "      <th>VALE3</th>\n",
              "      <td>0.042084</td>\n",
              "      <td>0.062175</td>\n",
              "      <td>0.092579</td>\n",
              "      <td>0.026119</td>\n",
              "    </tr>\n",
              "    <tr>\n",
              "      <th>ABEV3</th>\n",
              "      <td>0.023110</td>\n",
              "      <td>0.027878</td>\n",
              "      <td>0.026119</td>\n",
              "      <td>0.029996</td>\n",
              "    </tr>\n",
              "  </tbody>\n",
              "</table>\n",
              "</div>\n",
              "      <button class=\"colab-df-convert\" onclick=\"convertToInteractive('df-0fe88bda-0548-4a1e-8a0c-73698c2ba9af')\"\n",
              "              title=\"Convert this dataframe to an interactive table.\"\n",
              "              style=\"display:none;\">\n",
              "        \n",
              "  <svg xmlns=\"http://www.w3.org/2000/svg\" height=\"24px\"viewBox=\"0 0 24 24\"\n",
              "       width=\"24px\">\n",
              "    <path d=\"M0 0h24v24H0V0z\" fill=\"none\"/>\n",
              "    <path d=\"M18.56 5.44l.94 2.06.94-2.06 2.06-.94-2.06-.94-.94-2.06-.94 2.06-2.06.94zm-11 1L8.5 8.5l.94-2.06 2.06-.94-2.06-.94L8.5 2.5l-.94 2.06-2.06.94zm10 10l.94 2.06.94-2.06 2.06-.94-2.06-.94-.94-2.06-.94 2.06-2.06.94z\"/><path d=\"M17.41 7.96l-1.37-1.37c-.4-.4-.92-.59-1.43-.59-.52 0-1.04.2-1.43.59L10.3 9.45l-7.72 7.72c-.78.78-.78 2.05 0 2.83L4 21.41c.39.39.9.59 1.41.59.51 0 1.02-.2 1.41-.59l7.78-7.78 2.81-2.81c.8-.78.8-2.07 0-2.86zM5.41 20L4 18.59l7.72-7.72 1.47 1.35L5.41 20z\"/>\n",
              "  </svg>\n",
              "      </button>\n",
              "      \n",
              "  <style>\n",
              "    .colab-df-container {\n",
              "      display:flex;\n",
              "      flex-wrap:wrap;\n",
              "      gap: 12px;\n",
              "    }\n",
              "\n",
              "    .colab-df-convert {\n",
              "      background-color: #E8F0FE;\n",
              "      border: none;\n",
              "      border-radius: 50%;\n",
              "      cursor: pointer;\n",
              "      display: none;\n",
              "      fill: #1967D2;\n",
              "      height: 32px;\n",
              "      padding: 0 0 0 0;\n",
              "      width: 32px;\n",
              "    }\n",
              "\n",
              "    .colab-df-convert:hover {\n",
              "      background-color: #E2EBFA;\n",
              "      box-shadow: 0px 1px 2px rgba(60, 64, 67, 0.3), 0px 1px 3px 1px rgba(60, 64, 67, 0.15);\n",
              "      fill: #174EA6;\n",
              "    }\n",
              "\n",
              "    [theme=dark] .colab-df-convert {\n",
              "      background-color: #3B4455;\n",
              "      fill: #D2E3FC;\n",
              "    }\n",
              "\n",
              "    [theme=dark] .colab-df-convert:hover {\n",
              "      background-color: #434B5C;\n",
              "      box-shadow: 0px 1px 3px 1px rgba(0, 0, 0, 0.15);\n",
              "      filter: drop-shadow(0px 1px 2px rgba(0, 0, 0, 0.3));\n",
              "      fill: #FFFFFF;\n",
              "    }\n",
              "  </style>\n",
              "\n",
              "      <script>\n",
              "        const buttonEl =\n",
              "          document.querySelector('#df-0fe88bda-0548-4a1e-8a0c-73698c2ba9af button.colab-df-convert');\n",
              "        buttonEl.style.display =\n",
              "          google.colab.kernel.accessAllowed ? 'block' : 'none';\n",
              "\n",
              "        async function convertToInteractive(key) {\n",
              "          const element = document.querySelector('#df-0fe88bda-0548-4a1e-8a0c-73698c2ba9af');\n",
              "          const dataTable =\n",
              "            await google.colab.kernel.invokeFunction('convertToInteractive',\n",
              "                                                     [key], {});\n",
              "          if (!dataTable) return;\n",
              "\n",
              "          const docLinkHtml = 'Like what you see? Visit the ' +\n",
              "            '<a target=\"_blank\" href=https://colab.research.google.com/notebooks/data_table.ipynb>data table notebook</a>'\n",
              "            + ' to learn more about interactive tables.';\n",
              "          element.innerHTML = '';\n",
              "          dataTable['output_type'] = 'display_data';\n",
              "          await google.colab.output.renderOutput(dataTable, element);\n",
              "          const docLink = document.createElement('div');\n",
              "          docLink.innerHTML = docLinkHtml;\n",
              "          element.appendChild(docLink);\n",
              "        }\n",
              "      </script>\n",
              "    </div>\n",
              "  </div>\n",
              "  "
            ]
          },
          "metadata": {},
          "execution_count": 52
        }
      ]
    },
    {
      "cell_type": "code",
      "source": [
        "#erro medio absoluto matriz semicovariancia\n",
        "\n",
        "ema_semicov = np.sum(np.abs(np.diag(semicov)-np.diag(cov_fut)))/len(np.diag(semicov))\n",
        "ema_semicov"
      ],
      "metadata": {
        "colab": {
          "base_uri": "https://localhost:8080/"
        },
        "id": "7Y_qzrGe-808",
        "outputId": "9aec2488-e5ad-468d-e941-df6196419fdb"
      },
      "execution_count": 53,
      "outputs": [
        {
          "output_type": "execute_result",
          "data": {
            "text/plain": [
              "0.07015897970064644"
            ]
          },
          "metadata": {},
          "execution_count": 53
        }
      ]
    },
    {
      "cell_type": "markdown",
      "source": [
        "###6.3. Exponentially-Weigheted Covariance\n",
        "\n",
        "Retorna uma matriz decovariancia dentro de uma janela detempo. Ela da peso maior para os dados mais recentes através do argumento span"
      ],
      "metadata": {
        "id": "ph9fn7DP_S8H"
      }
    },
    {
      "cell_type": "code",
      "source": [
        "exp_cov = risk_models.exp_cov(carteira_passado,span=400)\n",
        "exp_cov"
      ],
      "metadata": {
        "colab": {
          "base_uri": "https://localhost:8080/",
          "height": 175
        },
        "id": "IBanvfyC-82u",
        "outputId": "2cf1a1dc-516e-49e3-b715-23e48a6b7126"
      },
      "execution_count": 54,
      "outputs": [
        {
          "output_type": "execute_result",
          "data": {
            "text/plain": [
              "          ITSA4     PETR4     VALE3     ABEV3\n",
              "ITSA4  0.093773  0.085326  0.025640  0.027921\n",
              "PETR4  0.085326  0.251573  0.050425  0.033508\n",
              "VALE3  0.025640  0.050425  0.135415  0.022473\n",
              "ABEV3  0.027921  0.033508  0.022473  0.049058"
            ],
            "text/html": [
              "\n",
              "  <div id=\"df-85dc32fa-8034-4d41-b9a2-ea65277d3309\">\n",
              "    <div class=\"colab-df-container\">\n",
              "      <div>\n",
              "<style scoped>\n",
              "    .dataframe tbody tr th:only-of-type {\n",
              "        vertical-align: middle;\n",
              "    }\n",
              "\n",
              "    .dataframe tbody tr th {\n",
              "        vertical-align: top;\n",
              "    }\n",
              "\n",
              "    .dataframe thead th {\n",
              "        text-align: right;\n",
              "    }\n",
              "</style>\n",
              "<table border=\"1\" class=\"dataframe\">\n",
              "  <thead>\n",
              "    <tr style=\"text-align: right;\">\n",
              "      <th></th>\n",
              "      <th>ITSA4</th>\n",
              "      <th>PETR4</th>\n",
              "      <th>VALE3</th>\n",
              "      <th>ABEV3</th>\n",
              "    </tr>\n",
              "  </thead>\n",
              "  <tbody>\n",
              "    <tr>\n",
              "      <th>ITSA4</th>\n",
              "      <td>0.093773</td>\n",
              "      <td>0.085326</td>\n",
              "      <td>0.025640</td>\n",
              "      <td>0.027921</td>\n",
              "    </tr>\n",
              "    <tr>\n",
              "      <th>PETR4</th>\n",
              "      <td>0.085326</td>\n",
              "      <td>0.251573</td>\n",
              "      <td>0.050425</td>\n",
              "      <td>0.033508</td>\n",
              "    </tr>\n",
              "    <tr>\n",
              "      <th>VALE3</th>\n",
              "      <td>0.025640</td>\n",
              "      <td>0.050425</td>\n",
              "      <td>0.135415</td>\n",
              "      <td>0.022473</td>\n",
              "    </tr>\n",
              "    <tr>\n",
              "      <th>ABEV3</th>\n",
              "      <td>0.027921</td>\n",
              "      <td>0.033508</td>\n",
              "      <td>0.022473</td>\n",
              "      <td>0.049058</td>\n",
              "    </tr>\n",
              "  </tbody>\n",
              "</table>\n",
              "</div>\n",
              "      <button class=\"colab-df-convert\" onclick=\"convertToInteractive('df-85dc32fa-8034-4d41-b9a2-ea65277d3309')\"\n",
              "              title=\"Convert this dataframe to an interactive table.\"\n",
              "              style=\"display:none;\">\n",
              "        \n",
              "  <svg xmlns=\"http://www.w3.org/2000/svg\" height=\"24px\"viewBox=\"0 0 24 24\"\n",
              "       width=\"24px\">\n",
              "    <path d=\"M0 0h24v24H0V0z\" fill=\"none\"/>\n",
              "    <path d=\"M18.56 5.44l.94 2.06.94-2.06 2.06-.94-2.06-.94-.94-2.06-.94 2.06-2.06.94zm-11 1L8.5 8.5l.94-2.06 2.06-.94-2.06-.94L8.5 2.5l-.94 2.06-2.06.94zm10 10l.94 2.06.94-2.06 2.06-.94-2.06-.94-.94-2.06-.94 2.06-2.06.94z\"/><path d=\"M17.41 7.96l-1.37-1.37c-.4-.4-.92-.59-1.43-.59-.52 0-1.04.2-1.43.59L10.3 9.45l-7.72 7.72c-.78.78-.78 2.05 0 2.83L4 21.41c.39.39.9.59 1.41.59.51 0 1.02-.2 1.41-.59l7.78-7.78 2.81-2.81c.8-.78.8-2.07 0-2.86zM5.41 20L4 18.59l7.72-7.72 1.47 1.35L5.41 20z\"/>\n",
              "  </svg>\n",
              "      </button>\n",
              "      \n",
              "  <style>\n",
              "    .colab-df-container {\n",
              "      display:flex;\n",
              "      flex-wrap:wrap;\n",
              "      gap: 12px;\n",
              "    }\n",
              "\n",
              "    .colab-df-convert {\n",
              "      background-color: #E8F0FE;\n",
              "      border: none;\n",
              "      border-radius: 50%;\n",
              "      cursor: pointer;\n",
              "      display: none;\n",
              "      fill: #1967D2;\n",
              "      height: 32px;\n",
              "      padding: 0 0 0 0;\n",
              "      width: 32px;\n",
              "    }\n",
              "\n",
              "    .colab-df-convert:hover {\n",
              "      background-color: #E2EBFA;\n",
              "      box-shadow: 0px 1px 2px rgba(60, 64, 67, 0.3), 0px 1px 3px 1px rgba(60, 64, 67, 0.15);\n",
              "      fill: #174EA6;\n",
              "    }\n",
              "\n",
              "    [theme=dark] .colab-df-convert {\n",
              "      background-color: #3B4455;\n",
              "      fill: #D2E3FC;\n",
              "    }\n",
              "\n",
              "    [theme=dark] .colab-df-convert:hover {\n",
              "      background-color: #434B5C;\n",
              "      box-shadow: 0px 1px 3px 1px rgba(0, 0, 0, 0.15);\n",
              "      filter: drop-shadow(0px 1px 2px rgba(0, 0, 0, 0.3));\n",
              "      fill: #FFFFFF;\n",
              "    }\n",
              "  </style>\n",
              "\n",
              "      <script>\n",
              "        const buttonEl =\n",
              "          document.querySelector('#df-85dc32fa-8034-4d41-b9a2-ea65277d3309 button.colab-df-convert');\n",
              "        buttonEl.style.display =\n",
              "          google.colab.kernel.accessAllowed ? 'block' : 'none';\n",
              "\n",
              "        async function convertToInteractive(key) {\n",
              "          const element = document.querySelector('#df-85dc32fa-8034-4d41-b9a2-ea65277d3309');\n",
              "          const dataTable =\n",
              "            await google.colab.kernel.invokeFunction('convertToInteractive',\n",
              "                                                     [key], {});\n",
              "          if (!dataTable) return;\n",
              "\n",
              "          const docLinkHtml = 'Like what you see? Visit the ' +\n",
              "            '<a target=\"_blank\" href=https://colab.research.google.com/notebooks/data_table.ipynb>data table notebook</a>'\n",
              "            + ' to learn more about interactive tables.';\n",
              "          element.innerHTML = '';\n",
              "          dataTable['output_type'] = 'display_data';\n",
              "          await google.colab.output.renderOutput(dataTable, element);\n",
              "          const docLink = document.createElement('div');\n",
              "          docLink.innerHTML = docLinkHtml;\n",
              "          element.appendChild(docLink);\n",
              "        }\n",
              "      </script>\n",
              "    </div>\n",
              "  </div>\n",
              "  "
            ]
          },
          "metadata": {},
          "execution_count": 54
        }
      ]
    },
    {
      "cell_type": "code",
      "source": [
        "#Erro médio absoluto exp cov\n",
        "\n",
        "ema_exp_cov = np.sum(np.abs(np.diag(exp_cov)-np.diag(cov_fut)))/len(np.diag(exp_cov))\n",
        "\n",
        "ema_exp_cov"
      ],
      "metadata": {
        "colab": {
          "base_uri": "https://localhost:8080/"
        },
        "id": "CO1DJGt9-86a",
        "outputId": "48f613b1-d504-45a1-be55-3be5b3d79651"
      },
      "execution_count": 55,
      "outputs": [
        {
          "output_type": "execute_result",
          "data": {
            "text/plain": [
              "0.13168601640335925"
            ]
          },
          "metadata": {},
          "execution_count": 55
        }
      ]
    },
    {
      "cell_type": "markdown",
      "source": [
        "6.4. Ledoit Wolf Estimators\n",
        "O objetivo dos estimadores shrinkage é reduzir o erro da previsão da matriz de covariancia, trazendo valores extremos para valores mais próximos dentro da matriz.\n",
        "\n",
        "constant_variance = diagonal da matriz de covariancia como sendo a média das variancias do retorno\n",
        "single_factor: baseado no Sharpe Model factor - utiliza o beta como parametro da função que irá encolher a matriz\n",
        "constant_correlation: relacionado a matriz de correlação e desvio padrão da amostra\n",
        "Referências\n",
        "\n",
        "Robert Martin:https://reasonabledeviations.com/notes/papers/ledoit_wolf_covariance/\n",
        "Honey, I Shrunk the Sample Covariance Matrix: https://jpm.pm-research.com/content/30/4/110\n",
        "Sharpe Factor Model: https://www.researchgate.net/publication/227357145_A_Simplified_Model_for_Portfolio_Analysis\n",
        "[ ]\n"
      ],
      "metadata": {
        "id": "LDC5eU5j_gTZ"
      }
    },
    {
      "cell_type": "code",
      "source": [
        "lw_cov = risk_models.CovarianceShrinkage(carteira_passado).ledoit_wolf()\n",
        "lw_cov"
      ],
      "metadata": {
        "colab": {
          "base_uri": "https://localhost:8080/",
          "height": 175
        },
        "id": "QOAOZyA6-87a",
        "outputId": "7faf3ec3-898c-43fe-9354-8f0a49c398d5"
      },
      "execution_count": 56,
      "outputs": [
        {
          "output_type": "execute_result",
          "data": {
            "text/plain": [
              "          ITSA4     PETR4     VALE3     ABEV3\n",
              "ITSA4  0.128349  0.097004  0.075131  0.038327\n",
              "PETR4  0.097004  0.219546  0.114755  0.040582\n",
              "VALE3  0.075131  0.114755  0.197654  0.040115\n",
              "ABEV3  0.038327  0.040582  0.040115  0.066854"
            ],
            "text/html": [
              "\n",
              "  <div id=\"df-fba42600-7fab-40ed-9371-98d04a4b925b\">\n",
              "    <div class=\"colab-df-container\">\n",
              "      <div>\n",
              "<style scoped>\n",
              "    .dataframe tbody tr th:only-of-type {\n",
              "        vertical-align: middle;\n",
              "    }\n",
              "\n",
              "    .dataframe tbody tr th {\n",
              "        vertical-align: top;\n",
              "    }\n",
              "\n",
              "    .dataframe thead th {\n",
              "        text-align: right;\n",
              "    }\n",
              "</style>\n",
              "<table border=\"1\" class=\"dataframe\">\n",
              "  <thead>\n",
              "    <tr style=\"text-align: right;\">\n",
              "      <th></th>\n",
              "      <th>ITSA4</th>\n",
              "      <th>PETR4</th>\n",
              "      <th>VALE3</th>\n",
              "      <th>ABEV3</th>\n",
              "    </tr>\n",
              "  </thead>\n",
              "  <tbody>\n",
              "    <tr>\n",
              "      <th>ITSA4</th>\n",
              "      <td>0.128349</td>\n",
              "      <td>0.097004</td>\n",
              "      <td>0.075131</td>\n",
              "      <td>0.038327</td>\n",
              "    </tr>\n",
              "    <tr>\n",
              "      <th>PETR4</th>\n",
              "      <td>0.097004</td>\n",
              "      <td>0.219546</td>\n",
              "      <td>0.114755</td>\n",
              "      <td>0.040582</td>\n",
              "    </tr>\n",
              "    <tr>\n",
              "      <th>VALE3</th>\n",
              "      <td>0.075131</td>\n",
              "      <td>0.114755</td>\n",
              "      <td>0.197654</td>\n",
              "      <td>0.040115</td>\n",
              "    </tr>\n",
              "    <tr>\n",
              "      <th>ABEV3</th>\n",
              "      <td>0.038327</td>\n",
              "      <td>0.040582</td>\n",
              "      <td>0.040115</td>\n",
              "      <td>0.066854</td>\n",
              "    </tr>\n",
              "  </tbody>\n",
              "</table>\n",
              "</div>\n",
              "      <button class=\"colab-df-convert\" onclick=\"convertToInteractive('df-fba42600-7fab-40ed-9371-98d04a4b925b')\"\n",
              "              title=\"Convert this dataframe to an interactive table.\"\n",
              "              style=\"display:none;\">\n",
              "        \n",
              "  <svg xmlns=\"http://www.w3.org/2000/svg\" height=\"24px\"viewBox=\"0 0 24 24\"\n",
              "       width=\"24px\">\n",
              "    <path d=\"M0 0h24v24H0V0z\" fill=\"none\"/>\n",
              "    <path d=\"M18.56 5.44l.94 2.06.94-2.06 2.06-.94-2.06-.94-.94-2.06-.94 2.06-2.06.94zm-11 1L8.5 8.5l.94-2.06 2.06-.94-2.06-.94L8.5 2.5l-.94 2.06-2.06.94zm10 10l.94 2.06.94-2.06 2.06-.94-2.06-.94-.94-2.06-.94 2.06-2.06.94z\"/><path d=\"M17.41 7.96l-1.37-1.37c-.4-.4-.92-.59-1.43-.59-.52 0-1.04.2-1.43.59L10.3 9.45l-7.72 7.72c-.78.78-.78 2.05 0 2.83L4 21.41c.39.39.9.59 1.41.59.51 0 1.02-.2 1.41-.59l7.78-7.78 2.81-2.81c.8-.78.8-2.07 0-2.86zM5.41 20L4 18.59l7.72-7.72 1.47 1.35L5.41 20z\"/>\n",
              "  </svg>\n",
              "      </button>\n",
              "      \n",
              "  <style>\n",
              "    .colab-df-container {\n",
              "      display:flex;\n",
              "      flex-wrap:wrap;\n",
              "      gap: 12px;\n",
              "    }\n",
              "\n",
              "    .colab-df-convert {\n",
              "      background-color: #E8F0FE;\n",
              "      border: none;\n",
              "      border-radius: 50%;\n",
              "      cursor: pointer;\n",
              "      display: none;\n",
              "      fill: #1967D2;\n",
              "      height: 32px;\n",
              "      padding: 0 0 0 0;\n",
              "      width: 32px;\n",
              "    }\n",
              "\n",
              "    .colab-df-convert:hover {\n",
              "      background-color: #E2EBFA;\n",
              "      box-shadow: 0px 1px 2px rgba(60, 64, 67, 0.3), 0px 1px 3px 1px rgba(60, 64, 67, 0.15);\n",
              "      fill: #174EA6;\n",
              "    }\n",
              "\n",
              "    [theme=dark] .colab-df-convert {\n",
              "      background-color: #3B4455;\n",
              "      fill: #D2E3FC;\n",
              "    }\n",
              "\n",
              "    [theme=dark] .colab-df-convert:hover {\n",
              "      background-color: #434B5C;\n",
              "      box-shadow: 0px 1px 3px 1px rgba(0, 0, 0, 0.15);\n",
              "      filter: drop-shadow(0px 1px 2px rgba(0, 0, 0, 0.3));\n",
              "      fill: #FFFFFF;\n",
              "    }\n",
              "  </style>\n",
              "\n",
              "      <script>\n",
              "        const buttonEl =\n",
              "          document.querySelector('#df-fba42600-7fab-40ed-9371-98d04a4b925b button.colab-df-convert');\n",
              "        buttonEl.style.display =\n",
              "          google.colab.kernel.accessAllowed ? 'block' : 'none';\n",
              "\n",
              "        async function convertToInteractive(key) {\n",
              "          const element = document.querySelector('#df-fba42600-7fab-40ed-9371-98d04a4b925b');\n",
              "          const dataTable =\n",
              "            await google.colab.kernel.invokeFunction('convertToInteractive',\n",
              "                                                     [key], {});\n",
              "          if (!dataTable) return;\n",
              "\n",
              "          const docLinkHtml = 'Like what you see? Visit the ' +\n",
              "            '<a target=\"_blank\" href=https://colab.research.google.com/notebooks/data_table.ipynb>data table notebook</a>'\n",
              "            + ' to learn more about interactive tables.';\n",
              "          element.innerHTML = '';\n",
              "          dataTable['output_type'] = 'display_data';\n",
              "          await google.colab.output.renderOutput(dataTable, element);\n",
              "          const docLink = document.createElement('div');\n",
              "          docLink.innerHTML = docLinkHtml;\n",
              "          element.appendChild(docLink);\n",
              "        }\n",
              "      </script>\n",
              "    </div>\n",
              "  </div>\n",
              "  "
            ]
          },
          "metadata": {},
          "execution_count": 56
        }
      ]
    },
    {
      "cell_type": "code",
      "source": [
        "#EMA Ledoit Wolf\n",
        "\n",
        "ema_lw_cov = np.sum(np.abs(np.diag(lw_cov)-np.diag(cov_fut)))/len(lw_cov)\n",
        "ema_lw_cov"
      ],
      "metadata": {
        "colab": {
          "base_uri": "https://localhost:8080/"
        },
        "id": "Ed8zFAW1-9AB",
        "outputId": "b118d957-8b95-4ec0-ce78-b09858ae769e"
      },
      "execution_count": 57,
      "outputs": [
        {
          "output_type": "execute_result",
          "data": {
            "text/plain": [
              "0.152332101731166"
            ]
          },
          "metadata": {},
          "execution_count": 57
        }
      ]
    },
    {
      "cell_type": "markdown",
      "source": [
        "###7.1. Modelo de Portfólio Mínima Variância\n"
      ],
      "metadata": {
        "id": "TKIlsJVZGefC"
      }
    },
    {
      "cell_type": "code",
      "source": [
        "from pypfopt import EfficientFrontier"
      ],
      "metadata": {
        "id": "Pvx7E7Yf-9Bg"
      },
      "execution_count": 58,
      "outputs": []
    },
    {
      "cell_type": "code",
      "source": [
        "mv = EfficientFrontier(mme,exp_cov)"
      ],
      "metadata": {
        "id": "88INtfqFGmUJ"
      },
      "execution_count": 59,
      "outputs": []
    },
    {
      "cell_type": "code",
      "source": [
        "mv.min_volatility()"
      ],
      "metadata": {
        "colab": {
          "base_uri": "https://localhost:8080/"
        },
        "id": "Wur3mleoGmV3",
        "outputId": "cb4d8fef-635d-4fc8-dfd3-4abd8cfe7aa0"
      },
      "execution_count": 60,
      "outputs": [
        {
          "output_type": "execute_result",
          "data": {
            "text/plain": [
              "OrderedDict([('ITSA4', 0.1994594298416774),\n",
              "             ('PETR4', 0.0),\n",
              "             ('VALE3', 0.1557977334767971),\n",
              "             ('ABEV3', 0.6447428366815254)])"
            ]
          },
          "metadata": {},
          "execution_count": 60
        }
      ]
    },
    {
      "cell_type": "code",
      "source": [
        "pesos_vol = mv.clean_weights()\n",
        "pesos_vol\n"
      ],
      "metadata": {
        "colab": {
          "base_uri": "https://localhost:8080/"
        },
        "id": "1ktdJL-FGmZm",
        "outputId": "e9c7ab11-3aa6-421c-e684-e0dd95daec82"
      },
      "execution_count": 62,
      "outputs": [
        {
          "output_type": "execute_result",
          "data": {
            "text/plain": [
              "OrderedDict([('ITSA4', 0.19946),\n",
              "             ('PETR4', 0.0),\n",
              "             ('VALE3', 0.1558),\n",
              "             ('ABEV3', 0.64474)])"
            ]
          },
          "metadata": {},
          "execution_count": 62
        }
      ]
    },
    {
      "cell_type": "code",
      "source": [
        "pd.Series(pesos_vol).plot.barh();"
      ],
      "metadata": {
        "colab": {
          "base_uri": "https://localhost:8080/",
          "height": 265
        },
        "id": "hcU57OPqGma9",
        "outputId": "54eb1cfb-ad1a-4219-ad16-e0a8189d92ea"
      },
      "execution_count": 63,
      "outputs": [
        {
          "output_type": "display_data",
          "data": {
            "text/plain": [
              "<Figure size 432x288 with 1 Axes>"
            ],
            "image/png": "[encoded data removed]"
          },
          "metadata": {
            "needs_background": "light"
          }
        }
      ]
    },
    {
      "cell_type": "code",
      "source": [
        "mv.portfolio_performance(verbose=True, risk_free_rate=selic_aa)"
      ],
      "metadata": {
        "colab": {
          "base_uri": "https://localhost:8080/"
        },
        "id": "6cPrDjEcGmfe",
        "outputId": "2088c0b6-bb6f-4343-e5c1-3b58a15dd92f"
      },
      "execution_count": 64,
      "outputs": [
        {
          "output_type": "stream",
          "name": "stdout",
          "text": [
            "Expected annual return: -3.9%\n",
            "Annual volatility: 20.2%\n",
            "Sharpe Ratio: -0.51\n"
          ]
        },
        {
          "output_type": "execute_result",
          "data": {
            "text/plain": [
              "(-0.039378839877071165, 0.20174350008765432, -0.5124271157789704)"
            ]
          },
          "metadata": {},
          "execution_count": 64
        }
      ]
    },
    {
      "cell_type": "code",
      "source": [
        "pesos_vol = pesos_vol.values()\n",
        "pesos_vol = list(pesos_vol)\n",
        "pesos_vol = np.array(pesos_vol)\n",
        "pesos_vol"
      ],
      "metadata": {
        "colab": {
          "base_uri": "https://localhost:8080/"
        },
        "id": "sGQlYShlGmhb",
        "outputId": "264aa28b-ed4c-41e5-d674-ffe63dc74615"
      },
      "execution_count": 65,
      "outputs": [
        {
          "output_type": "execute_result",
          "data": {
            "text/plain": [
              "array([0.19946, 0.     , 0.1558 , 0.64474])"
            ]
          },
          "metadata": {},
          "execution_count": 65
        }
      ]
    },
    {
      "cell_type": "code",
      "source": [
        "#Comparar a volatilidade\n",
        "\n",
        "vol_otimizada = np.sqrt(np.dot(pesos_vol.T, np.dot(cov_fut, pesos_vol)))\n",
        "vol_otimizada = vol_otimizada*np.sqrt(252)\n",
        "vol_otimizada"
      ],
      "metadata": {
        "colab": {
          "base_uri": "https://localhost:8080/"
        },
        "id": "Ps0yMb_9G6k_",
        "outputId": "f14f38d1-3842-47b8-e30a-0c0509fe19d5"
      },
      "execution_count": 66,
      "outputs": [
        {
          "output_type": "execute_result",
          "data": {
            "text/plain": [
              "0.32350377993101787"
            ]
          },
          "metadata": {},
          "execution_count": 66
        }
      ]
    },
    {
      "cell_type": "code",
      "source": [
        "#Comparar retorno\n",
        "retorno_min_vol = cf_anualizado.dot(pesos_vol)\n",
        "retorno_min_vol"
      ],
      "metadata": {
        "colab": {
          "base_uri": "https://localhost:8080/"
        },
        "id": "PhKs5YHTG6ne",
        "outputId": "f764dfef-a4ff-4120-c053-4a8eb778d939"
      },
      "execution_count": 67,
      "outputs": [
        {
          "output_type": "execute_result",
          "data": {
            "text/plain": [
              "0.03464893628662191"
            ]
          },
          "metadata": {},
          "execution_count": 67
        }
      ]
    },
    {
      "cell_type": "markdown",
      "source": [
        "#7.1.1. Função Regularizadora"
      ],
      "metadata": {
        "id": "UHMqNkurHBPF"
      }
    },
    {
      "cell_type": "code",
      "source": [
        "from pypfopt import objective_functions"
      ],
      "metadata": {
        "id": "tZagJpo2G6rG"
      },
      "execution_count": 68,
      "outputs": []
    },
    {
      "cell_type": "code",
      "source": [
        "mv_2 = EfficientFrontier(mme,exp_cov)\n",
        "mv_2.add_objective(objective_functions.L2_reg, gamma=0.1)\n",
        "mv_2.min_volatility()\n",
        "pesos_2 = mv_2.clean_weights()\n",
        "pesos_2"
      ],
      "metadata": {
        "colab": {
          "base_uri": "https://localhost:8080/"
        },
        "id": "4GwL7c_FG6tB",
        "outputId": "fc12d450-e01b-4e28-d869-46da483f1710"
      },
      "execution_count": 69,
      "outputs": [
        {
          "output_type": "execute_result",
          "data": {
            "text/plain": [
              "OrderedDict([('ITSA4', 0.27028),\n",
              "             ('PETR4', 0.0791),\n",
              "             ('VALE3', 0.24044),\n",
              "             ('ABEV3', 0.41017)])"
            ]
          },
          "metadata": {},
          "execution_count": 69
        }
      ]
    },
    {
      "cell_type": "code",
      "source": [
        "pesos_2 = pesos_2.values()\n",
        "pesos_2 = list(pesos_2)\n",
        "pesos_2 = np.array(pesos_2)\n",
        "pesos_2"
      ],
      "metadata": {
        "colab": {
          "base_uri": "https://localhost:8080/"
        },
        "id": "S6V0KVXTG6yF",
        "outputId": "cf6c12cf-9b79-488e-a38a-db60f03c75bf"
      },
      "execution_count": 70,
      "outputs": [
        {
          "output_type": "execute_result",
          "data": {
            "text/plain": [
              "array([0.27028, 0.0791 , 0.24044, 0.41017])"
            ]
          },
          "metadata": {},
          "execution_count": 70
        }
      ]
    },
    {
      "cell_type": "code",
      "source": [
        "vol_otimizada2 = np.sqrt(np.dot(pesos_2.T, np.dot(cov_fut, pesos_2)))\n",
        "vol_otimizada2 = vol_otimizada2*np.sqrt(252)\n",
        "vol_otimizada2"
      ],
      "metadata": {
        "colab": {
          "base_uri": "https://localhost:8080/"
        },
        "id": "412SiGKHG60E",
        "outputId": "dacc4caf-dd9f-4e31-f199-01edc5206111"
      },
      "execution_count": 71,
      "outputs": [
        {
          "output_type": "execute_result",
          "data": {
            "text/plain": [
              "0.3210759767272274"
            ]
          },
          "metadata": {},
          "execution_count": 71
        }
      ]
    },
    {
      "cell_type": "code",
      "source": [
        "retorno_min_vol_2 = cf_anualizado.dot(pesos_2)\n",
        "retorno_min_vol_2"
      ],
      "metadata": {
        "colab": {
          "base_uri": "https://localhost:8080/"
        },
        "id": "Byq0GNb-G65g",
        "outputId": "02312d76-fc10-4247-bb24-4749c76fef5d"
      },
      "execution_count": 72,
      "outputs": [
        {
          "output_type": "execute_result",
          "data": {
            "text/plain": [
              "0.053313712881899"
            ]
          },
          "metadata": {},
          "execution_count": 72
        }
      ]
    },
    {
      "cell_type": "markdown",
      "source": [
        "7.2. Modelo de Otimização Risco Eficiente"
      ],
      "metadata": {
        "id": "FKRYJLF6HSlD"
      }
    },
    {
      "cell_type": "code",
      "source": [
        "risco_eficiente = EfficientFrontier(mme, exp_cov)\n",
        "risco_eficiente.efficient_risk(target_volatility=0.25)\n",
        "re_pesos = risco_eficiente.clean_weights(rounding=2)\n",
        "re_pesos"
      ],
      "metadata": {
        "colab": {
          "base_uri": "https://localhost:8080/"
        },
        "id": "vuBzpJ5RHPRq",
        "outputId": "ed272261-c82d-4c87-c247-b0ed1e363b71"
      },
      "execution_count": 73,
      "outputs": [
        {
          "output_type": "execute_result",
          "data": {
            "text/plain": [
              "OrderedDict([('ITSA4', 0.6), ('PETR4', 0.0), ('VALE3', 0.33), ('ABEV3', 0.07)])"
            ]
          },
          "metadata": {},
          "execution_count": 73
        }
      ]
    },
    {
      "cell_type": "code",
      "source": [
        "risco_eficiente.portfolio_performance(verbose=True, risk_free_rate=selic_aa)"
      ],
      "metadata": {
        "colab": {
          "base_uri": "https://localhost:8080/"
        },
        "id": "H8Y8vWZ_HPTZ",
        "outputId": "0b5e34ec-bc20-4ba5-80d4-859a10659277"
      },
      "execution_count": 74,
      "outputs": [
        {
          "output_type": "stream",
          "name": "stdout",
          "text": [
            "Expected annual return: 32.6%\n",
            "Annual volatility: 25.0%\n",
            "Sharpe Ratio: 1.05\n"
          ]
        },
        {
          "output_type": "execute_result",
          "data": {
            "text/plain": [
              "(0.32574474203385995, 0.2500000000869143, 1.04697896777145)"
            ]
          },
          "metadata": {},
          "execution_count": 74
        }
      ]
    },
    {
      "cell_type": "code",
      "source": [
        "re_pesos = re_pesos.values()\n",
        "re_pesos = list(re_pesos)\n",
        "re_pesos = np.array(re_pesos)\n",
        "re_pesos"
      ],
      "metadata": {
        "colab": {
          "base_uri": "https://localhost:8080/"
        },
        "id": "SgANps7mHPYx",
        "outputId": "18e46d20-0fff-4abd-b0e1-2f4ebb9c5fe6"
      },
      "execution_count": 75,
      "outputs": [
        {
          "output_type": "execute_result",
          "data": {
            "text/plain": [
              "array([0.6 , 0.  , 0.33, 0.07])"
            ]
          },
          "metadata": {},
          "execution_count": 75
        }
      ]
    },
    {
      "cell_type": "code",
      "source": [
        "vol_re_otimizada = np.sqrt(np.dot(re_pesos.T, np.dot(cov_fut, re_pesos)))\n",
        "vol_re_otimizada = vol_re_otimizada*np.sqrt(252)\n",
        "vol_re_otimizada"
      ],
      "metadata": {
        "colab": {
          "base_uri": "https://localhost:8080/"
        },
        "id": "XcTHnVQvHPai",
        "outputId": "351cc93c-c90e-4101-e4a9-8210012b12b3"
      },
      "execution_count": 76,
      "outputs": [
        {
          "output_type": "execute_result",
          "data": {
            "text/plain": [
              "0.33411542235251723"
            ]
          },
          "metadata": {},
          "execution_count": 76
        }
      ]
    },
    {
      "cell_type": "code",
      "source": [
        "retorno_re_pesos = cf_anualizado.dot(re_pesos)\n",
        "retorno_re_pesos"
      ],
      "metadata": {
        "colab": {
          "base_uri": "https://localhost:8080/"
        },
        "id": "-G-f-WzXHPf2",
        "outputId": "d4b6ff7f-a728-40aa-d23d-459708984a53"
      },
      "execution_count": 77,
      "outputs": [
        {
          "output_type": "execute_result",
          "data": {
            "text/plain": [
              "0.07192027530466048"
            ]
          },
          "metadata": {},
          "execution_count": 77
        }
      ]
    },
    {
      "cell_type": "markdown",
      "source": [
        "7.3. Modelo de Otimização Retorno Eficiente\n"
      ],
      "metadata": {
        "id": "-gpNawSdHkja"
      }
    },
    {
      "cell_type": "code",
      "source": [
        "retorno_eficiente = EfficientFrontier(mme, exp_cov)\n",
        "retorno_eficiente.efficient_return(target_return=0.25)\n",
        "pesos_retorno_eficiente = retorno_eficiente.clean_weights()\n",
        "pesos_retorno_eficiente"
      ],
      "metadata": {
        "colab": {
          "base_uri": "https://localhost:8080/"
        },
        "id": "0v0BGCTSHPh4",
        "outputId": "0e114dee-281f-4c87-843f-7503d581e8e1"
      },
      "execution_count": 78,
      "outputs": [
        {
          "output_type": "execute_result",
          "data": {
            "text/plain": [
              "OrderedDict([('ITSA4', 0.51869),\n",
              "             ('PETR4', 0.0),\n",
              "             ('VALE3', 0.29434),\n",
              "             ('ABEV3', 0.18696)])"
            ]
          },
          "metadata": {},
          "execution_count": 78
        }
      ]
    },
    {
      "cell_type": "code",
      "source": [
        "pesos_retorno_eficiente = pesos_retorno_eficiente.values()\n",
        "pesos_retorno_eficiente = list(pesos_retorno_eficiente)\n",
        "pesos_retorno_eficiente = np.array(pesos_retorno_eficiente)\n",
        "pesos_retorno_eficiente"
      ],
      "metadata": {
        "colab": {
          "base_uri": "https://localhost:8080/"
        },
        "id": "Sfn3x5b9HPl5",
        "outputId": "8f113880-32d4-4e2d-eca9-7d6fab44e3cb"
      },
      "execution_count": 79,
      "outputs": [
        {
          "output_type": "execute_result",
          "data": {
            "text/plain": [
              "array([0.51869, 0.     , 0.29434, 0.18696])"
            ]
          },
          "metadata": {},
          "execution_count": 79
        }
      ]
    },
    {
      "cell_type": "code",
      "source": [
        "vol_re_otimizada2 = np.sqrt(np.dot(pesos_retorno_eficiente.T, np.dot(cov_fut, pesos_retorno_eficiente)))\n",
        "vol_re_otimizada2 = vol_re_otimizada2*np.sqrt(252)\n",
        "vol_re_otimizada2"
      ],
      "metadata": {
        "colab": {
          "base_uri": "https://localhost:8080/"
        },
        "id": "COtuQK1WHvuy",
        "outputId": "f03f334e-dbaa-476e-a1ec-8fe35cad1709"
      },
      "execution_count": 80,
      "outputs": [
        {
          "output_type": "execute_result",
          "data": {
            "text/plain": [
              "0.3220260208787026"
            ]
          },
          "metadata": {},
          "execution_count": 80
        }
      ]
    },
    {
      "cell_type": "code",
      "source": [
        "retorno_eficiente_2 = cf_anualizado.dot(pesos_retorno_eficiente)\n",
        "retorno_eficiente_2"
      ],
      "metadata": {
        "colab": {
          "base_uri": "https://localhost:8080/"
        },
        "id": "3J78wHnhHvwz",
        "outputId": "96cd20b6-60eb-492f-b61b-203aa4abfffd"
      },
      "execution_count": 81,
      "outputs": [
        {
          "output_type": "execute_result",
          "data": {
            "text/plain": [
              "0.06430714233886077"
            ]
          },
          "metadata": {},
          "execution_count": 81
        }
      ]
    },
    {
      "cell_type": "markdown",
      "source": [
        "7.4. Portfólio Max Sharpe\n",
        "\n",
        "Modelo de maximização de Sharpe Ratio tem como objetivo maximzar o resultado da expressão (RiskFree - Retorno Esperado)/Volatilidade"
      ],
      "metadata": {
        "id": "ejKYprS_H4bV"
      }
    },
    {
      "cell_type": "code",
      "source": [
        "msharpe = EfficientFrontier(mme, exp_cov)\n",
        "msharpe.max_sharpe(risk_free_rate=selic_aa)\n",
        "sharpe_pesos = msharpe.clean_weights()\n",
        "pd.Series(sharpe_pesos).plot.barh();"
      ],
      "metadata": {
        "colab": {
          "base_uri": "https://localhost:8080/",
          "height": 265
        },
        "id": "Kt71KTZoH8km",
        "outputId": "4334f3ae-d572-4493-d2aa-ea6d5a149875"
      },
      "execution_count": 82,
      "outputs": [
        {
          "output_type": "display_data",
          "data": {
            "text/plain": [
              "<Figure size 432x288 with 1 Axes>"
            ],
            "image/png": "[encoded data removed]"
          },
          "metadata": {
            "needs_background": "light"
          }
        }
      ]
    },
    {
      "cell_type": "code",
      "source": [
        "sharpe_pesos = sharpe_pesos.values()\n",
        "sharpe_pesos = list(sharpe_pesos)\n",
        "sharpe_pesos = np.array(sharpe_pesos)"
      ],
      "metadata": {
        "id": "q8mwhJ3NHv0Z"
      },
      "execution_count": 83,
      "outputs": []
    },
    {
      "cell_type": "code",
      "source": [
        "volsharpe = np.sqrt(np.dot(sharpe_pesos.T, np.dot(cov_fut, sharpe_pesos)))\n",
        "volsharpe = volsharpe*np.sqrt(252)\n",
        "volsharpe"
      ],
      "metadata": {
        "colab": {
          "base_uri": "https://localhost:8080/"
        },
        "id": "UzGOeG04Hv2q",
        "outputId": "9d23baaf-4b0a-46db-cfd8-3f4a73024cd0"
      },
      "execution_count": 84,
      "outputs": [
        {
          "output_type": "execute_result",
          "data": {
            "text/plain": [
              "0.34482390828662585"
            ]
          },
          "metadata": {},
          "execution_count": 84
        }
      ]
    },
    {
      "cell_type": "code",
      "source": [
        "retorno_sharpe = cf_anualizado.dot(sharpe_pesos)\n",
        "retorno_sharpe"
      ],
      "metadata": {
        "colab": {
          "base_uri": "https://localhost:8080/"
        },
        "id": "1EeVYQIuHv7v",
        "outputId": "2a068e63-3753-45b3-de2f-00c2c7527662"
      },
      "execution_count": 85,
      "outputs": [
        {
          "output_type": "execute_result",
          "data": {
            "text/plain": [
              "0.06588299582882408"
            ]
          },
          "metadata": {},
          "execution_count": 85
        }
      ]
    },
    {
      "cell_type": "code",
      "source": [
        "msharpe.portfolio_performance(verbose=True, risk_free_rate=selic_aa)"
      ],
      "metadata": {
        "colab": {
          "base_uri": "https://localhost:8080/"
        },
        "id": "jcVZ75W2Hv9x",
        "outputId": "2041db1a-4f39-4d56-c3d0-68cc74195d2a"
      },
      "execution_count": 86,
      "outputs": [
        {
          "output_type": "stream",
          "name": "stdout",
          "text": [
            "Expected annual return: 38.1%\n",
            "Annual volatility: 26.7%\n",
            "Sharpe Ratio: 1.18\n"
          ]
        },
        {
          "output_type": "execute_result",
          "data": {
            "text/plain": [
              "(0.3805957739984791, 0.26725832726076476, 1.1846058352732847)"
            ]
          },
          "metadata": {},
          "execution_count": 86
        }
      ]
    },
    {
      "cell_type": "markdown",
      "source": [
        "8. Cenários Avançados de Otimização"
      ],
      "metadata": {
        "id": "RAMYyACoIV1V"
      }
    },
    {
      "cell_type": "code",
      "source": [
        "ativos = ['ITSA4', 'PETR4', 'VALE3', 'ABEV3', 'IGTA3', 'BRML3','BBDC4','BBAS3','LREN3','RENT3']\n",
        "\n",
        "inicio = '01/01/2017'\n",
        "fim='31/12/2020'\n",
        "\n",
        "carteira = pd.DataFrame()\n",
        "\n",
        "for i in ativos:\n",
        "  df_cenario = investpy.get_stock_historical_data(stock=i, country='Brazil', from_date=inicio, to_date=fim).Close\n",
        "  df_cenario.rename(i,inplace=True)\n",
        "  df_cenario.columns = [i]\n",
        "  carteira = pd.concat([carteira, df_cenario], axis=1)\n",
        "  carteira.index.name=\"Date\"\n",
        "carteira"
      ],
      "metadata": {
        "colab": {
          "base_uri": "https://localhost:8080/",
          "height": 455
        },
        "id": "5_kBhEXzIXgM",
        "outputId": "0bb01c32-827f-45ba-cb61-5340f8a7ea0b"
      },
      "execution_count": 87,
      "outputs": [
        {
          "output_type": "execute_result",
          "data": {
            "text/plain": [
              "            ITSA4  PETR4  VALE3  ABEV3  IGTA3  BRML3  BBDC4  BBAS3  LREN3  \\\n",
              "Date                                                                        \n",
              "2017-01-02   5.27  14.06  18.33  15.36  26.62  10.45  12.17  25.03  16.43   \n",
              "2017-01-03   5.50  14.87  19.14  15.67  27.13  11.03  12.68  26.18  16.94   \n",
              "2017-01-04   5.53  14.87  18.80  15.55  27.83  11.01  12.60  26.04  16.79   \n",
              "2017-01-05   5.59  15.11  19.51  15.63  28.44  11.26  12.74  25.98  16.63   \n",
              "2017-01-06   5.57  15.02  18.99  15.50  28.60  11.15  12.82  26.26  16.44   \n",
              "...           ...    ...    ...    ...    ...    ...    ...    ...    ...   \n",
              "2020-12-22  10.97  27.28  73.90  15.51  36.49   9.85  21.04  38.29  42.80   \n",
              "2020-12-23  11.23  27.95  74.26  15.50  36.96  10.01  21.52  38.92  43.35   \n",
              "2020-12-28  11.35  28.18  74.22  15.77  37.58  10.25  21.73  39.35  43.60   \n",
              "2020-12-29  11.42  28.27  74.01  15.95  36.86  10.06  21.70  39.12  43.76   \n",
              "2020-12-30  11.29  28.34  74.34  15.65  37.15   9.90  21.39  38.80  43.17   \n",
              "\n",
              "            RENT3  \n",
              "Date               \n",
              "2017-01-02  10.81  \n",
              "2017-01-03  11.27  \n",
              "2017-01-04  11.45  \n",
              "2017-01-05  11.28  \n",
              "2017-01-06  11.27  \n",
              "...           ...  \n",
              "2020-12-22  64.88  \n",
              "2020-12-23  66.60  \n",
              "2020-12-28  66.70  \n",
              "2020-12-29  67.06  \n",
              "2020-12-30  68.95  \n",
              "\n",
              "[988 rows x 10 columns]"
            ],
            "text/html": [
              "\n",
              "  <div id=\"df-f58b4536-2034-4aea-9d08-600cb7b2deea\">\n",
              "    <div class=\"colab-df-container\">\n",
              "      <div>\n",
              "<style scoped>\n",
              "    .dataframe tbody tr th:only-of-type {\n",
              "        vertical-align: middle;\n",
              "    }\n",
              "\n",
              "    .dataframe tbody tr th {\n",
              "        vertical-align: top;\n",
              "    }\n",
              "\n",
              "    .dataframe thead th {\n",
              "        text-align: right;\n",
              "    }\n",
              "</style>\n",
              "<table border=\"1\" class=\"dataframe\">\n",
              "  <thead>\n",
              "    <tr style=\"text-align: right;\">\n",
              "      <th></th>\n",
              "      <th>ITSA4</th>\n",
              "      <th>PETR4</th>\n",
              "      <th>VALE3</th>\n",
              "      <th>ABEV3</th>\n",
              "      <th>IGTA3</th>\n",
              "      <th>BRML3</th>\n",
              "      <th>BBDC4</th>\n",
              "      <th>BBAS3</th>\n",
              "      <th>LREN3</th>\n",
              "      <th>RENT3</th>\n",
              "    </tr>\n",
              "    <tr>\n",
              "      <th>Date</th>\n",
              "      <th></th>\n",
              "      <th></th>\n",
              "      <th></th>\n",
              "      <th></th>\n",
              "      <th></th>\n",
              "      <th></th>\n",
              "      <th></th>\n",
              "      <th></th>\n",
              "      <th></th>\n",
              "      <th></th>\n",
              "    </tr>\n",
              "  </thead>\n",
              "  <tbody>\n",
              "    <tr>\n",
              "      <th>2017-01-02</th>\n",
              "      <td>5.27</td>\n",
              "      <td>14.06</td>\n",
              "      <td>18.33</td>\n",
              "      <td>15.36</td>\n",
              "      <td>26.62</td>\n",
              "      <td>10.45</td>\n",
              "      <td>12.17</td>\n",
              "      <td>25.03</td>\n",
              "      <td>16.43</td>\n",
              "      <td>10.81</td>\n",
              "    </tr>\n",
              "    <tr>\n",
              "      <th>2017-01-03</th>\n",
              "      <td>5.50</td>\n",
              "      <td>14.87</td>\n",
              "      <td>19.14</td>\n",
              "      <td>15.67</td>\n",
              "      <td>27.13</td>\n",
              "      <td>11.03</td>\n",
              "      <td>12.68</td>\n",
              "      <td>26.18</td>\n",
              "      <td>16.94</td>\n",
              "      <td>11.27</td>\n",
              "    </tr>\n",
              "    <tr>\n",
              "      <th>2017-01-04</th>\n",
              "      <td>5.53</td>\n",
              "      <td>14.87</td>\n",
              "      <td>18.80</td>\n",
              "      <td>15.55</td>\n",
              "      <td>27.83</td>\n",
              "      <td>11.01</td>\n",
              "      <td>12.60</td>\n",
              "      <td>26.04</td>\n",
              "      <td>16.79</td>\n",
              "      <td>11.45</td>\n",
              "    </tr>\n",
              "    <tr>\n",
              "      <th>2017-01-05</th>\n",
              "      <td>5.59</td>\n",
              "      <td>15.11</td>\n",
              "      <td>19.51</td>\n",
              "      <td>15.63</td>\n",
              "      <td>28.44</td>\n",
              "      <td>11.26</td>\n",
              "      <td>12.74</td>\n",
              "      <td>25.98</td>\n",
              "      <td>16.63</td>\n",
              "      <td>11.28</td>\n",
              "    </tr>\n",
              "    <tr>\n",
              "      <th>2017-01-06</th>\n",
              "      <td>5.57</td>\n",
              "      <td>15.02</td>\n",
              "      <td>18.99</td>\n",
              "      <td>15.50</td>\n",
              "      <td>28.60</td>\n",
              "      <td>11.15</td>\n",
              "      <td>12.82</td>\n",
              "      <td>26.26</td>\n",
              "      <td>16.44</td>\n",
              "      <td>11.27</td>\n",
              "    </tr>\n",
              "    <tr>\n",
              "      <th>...</th>\n",
              "      <td>...</td>\n",
              "      <td>...</td>\n",
              "      <td>...</td>\n",
              "      <td>...</td>\n",
              "      <td>...</td>\n",
              "      <td>...</td>\n",
              "      <td>...</td>\n",
              "      <td>...</td>\n",
              "      <td>...</td>\n",
              "      <td>...</td>\n",
              "    </tr>\n",
              "    <tr>\n",
              "      <th>2020-12-22</th>\n",
              "      <td>10.97</td>\n",
              "      <td>27.28</td>\n",
              "      <td>73.90</td>\n",
              "      <td>15.51</td>\n",
              "      <td>36.49</td>\n",
              "      <td>9.85</td>\n",
              "      <td>21.04</td>\n",
              "      <td>38.29</td>\n",
              "      <td>42.80</td>\n",
              "      <td>64.88</td>\n",
              "    </tr>\n",
              "    <tr>\n",
              "      <th>2020-12-23</th>\n",
              "      <td>11.23</td>\n",
              "      <td>27.95</td>\n",
              "      <td>74.26</td>\n",
              "      <td>15.50</td>\n",
              "      <td>36.96</td>\n",
              "      <td>10.01</td>\n",
              "      <td>21.52</td>\n",
              "      <td>38.92</td>\n",
              "      <td>43.35</td>\n",
              "      <td>66.60</td>\n",
              "    </tr>\n",
              "    <tr>\n",
              "      <th>2020-12-28</th>\n",
              "      <td>11.35</td>\n",
              "      <td>28.18</td>\n",
              "      <td>74.22</td>\n",
              "      <td>15.77</td>\n",
              "      <td>37.58</td>\n",
              "      <td>10.25</td>\n",
              "      <td>21.73</td>\n",
              "      <td>39.35</td>\n",
              "      <td>43.60</td>\n",
              "      <td>66.70</td>\n",
              "    </tr>\n",
              "    <tr>\n",
              "      <th>2020-12-29</th>\n",
              "      <td>11.42</td>\n",
              "      <td>28.27</td>\n",
              "      <td>74.01</td>\n",
              "      <td>15.95</td>\n",
              "      <td>36.86</td>\n",
              "      <td>10.06</td>\n",
              "      <td>21.70</td>\n",
              "      <td>39.12</td>\n",
              "      <td>43.76</td>\n",
              "      <td>67.06</td>\n",
              "    </tr>\n",
              "    <tr>\n",
              "      <th>2020-12-30</th>\n",
              "      <td>11.29</td>\n",
              "      <td>28.34</td>\n",
              "      <td>74.34</td>\n",
              "      <td>15.65</td>\n",
              "      <td>37.15</td>\n",
              "      <td>9.90</td>\n",
              "      <td>21.39</td>\n",
              "      <td>38.80</td>\n",
              "      <td>43.17</td>\n",
              "      <td>68.95</td>\n",
              "    </tr>\n",
              "  </tbody>\n",
              "</table>\n",
              "<p>988 rows × 10 columns</p>\n",
              "</div>\n",
              "      <button class=\"colab-df-convert\" onclick=\"convertToInteractive('df-f58b4536-2034-4aea-9d08-600cb7b2deea')\"\n",
              "              title=\"Convert this dataframe to an interactive table.\"\n",
              "              style=\"display:none;\">\n",
              "        \n",
              "  <svg xmlns=\"http://www.w3.org/2000/svg\" height=\"24px\"viewBox=\"0 0 24 24\"\n",
              "       width=\"24px\">\n",
              "    <path d=\"M0 0h24v24H0V0z\" fill=\"none\"/>\n",
              "    <path d=\"M18.56 5.44l.94 2.06.94-2.06 2.06-.94-2.06-.94-.94-2.06-.94 2.06-2.06.94zm-11 1L8.5 8.5l.94-2.06 2.06-.94-2.06-.94L8.5 2.5l-.94 2.06-2.06.94zm10 10l.94 2.06.94-2.06 2.06-.94-2.06-.94-.94-2.06-.94 2.06-2.06.94z\"/><path d=\"M17.41 7.96l-1.37-1.37c-.4-.4-.92-.59-1.43-.59-.52 0-1.04.2-1.43.59L10.3 9.45l-7.72 7.72c-.78.78-.78 2.05 0 2.83L4 21.41c.39.39.9.59 1.41.59.51 0 1.02-.2 1.41-.59l7.78-7.78 2.81-2.81c.8-.78.8-2.07 0-2.86zM5.41 20L4 18.59l7.72-7.72 1.47 1.35L5.41 20z\"/>\n",
              "  </svg>\n",
              "      </button>\n",
              "      \n",
              "  <style>\n",
              "    .colab-df-container {\n",
              "      display:flex;\n",
              "      flex-wrap:wrap;\n",
              "      gap: 12px;\n",
              "    }\n",
              "\n",
              "    .colab-df-convert {\n",
              "      background-color: #E8F0FE;\n",
              "      border: none;\n",
              "      border-radius: 50%;\n",
              "      cursor: pointer;\n",
              "      display: none;\n",
              "      fill: #1967D2;\n",
              "      height: 32px;\n",
              "      padding: 0 0 0 0;\n",
              "      width: 32px;\n",
              "    }\n",
              "\n",
              "    .colab-df-convert:hover {\n",
              "      background-color: #E2EBFA;\n",
              "      box-shadow: 0px 1px 2px rgba(60, 64, 67, 0.3), 0px 1px 3px 1px rgba(60, 64, 67, 0.15);\n",
              "      fill: #174EA6;\n",
              "    }\n",
              "\n",
              "    [theme=dark] .colab-df-convert {\n",
              "      background-color: #3B4455;\n",
              "      fill: #D2E3FC;\n",
              "    }\n",
              "\n",
              "    [theme=dark] .colab-df-convert:hover {\n",
              "      background-color: #434B5C;\n",
              "      box-shadow: 0px 1px 3px 1px rgba(0, 0, 0, 0.15);\n",
              "      filter: drop-shadow(0px 1px 2px rgba(0, 0, 0, 0.3));\n",
              "      fill: #FFFFFF;\n",
              "    }\n",
              "  </style>\n",
              "\n",
              "      <script>\n",
              "        const buttonEl =\n",
              "          document.querySelector('#df-f58b4536-2034-4aea-9d08-600cb7b2deea button.colab-df-convert');\n",
              "        buttonEl.style.display =\n",
              "          google.colab.kernel.accessAllowed ? 'block' : 'none';\n",
              "\n",
              "        async function convertToInteractive(key) {\n",
              "          const element = document.querySelector('#df-f58b4536-2034-4aea-9d08-600cb7b2deea');\n",
              "          const dataTable =\n",
              "            await google.colab.kernel.invokeFunction('convertToInteractive',\n",
              "                                                     [key], {});\n",
              "          if (!dataTable) return;\n",
              "\n",
              "          const docLinkHtml = 'Like what you see? Visit the ' +\n",
              "            '<a target=\"_blank\" href=https://colab.research.google.com/notebooks/data_table.ipynb>data table notebook</a>'\n",
              "            + ' to learn more about interactive tables.';\n",
              "          element.innerHTML = '';\n",
              "          dataTable['output_type'] = 'display_data';\n",
              "          await google.colab.output.renderOutput(dataTable, element);\n",
              "          const docLink = document.createElement('div');\n",
              "          docLink.innerHTML = docLinkHtml;\n",
              "          element.appendChild(docLink);\n",
              "        }\n",
              "      </script>\n",
              "    </div>\n",
              "  </div>\n",
              "  "
            ]
          },
          "metadata": {},
          "execution_count": 87
        }
      ]
    },
    {
      "cell_type": "code",
      "source": [
        "#Adicionando renda fixa\n",
        "\n",
        "search_results = investpy.search_quotes(text='tesouro', products=['bonds'], countries=['brazil'], n_results=30)\n",
        "\n",
        "for search_result in search_results[7:8]:\n",
        "  print(search_result)"
      ],
      "metadata": {
        "colab": {
          "base_uri": "https://localhost:8080/"
        },
        "id": "7GeGpVmpIXiO",
        "outputId": "e51dd67b-4340-43cd-ab26-aa71383e0975"
      },
      "execution_count": 88,
      "outputs": [
        {
          "output_type": "stream",
          "name": "stdout",
          "text": [
            "{\"id_\": 1089896, \"name\": \"Tesouro IPCA + NTNB 6 15-May-2035\", \"symbol\": \"NTB051535=\", \"country\": \"brazil\", \"tag\": \"/rates-bonds/ntnb-6-15-may-2035\", \"pair_type\": \"bonds\", \"exchange\": \"OTC Bonds\"}\n"
          ]
        }
      ]
    },
    {
      "cell_type": "code",
      "source": [
        "ipca_2035 = search_result.retrieve_historical_data(from_date=inicio,to_date=fim)"
      ],
      "metadata": {
        "id": "PHrP5DMLIXlt"
      },
      "execution_count": 89,
      "outputs": []
    },
    {
      "cell_type": "code",
      "source": [
        "ipca_2035"
      ],
      "metadata": {
        "colab": {
          "base_uri": "https://localhost:8080/",
          "height": 455
        },
        "id": "D2xtz7CcIXnh",
        "outputId": "fed376c0-382c-451e-bdd6-b13f66541780"
      },
      "execution_count": 90,
      "outputs": [
        {
          "output_type": "execute_result",
          "data": {
            "text/plain": [
              "                Open      High       Low     Close  Change Pct\n",
              "Date                                                          \n",
              "2017-01-02  3071.644  3071.644  3071.644  3071.644        2.79\n",
              "2017-01-03  3065.696  3065.696  3065.696  3065.696       -0.19\n",
              "2017-01-04  3063.069  3063.069  3063.069  3063.069       -0.09\n",
              "2017-01-05  3067.052  3067.052  3067.052  3067.052        0.13\n",
              "2017-01-06  3057.831  3057.831  3057.831  3057.831       -0.30\n",
              "...              ...       ...       ...       ...         ...\n",
              "2020-12-21  4384.612  4420.040  4384.612  4406.710       -0.09\n",
              "2020-12-22  4435.510  4435.510  4422.140  4422.140        0.35\n",
              "2020-12-23  4430.111  4430.111  4416.753  4416.750       -0.12\n",
              "2020-12-28  4435.728  4435.728  4413.475  4435.730        0.43\n",
              "2020-12-29  4440.774  4471.760  4440.774  4471.760        0.81\n",
              "\n",
              "[973 rows x 5 columns]"
            ],
            "text/html": [
              "\n",
              "  <div id=\"df-fafd9f09-a434-40ee-ac31-c10926195e27\">\n",
              "    <div class=\"colab-df-container\">\n",
              "      <div>\n",
              "<style scoped>\n",
              "    .dataframe tbody tr th:only-of-type {\n",
              "        vertical-align: middle;\n",
              "    }\n",
              "\n",
              "    .dataframe tbody tr th {\n",
              "        vertical-align: top;\n",
              "    }\n",
              "\n",
              "    .dataframe thead th {\n",
              "        text-align: right;\n",
              "    }\n",
              "</style>\n",
              "<table border=\"1\" class=\"dataframe\">\n",
              "  <thead>\n",
              "    <tr style=\"text-align: right;\">\n",
              "      <th></th>\n",
              "      <th>Open</th>\n",
              "      <th>High</th>\n",
              "      <th>Low</th>\n",
              "      <th>Close</th>\n",
              "      <th>Change Pct</th>\n",
              "    </tr>\n",
              "    <tr>\n",
              "      <th>Date</th>\n",
              "      <th></th>\n",
              "      <th></th>\n",
              "      <th></th>\n",
              "      <th></th>\n",
              "      <th></th>\n",
              "    </tr>\n",
              "  </thead>\n",
              "  <tbody>\n",
              "    <tr>\n",
              "      <th>2017-01-02</th>\n",
              "      <td>3071.644</td>\n",
              "      <td>3071.644</td>\n",
              "      <td>3071.644</td>\n",
              "      <td>3071.644</td>\n",
              "      <td>2.79</td>\n",
              "    </tr>\n",
              "    <tr>\n",
              "      <th>2017-01-03</th>\n",
              "      <td>3065.696</td>\n",
              "      <td>3065.696</td>\n",
              "      <td>3065.696</td>\n",
              "      <td>3065.696</td>\n",
              "      <td>-0.19</td>\n",
              "    </tr>\n",
              "    <tr>\n",
              "      <th>2017-01-04</th>\n",
              "      <td>3063.069</td>\n",
              "      <td>3063.069</td>\n",
              "      <td>3063.069</td>\n",
              "      <td>3063.069</td>\n",
              "      <td>-0.09</td>\n",
              "    </tr>\n",
              "    <tr>\n",
              "      <th>2017-01-05</th>\n",
              "      <td>3067.052</td>\n",
              "      <td>3067.052</td>\n",
              "      <td>3067.052</td>\n",
              "      <td>3067.052</td>\n",
              "      <td>0.13</td>\n",
              "    </tr>\n",
              "    <tr>\n",
              "      <th>2017-01-06</th>\n",
              "      <td>3057.831</td>\n",
              "      <td>3057.831</td>\n",
              "      <td>3057.831</td>\n",
              "      <td>3057.831</td>\n",
              "      <td>-0.30</td>\n",
              "    </tr>\n",
              "    <tr>\n",
              "      <th>...</th>\n",
              "      <td>...</td>\n",
              "      <td>...</td>\n",
              "      <td>...</td>\n",
              "      <td>...</td>\n",
              "      <td>...</td>\n",
              "    </tr>\n",
              "    <tr>\n",
              "      <th>2020-12-21</th>\n",
              "      <td>4384.612</td>\n",
              "      <td>4420.040</td>\n",
              "      <td>4384.612</td>\n",
              "      <td>4406.710</td>\n",
              "      <td>-0.09</td>\n",
              "    </tr>\n",
              "    <tr>\n",
              "      <th>2020-12-22</th>\n",
              "      <td>4435.510</td>\n",
              "      <td>4435.510</td>\n",
              "      <td>4422.140</td>\n",
              "      <td>4422.140</td>\n",
              "      <td>0.35</td>\n",
              "    </tr>\n",
              "    <tr>\n",
              "      <th>2020-12-23</th>\n",
              "      <td>4430.111</td>\n",
              "      <td>4430.111</td>\n",
              "      <td>4416.753</td>\n",
              "      <td>4416.750</td>\n",
              "      <td>-0.12</td>\n",
              "    </tr>\n",
              "    <tr>\n",
              "      <th>2020-12-28</th>\n",
              "      <td>4435.728</td>\n",
              "      <td>4435.728</td>\n",
              "      <td>4413.475</td>\n",
              "      <td>4435.730</td>\n",
              "      <td>0.43</td>\n",
              "    </tr>\n",
              "    <tr>\n",
              "      <th>2020-12-29</th>\n",
              "      <td>4440.774</td>\n",
              "      <td>4471.760</td>\n",
              "      <td>4440.774</td>\n",
              "      <td>4471.760</td>\n",
              "      <td>0.81</td>\n",
              "    </tr>\n",
              "  </tbody>\n",
              "</table>\n",
              "<p>973 rows × 5 columns</p>\n",
              "</div>\n",
              "      <button class=\"colab-df-convert\" onclick=\"convertToInteractive('df-fafd9f09-a434-40ee-ac31-c10926195e27')\"\n",
              "              title=\"Convert this dataframe to an interactive table.\"\n",
              "              style=\"display:none;\">\n",
              "        \n",
              "  <svg xmlns=\"http://www.w3.org/2000/svg\" height=\"24px\"viewBox=\"0 0 24 24\"\n",
              "       width=\"24px\">\n",
              "    <path d=\"M0 0h24v24H0V0z\" fill=\"none\"/>\n",
              "    <path d=\"M18.56 5.44l.94 2.06.94-2.06 2.06-.94-2.06-.94-.94-2.06-.94 2.06-2.06.94zm-11 1L8.5 8.5l.94-2.06 2.06-.94-2.06-.94L8.5 2.5l-.94 2.06-2.06.94zm10 10l.94 2.06.94-2.06 2.06-.94-2.06-.94-.94-2.06-.94 2.06-2.06.94z\"/><path d=\"M17.41 7.96l-1.37-1.37c-.4-.4-.92-.59-1.43-.59-.52 0-1.04.2-1.43.59L10.3 9.45l-7.72 7.72c-.78.78-.78 2.05 0 2.83L4 21.41c.39.39.9.59 1.41.59.51 0 1.02-.2 1.41-.59l7.78-7.78 2.81-2.81c.8-.78.8-2.07 0-2.86zM5.41 20L4 18.59l7.72-7.72 1.47 1.35L5.41 20z\"/>\n",
              "  </svg>\n",
              "      </button>\n",
              "      \n",
              "  <style>\n",
              "    .colab-df-container {\n",
              "      display:flex;\n",
              "      flex-wrap:wrap;\n",
              "      gap: 12px;\n",
              "    }\n",
              "\n",
              "    .colab-df-convert {\n",
              "      background-color: #E8F0FE;\n",
              "      border: none;\n",
              "      border-radius: 50%;\n",
              "      cursor: pointer;\n",
              "      display: none;\n",
              "      fill: #1967D2;\n",
              "      height: 32px;\n",
              "      padding: 0 0 0 0;\n",
              "      width: 32px;\n",
              "    }\n",
              "\n",
              "    .colab-df-convert:hover {\n",
              "      background-color: #E2EBFA;\n",
              "      box-shadow: 0px 1px 2px rgba(60, 64, 67, 0.3), 0px 1px 3px 1px rgba(60, 64, 67, 0.15);\n",
              "      fill: #174EA6;\n",
              "    }\n",
              "\n",
              "    [theme=dark] .colab-df-convert {\n",
              "      background-color: #3B4455;\n",
              "      fill: #D2E3FC;\n",
              "    }\n",
              "\n",
              "    [theme=dark] .colab-df-convert:hover {\n",
              "      background-color: #434B5C;\n",
              "      box-shadow: 0px 1px 3px 1px rgba(0, 0, 0, 0.15);\n",
              "      filter: drop-shadow(0px 1px 2px rgba(0, 0, 0, 0.3));\n",
              "      fill: #FFFFFF;\n",
              "    }\n",
              "  </style>\n",
              "\n",
              "      <script>\n",
              "        const buttonEl =\n",
              "          document.querySelector('#df-fafd9f09-a434-40ee-ac31-c10926195e27 button.colab-df-convert');\n",
              "        buttonEl.style.display =\n",
              "          google.colab.kernel.accessAllowed ? 'block' : 'none';\n",
              "\n",
              "        async function convertToInteractive(key) {\n",
              "          const element = document.querySelector('#df-fafd9f09-a434-40ee-ac31-c10926195e27');\n",
              "          const dataTable =\n",
              "            await google.colab.kernel.invokeFunction('convertToInteractive',\n",
              "                                                     [key], {});\n",
              "          if (!dataTable) return;\n",
              "\n",
              "          const docLinkHtml = 'Like what you see? Visit the ' +\n",
              "            '<a target=\"_blank\" href=https://colab.research.google.com/notebooks/data_table.ipynb>data table notebook</a>'\n",
              "            + ' to learn more about interactive tables.';\n",
              "          element.innerHTML = '';\n",
              "          dataTable['output_type'] = 'display_data';\n",
              "          await google.colab.output.renderOutput(dataTable, element);\n",
              "          const docLink = document.createElement('div');\n",
              "          docLink.innerHTML = docLinkHtml;\n",
              "          element.appendChild(docLink);\n",
              "        }\n",
              "      </script>\n",
              "    </div>\n",
              "  </div>\n",
              "  "
            ]
          },
          "metadata": {},
          "execution_count": 90
        }
      ]
    },
    {
      "cell_type": "code",
      "source": [
        "ipca_2035 = ipca_2035.rename({'Close':'TesouroIPCA'}, axis=1)"
      ],
      "metadata": {
        "id": "kqzjANYPIXvu"
      },
      "execution_count": 91,
      "outputs": []
    },
    {
      "cell_type": "code",
      "source": [
        "ipca_2035 = ipca_2035['TesouroIPCA']\n",
        "ipca_2035"
      ],
      "metadata": {
        "colab": {
          "base_uri": "https://localhost:8080/"
        },
        "id": "3_7ulOxyIoQb",
        "outputId": "9662d286-c4b1-4456-ad71-84231fabc418"
      },
      "execution_count": 92,
      "outputs": [
        {
          "output_type": "execute_result",
          "data": {
            "text/plain": [
              "Date\n",
              "2017-01-02    3071.644\n",
              "2017-01-03    3065.696\n",
              "2017-01-04    3063.069\n",
              "2017-01-05    3067.052\n",
              "2017-01-06    3057.831\n",
              "                ...   \n",
              "2020-12-21    4406.710\n",
              "2020-12-22    4422.140\n",
              "2020-12-23    4416.750\n",
              "2020-12-28    4435.730\n",
              "2020-12-29    4471.760\n",
              "Name: TesouroIPCA, Length: 973, dtype: float64"
            ]
          },
          "metadata": {},
          "execution_count": 92
        }
      ]
    },
    {
      "cell_type": "code",
      "source": [
        "carteira = pd.merge(carteira, ipca_2035, how='inner', left_index=True, right_index=True)\n",
        "carteira"
      ],
      "metadata": {
        "colab": {
          "base_uri": "https://localhost:8080/",
          "height": 455
        },
        "id": "7ISQf1KkIoR9",
        "outputId": "599236c5-382f-41c6-962d-4cde256ec4ca"
      },
      "execution_count": 93,
      "outputs": [
        {
          "output_type": "execute_result",
          "data": {
            "text/plain": [
              "            ITSA4  PETR4  VALE3  ABEV3  IGTA3  BRML3  BBDC4  BBAS3  LREN3  \\\n",
              "Date                                                                        \n",
              "2017-01-02   5.27  14.06  18.33  15.36  26.62  10.45  12.17  25.03  16.43   \n",
              "2017-01-03   5.50  14.87  19.14  15.67  27.13  11.03  12.68  26.18  16.94   \n",
              "2017-01-04   5.53  14.87  18.80  15.55  27.83  11.01  12.60  26.04  16.79   \n",
              "2017-01-05   5.59  15.11  19.51  15.63  28.44  11.26  12.74  25.98  16.63   \n",
              "2017-01-06   5.57  15.02  18.99  15.50  28.60  11.15  12.82  26.26  16.44   \n",
              "...           ...    ...    ...    ...    ...    ...    ...    ...    ...   \n",
              "2020-12-21  10.95  27.02  73.84  15.42  37.07  10.09  20.62  37.79  43.58   \n",
              "2020-12-22  10.97  27.28  73.90  15.51  36.49   9.85  21.04  38.29  42.80   \n",
              "2020-12-23  11.23  27.95  74.26  15.50  36.96  10.01  21.52  38.92  43.35   \n",
              "2020-12-28  11.35  28.18  74.22  15.77  37.58  10.25  21.73  39.35  43.60   \n",
              "2020-12-29  11.42  28.27  74.01  15.95  36.86  10.06  21.70  39.12  43.76   \n",
              "\n",
              "            RENT3  TesouroIPCA  \n",
              "Date                            \n",
              "2017-01-02  10.81     3071.644  \n",
              "2017-01-03  11.27     3065.696  \n",
              "2017-01-04  11.45     3063.069  \n",
              "2017-01-05  11.28     3067.052  \n",
              "2017-01-06  11.27     3057.831  \n",
              "...           ...          ...  \n",
              "2020-12-21  65.74     4406.710  \n",
              "2020-12-22  64.88     4422.140  \n",
              "2020-12-23  66.60     4416.750  \n",
              "2020-12-28  66.70     4435.730  \n",
              "2020-12-29  67.06     4471.760  \n",
              "\n",
              "[968 rows x 11 columns]"
            ],
            "text/html": [
              "\n",
              "  <div id=\"df-793e4c22-cfc2-4a21-944f-d2c80f7ad2db\">\n",
              "    <div class=\"colab-df-container\">\n",
              "      <div>\n",
              "<style scoped>\n",
              "    .dataframe tbody tr th:only-of-type {\n",
              "        vertical-align: middle;\n",
              "    }\n",
              "\n",
              "    .dataframe tbody tr th {\n",
              "        vertical-align: top;\n",
              "    }\n",
              "\n",
              "    .dataframe thead th {\n",
              "        text-align: right;\n",
              "    }\n",
              "</style>\n",
              "<table border=\"1\" class=\"dataframe\">\n",
              "  <thead>\n",
              "    <tr style=\"text-align: right;\">\n",
              "      <th></th>\n",
              "      <th>ITSA4</th>\n",
              "      <th>PETR4</th>\n",
              "      <th>VALE3</th>\n",
              "      <th>ABEV3</th>\n",
              "      <th>IGTA3</th>\n",
              "      <th>BRML3</th>\n",
              "      <th>BBDC4</th>\n",
              "      <th>BBAS3</th>\n",
              "      <th>LREN3</th>\n",
              "      <th>RENT3</th>\n",
              "      <th>TesouroIPCA</th>\n",
              "    </tr>\n",
              "    <tr>\n",
              "      <th>Date</th>\n",
              "      <th></th>\n",
              "      <th></th>\n",
              "      <th></th>\n",
              "      <th></th>\n",
              "      <th></th>\n",
              "      <th></th>\n",
              "      <th></th>\n",
              "      <th></th>\n",
              "      <th></th>\n",
              "      <th></th>\n",
              "      <th></th>\n",
              "    </tr>\n",
              "  </thead>\n",
              "  <tbody>\n",
              "    <tr>\n",
              "      <th>2017-01-02</th>\n",
              "      <td>5.27</td>\n",
              "      <td>14.06</td>\n",
              "      <td>18.33</td>\n",
              "      <td>15.36</td>\n",
              "      <td>26.62</td>\n",
              "      <td>10.45</td>\n",
              "      <td>12.17</td>\n",
              "      <td>25.03</td>\n",
              "      <td>16.43</td>\n",
              "      <td>10.81</td>\n",
              "      <td>3071.644</td>\n",
              "    </tr>\n",
              "    <tr>\n",
              "      <th>2017-01-03</th>\n",
              "      <td>5.50</td>\n",
              "      <td>14.87</td>\n",
              "      <td>19.14</td>\n",
              "      <td>15.67</td>\n",
              "      <td>27.13</td>\n",
              "      <td>11.03</td>\n",
              "      <td>12.68</td>\n",
              "      <td>26.18</td>\n",
              "      <td>16.94</td>\n",
              "      <td>11.27</td>\n",
              "      <td>3065.696</td>\n",
              "    </tr>\n",
              "    <tr>\n",
              "      <th>2017-01-04</th>\n",
              "      <td>5.53</td>\n",
              "      <td>14.87</td>\n",
              "      <td>18.80</td>\n",
              "      <td>15.55</td>\n",
              "      <td>27.83</td>\n",
              "      <td>11.01</td>\n",
              "      <td>12.60</td>\n",
              "      <td>26.04</td>\n",
              "      <td>16.79</td>\n",
              "      <td>11.45</td>\n",
              "      <td>3063.069</td>\n",
              "    </tr>\n",
              "    <tr>\n",
              "      <th>2017-01-05</th>\n",
              "      <td>5.59</td>\n",
              "      <td>15.11</td>\n",
              "      <td>19.51</td>\n",
              "      <td>15.63</td>\n",
              "      <td>28.44</td>\n",
              "      <td>11.26</td>\n",
              "      <td>12.74</td>\n",
              "      <td>25.98</td>\n",
              "      <td>16.63</td>\n",
              "      <td>11.28</td>\n",
              "      <td>3067.052</td>\n",
              "    </tr>\n",
              "    <tr>\n",
              "      <th>2017-01-06</th>\n",
              "      <td>5.57</td>\n",
              "      <td>15.02</td>\n",
              "      <td>18.99</td>\n",
              "      <td>15.50</td>\n",
              "      <td>28.60</td>\n",
              "      <td>11.15</td>\n",
              "      <td>12.82</td>\n",
              "      <td>26.26</td>\n",
              "      <td>16.44</td>\n",
              "      <td>11.27</td>\n",
              "      <td>3057.831</td>\n",
              "    </tr>\n",
              "    <tr>\n",
              "      <th>...</th>\n",
              "      <td>...</td>\n",
              "      <td>...</td>\n",
              "      <td>...</td>\n",
              "      <td>...</td>\n",
              "      <td>...</td>\n",
              "      <td>...</td>\n",
              "      <td>...</td>\n",
              "      <td>...</td>\n",
              "      <td>...</td>\n",
              "      <td>...</td>\n",
              "      <td>...</td>\n",
              "    </tr>\n",
              "    <tr>\n",
              "      <th>2020-12-21</th>\n",
              "      <td>10.95</td>\n",
              "      <td>27.02</td>\n",
              "      <td>73.84</td>\n",
              "      <td>15.42</td>\n",
              "      <td>37.07</td>\n",
              "      <td>10.09</td>\n",
              "      <td>20.62</td>\n",
              "      <td>37.79</td>\n",
              "      <td>43.58</td>\n",
              "      <td>65.74</td>\n",
              "      <td>4406.710</td>\n",
              "    </tr>\n",
              "    <tr>\n",
              "      <th>2020-12-22</th>\n",
              "      <td>10.97</td>\n",
              "      <td>27.28</td>\n",
              "      <td>73.90</td>\n",
              "      <td>15.51</td>\n",
              "      <td>36.49</td>\n",
              "      <td>9.85</td>\n",
              "      <td>21.04</td>\n",
              "      <td>38.29</td>\n",
              "      <td>42.80</td>\n",
              "      <td>64.88</td>\n",
              "      <td>4422.140</td>\n",
              "    </tr>\n",
              "    <tr>\n",
              "      <th>2020-12-23</th>\n",
              "      <td>11.23</td>\n",
              "      <td>27.95</td>\n",
              "      <td>74.26</td>\n",
              "      <td>15.50</td>\n",
              "      <td>36.96</td>\n",
              "      <td>10.01</td>\n",
              "      <td>21.52</td>\n",
              "      <td>38.92</td>\n",
              "      <td>43.35</td>\n",
              "      <td>66.60</td>\n",
              "      <td>4416.750</td>\n",
              "    </tr>\n",
              "    <tr>\n",
              "      <th>2020-12-28</th>\n",
              "      <td>11.35</td>\n",
              "      <td>28.18</td>\n",
              "      <td>74.22</td>\n",
              "      <td>15.77</td>\n",
              "      <td>37.58</td>\n",
              "      <td>10.25</td>\n",
              "      <td>21.73</td>\n",
              "      <td>39.35</td>\n",
              "      <td>43.60</td>\n",
              "      <td>66.70</td>\n",
              "      <td>4435.730</td>\n",
              "    </tr>\n",
              "    <tr>\n",
              "      <th>2020-12-29</th>\n",
              "      <td>11.42</td>\n",
              "      <td>28.27</td>\n",
              "      <td>74.01</td>\n",
              "      <td>15.95</td>\n",
              "      <td>36.86</td>\n",
              "      <td>10.06</td>\n",
              "      <td>21.70</td>\n",
              "      <td>39.12</td>\n",
              "      <td>43.76</td>\n",
              "      <td>67.06</td>\n",
              "      <td>4471.760</td>\n",
              "    </tr>\n",
              "  </tbody>\n",
              "</table>\n",
              "<p>968 rows × 11 columns</p>\n",
              "</div>\n",
              "      <button class=\"colab-df-convert\" onclick=\"convertToInteractive('df-793e4c22-cfc2-4a21-944f-d2c80f7ad2db')\"\n",
              "              title=\"Convert this dataframe to an interactive table.\"\n",
              "              style=\"display:none;\">\n",
              "        \n",
              "  <svg xmlns=\"http://www.w3.org/2000/svg\" height=\"24px\"viewBox=\"0 0 24 24\"\n",
              "       width=\"24px\">\n",
              "    <path d=\"M0 0h24v24H0V0z\" fill=\"none\"/>\n",
              "    <path d=\"M18.56 5.44l.94 2.06.94-2.06 2.06-.94-2.06-.94-.94-2.06-.94 2.06-2.06.94zm-11 1L8.5 8.5l.94-2.06 2.06-.94-2.06-.94L8.5 2.5l-.94 2.06-2.06.94zm10 10l.94 2.06.94-2.06 2.06-.94-2.06-.94-.94-2.06-.94 2.06-2.06.94z\"/><path d=\"M17.41 7.96l-1.37-1.37c-.4-.4-.92-.59-1.43-.59-.52 0-1.04.2-1.43.59L10.3 9.45l-7.72 7.72c-.78.78-.78 2.05 0 2.83L4 21.41c.39.39.9.59 1.41.59.51 0 1.02-.2 1.41-.59l7.78-7.78 2.81-2.81c.8-.78.8-2.07 0-2.86zM5.41 20L4 18.59l7.72-7.72 1.47 1.35L5.41 20z\"/>\n",
              "  </svg>\n",
              "      </button>\n",
              "      \n",
              "  <style>\n",
              "    .colab-df-container {\n",
              "      display:flex;\n",
              "      flex-wrap:wrap;\n",
              "      gap: 12px;\n",
              "    }\n",
              "\n",
              "    .colab-df-convert {\n",
              "      background-color: #E8F0FE;\n",
              "      border: none;\n",
              "      border-radius: 50%;\n",
              "      cursor: pointer;\n",
              "      display: none;\n",
              "      fill: #1967D2;\n",
              "      height: 32px;\n",
              "      padding: 0 0 0 0;\n",
              "      width: 32px;\n",
              "    }\n",
              "\n",
              "    .colab-df-convert:hover {\n",
              "      background-color: #E2EBFA;\n",
              "      box-shadow: 0px 1px 2px rgba(60, 64, 67, 0.3), 0px 1px 3px 1px rgba(60, 64, 67, 0.15);\n",
              "      fill: #174EA6;\n",
              "    }\n",
              "\n",
              "    [theme=dark] .colab-df-convert {\n",
              "      background-color: #3B4455;\n",
              "      fill: #D2E3FC;\n",
              "    }\n",
              "\n",
              "    [theme=dark] .colab-df-convert:hover {\n",
              "      background-color: #434B5C;\n",
              "      box-shadow: 0px 1px 3px 1px rgba(0, 0, 0, 0.15);\n",
              "      filter: drop-shadow(0px 1px 2px rgba(0, 0, 0, 0.3));\n",
              "      fill: #FFFFFF;\n",
              "    }\n",
              "  </style>\n",
              "\n",
              "      <script>\n",
              "        const buttonEl =\n",
              "          document.querySelector('#df-793e4c22-cfc2-4a21-944f-d2c80f7ad2db button.colab-df-convert');\n",
              "        buttonEl.style.display =\n",
              "          google.colab.kernel.accessAllowed ? 'block' : 'none';\n",
              "\n",
              "        async function convertToInteractive(key) {\n",
              "          const element = document.querySelector('#df-793e4c22-cfc2-4a21-944f-d2c80f7ad2db');\n",
              "          const dataTable =\n",
              "            await google.colab.kernel.invokeFunction('convertToInteractive',\n",
              "                                                     [key], {});\n",
              "          if (!dataTable) return;\n",
              "\n",
              "          const docLinkHtml = 'Like what you see? Visit the ' +\n",
              "            '<a target=\"_blank\" href=https://colab.research.google.com/notebooks/data_table.ipynb>data table notebook</a>'\n",
              "            + ' to learn more about interactive tables.';\n",
              "          element.innerHTML = '';\n",
              "          dataTable['output_type'] = 'display_data';\n",
              "          await google.colab.output.renderOutput(dataTable, element);\n",
              "          const docLink = document.createElement('div');\n",
              "          docLink.innerHTML = docLinkHtml;\n",
              "          element.appendChild(docLink);\n",
              "        }\n",
              "      </script>\n",
              "    </div>\n",
              "  </div>\n",
              "  "
            ]
          },
          "metadata": {},
          "execution_count": 93
        }
      ]
    },
    {
      "cell_type": "code",
      "source": [
        "#Matriz de Covariancia\n",
        "\n",
        "cov_matrix = risk_models.CovarianceShrinkage(carteira).ledoit_wolf()"
      ],
      "metadata": {
        "id": "AnNnNoT3IoXW"
      },
      "execution_count": 94,
      "outputs": []
    },
    {
      "cell_type": "code",
      "source": [
        "#Retorno estimado\n",
        "\n",
        "selic_aa2 = 0.0190\n",
        "selic_diaria2 = (1+selic_aa2)**(1/252)-1"
      ],
      "metadata": {
        "id": "VNAfLPjMIoYt"
      },
      "execution_count": 95,
      "outputs": []
    },
    {
      "cell_type": "code",
      "source": [
        "#Obter Ibovespa\n",
        "\n",
        "ibov2 = investpy.get_index_historical_data('Bovespa', country='Brazil', from_date=inicio,to_date=fim)\n",
        "ibov2 = pd.DataFrame(ibov2['Close'])"
      ],
      "metadata": {
        "id": "NFCxjungIocb"
      },
      "execution_count": 96,
      "outputs": []
    },
    {
      "cell_type": "code",
      "source": [
        "capm_carteira = expected_returns.capm_return(carteira, market_prices=ibov2, risk_free_rate=selic_diaria2)\n",
        "capm_carteira"
      ],
      "metadata": {
        "colab": {
          "base_uri": "https://localhost:8080/"
        },
        "id": "nopEp_I_I1rD",
        "outputId": "b20fc3ce-418f-456d-f422-1c671092e46c"
      },
      "execution_count": 97,
      "outputs": [
        {
          "output_type": "execute_result",
          "data": {
            "text/plain": [
              "ITSA4          0.302727\n",
              "PETR4          0.386293\n",
              "VALE3          0.261663\n",
              "ABEV3          0.165679\n",
              "IGTA3          0.272307\n",
              "BRML3          0.312656\n",
              "BBDC4          0.355084\n",
              "BBAS3          0.397150\n",
              "LREN3          0.296118\n",
              "RENT3          0.315008\n",
              "TesouroIPCA    0.054912\n",
              "Name: mkt, dtype: float64"
            ]
          },
          "metadata": {},
          "execution_count": 97
        }
      ]
    },
    {
      "cell_type": "code",
      "source": [
        "ls = EfficientFrontier(capm_carteira, cov_matrix, weight_bounds=(None,None))\n",
        "ls.min_volatility()\n",
        "ls_pesos = ls.clean_weights()\n",
        "ls_pesos"
      ],
      "metadata": {
        "colab": {
          "base_uri": "https://localhost:8080/"
        },
        "id": "9FCV1cq7I1sl",
        "outputId": "ed42381f-11fc-48b9-9eb6-b6ecf49dddcd"
      },
      "execution_count": 98,
      "outputs": [
        {
          "output_type": "execute_result",
          "data": {
            "text/plain": [
              "OrderedDict([('ITSA4', 0.05074),\n",
              "             ('PETR4', -0.01784),\n",
              "             ('VALE3', 0.08945),\n",
              "             ('ABEV3', 0.10048),\n",
              "             ('IGTA3', -0.0116),\n",
              "             ('BRML3', -0.0389),\n",
              "             ('BBDC4', 0.00916),\n",
              "             ('BBAS3', -0.11375),\n",
              "             ('LREN3', 0.02417),\n",
              "             ('RENT3', 0.0159),\n",
              "             ('TesouroIPCA', 0.8922)])"
            ]
          },
          "metadata": {},
          "execution_count": 98
        }
      ]
    },
    {
      "cell_type": "markdown",
      "source": [
        "10. Restrições Setoriais"
      ],
      "metadata": {
        "id": "V9kTFVCfJBnf"
      }
    },
    {
      "cell_type": "code",
      "source": [
        "#Trabalhar com modelos proprietários de estimativa de retorno\n",
        "\n",
        "ativos = ['ITSA4', 'PETR4', 'VALE3', 'ABEV3', 'IGTA3', 'BRML3','BBDC4','BBAS3','LREN3','RENT3', 'TesouroIPCA']\n",
        "\n",
        "retornos_estimados = np.array([0.1,0.1,0.14,0.08,0.1,0.09,0.08,0.1,0.07,0.09,0.05])\n",
        "\n",
        "retorno_analista = pd.Series(data=retornos_estimados,index=ativos)\n",
        "retorno_analista"
      ],
      "metadata": {
        "colab": {
          "base_uri": "https://localhost:8080/"
        },
        "id": "yPajMlknJDsm",
        "outputId": "39d8e5d3-8671-4add-ecf7-0f91ca2fe31c"
      },
      "execution_count": 99,
      "outputs": [
        {
          "output_type": "execute_result",
          "data": {
            "text/plain": [
              "ITSA4          0.10\n",
              "PETR4          0.10\n",
              "VALE3          0.14\n",
              "ABEV3          0.08\n",
              "IGTA3          0.10\n",
              "BRML3          0.09\n",
              "BBDC4          0.08\n",
              "BBAS3          0.10\n",
              "LREN3          0.07\n",
              "RENT3          0.09\n",
              "TesouroIPCA    0.05\n",
              "dtype: float64"
            ]
          },
          "metadata": {},
          "execution_count": 99
        }
      ]
    },
    {
      "cell_type": "markdown",
      "source": [
        ""
      ],
      "metadata": {
        "id": "9kQZ2qIiJA4k"
      }
    },
    {
      "cell_type": "code",
      "source": [
        "sector_mapper ={\"ITSA4\": \"Bancos\",\n",
        "                \"PETR4\": \"Commodities\",\n",
        "                \"VALE3\": \"Commodities\",\n",
        "                \"ABEV3\": \"Varejo\",\n",
        "                \"IGTA3\": \"Shoppings\",\n",
        "                \"BRML3\": \"Shoppings\",\n",
        "                \"BBDC4\": \"Bancos\",\n",
        "                \"BBAS3\": \"Bancos\",\n",
        "                \"LREN3\": \"Varejo\",\n",
        "                \"RENT3\": \"Varejo\",\n",
        "                \"TesouroIPCA\": \"Renda Fixa\"}"
      ],
      "metadata": {
        "id": "ax-gea-yI10K"
      },
      "execution_count": 100,
      "outputs": []
    },
    {
      "cell_type": "code",
      "source": [
        "sector_lower = {\"Commodities\": 0.05} #pelo menos 5% ou mais\n",
        "sector_upper = {\"Varejo\": 0.10} #menos que 10% alocado em varejo"
      ],
      "metadata": {
        "id": "y-x6rn7SJLhP"
      },
      "execution_count": 101,
      "outputs": []
    },
    {
      "cell_type": "code",
      "source": [
        "restricao_setorial = EfficientFrontier(retorno_analista, cov_matrix)\n",
        "restricao_setorial.add_objective(objective_functions.L2_reg, gamma=0.1)\n",
        "restricao_setorial.add_sector_constraints(sector_mapper, sector_lower, sector_upper)\n",
        "restricao_setorial.efficient_risk(target_volatility=0.25)\n",
        "pesos_restricao = restricao_setorial.clean_weights()\n",
        "pesos_restricao"
      ],
      "metadata": {
        "colab": {
          "base_uri": "https://localhost:8080/"
        },
        "id": "t3bFj8xQJLi1",
        "outputId": "ec4a0b9d-7deb-4c4b-b644-47ca55991e6f"
      },
      "execution_count": 102,
      "outputs": [
        {
          "output_type": "execute_result",
          "data": {
            "text/plain": [
              "OrderedDict([('ITSA4', 0.14303),\n",
              "             ('PETR4', 0.087),\n",
              "             ('VALE3', 0.32409),\n",
              "             ('ABEV3', 0.06134),\n",
              "             ('IGTA3', 0.13584),\n",
              "             ('BRML3', 0.06103),\n",
              "             ('BBDC4', 0.02521),\n",
              "             ('BBAS3', 0.08725),\n",
              "             ('LREN3', 0.0),\n",
              "             ('RENT3', 0.03866),\n",
              "             ('TesouroIPCA', 0.03656)])"
            ]
          },
          "metadata": {},
          "execution_count": 102
        }
      ]
    },
    {
      "cell_type": "markdown",
      "source": [
        "11. Restrição Específica\n"
      ],
      "metadata": {
        "id": "kpYfAgDsJTIu"
      }
    },
    {
      "cell_type": "code",
      "source": [
        "#Carregar o modelo\n",
        "\n",
        "restricao_ativo = EfficientFrontier(retorno_analista, cov_matrix)\n",
        "\n",
        "#Construir a restrição \n",
        "\n",
        "tesouro = restricao_ativo.tickers.index(\"TesouroIPCA\")\n",
        "restricao_ativo.add_constraint(lambda w:w[tesouro] >=0.10)\n",
        "\n",
        "#realizar otimização\n",
        "restricao_ativo.max_sharpe()\n",
        "\n",
        "#buscar os pesos\n",
        "\n",
        "pesos_ativo = restricao_ativo.clean_weights()\n",
        "pesos_ativo"
      ],
      "metadata": {
        "colab": {
          "base_uri": "https://localhost:8080/"
        },
        "id": "HINCw4oUJLnC",
        "outputId": "bf59f3d0-4858-4e1e-f87a-d9ebae85ce9f"
      },
      "execution_count": 103,
      "outputs": [
        {
          "output_type": "execute_result",
          "data": {
            "text/plain": [
              "OrderedDict([('ITSA4', 0.08558),\n",
              "             ('PETR4', 0.0),\n",
              "             ('VALE3', 0.2941),\n",
              "             ('ABEV3', 0.10812),\n",
              "             ('IGTA3', 0.05365),\n",
              "             ('BRML3', 0.0),\n",
              "             ('BBDC4', 0.0),\n",
              "             ('BBAS3', 0.0),\n",
              "             ('LREN3', 0.0),\n",
              "             ('RENT3', 0.0),\n",
              "             ('TesouroIPCA', 0.45855)])"
            ]
          },
          "metadata": {},
          "execution_count": 103
        }
      ]
    },
    {
      "cell_type": "code",
      "source": [
        "pd.Series(pesos_ativo).plot.pie(figsize=(10,10))"
      ],
      "metadata": {
        "colab": {
          "base_uri": "https://localhost:8080/",
          "height": 593
        },
        "id": "UHoo5TidJLpF",
        "outputId": "100a1750-b0b0-42e1-f5fd-b47482685e96"
      },
      "execution_count": 104,
      "outputs": [
        {
          "output_type": "execute_result",
          "data": {
            "text/plain": [
              "<matplotlib.axes._subplots.AxesSubplot at 0x7f107a0df5d0>"
            ]
          },
          "metadata": {},
          "execution_count": 104
        },
        {
          "output_type": "display_data",
          "data": {
            "text/plain": [
              "<Figure size 720x720 with 1 Axes>"
            ],
            "image/png": "[encoded data removed]"
          },
          "metadata": {}
        }
      ]
    },
    {
      "cell_type": "markdown",
      "source": [
        "12.Otimização Semivariancia"
      ],
      "metadata": {
        "id": "uHQJbZRCJfP3"
      }
    },
    {
      "cell_type": "code",
      "source": [
        "semicov = risk_models.semicovariance(carteira, benchmark=0)\n",
        "semicov"
      ],
      "metadata": {
        "colab": {
          "base_uri": "https://localhost:8080/",
          "height": 394
        },
        "id": "9aBJU1mCJLtD",
        "outputId": "584f2a54-aba1-40ce-9495-5f8ca88d8118"
      },
      "execution_count": 105,
      "outputs": [
        {
          "output_type": "execute_result",
          "data": {
            "text/plain": [
              "                ITSA4     PETR4     VALE3     ABEV3     IGTA3     BRML3  \\\n",
              "ITSA4        0.047941  0.042726  0.020963  0.028954  0.039641  0.047114   \n",
              "PETR4        0.042726  0.101849  0.036093  0.033092  0.047608  0.056219   \n",
              "VALE3        0.020963  0.036093  0.068483  0.017982  0.022420  0.027202   \n",
              "ABEV3        0.028954  0.033092  0.017982  0.041551  0.031736  0.036226   \n",
              "IGTA3        0.039641  0.047608  0.022420  0.031736  0.061016  0.061108   \n",
              "BRML3        0.047114  0.056219  0.027202  0.036226  0.061108  0.081348   \n",
              "BBDC4        0.044906  0.049366  0.024890  0.029984  0.043434  0.051017   \n",
              "BBAS3        0.053083  0.063372  0.028372  0.035041  0.053155  0.063383   \n",
              "LREN3        0.040027  0.042817  0.022338  0.032170  0.046026  0.053973   \n",
              "RENT3        0.038222  0.046914  0.025742  0.029520  0.046015  0.052966   \n",
              "TesouroIPCA  0.011543  0.016361  0.005052  0.008571  0.014420  0.016034   \n",
              "\n",
              "                BBDC4     BBAS3     LREN3     RENT3  TesouroIPCA  \n",
              "ITSA4        0.044906  0.053083  0.040027  0.038222     0.011543  \n",
              "PETR4        0.049366  0.063372  0.042817  0.046914     0.016361  \n",
              "VALE3        0.024890  0.028372  0.022338  0.025742     0.005052  \n",
              "ABEV3        0.029984  0.035041  0.032170  0.029520     0.008571  \n",
              "IGTA3        0.043434  0.053155  0.046026  0.046015     0.014420  \n",
              "BRML3        0.051017  0.063383  0.053973  0.052966     0.016034  \n",
              "BBDC4        0.054893  0.058434  0.041388  0.041629     0.012946  \n",
              "BBAS3        0.058434  0.082566  0.051223  0.050361     0.017799  \n",
              "LREN3        0.041388  0.051223  0.063209  0.045300     0.012005  \n",
              "RENT3        0.041629  0.050361  0.045300  0.069389     0.012273  \n",
              "TesouroIPCA  0.012946  0.017799  0.012005  0.012273     0.008669  "
            ],
            "text/html": [
              "\n",
              "  <div id=\"df-b1baeef9-67ba-4b34-9102-f193fd2dd049\">\n",
              "    <div class=\"colab-df-container\">\n",
              "      <div>\n",
              "<style scoped>\n",
              "    .dataframe tbody tr th:only-of-type {\n",
              "        vertical-align: middle;\n",
              "    }\n",
              "\n",
              "    .dataframe tbody tr th {\n",
              "        vertical-align: top;\n",
              "    }\n",
              "\n",
              "    .dataframe thead th {\n",
              "        text-align: right;\n",
              "    }\n",
              "</style>\n",
              "<table border=\"1\" class=\"dataframe\">\n",
              "  <thead>\n",
              "    <tr style=\"text-align: right;\">\n",
              "      <th></th>\n",
              "      <th>ITSA4</th>\n",
              "      <th>PETR4</th>\n",
              "      <th>VALE3</th>\n",
              "      <th>ABEV3</th>\n",
              "      <th>IGTA3</th>\n",
              "      <th>BRML3</th>\n",
              "      <th>BBDC4</th>\n",
              "      <th>BBAS3</th>\n",
              "      <th>LREN3</th>\n",
              "      <th>RENT3</th>\n",
              "      <th>TesouroIPCA</th>\n",
              "    </tr>\n",
              "  </thead>\n",
              "  <tbody>\n",
              "    <tr>\n",
              "      <th>ITSA4</th>\n",
              "      <td>0.047941</td>\n",
              "      <td>0.042726</td>\n",
              "      <td>0.020963</td>\n",
              "      <td>0.028954</td>\n",
              "      <td>0.039641</td>\n",
              "      <td>0.047114</td>\n",
              "      <td>0.044906</td>\n",
              "      <td>0.053083</td>\n",
              "      <td>0.040027</td>\n",
              "      <td>0.038222</td>\n",
              "      <td>0.011543</td>\n",
              "    </tr>\n",
              "    <tr>\n",
              "      <th>PETR4</th>\n",
              "      <td>0.042726</td>\n",
              "      <td>0.101849</td>\n",
              "      <td>0.036093</td>\n",
              "      <td>0.033092</td>\n",
              "      <td>0.047608</td>\n",
              "      <td>0.056219</td>\n",
              "      <td>0.049366</td>\n",
              "      <td>0.063372</td>\n",
              "      <td>0.042817</td>\n",
              "      <td>0.046914</td>\n",
              "      <td>0.016361</td>\n",
              "    </tr>\n",
              "    <tr>\n",
              "      <th>VALE3</th>\n",
              "      <td>0.020963</td>\n",
              "      <td>0.036093</td>\n",
              "      <td>0.068483</td>\n",
              "      <td>0.017982</td>\n",
              "      <td>0.022420</td>\n",
              "      <td>0.027202</td>\n",
              "      <td>0.024890</td>\n",
              "      <td>0.028372</td>\n",
              "      <td>0.022338</td>\n",
              "      <td>0.025742</td>\n",
              "      <td>0.005052</td>\n",
              "    </tr>\n",
              "    <tr>\n",
              "      <th>ABEV3</th>\n",
              "      <td>0.028954</td>\n",
              "      <td>0.033092</td>\n",
              "      <td>0.017982</td>\n",
              "      <td>0.041551</td>\n",
              "      <td>0.031736</td>\n",
              "      <td>0.036226</td>\n",
              "      <td>0.029984</td>\n",
              "      <td>0.035041</td>\n",
              "      <td>0.032170</td>\n",
              "      <td>0.029520</td>\n",
              "      <td>0.008571</td>\n",
              "    </tr>\n",
              "    <tr>\n",
              "      <th>IGTA3</th>\n",
              "      <td>0.039641</td>\n",
              "      <td>0.047608</td>\n",
              "      <td>0.022420</td>\n",
              "      <td>0.031736</td>\n",
              "      <td>0.061016</td>\n",
              "      <td>0.061108</td>\n",
              "      <td>0.043434</td>\n",
              "      <td>0.053155</td>\n",
              "      <td>0.046026</td>\n",
              "      <td>0.046015</td>\n",
              "      <td>0.014420</td>\n",
              "    </tr>\n",
              "    <tr>\n",
              "      <th>BRML3</th>\n",
              "      <td>0.047114</td>\n",
              "      <td>0.056219</td>\n",
              "      <td>0.027202</td>\n",
              "      <td>0.036226</td>\n",
              "      <td>0.061108</td>\n",
              "      <td>0.081348</td>\n",
              "      <td>0.051017</td>\n",
              "      <td>0.063383</td>\n",
              "      <td>0.053973</td>\n",
              "      <td>0.052966</td>\n",
              "      <td>0.016034</td>\n",
              "    </tr>\n",
              "    <tr>\n",
              "      <th>BBDC4</th>\n",
              "      <td>0.044906</td>\n",
              "      <td>0.049366</td>\n",
              "      <td>0.024890</td>\n",
              "      <td>0.029984</td>\n",
              "      <td>0.043434</td>\n",
              "      <td>0.051017</td>\n",
              "      <td>0.054893</td>\n",
              "      <td>0.058434</td>\n",
              "      <td>0.041388</td>\n",
              "      <td>0.041629</td>\n",
              "      <td>0.012946</td>\n",
              "    </tr>\n",
              "    <tr>\n",
              "      <th>BBAS3</th>\n",
              "      <td>0.053083</td>\n",
              "      <td>0.063372</td>\n",
              "      <td>0.028372</td>\n",
              "      <td>0.035041</td>\n",
              "      <td>0.053155</td>\n",
              "      <td>0.063383</td>\n",
              "      <td>0.058434</td>\n",
              "      <td>0.082566</td>\n",
              "      <td>0.051223</td>\n",
              "      <td>0.050361</td>\n",
              "      <td>0.017799</td>\n",
              "    </tr>\n",
              "    <tr>\n",
              "      <th>LREN3</th>\n",
              "      <td>0.040027</td>\n",
              "      <td>0.042817</td>\n",
              "      <td>0.022338</td>\n",
              "      <td>0.032170</td>\n",
              "      <td>0.046026</td>\n",
              "      <td>0.053973</td>\n",
              "      <td>0.041388</td>\n",
              "      <td>0.051223</td>\n",
              "      <td>0.063209</td>\n",
              "      <td>0.045300</td>\n",
              "      <td>0.012005</td>\n",
              "    </tr>\n",
              "    <tr>\n",
              "      <th>RENT3</th>\n",
              "      <td>0.038222</td>\n",
              "      <td>0.046914</td>\n",
              "      <td>0.025742</td>\n",
              "      <td>0.029520</td>\n",
              "      <td>0.046015</td>\n",
              "      <td>0.052966</td>\n",
              "      <td>0.041629</td>\n",
              "      <td>0.050361</td>\n",
              "      <td>0.045300</td>\n",
              "      <td>0.069389</td>\n",
              "      <td>0.012273</td>\n",
              "    </tr>\n",
              "    <tr>\n",
              "      <th>TesouroIPCA</th>\n",
              "      <td>0.011543</td>\n",
              "      <td>0.016361</td>\n",
              "      <td>0.005052</td>\n",
              "      <td>0.008571</td>\n",
              "      <td>0.014420</td>\n",
              "      <td>0.016034</td>\n",
              "      <td>0.012946</td>\n",
              "      <td>0.017799</td>\n",
              "      <td>0.012005</td>\n",
              "      <td>0.012273</td>\n",
              "      <td>0.008669</td>\n",
              "    </tr>\n",
              "  </tbody>\n",
              "</table>\n",
              "</div>\n",
              "      <button class=\"colab-df-convert\" onclick=\"convertToInteractive('df-b1baeef9-67ba-4b34-9102-f193fd2dd049')\"\n",
              "              title=\"Convert this dataframe to an interactive table.\"\n",
              "              style=\"display:none;\">\n",
              "        \n",
              "  <svg xmlns=\"http://www.w3.org/2000/svg\" height=\"24px\"viewBox=\"0 0 24 24\"\n",
              "       width=\"24px\">\n",
              "    <path d=\"M0 0h24v24H0V0z\" fill=\"none\"/>\n",
              "    <path d=\"M18.56 5.44l.94 2.06.94-2.06 2.06-.94-2.06-.94-.94-2.06-.94 2.06-2.06.94zm-11 1L8.5 8.5l.94-2.06 2.06-.94-2.06-.94L8.5 2.5l-.94 2.06-2.06.94zm10 10l.94 2.06.94-2.06 2.06-.94-2.06-.94-.94-2.06-.94 2.06-2.06.94z\"/><path d=\"M17.41 7.96l-1.37-1.37c-.4-.4-.92-.59-1.43-.59-.52 0-1.04.2-1.43.59L10.3 9.45l-7.72 7.72c-.78.78-.78 2.05 0 2.83L4 21.41c.39.39.9.59 1.41.59.51 0 1.02-.2 1.41-.59l7.78-7.78 2.81-2.81c.8-.78.8-2.07 0-2.86zM5.41 20L4 18.59l7.72-7.72 1.47 1.35L5.41 20z\"/>\n",
              "  </svg>\n",
              "      </button>\n",
              "      \n",
              "  <style>\n",
              "    .colab-df-container {\n",
              "      display:flex;\n",
              "      flex-wrap:wrap;\n",
              "      gap: 12px;\n",
              "    }\n",
              "\n",
              "    .colab-df-convert {\n",
              "      background-color: #E8F0FE;\n",
              "      border: none;\n",
              "      border-radius: 50%;\n",
              "      cursor: pointer;\n",
              "      display: none;\n",
              "      fill: #1967D2;\n",
              "      height: 32px;\n",
              "      padding: 0 0 0 0;\n",
              "      width: 32px;\n",
              "    }\n",
              "\n",
              "    .colab-df-convert:hover {\n",
              "      background-color: #E2EBFA;\n",
              "      box-shadow: 0px 1px 2px rgba(60, 64, 67, 0.3), 0px 1px 3px 1px rgba(60, 64, 67, 0.15);\n",
              "      fill: #174EA6;\n",
              "    }\n",
              "\n",
              "    [theme=dark] .colab-df-convert {\n",
              "      background-color: #3B4455;\n",
              "      fill: #D2E3FC;\n",
              "    }\n",
              "\n",
              "    [theme=dark] .colab-df-convert:hover {\n",
              "      background-color: #434B5C;\n",
              "      box-shadow: 0px 1px 3px 1px rgba(0, 0, 0, 0.15);\n",
              "      filter: drop-shadow(0px 1px 2px rgba(0, 0, 0, 0.3));\n",
              "      fill: #FFFFFF;\n",
              "    }\n",
              "  </style>\n",
              "\n",
              "      <script>\n",
              "        const buttonEl =\n",
              "          document.querySelector('#df-b1baeef9-67ba-4b34-9102-f193fd2dd049 button.colab-df-convert');\n",
              "        buttonEl.style.display =\n",
              "          google.colab.kernel.accessAllowed ? 'block' : 'none';\n",
              "\n",
              "        async function convertToInteractive(key) {\n",
              "          const element = document.querySelector('#df-b1baeef9-67ba-4b34-9102-f193fd2dd049');\n",
              "          const dataTable =\n",
              "            await google.colab.kernel.invokeFunction('convertToInteractive',\n",
              "                                                     [key], {});\n",
              "          if (!dataTable) return;\n",
              "\n",
              "          const docLinkHtml = 'Like what you see? Visit the ' +\n",
              "            '<a target=\"_blank\" href=https://colab.research.google.com/notebooks/data_table.ipynb>data table notebook</a>'\n",
              "            + ' to learn more about interactive tables.';\n",
              "          element.innerHTML = '';\n",
              "          dataTable['output_type'] = 'display_data';\n",
              "          await google.colab.output.renderOutput(dataTable, element);\n",
              "          const docLink = document.createElement('div');\n",
              "          docLink.innerHTML = docLinkHtml;\n",
              "          element.appendChild(docLink);\n",
              "        }\n",
              "      </script>\n",
              "    </div>\n",
              "  </div>\n",
              "  "
            ]
          },
          "metadata": {},
          "execution_count": 105
        }
      ]
    },
    {
      "cell_type": "code",
      "source": [
        "from pypfopt import EfficientSemivariance"
      ],
      "metadata": {
        "id": "zgkdjqBqJLvZ"
      },
      "execution_count": 106,
      "outputs": []
    },
    {
      "cell_type": "code",
      "source": [
        "retornos_df = expected_returns.returns_from_prices(carteira)\n",
        "retornos_df = retornos_df.dropna()"
      ],
      "metadata": {
        "id": "d-f6aDQAJLyj"
      },
      "execution_count": 107,
      "outputs": []
    },
    {
      "cell_type": "code",
      "source": [
        "ef_semiv = EfficientSemivariance(capm_carteira, retornos_df)\n",
        "ef_semiv.efficient_return(0.2)\n",
        "ef_pesos = ef_semiv.clean_weights()\n",
        "ef_pesos"
      ],
      "metadata": {
        "colab": {
          "base_uri": "https://localhost:8080/"
        },
        "id": "YlHDNb5CJLz4",
        "outputId": "e909a1b0-1365-4f1f-a2b3-1d272ef374fc"
      },
      "execution_count": 108,
      "outputs": [
        {
          "output_type": "execute_result",
          "data": {
            "text/plain": [
              "OrderedDict([('ITSA4', 0.05138),\n",
              "             ('PETR4', 0.01145),\n",
              "             ('VALE3', 0.20211),\n",
              "             ('ABEV3', 0.04605),\n",
              "             ('IGTA3', 0.0),\n",
              "             ('BRML3', 0.0),\n",
              "             ('BBDC4', 0.1725),\n",
              "             ('BBAS3', 0.0),\n",
              "             ('LREN3', 0.03915),\n",
              "             ('RENT3', 0.07863),\n",
              "             ('TesouroIPCA', 0.39873)])"
            ]
          },
          "metadata": {},
          "execution_count": 108
        }
      ]
    },
    {
      "cell_type": "code",
      "source": [
        "ef_semiv.portfolio_performance(verbose=True, risk_free_rate=selic_diaria2)"
      ],
      "metadata": {
        "colab": {
          "base_uri": "https://localhost:8080/"
        },
        "id": "4OY5-iNCJL4v",
        "outputId": "2ded08f6-b348-4f34-8c74-57b7611db931"
      },
      "execution_count": 109,
      "outputs": [
        {
          "output_type": "stream",
          "name": "stdout",
          "text": [
            "Expected annual return: 20.0%\n",
            "Annual semi-deviation: 12.6%\n",
            "Sortino Ratio: 1.58\n"
          ]
        },
        {
          "output_type": "execute_result",
          "data": {
            "text/plain": [
              "(0.19999998578323117, 0.12627905883529672, 1.5832022770592926)"
            ]
          },
          "metadata": {},
          "execution_count": 109
        }
      ]
    },
    {
      "cell_type": "markdown",
      "source": [
        "13. Hierarchical Risk Parity\n",
        "-Marcos López de Prado: Building Diversified Portfolios that Outperform Out of Sample. The Journal of Portfolio Management, 42(4), 59–69."
      ],
      "metadata": {
        "id": "CxXiWA1hJ55i"
      }
    },
    {
      "cell_type": "code",
      "source": [
        "from pypfopt import HRPOpt"
      ],
      "metadata": {
        "id": "NsSDLIclJ8AH"
      },
      "execution_count": 110,
      "outputs": []
    },
    {
      "cell_type": "code",
      "source": [
        "hrp_portfolio = HRPOpt(retornos_df)"
      ],
      "metadata": {
        "id": "4ijMW87LJ8B1"
      },
      "execution_count": 111,
      "outputs": []
    },
    {
      "cell_type": "code",
      "source": [
        "hrp_portfolio.optimize()"
      ],
      "metadata": {
        "colab": {
          "base_uri": "https://localhost:8080/"
        },
        "id": "4KmVnVhFJ8GA",
        "outputId": "e417356b-f264-4b90-d8e8-8c3db047f202"
      },
      "execution_count": 112,
      "outputs": [
        {
          "output_type": "execute_result",
          "data": {
            "text/plain": [
              "OrderedDict([('ABEV3', 0.11847462708932652),\n",
              "             ('BBAS3', 0.029508601216346554),\n",
              "             ('BBDC4', 0.02270404626987598),\n",
              "             ('BRML3', 0.01677757410522095),\n",
              "             ('IGTA3', 0.02225036647284712),\n",
              "             ('ITSA4', 0.027607034658140295),\n",
              "             ('LREN3', 0.03511580969808479),\n",
              "             ('PETR4', 0.030921066785020504),\n",
              "             ('RENT3', 0.034813241254918234),\n",
              "             ('TesouroIPCA', 0.5926444842899776),\n",
              "             ('VALE3', 0.0691831481602414)])"
            ]
          },
          "metadata": {},
          "execution_count": 112
        }
      ]
    },
    {
      "cell_type": "code",
      "source": [
        "hrp_portfolio.portfolio_performance(verbose=True, risk_free_rate=selic_diaria2)"
      ],
      "metadata": {
        "colab": {
          "base_uri": "https://localhost:8080/"
        },
        "id": "If-DDzQ6J8H-",
        "outputId": "1f630c28-181c-41ee-a0b8-567dfa34908f"
      },
      "execution_count": 113,
      "outputs": [
        {
          "output_type": "stream",
          "name": "stdout",
          "text": [
            "Expected annual return: 16.0%\n",
            "Annual volatility: 14.6%\n",
            "Sharpe Ratio: 1.09\n"
          ]
        },
        {
          "output_type": "execute_result",
          "data": {
            "text/plain": [
              "(0.16016747890793454, 0.14623305688592866, 1.0947783628877592)"
            ]
          },
          "metadata": {},
          "execution_count": 113
        }
      ]
    },
    {
      "cell_type": "code",
      "source": [
        "from pypfopt import plotting"
      ],
      "metadata": {
        "id": "aSGAPv8gJ8L7"
      },
      "execution_count": 114,
      "outputs": []
    },
    {
      "cell_type": "code",
      "source": [
        "plotting.plot_dendrogram(hrp_portfolio)"
      ],
      "metadata": {
        "colab": {
          "base_uri": "https://localhost:8080/",
          "height": 315
        },
        "id": "NibkGHqJKI0l",
        "outputId": "125c96c7-309f-42a7-b365-3df6d8610576"
      },
      "execution_count": 115,
      "outputs": [
        {
          "output_type": "execute_result",
          "data": {
            "text/plain": [
              "<matplotlib.axes._subplots.AxesSubplot at 0x7f10686ec190>"
            ]
          },
          "metadata": {},
          "execution_count": 115
        },
        {
          "output_type": "display_data",
          "data": {
            "text/plain": [
              "<Figure size 432x288 with 1 Axes>"
            ],
            "image/png": "[encoded data removed]"
          },
          "metadata": {
            "needs_background": "light"
          }
        }
      ]
    }
  ]
}