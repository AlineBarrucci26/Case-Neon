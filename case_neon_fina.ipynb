{
  "cells": [
    {
      "cell_type": "markdown",
      "metadata": {
        "id": "view-in-github",
        "colab_type": "text"
      },
      "source": [
        "<a href=\"https://colab.research.google.com/github/AlineBarrucci26/Estudo_case_GB/blob/main/case_neon_fina.ipynb\" target=\"_parent\"><img src=\"https://colab.research.google.com/assets/colab-badge.svg\" alt=\"Open In Colab\"/></a>"
      ]
    },
    {
      "cell_type": "markdown",
      "id": "13499add",
      "metadata": {
        "id": "13499add"
      },
      "source": [
        "# Case Neon\n",
        "\n",
        "https://www.kaggle.com/datasets/uciml/default-of-credit-card-clients-dataset/data"
      ]
    },
    {
      "cell_type": "markdown",
      "id": "23a77a79",
      "metadata": {
        "id": "23a77a79"
      },
      "source": [
        "# Desafio\n",
        "\n",
        "- How was the end-to-end development of the project done?\n",
        "- Which variables are the strongest predictors of default payment?\n",
        "- How does the probability of default payment vary by categories of different variables?\n",
        "- What would be the best alternatives to increase the predictive power of the model?\n",
        "- What is your suggestion for implementing the developed model in practice?\n",
        "\n",
        "- What metrics do you use to track the model over time?\n",
        "\n",
        "------------------------------------------------------------------------------------------------------------"
      ]
    },
    {
      "cell_type": "code",
      "execution_count": null,
      "id": "1cb7ce22",
      "metadata": {
        "id": "1cb7ce22",
        "outputId": "a9f8519e-95c4-4ce3-ace0-8fd7c5767f65"
      },
      "outputs": [
        {
          "name": "stdout",
          "output_type": "stream",
          "text": [
            "Requirement already satisfied: xgboost in c:\\users\\aline\\anaconda3\\lib\\site-packages (2.0.3)\n",
            "Requirement already satisfied: numpy in c:\\users\\aline\\anaconda3\\lib\\site-packages (from xgboost) (1.22.4)\n",
            "Requirement already satisfied: scipy in c:\\users\\aline\\anaconda3\\lib\\site-packages (from xgboost) (1.6.2)\n",
            "Requirement already satisfied: optuna in c:\\users\\aline\\anaconda3\\lib\\site-packages (3.5.0)\n",
            "Requirement already satisfied: tqdm in c:\\users\\aline\\anaconda3\\lib\\site-packages (from optuna) (4.59.0)\n",
            "Requirement already satisfied: PyYAML in c:\\users\\aline\\anaconda3\\lib\\site-packages (from optuna) (5.4.1)\n",
            "Requirement already satisfied: packaging>=20.0 in c:\\users\\aline\\anaconda3\\lib\\site-packages (from optuna) (23.1)\n",
            "Requirement already satisfied: alembic>=1.5.0 in c:\\users\\aline\\anaconda3\\lib\\site-packages (from optuna) (1.13.1)\n",
            "Requirement already satisfied: colorlog in c:\\users\\aline\\anaconda3\\lib\\site-packages (from optuna) (6.8.0)\n",
            "Requirement already satisfied: sqlalchemy>=1.3.0 in c:\\users\\aline\\anaconda3\\lib\\site-packages (from optuna) (1.4.7)\n",
            "Requirement already satisfied: numpy in c:\\users\\aline\\anaconda3\\lib\\site-packages (from optuna) (1.22.4)\n",
            "Requirement already satisfied: importlib-resources in c:\\users\\aline\\anaconda3\\lib\\site-packages (from alembic>=1.5.0->optuna) (6.1.1)\n",
            "Requirement already satisfied: typing-extensions>=4 in c:\\users\\aline\\anaconda3\\lib\\site-packages (from alembic>=1.5.0->optuna) (4.9.0)\n",
            "Requirement already satisfied: importlib-metadata in c:\\users\\aline\\anaconda3\\lib\\site-packages (from alembic>=1.5.0->optuna) (3.10.0)\n",
            "Requirement already satisfied: Mako in c:\\users\\aline\\anaconda3\\lib\\site-packages (from alembic>=1.5.0->optuna) (1.3.0)\n",
            "Requirement already satisfied: greenlet!=0.4.17 in c:\\users\\aline\\anaconda3\\lib\\site-packages (from sqlalchemy>=1.3.0->optuna) (1.0.0)\n",
            "Requirement already satisfied: colorama in c:\\users\\aline\\anaconda3\\lib\\site-packages (from colorlog->optuna) (0.4.4)\n",
            "Requirement already satisfied: zipp>=0.5 in c:\\users\\aline\\anaconda3\\lib\\site-packages (from importlib-metadata->alembic>=1.5.0->optuna) (3.4.1)\n",
            "Requirement already satisfied: MarkupSafe>=0.9.2 in c:\\users\\aline\\anaconda3\\lib\\site-packages (from Mako->alembic>=1.5.0->optuna) (1.1.1)\n"
          ]
        }
      ],
      "source": [
        "!pip install xgboost\n",
        "! pip install optuna"
      ]
    },
    {
      "cell_type": "code",
      "execution_count": null,
      "id": "b6786fdf",
      "metadata": {
        "id": "b6786fdf"
      },
      "outputs": [],
      "source": [
        "#bicliotecas a serem utilizadas no desenvolvimento\n",
        "import pandas as pd\n",
        "import numpy as np\n",
        "pd.set_option(\"display.max.columns\", None)\n",
        "\n",
        "import matplotlib.pyplot as plt\n",
        "from matplotlib.pyplot import figure\n",
        "import seaborn as sns\n",
        "from scipy import stats\n",
        "from sklearn.metrics import roc_auc_score\n",
        "from sklearn.metrics import accuracy_score\n",
        "from xgboost import XGBClassifier\n",
        "from sklearn.model_selection import train_test_split\n",
        "import xgboost as xgb\n",
        "from sklearn.ensemble import RandomForestClassifier\n",
        "import optuna\n",
        "#from sklearn.metrics import fbeta_score, make_scorer\n",
        "from scipy.stats import ks_2samp"
      ]
    },
    {
      "cell_type": "code",
      "execution_count": null,
      "id": "2f1f96c0",
      "metadata": {
        "id": "2f1f96c0"
      },
      "outputs": [],
      "source": [
        "#leitura do data frame\n",
        "df = pd.read_csv('./UCI_Credit_Card.csv',sep = ',')"
      ]
    },
    {
      "cell_type": "code",
      "execution_count": null,
      "id": "6a06d67f",
      "metadata": {
        "id": "6a06d67f",
        "outputId": "a7ef8838-3beb-487a-fa87-30388705f2a9"
      },
      "outputs": [
        {
          "data": {
            "text/html": [
              "<div>\n",
              "<style scoped>\n",
              "    .dataframe tbody tr th:only-of-type {\n",
              "        vertical-align: middle;\n",
              "    }\n",
              "\n",
              "    .dataframe tbody tr th {\n",
              "        vertical-align: top;\n",
              "    }\n",
              "\n",
              "    .dataframe thead th {\n",
              "        text-align: right;\n",
              "    }\n",
              "</style>\n",
              "<table border=\"1\" class=\"dataframe\">\n",
              "  <thead>\n",
              "    <tr style=\"text-align: right;\">\n",
              "      <th></th>\n",
              "      <th>ID</th>\n",
              "      <th>LIMIT_BAL</th>\n",
              "      <th>SEX</th>\n",
              "      <th>EDUCATION</th>\n",
              "      <th>MARRIAGE</th>\n",
              "      <th>AGE</th>\n",
              "      <th>PAY_0</th>\n",
              "      <th>PAY_2</th>\n",
              "      <th>PAY_3</th>\n",
              "      <th>PAY_4</th>\n",
              "      <th>PAY_5</th>\n",
              "      <th>PAY_6</th>\n",
              "      <th>BILL_AMT1</th>\n",
              "      <th>BILL_AMT2</th>\n",
              "      <th>BILL_AMT3</th>\n",
              "      <th>BILL_AMT4</th>\n",
              "      <th>BILL_AMT5</th>\n",
              "      <th>BILL_AMT6</th>\n",
              "      <th>PAY_AMT1</th>\n",
              "      <th>PAY_AMT2</th>\n",
              "      <th>PAY_AMT3</th>\n",
              "      <th>PAY_AMT4</th>\n",
              "      <th>PAY_AMT5</th>\n",
              "      <th>PAY_AMT6</th>\n",
              "      <th>default.payment.next.month</th>\n",
              "    </tr>\n",
              "  </thead>\n",
              "  <tbody>\n",
              "    <tr>\n",
              "      <th>0</th>\n",
              "      <td>1</td>\n",
              "      <td>20000.0</td>\n",
              "      <td>2</td>\n",
              "      <td>2</td>\n",
              "      <td>1</td>\n",
              "      <td>24</td>\n",
              "      <td>2</td>\n",
              "      <td>2</td>\n",
              "      <td>-1</td>\n",
              "      <td>-1</td>\n",
              "      <td>-2</td>\n",
              "      <td>-2</td>\n",
              "      <td>3913.0</td>\n",
              "      <td>3102.0</td>\n",
              "      <td>689.0</td>\n",
              "      <td>0.0</td>\n",
              "      <td>0.0</td>\n",
              "      <td>0.0</td>\n",
              "      <td>0.0</td>\n",
              "      <td>689.0</td>\n",
              "      <td>0.0</td>\n",
              "      <td>0.0</td>\n",
              "      <td>0.0</td>\n",
              "      <td>0.0</td>\n",
              "      <td>1</td>\n",
              "    </tr>\n",
              "    <tr>\n",
              "      <th>1</th>\n",
              "      <td>2</td>\n",
              "      <td>120000.0</td>\n",
              "      <td>2</td>\n",
              "      <td>2</td>\n",
              "      <td>2</td>\n",
              "      <td>26</td>\n",
              "      <td>-1</td>\n",
              "      <td>2</td>\n",
              "      <td>0</td>\n",
              "      <td>0</td>\n",
              "      <td>0</td>\n",
              "      <td>2</td>\n",
              "      <td>2682.0</td>\n",
              "      <td>1725.0</td>\n",
              "      <td>2682.0</td>\n",
              "      <td>3272.0</td>\n",
              "      <td>3455.0</td>\n",
              "      <td>3261.0</td>\n",
              "      <td>0.0</td>\n",
              "      <td>1000.0</td>\n",
              "      <td>1000.0</td>\n",
              "      <td>1000.0</td>\n",
              "      <td>0.0</td>\n",
              "      <td>2000.0</td>\n",
              "      <td>1</td>\n",
              "    </tr>\n",
              "    <tr>\n",
              "      <th>2</th>\n",
              "      <td>3</td>\n",
              "      <td>90000.0</td>\n",
              "      <td>2</td>\n",
              "      <td>2</td>\n",
              "      <td>2</td>\n",
              "      <td>34</td>\n",
              "      <td>0</td>\n",
              "      <td>0</td>\n",
              "      <td>0</td>\n",
              "      <td>0</td>\n",
              "      <td>0</td>\n",
              "      <td>0</td>\n",
              "      <td>29239.0</td>\n",
              "      <td>14027.0</td>\n",
              "      <td>13559.0</td>\n",
              "      <td>14331.0</td>\n",
              "      <td>14948.0</td>\n",
              "      <td>15549.0</td>\n",
              "      <td>1518.0</td>\n",
              "      <td>1500.0</td>\n",
              "      <td>1000.0</td>\n",
              "      <td>1000.0</td>\n",
              "      <td>1000.0</td>\n",
              "      <td>5000.0</td>\n",
              "      <td>0</td>\n",
              "    </tr>\n",
              "  </tbody>\n",
              "</table>\n",
              "</div>"
            ],
            "text/plain": [
              "   ID  LIMIT_BAL  SEX  EDUCATION  MARRIAGE  AGE  PAY_0  PAY_2  PAY_3  PAY_4  \\\n",
              "0   1    20000.0    2          2         1   24      2      2     -1     -1   \n",
              "1   2   120000.0    2          2         2   26     -1      2      0      0   \n",
              "2   3    90000.0    2          2         2   34      0      0      0      0   \n",
              "\n",
              "   PAY_5  PAY_6  BILL_AMT1  BILL_AMT2  BILL_AMT3  BILL_AMT4  BILL_AMT5  \\\n",
              "0     -2     -2     3913.0     3102.0      689.0        0.0        0.0   \n",
              "1      0      2     2682.0     1725.0     2682.0     3272.0     3455.0   \n",
              "2      0      0    29239.0    14027.0    13559.0    14331.0    14948.0   \n",
              "\n",
              "   BILL_AMT6  PAY_AMT1  PAY_AMT2  PAY_AMT3  PAY_AMT4  PAY_AMT5  PAY_AMT6  \\\n",
              "0        0.0       0.0     689.0       0.0       0.0       0.0       0.0   \n",
              "1     3261.0       0.0    1000.0    1000.0    1000.0       0.0    2000.0   \n",
              "2    15549.0    1518.0    1500.0    1000.0    1000.0    1000.0    5000.0   \n",
              "\n",
              "   default.payment.next.month  \n",
              "0                           1  \n",
              "1                           1  \n",
              "2                           0  "
            ]
          },
          "execution_count": 4,
          "metadata": {},
          "output_type": "execute_result"
        }
      ],
      "source": [
        "df.head(3)"
      ]
    },
    {
      "cell_type": "code",
      "execution_count": null,
      "id": "d7380d08",
      "metadata": {
        "id": "d7380d08",
        "outputId": "61932ad2-3fbb-4976-9ae0-36ca184eb62e"
      },
      "outputs": [
        {
          "data": {
            "text/plain": [
              "(30000, 25)"
            ]
          },
          "execution_count": 5,
          "metadata": {},
          "output_type": "execute_result"
        }
      ],
      "source": [
        "df.shape"
      ]
    },
    {
      "cell_type": "code",
      "execution_count": null,
      "id": "cdd29941",
      "metadata": {
        "id": "cdd29941",
        "outputId": "b4a73f52-d086-494c-df9c-aa6f50e8707f"
      },
      "outputs": [
        {
          "data": {
            "text/plain": [
              "0"
            ]
          },
          "execution_count": 6,
          "metadata": {},
          "output_type": "execute_result"
        }
      ],
      "source": [
        "#check ID (chave) em duplicidade\n",
        "df[\"ID\"].duplicated().sum()"
      ]
    },
    {
      "cell_type": "markdown",
      "id": "3a38c674",
      "metadata": {
        "id": "3a38c674"
      },
      "source": [
        "# EDA - Analise exploratoria"
      ]
    },
    {
      "cell_type": "code",
      "execution_count": null,
      "id": "015baafe",
      "metadata": {
        "id": "015baafe",
        "outputId": "85ff2705-eb91-4f1d-eb2f-21a0ca153566"
      },
      "outputs": [
        {
          "name": "stdout",
          "output_type": "stream",
          "text": [
            "<class 'pandas.core.frame.DataFrame'>\n",
            "RangeIndex: 30000 entries, 0 to 29999\n",
            "Data columns (total 25 columns):\n",
            " #   Column                      Non-Null Count  Dtype  \n",
            "---  ------                      --------------  -----  \n",
            " 0   ID                          30000 non-null  int64  \n",
            " 1   LIMIT_BAL                   30000 non-null  float64\n",
            " 2   SEX                         30000 non-null  int64  \n",
            " 3   EDUCATION                   30000 non-null  int64  \n",
            " 4   MARRIAGE                    30000 non-null  int64  \n",
            " 5   AGE                         30000 non-null  int64  \n",
            " 6   PAY_0                       30000 non-null  int64  \n",
            " 7   PAY_2                       30000 non-null  int64  \n",
            " 8   PAY_3                       30000 non-null  int64  \n",
            " 9   PAY_4                       30000 non-null  int64  \n",
            " 10  PAY_5                       30000 non-null  int64  \n",
            " 11  PAY_6                       30000 non-null  int64  \n",
            " 12  BILL_AMT1                   30000 non-null  float64\n",
            " 13  BILL_AMT2                   30000 non-null  float64\n",
            " 14  BILL_AMT3                   30000 non-null  float64\n",
            " 15  BILL_AMT4                   30000 non-null  float64\n",
            " 16  BILL_AMT5                   30000 non-null  float64\n",
            " 17  BILL_AMT6                   30000 non-null  float64\n",
            " 18  PAY_AMT1                    30000 non-null  float64\n",
            " 19  PAY_AMT2                    30000 non-null  float64\n",
            " 20  PAY_AMT3                    30000 non-null  float64\n",
            " 21  PAY_AMT4                    30000 non-null  float64\n",
            " 22  PAY_AMT5                    30000 non-null  float64\n",
            " 23  PAY_AMT6                    30000 non-null  float64\n",
            " 24  default.payment.next.month  30000 non-null  int64  \n",
            "dtypes: float64(13), int64(12)\n",
            "memory usage: 5.7 MB\n"
          ]
        }
      ],
      "source": [
        "#tipos de variaveis\n",
        "df.info()"
      ]
    },
    {
      "cell_type": "code",
      "execution_count": null,
      "id": "e684c354",
      "metadata": {
        "id": "e684c354",
        "outputId": "eb20cdaa-e4aa-4bfd-a81b-19c07a253b06"
      },
      "outputs": [
        {
          "data": {
            "text/html": [
              "<div>\n",
              "<style scoped>\n",
              "    .dataframe tbody tr th:only-of-type {\n",
              "        vertical-align: middle;\n",
              "    }\n",
              "\n",
              "    .dataframe tbody tr th {\n",
              "        vertical-align: top;\n",
              "    }\n",
              "\n",
              "    .dataframe thead th {\n",
              "        text-align: right;\n",
              "    }\n",
              "</style>\n",
              "<table border=\"1\" class=\"dataframe\">\n",
              "  <thead>\n",
              "    <tr style=\"text-align: right;\">\n",
              "      <th></th>\n",
              "      <th>ID</th>\n",
              "      <th>LIMIT_BAL</th>\n",
              "      <th>SEX</th>\n",
              "      <th>EDUCATION</th>\n",
              "      <th>MARRIAGE</th>\n",
              "      <th>AGE</th>\n",
              "      <th>PAY_0</th>\n",
              "      <th>PAY_2</th>\n",
              "      <th>PAY_3</th>\n",
              "      <th>PAY_4</th>\n",
              "      <th>PAY_5</th>\n",
              "      <th>PAY_6</th>\n",
              "      <th>BILL_AMT1</th>\n",
              "      <th>BILL_AMT2</th>\n",
              "      <th>BILL_AMT3</th>\n",
              "      <th>BILL_AMT4</th>\n",
              "      <th>BILL_AMT5</th>\n",
              "      <th>BILL_AMT6</th>\n",
              "      <th>PAY_AMT1</th>\n",
              "      <th>PAY_AMT2</th>\n",
              "      <th>PAY_AMT3</th>\n",
              "      <th>PAY_AMT4</th>\n",
              "      <th>PAY_AMT5</th>\n",
              "      <th>PAY_AMT6</th>\n",
              "      <th>default.payment.next.month</th>\n",
              "    </tr>\n",
              "  </thead>\n",
              "  <tbody>\n",
              "    <tr>\n",
              "      <th>count</th>\n",
              "      <td>30000.000000</td>\n",
              "      <td>30000.000000</td>\n",
              "      <td>30000.000000</td>\n",
              "      <td>30000.000000</td>\n",
              "      <td>30000.000000</td>\n",
              "      <td>30000.000000</td>\n",
              "      <td>30000.000000</td>\n",
              "      <td>30000.000000</td>\n",
              "      <td>30000.000000</td>\n",
              "      <td>30000.000000</td>\n",
              "      <td>30000.000000</td>\n",
              "      <td>30000.000000</td>\n",
              "      <td>30000.000000</td>\n",
              "      <td>30000.000000</td>\n",
              "      <td>3.000000e+04</td>\n",
              "      <td>30000.000000</td>\n",
              "      <td>30000.000000</td>\n",
              "      <td>30000.000000</td>\n",
              "      <td>30000.000000</td>\n",
              "      <td>3.000000e+04</td>\n",
              "      <td>30000.00000</td>\n",
              "      <td>30000.000000</td>\n",
              "      <td>30000.000000</td>\n",
              "      <td>30000.000000</td>\n",
              "      <td>30000.000000</td>\n",
              "    </tr>\n",
              "    <tr>\n",
              "      <th>mean</th>\n",
              "      <td>15000.500000</td>\n",
              "      <td>167484.322667</td>\n",
              "      <td>1.603733</td>\n",
              "      <td>1.853133</td>\n",
              "      <td>1.551867</td>\n",
              "      <td>35.485500</td>\n",
              "      <td>-0.016700</td>\n",
              "      <td>-0.133767</td>\n",
              "      <td>-0.166200</td>\n",
              "      <td>-0.220667</td>\n",
              "      <td>-0.266200</td>\n",
              "      <td>-0.291100</td>\n",
              "      <td>51223.330900</td>\n",
              "      <td>49179.075167</td>\n",
              "      <td>4.701315e+04</td>\n",
              "      <td>43262.948967</td>\n",
              "      <td>40311.400967</td>\n",
              "      <td>38871.760400</td>\n",
              "      <td>5663.580500</td>\n",
              "      <td>5.921163e+03</td>\n",
              "      <td>5225.68150</td>\n",
              "      <td>4826.076867</td>\n",
              "      <td>4799.387633</td>\n",
              "      <td>5215.502567</td>\n",
              "      <td>0.221200</td>\n",
              "    </tr>\n",
              "    <tr>\n",
              "      <th>std</th>\n",
              "      <td>8660.398374</td>\n",
              "      <td>129747.661567</td>\n",
              "      <td>0.489129</td>\n",
              "      <td>0.790349</td>\n",
              "      <td>0.521970</td>\n",
              "      <td>9.217904</td>\n",
              "      <td>1.123802</td>\n",
              "      <td>1.197186</td>\n",
              "      <td>1.196868</td>\n",
              "      <td>1.169139</td>\n",
              "      <td>1.133187</td>\n",
              "      <td>1.149988</td>\n",
              "      <td>73635.860576</td>\n",
              "      <td>71173.768783</td>\n",
              "      <td>6.934939e+04</td>\n",
              "      <td>64332.856134</td>\n",
              "      <td>60797.155770</td>\n",
              "      <td>59554.107537</td>\n",
              "      <td>16563.280354</td>\n",
              "      <td>2.304087e+04</td>\n",
              "      <td>17606.96147</td>\n",
              "      <td>15666.159744</td>\n",
              "      <td>15278.305679</td>\n",
              "      <td>17777.465775</td>\n",
              "      <td>0.415062</td>\n",
              "    </tr>\n",
              "    <tr>\n",
              "      <th>min</th>\n",
              "      <td>1.000000</td>\n",
              "      <td>10000.000000</td>\n",
              "      <td>1.000000</td>\n",
              "      <td>0.000000</td>\n",
              "      <td>0.000000</td>\n",
              "      <td>21.000000</td>\n",
              "      <td>-2.000000</td>\n",
              "      <td>-2.000000</td>\n",
              "      <td>-2.000000</td>\n",
              "      <td>-2.000000</td>\n",
              "      <td>-2.000000</td>\n",
              "      <td>-2.000000</td>\n",
              "      <td>-165580.000000</td>\n",
              "      <td>-69777.000000</td>\n",
              "      <td>-1.572640e+05</td>\n",
              "      <td>-170000.000000</td>\n",
              "      <td>-81334.000000</td>\n",
              "      <td>-339603.000000</td>\n",
              "      <td>0.000000</td>\n",
              "      <td>0.000000e+00</td>\n",
              "      <td>0.00000</td>\n",
              "      <td>0.000000</td>\n",
              "      <td>0.000000</td>\n",
              "      <td>0.000000</td>\n",
              "      <td>0.000000</td>\n",
              "    </tr>\n",
              "    <tr>\n",
              "      <th>25%</th>\n",
              "      <td>7500.750000</td>\n",
              "      <td>50000.000000</td>\n",
              "      <td>1.000000</td>\n",
              "      <td>1.000000</td>\n",
              "      <td>1.000000</td>\n",
              "      <td>28.000000</td>\n",
              "      <td>-1.000000</td>\n",
              "      <td>-1.000000</td>\n",
              "      <td>-1.000000</td>\n",
              "      <td>-1.000000</td>\n",
              "      <td>-1.000000</td>\n",
              "      <td>-1.000000</td>\n",
              "      <td>3558.750000</td>\n",
              "      <td>2984.750000</td>\n",
              "      <td>2.666250e+03</td>\n",
              "      <td>2326.750000</td>\n",
              "      <td>1763.000000</td>\n",
              "      <td>1256.000000</td>\n",
              "      <td>1000.000000</td>\n",
              "      <td>8.330000e+02</td>\n",
              "      <td>390.00000</td>\n",
              "      <td>296.000000</td>\n",
              "      <td>252.500000</td>\n",
              "      <td>117.750000</td>\n",
              "      <td>0.000000</td>\n",
              "    </tr>\n",
              "    <tr>\n",
              "      <th>50%</th>\n",
              "      <td>15000.500000</td>\n",
              "      <td>140000.000000</td>\n",
              "      <td>2.000000</td>\n",
              "      <td>2.000000</td>\n",
              "      <td>2.000000</td>\n",
              "      <td>34.000000</td>\n",
              "      <td>0.000000</td>\n",
              "      <td>0.000000</td>\n",
              "      <td>0.000000</td>\n",
              "      <td>0.000000</td>\n",
              "      <td>0.000000</td>\n",
              "      <td>0.000000</td>\n",
              "      <td>22381.500000</td>\n",
              "      <td>21200.000000</td>\n",
              "      <td>2.008850e+04</td>\n",
              "      <td>19052.000000</td>\n",
              "      <td>18104.500000</td>\n",
              "      <td>17071.000000</td>\n",
              "      <td>2100.000000</td>\n",
              "      <td>2.009000e+03</td>\n",
              "      <td>1800.00000</td>\n",
              "      <td>1500.000000</td>\n",
              "      <td>1500.000000</td>\n",
              "      <td>1500.000000</td>\n",
              "      <td>0.000000</td>\n",
              "    </tr>\n",
              "    <tr>\n",
              "      <th>75%</th>\n",
              "      <td>22500.250000</td>\n",
              "      <td>240000.000000</td>\n",
              "      <td>2.000000</td>\n",
              "      <td>2.000000</td>\n",
              "      <td>2.000000</td>\n",
              "      <td>41.000000</td>\n",
              "      <td>0.000000</td>\n",
              "      <td>0.000000</td>\n",
              "      <td>0.000000</td>\n",
              "      <td>0.000000</td>\n",
              "      <td>0.000000</td>\n",
              "      <td>0.000000</td>\n",
              "      <td>67091.000000</td>\n",
              "      <td>64006.250000</td>\n",
              "      <td>6.016475e+04</td>\n",
              "      <td>54506.000000</td>\n",
              "      <td>50190.500000</td>\n",
              "      <td>49198.250000</td>\n",
              "      <td>5006.000000</td>\n",
              "      <td>5.000000e+03</td>\n",
              "      <td>4505.00000</td>\n",
              "      <td>4013.250000</td>\n",
              "      <td>4031.500000</td>\n",
              "      <td>4000.000000</td>\n",
              "      <td>0.000000</td>\n",
              "    </tr>\n",
              "    <tr>\n",
              "      <th>max</th>\n",
              "      <td>30000.000000</td>\n",
              "      <td>1000000.000000</td>\n",
              "      <td>2.000000</td>\n",
              "      <td>6.000000</td>\n",
              "      <td>3.000000</td>\n",
              "      <td>79.000000</td>\n",
              "      <td>8.000000</td>\n",
              "      <td>8.000000</td>\n",
              "      <td>8.000000</td>\n",
              "      <td>8.000000</td>\n",
              "      <td>8.000000</td>\n",
              "      <td>8.000000</td>\n",
              "      <td>964511.000000</td>\n",
              "      <td>983931.000000</td>\n",
              "      <td>1.664089e+06</td>\n",
              "      <td>891586.000000</td>\n",
              "      <td>927171.000000</td>\n",
              "      <td>961664.000000</td>\n",
              "      <td>873552.000000</td>\n",
              "      <td>1.684259e+06</td>\n",
              "      <td>896040.00000</td>\n",
              "      <td>621000.000000</td>\n",
              "      <td>426529.000000</td>\n",
              "      <td>528666.000000</td>\n",
              "      <td>1.000000</td>\n",
              "    </tr>\n",
              "  </tbody>\n",
              "</table>\n",
              "</div>"
            ],
            "text/plain": [
              "                 ID       LIMIT_BAL           SEX     EDUCATION      MARRIAGE  \\\n",
              "count  30000.000000    30000.000000  30000.000000  30000.000000  30000.000000   \n",
              "mean   15000.500000   167484.322667      1.603733      1.853133      1.551867   \n",
              "std     8660.398374   129747.661567      0.489129      0.790349      0.521970   \n",
              "min        1.000000    10000.000000      1.000000      0.000000      0.000000   \n",
              "25%     7500.750000    50000.000000      1.000000      1.000000      1.000000   \n",
              "50%    15000.500000   140000.000000      2.000000      2.000000      2.000000   \n",
              "75%    22500.250000   240000.000000      2.000000      2.000000      2.000000   \n",
              "max    30000.000000  1000000.000000      2.000000      6.000000      3.000000   \n",
              "\n",
              "                AGE         PAY_0         PAY_2         PAY_3         PAY_4  \\\n",
              "count  30000.000000  30000.000000  30000.000000  30000.000000  30000.000000   \n",
              "mean      35.485500     -0.016700     -0.133767     -0.166200     -0.220667   \n",
              "std        9.217904      1.123802      1.197186      1.196868      1.169139   \n",
              "min       21.000000     -2.000000     -2.000000     -2.000000     -2.000000   \n",
              "25%       28.000000     -1.000000     -1.000000     -1.000000     -1.000000   \n",
              "50%       34.000000      0.000000      0.000000      0.000000      0.000000   \n",
              "75%       41.000000      0.000000      0.000000      0.000000      0.000000   \n",
              "max       79.000000      8.000000      8.000000      8.000000      8.000000   \n",
              "\n",
              "              PAY_5         PAY_6      BILL_AMT1      BILL_AMT2     BILL_AMT3  \\\n",
              "count  30000.000000  30000.000000   30000.000000   30000.000000  3.000000e+04   \n",
              "mean      -0.266200     -0.291100   51223.330900   49179.075167  4.701315e+04   \n",
              "std        1.133187      1.149988   73635.860576   71173.768783  6.934939e+04   \n",
              "min       -2.000000     -2.000000 -165580.000000  -69777.000000 -1.572640e+05   \n",
              "25%       -1.000000     -1.000000    3558.750000    2984.750000  2.666250e+03   \n",
              "50%        0.000000      0.000000   22381.500000   21200.000000  2.008850e+04   \n",
              "75%        0.000000      0.000000   67091.000000   64006.250000  6.016475e+04   \n",
              "max        8.000000      8.000000  964511.000000  983931.000000  1.664089e+06   \n",
              "\n",
              "           BILL_AMT4      BILL_AMT5      BILL_AMT6       PAY_AMT1  \\\n",
              "count   30000.000000   30000.000000   30000.000000   30000.000000   \n",
              "mean    43262.948967   40311.400967   38871.760400    5663.580500   \n",
              "std     64332.856134   60797.155770   59554.107537   16563.280354   \n",
              "min   -170000.000000  -81334.000000 -339603.000000       0.000000   \n",
              "25%      2326.750000    1763.000000    1256.000000    1000.000000   \n",
              "50%     19052.000000   18104.500000   17071.000000    2100.000000   \n",
              "75%     54506.000000   50190.500000   49198.250000    5006.000000   \n",
              "max    891586.000000  927171.000000  961664.000000  873552.000000   \n",
              "\n",
              "           PAY_AMT2      PAY_AMT3       PAY_AMT4       PAY_AMT5  \\\n",
              "count  3.000000e+04   30000.00000   30000.000000   30000.000000   \n",
              "mean   5.921163e+03    5225.68150    4826.076867    4799.387633   \n",
              "std    2.304087e+04   17606.96147   15666.159744   15278.305679   \n",
              "min    0.000000e+00       0.00000       0.000000       0.000000   \n",
              "25%    8.330000e+02     390.00000     296.000000     252.500000   \n",
              "50%    2.009000e+03    1800.00000    1500.000000    1500.000000   \n",
              "75%    5.000000e+03    4505.00000    4013.250000    4031.500000   \n",
              "max    1.684259e+06  896040.00000  621000.000000  426529.000000   \n",
              "\n",
              "            PAY_AMT6  default.payment.next.month  \n",
              "count   30000.000000                30000.000000  \n",
              "mean     5215.502567                    0.221200  \n",
              "std     17777.465775                    0.415062  \n",
              "min         0.000000                    0.000000  \n",
              "25%       117.750000                    0.000000  \n",
              "50%      1500.000000                    0.000000  \n",
              "75%      4000.000000                    0.000000  \n",
              "max    528666.000000                    1.000000  "
            ]
          },
          "execution_count": 9,
          "metadata": {},
          "output_type": "execute_result"
        }
      ],
      "source": [
        "#estatisticas basicas\n",
        "df.describe()"
      ]
    },
    {
      "cell_type": "code",
      "execution_count": null,
      "id": "e0b6bb14",
      "metadata": {
        "scrolled": true,
        "id": "e0b6bb14",
        "outputId": "00780e72-ce89-4d71-d0ee-a2827724d612"
      },
      "outputs": [
        {
          "name": "stdout",
          "output_type": "stream",
          "text": [
            "ID                            0\n",
            "LIMIT_BAL                     0\n",
            "SEX                           0\n",
            "EDUCATION                     0\n",
            "MARRIAGE                      0\n",
            "AGE                           0\n",
            "PAY_0                         0\n",
            "PAY_2                         0\n",
            "PAY_3                         0\n",
            "PAY_4                         0\n",
            "PAY_5                         0\n",
            "PAY_6                         0\n",
            "BILL_AMT1                     0\n",
            "BILL_AMT2                     0\n",
            "BILL_AMT3                     0\n",
            "BILL_AMT4                     0\n",
            "BILL_AMT5                     0\n",
            "BILL_AMT6                     0\n",
            "PAY_AMT1                      0\n",
            "PAY_AMT2                      0\n",
            "PAY_AMT3                      0\n",
            "PAY_AMT4                      0\n",
            "PAY_AMT5                      0\n",
            "PAY_AMT6                      0\n",
            "default.payment.next.month    0\n",
            "dtype: int64\n"
          ]
        }
      ],
      "source": [
        "# Verificando valores ausentes\n",
        "print(df.isnull().sum())"
      ]
    },
    {
      "cell_type": "code",
      "execution_count": null,
      "id": "0e450b29",
      "metadata": {
        "id": "0e450b29",
        "outputId": "af53ccca-2b87-4775-acd9-f40dfe82c622"
      },
      "outputs": [
        {
          "data": {
            "image/png": "[encoded data removed]",
            "text/plain": [
              "<Figure size 900x180 with 5 Axes>"
            ]
          },
          "metadata": {
            "needs_background": "light"
          },
          "output_type": "display_data"
        },
        {
          "data": {
            "image/png": "[encoded data removed]",
            "text/plain": [
              "<Figure size 900x180 with 5 Axes>"
            ]
          },
          "metadata": {
            "needs_background": "light"
          },
          "output_type": "display_data"
        },
        {
          "data": {
            "image/png": "[encoded data removed]",
            "text/plain": [
              "<Figure size 720x180 with 5 Axes>"
            ]
          },
          "metadata": {
            "needs_background": "light"
          },
          "output_type": "display_data"
        }
      ],
      "source": [
        "## analise de distribuição da variavel target em relação  as variaveis explicativas\n",
        "\n",
        "for i in range(3, len(df.columns), 9):\n",
        "    sns.pairplot(data=df,\n",
        "                x_vars=df.columns[i:i+5],\n",
        "                y_vars=['default.payment.next.month'])"
      ]
    },
    {
      "cell_type": "code",
      "execution_count": null,
      "id": "4c6bd89a",
      "metadata": {
        "scrolled": false,
        "id": "4c6bd89a",
        "outputId": "24d47df9-5ffc-4e0d-90dc-0e10f3e39ce8"
      },
      "outputs": [
        {
          "data": {
            "text/plain": [
              "array([[<AxesSubplot:title={'center':'ID'}>,\n",
              "        <AxesSubplot:title={'center':'LIMIT_BAL'}>,\n",
              "        <AxesSubplot:title={'center':'SEX'}>,\n",
              "        <AxesSubplot:title={'center':'EDUCATION'}>,\n",
              "        <AxesSubplot:title={'center':'MARRIAGE'}>],\n",
              "       [<AxesSubplot:title={'center':'AGE'}>,\n",
              "        <AxesSubplot:title={'center':'PAY_0'}>,\n",
              "        <AxesSubplot:title={'center':'PAY_2'}>,\n",
              "        <AxesSubplot:title={'center':'PAY_3'}>,\n",
              "        <AxesSubplot:title={'center':'PAY_4'}>],\n",
              "       [<AxesSubplot:title={'center':'PAY_5'}>,\n",
              "        <AxesSubplot:title={'center':'PAY_6'}>,\n",
              "        <AxesSubplot:title={'center':'BILL_AMT1'}>,\n",
              "        <AxesSubplot:title={'center':'BILL_AMT2'}>,\n",
              "        <AxesSubplot:title={'center':'BILL_AMT3'}>],\n",
              "       [<AxesSubplot:title={'center':'BILL_AMT4'}>,\n",
              "        <AxesSubplot:title={'center':'BILL_AMT5'}>,\n",
              "        <AxesSubplot:title={'center':'BILL_AMT6'}>,\n",
              "        <AxesSubplot:title={'center':'PAY_AMT1'}>,\n",
              "        <AxesSubplot:title={'center':'PAY_AMT2'}>],\n",
              "       [<AxesSubplot:title={'center':'PAY_AMT3'}>,\n",
              "        <AxesSubplot:title={'center':'PAY_AMT4'}>,\n",
              "        <AxesSubplot:title={'center':'PAY_AMT5'}>,\n",
              "        <AxesSubplot:title={'center':'PAY_AMT6'}>,\n",
              "        <AxesSubplot:title={'center':'default.payment.next.month'}>]],\n",
              "      dtype=object)"
            ]
          },
          "execution_count": 12,
          "metadata": {},
          "output_type": "execute_result"
        },
        {
          "data": {
            "image/png": "[encoded data removed]",
            "text/plain": [
              "<Figure size 1152x1440 with 25 Axes>"
            ]
          },
          "metadata": {
            "needs_background": "light"
          },
          "output_type": "display_data"
        }
      ],
      "source": [
        "# distruibuição das variaveis explicativas\n",
        "df.hist(figsize=(16, 20), bins=50, xlabelsize=8, ylabelsize=8)"
      ]
    },
    {
      "cell_type": "code",
      "execution_count": null,
      "id": "fc64d35e",
      "metadata": {
        "id": "fc64d35e",
        "outputId": "cc68b2c4-2e7e-4293-c3af-4bfae1c0cf30"
      },
      "outputs": [
        {
          "data": {
            "text/plain": [
              "count    30000.000000\n",
              "mean         0.221200\n",
              "std          0.415062\n",
              "min          0.000000\n",
              "25%          0.000000\n",
              "50%          0.000000\n",
              "75%          0.000000\n",
              "max          1.000000\n",
              "Name: default.payment.next.month, dtype: float64"
            ]
          },
          "execution_count": 14,
          "metadata": {},
          "output_type": "execute_result"
        }
      ],
      "source": [
        "df['default.payment.next.month'].describe()"
      ]
    },
    {
      "cell_type": "markdown",
      "id": "b32935eb",
      "metadata": {
        "id": "b32935eb"
      },
      "source": [
        "# Pré-processamento de Dados"
      ]
    },
    {
      "cell_type": "code",
      "execution_count": null,
      "id": "a1d3667d",
      "metadata": {
        "id": "a1d3667d"
      },
      "outputs": [],
      "source": [
        "# A variavel sex está com homem = 1 e mulher = 2 isso pode parecer que existe uma relação ordinal entre as categorias. Dado isso será alterado, se valor for 2 será igual a 1 e se 1 sera igual a 0 transformando a variavel numa flag\n",
        "\n",
        "df['SEX'] = df['SEX'].apply(lambda x: 1 if x == 2 else 0)"
      ]
    },
    {
      "cell_type": "markdown",
      "id": "d9edcd20",
      "metadata": {
        "id": "d9edcd20"
      },
      "source": [
        "### estudo dos outliers"
      ]
    },
    {
      "cell_type": "code",
      "execution_count": null,
      "id": "4fb402fd",
      "metadata": {
        "id": "4fb402fd",
        "outputId": "49d42ea4-6b1d-44c4-9a2d-5c122fb85189"
      },
      "outputs": [
        {
          "data": {
            "text/html": [
              "<div>\n",
              "<style scoped>\n",
              "    .dataframe tbody tr th:only-of-type {\n",
              "        vertical-align: middle;\n",
              "    }\n",
              "\n",
              "    .dataframe tbody tr th {\n",
              "        vertical-align: top;\n",
              "    }\n",
              "\n",
              "    .dataframe thead th {\n",
              "        text-align: right;\n",
              "    }\n",
              "</style>\n",
              "<table border=\"1\" class=\"dataframe\">\n",
              "  <thead>\n",
              "    <tr style=\"text-align: right;\">\n",
              "      <th></th>\n",
              "      <th>ID</th>\n",
              "      <th>LIMIT_BAL</th>\n",
              "      <th>SEX</th>\n",
              "      <th>EDUCATION</th>\n",
              "      <th>MARRIAGE</th>\n",
              "      <th>AGE</th>\n",
              "      <th>PAY_0</th>\n",
              "      <th>PAY_2</th>\n",
              "      <th>PAY_3</th>\n",
              "      <th>PAY_4</th>\n",
              "      <th>PAY_5</th>\n",
              "      <th>PAY_6</th>\n",
              "      <th>BILL_AMT1</th>\n",
              "      <th>BILL_AMT2</th>\n",
              "      <th>BILL_AMT3</th>\n",
              "      <th>BILL_AMT4</th>\n",
              "      <th>BILL_AMT5</th>\n",
              "      <th>BILL_AMT6</th>\n",
              "      <th>PAY_AMT1</th>\n",
              "      <th>PAY_AMT2</th>\n",
              "      <th>PAY_AMT3</th>\n",
              "      <th>PAY_AMT4</th>\n",
              "      <th>PAY_AMT5</th>\n",
              "      <th>PAY_AMT6</th>\n",
              "      <th>default.payment.next.month</th>\n",
              "    </tr>\n",
              "  </thead>\n",
              "  <tbody>\n",
              "    <tr>\n",
              "      <th>count</th>\n",
              "      <td>30000.000000</td>\n",
              "      <td>30000.000000</td>\n",
              "      <td>30000.000000</td>\n",
              "      <td>30000.000000</td>\n",
              "      <td>30000.000000</td>\n",
              "      <td>30000.000000</td>\n",
              "      <td>30000.000000</td>\n",
              "      <td>30000.000000</td>\n",
              "      <td>30000.000000</td>\n",
              "      <td>30000.000000</td>\n",
              "      <td>30000.000000</td>\n",
              "      <td>30000.000000</td>\n",
              "      <td>30000.000000</td>\n",
              "      <td>30000.000000</td>\n",
              "      <td>3.000000e+04</td>\n",
              "      <td>30000.000000</td>\n",
              "      <td>30000.000000</td>\n",
              "      <td>30000.000000</td>\n",
              "      <td>30000.000000</td>\n",
              "      <td>3.000000e+04</td>\n",
              "      <td>30000.00000</td>\n",
              "      <td>30000.000000</td>\n",
              "      <td>30000.000000</td>\n",
              "      <td>30000.000000</td>\n",
              "      <td>30000.000000</td>\n",
              "    </tr>\n",
              "    <tr>\n",
              "      <th>mean</th>\n",
              "      <td>15000.500000</td>\n",
              "      <td>167484.322667</td>\n",
              "      <td>1.603733</td>\n",
              "      <td>1.853133</td>\n",
              "      <td>1.551867</td>\n",
              "      <td>35.485500</td>\n",
              "      <td>-0.016700</td>\n",
              "      <td>-0.133767</td>\n",
              "      <td>-0.166200</td>\n",
              "      <td>-0.220667</td>\n",
              "      <td>-0.266200</td>\n",
              "      <td>-0.291100</td>\n",
              "      <td>51223.330900</td>\n",
              "      <td>49179.075167</td>\n",
              "      <td>4.701315e+04</td>\n",
              "      <td>43262.948967</td>\n",
              "      <td>40311.400967</td>\n",
              "      <td>38871.760400</td>\n",
              "      <td>5663.580500</td>\n",
              "      <td>5.921163e+03</td>\n",
              "      <td>5225.68150</td>\n",
              "      <td>4826.076867</td>\n",
              "      <td>4799.387633</td>\n",
              "      <td>5215.502567</td>\n",
              "      <td>0.221200</td>\n",
              "    </tr>\n",
              "    <tr>\n",
              "      <th>std</th>\n",
              "      <td>8660.398374</td>\n",
              "      <td>129747.661567</td>\n",
              "      <td>0.489129</td>\n",
              "      <td>0.790349</td>\n",
              "      <td>0.521970</td>\n",
              "      <td>9.217904</td>\n",
              "      <td>1.123802</td>\n",
              "      <td>1.197186</td>\n",
              "      <td>1.196868</td>\n",
              "      <td>1.169139</td>\n",
              "      <td>1.133187</td>\n",
              "      <td>1.149988</td>\n",
              "      <td>73635.860576</td>\n",
              "      <td>71173.768783</td>\n",
              "      <td>6.934939e+04</td>\n",
              "      <td>64332.856134</td>\n",
              "      <td>60797.155770</td>\n",
              "      <td>59554.107537</td>\n",
              "      <td>16563.280354</td>\n",
              "      <td>2.304087e+04</td>\n",
              "      <td>17606.96147</td>\n",
              "      <td>15666.159744</td>\n",
              "      <td>15278.305679</td>\n",
              "      <td>17777.465775</td>\n",
              "      <td>0.415062</td>\n",
              "    </tr>\n",
              "    <tr>\n",
              "      <th>min</th>\n",
              "      <td>1.000000</td>\n",
              "      <td>10000.000000</td>\n",
              "      <td>1.000000</td>\n",
              "      <td>0.000000</td>\n",
              "      <td>0.000000</td>\n",
              "      <td>21.000000</td>\n",
              "      <td>-2.000000</td>\n",
              "      <td>-2.000000</td>\n",
              "      <td>-2.000000</td>\n",
              "      <td>-2.000000</td>\n",
              "      <td>-2.000000</td>\n",
              "      <td>-2.000000</td>\n",
              "      <td>-165580.000000</td>\n",
              "      <td>-69777.000000</td>\n",
              "      <td>-1.572640e+05</td>\n",
              "      <td>-170000.000000</td>\n",
              "      <td>-81334.000000</td>\n",
              "      <td>-339603.000000</td>\n",
              "      <td>0.000000</td>\n",
              "      <td>0.000000e+00</td>\n",
              "      <td>0.00000</td>\n",
              "      <td>0.000000</td>\n",
              "      <td>0.000000</td>\n",
              "      <td>0.000000</td>\n",
              "      <td>0.000000</td>\n",
              "    </tr>\n",
              "    <tr>\n",
              "      <th>25%</th>\n",
              "      <td>7500.750000</td>\n",
              "      <td>50000.000000</td>\n",
              "      <td>1.000000</td>\n",
              "      <td>1.000000</td>\n",
              "      <td>1.000000</td>\n",
              "      <td>28.000000</td>\n",
              "      <td>-1.000000</td>\n",
              "      <td>-1.000000</td>\n",
              "      <td>-1.000000</td>\n",
              "      <td>-1.000000</td>\n",
              "      <td>-1.000000</td>\n",
              "      <td>-1.000000</td>\n",
              "      <td>3558.750000</td>\n",
              "      <td>2984.750000</td>\n",
              "      <td>2.666250e+03</td>\n",
              "      <td>2326.750000</td>\n",
              "      <td>1763.000000</td>\n",
              "      <td>1256.000000</td>\n",
              "      <td>1000.000000</td>\n",
              "      <td>8.330000e+02</td>\n",
              "      <td>390.00000</td>\n",
              "      <td>296.000000</td>\n",
              "      <td>252.500000</td>\n",
              "      <td>117.750000</td>\n",
              "      <td>0.000000</td>\n",
              "    </tr>\n",
              "    <tr>\n",
              "      <th>50%</th>\n",
              "      <td>15000.500000</td>\n",
              "      <td>140000.000000</td>\n",
              "      <td>2.000000</td>\n",
              "      <td>2.000000</td>\n",
              "      <td>2.000000</td>\n",
              "      <td>34.000000</td>\n",
              "      <td>0.000000</td>\n",
              "      <td>0.000000</td>\n",
              "      <td>0.000000</td>\n",
              "      <td>0.000000</td>\n",
              "      <td>0.000000</td>\n",
              "      <td>0.000000</td>\n",
              "      <td>22381.500000</td>\n",
              "      <td>21200.000000</td>\n",
              "      <td>2.008850e+04</td>\n",
              "      <td>19052.000000</td>\n",
              "      <td>18104.500000</td>\n",
              "      <td>17071.000000</td>\n",
              "      <td>2100.000000</td>\n",
              "      <td>2.009000e+03</td>\n",
              "      <td>1800.00000</td>\n",
              "      <td>1500.000000</td>\n",
              "      <td>1500.000000</td>\n",
              "      <td>1500.000000</td>\n",
              "      <td>0.000000</td>\n",
              "    </tr>\n",
              "    <tr>\n",
              "      <th>75%</th>\n",
              "      <td>22500.250000</td>\n",
              "      <td>240000.000000</td>\n",
              "      <td>2.000000</td>\n",
              "      <td>2.000000</td>\n",
              "      <td>2.000000</td>\n",
              "      <td>41.000000</td>\n",
              "      <td>0.000000</td>\n",
              "      <td>0.000000</td>\n",
              "      <td>0.000000</td>\n",
              "      <td>0.000000</td>\n",
              "      <td>0.000000</td>\n",
              "      <td>0.000000</td>\n",
              "      <td>67091.000000</td>\n",
              "      <td>64006.250000</td>\n",
              "      <td>6.016475e+04</td>\n",
              "      <td>54506.000000</td>\n",
              "      <td>50190.500000</td>\n",
              "      <td>49198.250000</td>\n",
              "      <td>5006.000000</td>\n",
              "      <td>5.000000e+03</td>\n",
              "      <td>4505.00000</td>\n",
              "      <td>4013.250000</td>\n",
              "      <td>4031.500000</td>\n",
              "      <td>4000.000000</td>\n",
              "      <td>0.000000</td>\n",
              "    </tr>\n",
              "    <tr>\n",
              "      <th>max</th>\n",
              "      <td>30000.000000</td>\n",
              "      <td>1000000.000000</td>\n",
              "      <td>2.000000</td>\n",
              "      <td>6.000000</td>\n",
              "      <td>3.000000</td>\n",
              "      <td>79.000000</td>\n",
              "      <td>8.000000</td>\n",
              "      <td>8.000000</td>\n",
              "      <td>8.000000</td>\n",
              "      <td>8.000000</td>\n",
              "      <td>8.000000</td>\n",
              "      <td>8.000000</td>\n",
              "      <td>964511.000000</td>\n",
              "      <td>983931.000000</td>\n",
              "      <td>1.664089e+06</td>\n",
              "      <td>891586.000000</td>\n",
              "      <td>927171.000000</td>\n",
              "      <td>961664.000000</td>\n",
              "      <td>873552.000000</td>\n",
              "      <td>1.684259e+06</td>\n",
              "      <td>896040.00000</td>\n",
              "      <td>621000.000000</td>\n",
              "      <td>426529.000000</td>\n",
              "      <td>528666.000000</td>\n",
              "      <td>1.000000</td>\n",
              "    </tr>\n",
              "    <tr>\n",
              "      <th>p99</th>\n",
              "      <td>29700.010000</td>\n",
              "      <td>500000.000000</td>\n",
              "      <td>2.000000</td>\n",
              "      <td>5.000000</td>\n",
              "      <td>3.000000</td>\n",
              "      <td>60.000000</td>\n",
              "      <td>3.000000</td>\n",
              "      <td>3.000000</td>\n",
              "      <td>3.000000</td>\n",
              "      <td>3.000000</td>\n",
              "      <td>3.000000</td>\n",
              "      <td>3.000000</td>\n",
              "      <td>350110.680000</td>\n",
              "      <td>337495.280000</td>\n",
              "      <td>3.250304e+05</td>\n",
              "      <td>304997.270000</td>\n",
              "      <td>285868.330000</td>\n",
              "      <td>279505.060000</td>\n",
              "      <td>66522.180000</td>\n",
              "      <td>7.665102e+04</td>\n",
              "      <td>70000.00000</td>\n",
              "      <td>67054.440000</td>\n",
              "      <td>65607.560000</td>\n",
              "      <td>82619.050000</td>\n",
              "      <td>1.000000</td>\n",
              "    </tr>\n",
              "  </tbody>\n",
              "</table>\n",
              "</div>"
            ],
            "text/plain": [
              "                 ID       LIMIT_BAL           SEX     EDUCATION      MARRIAGE  \\\n",
              "count  30000.000000    30000.000000  30000.000000  30000.000000  30000.000000   \n",
              "mean   15000.500000   167484.322667      1.603733      1.853133      1.551867   \n",
              "std     8660.398374   129747.661567      0.489129      0.790349      0.521970   \n",
              "min        1.000000    10000.000000      1.000000      0.000000      0.000000   \n",
              "25%     7500.750000    50000.000000      1.000000      1.000000      1.000000   \n",
              "50%    15000.500000   140000.000000      2.000000      2.000000      2.000000   \n",
              "75%    22500.250000   240000.000000      2.000000      2.000000      2.000000   \n",
              "max    30000.000000  1000000.000000      2.000000      6.000000      3.000000   \n",
              "p99    29700.010000   500000.000000      2.000000      5.000000      3.000000   \n",
              "\n",
              "                AGE         PAY_0         PAY_2         PAY_3         PAY_4  \\\n",
              "count  30000.000000  30000.000000  30000.000000  30000.000000  30000.000000   \n",
              "mean      35.485500     -0.016700     -0.133767     -0.166200     -0.220667   \n",
              "std        9.217904      1.123802      1.197186      1.196868      1.169139   \n",
              "min       21.000000     -2.000000     -2.000000     -2.000000     -2.000000   \n",
              "25%       28.000000     -1.000000     -1.000000     -1.000000     -1.000000   \n",
              "50%       34.000000      0.000000      0.000000      0.000000      0.000000   \n",
              "75%       41.000000      0.000000      0.000000      0.000000      0.000000   \n",
              "max       79.000000      8.000000      8.000000      8.000000      8.000000   \n",
              "p99       60.000000      3.000000      3.000000      3.000000      3.000000   \n",
              "\n",
              "              PAY_5         PAY_6      BILL_AMT1      BILL_AMT2     BILL_AMT3  \\\n",
              "count  30000.000000  30000.000000   30000.000000   30000.000000  3.000000e+04   \n",
              "mean      -0.266200     -0.291100   51223.330900   49179.075167  4.701315e+04   \n",
              "std        1.133187      1.149988   73635.860576   71173.768783  6.934939e+04   \n",
              "min       -2.000000     -2.000000 -165580.000000  -69777.000000 -1.572640e+05   \n",
              "25%       -1.000000     -1.000000    3558.750000    2984.750000  2.666250e+03   \n",
              "50%        0.000000      0.000000   22381.500000   21200.000000  2.008850e+04   \n",
              "75%        0.000000      0.000000   67091.000000   64006.250000  6.016475e+04   \n",
              "max        8.000000      8.000000  964511.000000  983931.000000  1.664089e+06   \n",
              "p99        3.000000      3.000000  350110.680000  337495.280000  3.250304e+05   \n",
              "\n",
              "           BILL_AMT4      BILL_AMT5      BILL_AMT6       PAY_AMT1  \\\n",
              "count   30000.000000   30000.000000   30000.000000   30000.000000   \n",
              "mean    43262.948967   40311.400967   38871.760400    5663.580500   \n",
              "std     64332.856134   60797.155770   59554.107537   16563.280354   \n",
              "min   -170000.000000  -81334.000000 -339603.000000       0.000000   \n",
              "25%      2326.750000    1763.000000    1256.000000    1000.000000   \n",
              "50%     19052.000000   18104.500000   17071.000000    2100.000000   \n",
              "75%     54506.000000   50190.500000   49198.250000    5006.000000   \n",
              "max    891586.000000  927171.000000  961664.000000  873552.000000   \n",
              "p99    304997.270000  285868.330000  279505.060000   66522.180000   \n",
              "\n",
              "           PAY_AMT2      PAY_AMT3       PAY_AMT4       PAY_AMT5  \\\n",
              "count  3.000000e+04   30000.00000   30000.000000   30000.000000   \n",
              "mean   5.921163e+03    5225.68150    4826.076867    4799.387633   \n",
              "std    2.304087e+04   17606.96147   15666.159744   15278.305679   \n",
              "min    0.000000e+00       0.00000       0.000000       0.000000   \n",
              "25%    8.330000e+02     390.00000     296.000000     252.500000   \n",
              "50%    2.009000e+03    1800.00000    1500.000000    1500.000000   \n",
              "75%    5.000000e+03    4505.00000    4013.250000    4031.500000   \n",
              "max    1.684259e+06  896040.00000  621000.000000  426529.000000   \n",
              "p99    7.665102e+04   70000.00000   67054.440000   65607.560000   \n",
              "\n",
              "            PAY_AMT6  default.payment.next.month  \n",
              "count   30000.000000                30000.000000  \n",
              "mean     5215.502567                    0.221200  \n",
              "std     17777.465775                    0.415062  \n",
              "min         0.000000                    0.000000  \n",
              "25%       117.750000                    0.000000  \n",
              "50%      1500.000000                    0.000000  \n",
              "75%      4000.000000                    0.000000  \n",
              "max    528666.000000                    1.000000  \n",
              "p99     82619.050000                    1.000000  "
            ]
          },
          "execution_count": 13,
          "metadata": {},
          "output_type": "execute_result"
        }
      ],
      "source": [
        "estatisticas_descritivas = df.describe()\n",
        "p99 = df.quantile(0.99)\n",
        "estatisticas_descritivas.loc['p99'] = p99\n",
        "estatisticas_descritivas"
      ]
    },
    {
      "cell_type": "raw",
      "id": "a4bccadb",
      "metadata": {
        "id": "a4bccadb"
      },
      "source": [
        "## Remoção p99 para variaveis abaixo:"
      ]
    },
    {
      "cell_type": "raw",
      "id": "9b949f5d",
      "metadata": {
        "id": "9b949f5d"
      },
      "source": [
        "BILL_AMT1     BILL_AMT2    BILL_AMT6\n",
        "BILL_AMT4     BILL_AMT5    PAY_AMT1\n",
        "PAY_AMT2      PAY_AMT3     PAY_AMT4\n",
        "PAY_AMT6      PAY_AMT5"
      ]
    },
    {
      "cell_type": "code",
      "execution_count": null,
      "id": "caa3e737",
      "metadata": {
        "id": "caa3e737",
        "outputId": "f3c0e9b8-d448-48f8-98b0-cde3744b8801"
      },
      "outputs": [
        {
          "name": "stdout",
          "output_type": "stream",
          "text": [
            "Número de linhas após remoção de outliers: 28097\n"
          ]
        }
      ],
      "source": [
        "variaveis_a_remover_outliers = ['BILL_AMT1', 'BILL_AMT2', 'BILL_AMT4','BILL_AMT5','BILL_AMT6','PAY_AMT1','PAY_AMT2','PAY_AMT3','PAY_AMT4','PAY_AMT5','PAY_AMT6']\n",
        "\n",
        "limite_p99 = df[variaveis_a_remover_outliers].quantile(0.99)\n",
        "mascara_outliers = (df[variaveis_a_remover_outliers] <= limite_p99).all(axis=1)\n",
        "dados_sem_outliers = df[mascara_outliers]\n",
        "print(f\"Número de linhas após remoção de outliers: {dados_sem_outliers.shape[0]}\")"
      ]
    },
    {
      "cell_type": "code",
      "execution_count": null,
      "id": "bbeed8ac",
      "metadata": {
        "id": "bbeed8ac"
      },
      "outputs": [],
      "source": [
        "df = dados_sem_outliers"
      ]
    },
    {
      "cell_type": "markdown",
      "id": "c38a316d",
      "metadata": {
        "id": "c38a316d"
      },
      "source": [
        "### Correlação das variaveis"
      ]
    },
    {
      "cell_type": "code",
      "execution_count": null,
      "id": "33e62a67",
      "metadata": {
        "scrolled": false,
        "id": "33e62a67",
        "outputId": "6ebf3d4b-56dc-4fe1-c484-f9c6c80b2bd2"
      },
      "outputs": [
        {
          "data": {
            "text/plain": [
              "<AxesSubplot:>"
            ]
          },
          "execution_count": 11,
          "metadata": {},
          "output_type": "execute_result"
        },
        {
          "data": {
            "image/png": "[encoded data removed]",
            "text/plain": [
              "<Figure size 864x720 with 2 Axes>"
            ]
          },
          "metadata": {
            "needs_background": "light"
          },
          "output_type": "display_data"
        }
      ],
      "source": [
        "#grafico de correlacao\n",
        "plt.rcParams['figure.figsize'] = (12, 10)\n",
        "sns.heatmap(df.corr())"
      ]
    },
    {
      "cell_type": "code",
      "execution_count": null,
      "id": "3ab0c710",
      "metadata": {
        "id": "3ab0c710"
      },
      "outputs": [],
      "source": [
        "# Funcao que calcula correlação das variaveis explicativas\n",
        "def correlation(dataset, threshold):\n",
        "    col_corr = set()\n",
        "    corr_matrix = dataset.corr()\n",
        "    for i in range(len(corr_matrix.columns)):\n",
        "\n",
        "        for j in range(i):\n",
        "            if abs(corr_matrix.iloc[i, j]) > threshold:\n",
        "                print(abs(corr_matrix.iloc[i, j]), corr_matrix.columns[i], corr_matrix.columns[j])\n",
        "                colname = corr_matrix.columns[j]\n",
        "                col_corr.add(colname)\n",
        "\n",
        "    return col_corr"
      ]
    },
    {
      "cell_type": "code",
      "execution_count": null,
      "id": "33769273",
      "metadata": {
        "id": "33769273",
        "outputId": "4077d9ad-5a3c-4286-81d0-663996be1137"
      },
      "outputs": [
        {
          "name": "stdout",
          "output_type": "stream",
          "text": [
            "0.9641206404079903 BILL_AMT2 BILL_AMT1\n",
            "0.929500167692354 BILL_AMT3 BILL_AMT1\n",
            "0.9623831538868975 BILL_AMT3 BILL_AMT2\n",
            "0.9214622281619103 BILL_AMT4 BILL_AMT2\n",
            "0.953831450424314 BILL_AMT4 BILL_AMT3\n",
            "0.920191516495905 BILL_AMT5 BILL_AMT3\n",
            "0.9619051835345099 BILL_AMT5 BILL_AMT4\n",
            "0.9373488220644077 BILL_AMT6 BILL_AMT4\n",
            "0.9713191955630617 BILL_AMT6 BILL_AMT5\n"
          ]
        },
        {
          "data": {
            "text/plain": [
              "5"
            ]
          },
          "execution_count": 27,
          "metadata": {},
          "output_type": "execute_result"
        }
      ],
      "source": [
        "# Remocao das variaveis com correção acima de 90%\n",
        "corr_features = correlation(df, 0.9)\n",
        "len(set(corr_features))"
      ]
    },
    {
      "cell_type": "code",
      "execution_count": null,
      "id": "e2c3fdfe",
      "metadata": {
        "id": "e2c3fdfe"
      },
      "outputs": [],
      "source": [
        "df.drop(labels=corr_features, axis=1, inplace=True)"
      ]
    },
    {
      "cell_type": "code",
      "execution_count": null,
      "id": "a70bf887",
      "metadata": {
        "id": "a70bf887",
        "outputId": "a0d12d17-f4ed-4a24-e680-a6273c366df2"
      },
      "outputs": [
        {
          "data": {
            "text/plain": [
              "(28097, 20)"
            ]
          },
          "execution_count": 29,
          "metadata": {},
          "output_type": "execute_result"
        }
      ],
      "source": [
        "df.shape"
      ]
    },
    {
      "cell_type": "markdown",
      "id": "523446df",
      "metadata": {
        "id": "523446df"
      },
      "source": [
        "### Seleção das variaveis"
      ]
    },
    {
      "cell_type": "code",
      "execution_count": null,
      "id": "bd516a3d",
      "metadata": {
        "id": "bd516a3d"
      },
      "outputs": [],
      "source": [
        "features = df.columns[1:-1]"
      ]
    },
    {
      "cell_type": "code",
      "execution_count": null,
      "id": "fa0964aa",
      "metadata": {
        "id": "fa0964aa",
        "outputId": "3917005a-cbc4-4a66-fa4f-a28ec582d360"
      },
      "outputs": [
        {
          "data": {
            "text/plain": [
              "Index(['LIMIT_BAL', 'SEX', 'EDUCATION', 'MARRIAGE', 'AGE', 'PAY_0', 'PAY_2',\n",
              "       'PAY_3', 'PAY_4', 'PAY_5', 'PAY_6', 'BILL_AMT6', 'PAY_AMT1', 'PAY_AMT2',\n",
              "       'PAY_AMT3', 'PAY_AMT4', 'PAY_AMT5', 'PAY_AMT6'],\n",
              "      dtype='object')"
            ]
          },
          "execution_count": 32,
          "metadata": {},
          "output_type": "execute_result"
        }
      ],
      "source": [
        "features"
      ]
    },
    {
      "cell_type": "code",
      "execution_count": null,
      "id": "36a73524",
      "metadata": {
        "id": "36a73524"
      },
      "outputs": [],
      "source": [
        "X_train, X_test, y_train, y_test = train_test_split(df[features],df['default.payment.next.month'],test_size=0.3,random_state=42)"
      ]
    },
    {
      "cell_type": "code",
      "execution_count": null,
      "id": "c895cc90",
      "metadata": {
        "id": "c895cc90"
      },
      "outputs": [],
      "source": [
        "def train_and_evaluate(features):\n",
        "    model = RandomForestClassifier(n_estimators=100, random_state=42)\n",
        "    model.fit(X_train[features], y_train)\n",
        "    y_pred = model.predict_proba(X_test[features])[:, 1]\n",
        "    auc = roc_auc_score(y_test, y_pred)\n",
        "    return auc"
      ]
    },
    {
      "cell_type": "code",
      "execution_count": null,
      "id": "f6e409cb",
      "metadata": {
        "id": "f6e409cb"
      },
      "outputs": [],
      "source": [
        "results = []"
      ]
    },
    {
      "cell_type": "code",
      "execution_count": null,
      "id": "1723dfc6",
      "metadata": {
        "id": "1723dfc6"
      },
      "outputs": [],
      "source": [
        "all_features = X_train.columns.tolist()"
      ]
    },
    {
      "cell_type": "code",
      "execution_count": null,
      "id": "fc8b3cd4",
      "metadata": {
        "id": "fc8b3cd4"
      },
      "outputs": [],
      "source": [
        "for i in range(len(all_features), 0, -1):\n",
        "    current_features = all_features[:i]\n",
        "    auc = train_and_evaluate(current_features)\n",
        "    results.append((i, auc))"
      ]
    },
    {
      "cell_type": "code",
      "execution_count": null,
      "id": "f633727e",
      "metadata": {
        "id": "f633727e"
      },
      "outputs": [],
      "source": [
        "best_num_features, best_auc = max(results, key=lambda x: x[1])\n",
        "best_features = all_features[:best_num_features]"
      ]
    },
    {
      "cell_type": "code",
      "execution_count": null,
      "id": "70084d1c",
      "metadata": {
        "id": "70084d1c",
        "outputId": "b03e6a2b-e078-474d-b80c-6b5e74ad0890"
      },
      "outputs": [
        {
          "name": "stdout",
          "output_type": "stream",
          "text": [
            "O número ideal de variáveis é: 17\n",
            "AUC correspondente: 0.7586496686633547\n",
            "Variáveis ideais: ['LIMIT_BAL', 'SEX', 'EDUCATION', 'MARRIAGE', 'AGE', 'PAY_0', 'PAY_2', 'PAY_3', 'PAY_4', 'PAY_5', 'PAY_6', 'BILL_AMT6', 'PAY_AMT1', 'PAY_AMT2', 'PAY_AMT3', 'PAY_AMT4', 'PAY_AMT5']\n"
          ]
        }
      ],
      "source": [
        "print(f\"O número ideal de variáveis é: {best_num_features}\")\n",
        "print(f\"AUC correspondente: {best_auc}\")\n",
        "print(f\"Variáveis ideais: {best_features}\")"
      ]
    },
    {
      "cell_type": "code",
      "execution_count": null,
      "id": "75779222",
      "metadata": {
        "id": "75779222"
      },
      "outputs": [],
      "source": [
        "features_final = ['LIMIT_BAL', 'SEX', 'EDUCATION', 'MARRIAGE', 'AGE', 'PAY_0', 'PAY_2', 'PAY_3', 'PAY_4', 'PAY_5', 'PAY_6', 'BILL_AMT6', 'PAY_AMT1', 'PAY_AMT2', 'PAY_AMT3', 'PAY_AMT4', 'PAY_AMT5']"
      ]
    },
    {
      "cell_type": "markdown",
      "id": "9b1bfd14",
      "metadata": {
        "id": "9b1bfd14"
      },
      "source": [
        "# Treinando o modelo"
      ]
    },
    {
      "cell_type": "code",
      "execution_count": null,
      "id": "2a6d541e",
      "metadata": {
        "id": "2a6d541e",
        "outputId": "d0bb0943-5d0d-4190-a796-97256cf9e073"
      },
      "outputs": [
        {
          "data": {
            "text/plain": [
              "((19667, 17), (8430, 17))"
            ]
          },
          "execution_count": 104,
          "metadata": {},
          "output_type": "execute_result"
        }
      ],
      "source": [
        "# Divindo a base em densenvolvimento e validação (oot-time)\n",
        "X_dens, X_val, y_dens, y_val = train_test_split(df[features_final], df['default.payment.next.month'], test_size=0.3,random_state=0)\n",
        "X_dens.shape, X_val.shape"
      ]
    },
    {
      "cell_type": "code",
      "execution_count": null,
      "id": "ed94ad81",
      "metadata": {
        "id": "ed94ad81",
        "outputId": "662f6917-ae00-4f4f-c45c-583e4340c6a4"
      },
      "outputs": [
        {
          "data": {
            "text/plain": [
              "((13766, 17), (5901, 17))"
            ]
          },
          "execution_count": 105,
          "metadata": {},
          "output_type": "execute_result"
        }
      ],
      "source": [
        "#Divisao base desenvolvimento em treino e teste\n",
        "from sklearn.model_selection import train_test_split\n",
        "X_train, X_test, y_train, y_test = train_test_split(X_dens, y_dens, test_size=0.3,random_state=0)\n",
        "X_train.shape, X_test.shape"
      ]
    },
    {
      "cell_type": "markdown",
      "id": "81be5ad9",
      "metadata": {
        "id": "81be5ad9"
      },
      "source": [
        "### Otimizador de hiperparametros"
      ]
    },
    {
      "cell_type": "code",
      "execution_count": null,
      "id": "47f5f81f",
      "metadata": {
        "id": "47f5f81f"
      },
      "outputs": [],
      "source": [
        "def objective(trial):\n",
        "    params = {\n",
        "        'objective': 'binary:logistic',\n",
        "        'eval_metric': 'auc',\n",
        "        'booster': trial.suggest_categorical('booster', ['gbtree', 'gblinear', 'dart']),\n",
        "        'lambda': trial.suggest_loguniform('lambda', 1e-8, 1.0),\n",
        "        'alpha': trial.suggest_loguniform('alpha', 1e-8, 1.0),\n",
        "        'max_depth': trial.suggest_int('max_depth', 1, 9),\n",
        "        'eta': trial.suggest_loguniform('eta', 1e-8, 1.0),\n",
        "        'gamma': trial.suggest_loguniform('gamma', 1e-8, 1.0),\n",
        "        'colsample_bytree': trial.suggest_uniform('colsample_bytree', 0.0, 1.0),\n",
        "        'min_child_weight': trial.suggest_int('min_child_weight', 0, 10),\n",
        "    }\n",
        "\n",
        "    model = xgb.XGBClassifier(**params)\n",
        "    model.fit(X_train, y_train)\n",
        "\n",
        "\n",
        "    y_pred = model.predict_proba(X_test)[:, 1]\n",
        "\n",
        "    auc = roc_auc_score(y_test, y_pred)\n",
        "\n",
        "    return auc"
      ]
    },
    {
      "cell_type": "code",
      "execution_count": null,
      "id": "c507e7bd",
      "metadata": {
        "id": "c507e7bd",
        "outputId": "955a4a63-f733-4b16-d567-36912ddf6929"
      },
      "outputs": [
        {
          "name": "stderr",
          "output_type": "stream",
          "text": [
            "[I 2024-01-11 20:11:50,263] A new study created in memory with name: no-name-89e4c7cc-b904-4295-9886-e39a62e98b05\n",
            "<ipython-input-57-f903170c0d2c>:7: FutureWarning: suggest_loguniform has been deprecated in v3.0.0. This feature will be removed in v6.0.0. See https://github.com/optuna/optuna/releases/tag/v3.0.0. Use suggest_float(..., log=True) instead.\n",
            "  'lambda': trial.suggest_loguniform('lambda', 1e-8, 1.0),\n",
            "<ipython-input-57-f903170c0d2c>:8: FutureWarning: suggest_loguniform has been deprecated in v3.0.0. This feature will be removed in v6.0.0. See https://github.com/optuna/optuna/releases/tag/v3.0.0. Use suggest_float(..., log=True) instead.\n",
            "  'alpha': trial.suggest_loguniform('alpha', 1e-8, 1.0),\n",
            "<ipython-input-57-f903170c0d2c>:10: FutureWarning: suggest_loguniform has been deprecated in v3.0.0. This feature will be removed in v6.0.0. See https://github.com/optuna/optuna/releases/tag/v3.0.0. Use suggest_float(..., log=True) instead.\n",
            "  'eta': trial.suggest_loguniform('eta', 1e-8, 1.0),\n",
            "<ipython-input-57-f903170c0d2c>:11: FutureWarning: suggest_loguniform has been deprecated in v3.0.0. This feature will be removed in v6.0.0. See https://github.com/optuna/optuna/releases/tag/v3.0.0. Use suggest_float(..., log=True) instead.\n",
            "  'gamma': trial.suggest_loguniform('gamma', 1e-8, 1.0),\n",
            "<ipython-input-57-f903170c0d2c>:12: FutureWarning: suggest_uniform has been deprecated in v3.0.0. This feature will be removed in v6.0.0. See https://github.com/optuna/optuna/releases/tag/v3.0.0. Use suggest_float instead.\n",
            "  'colsample_bytree': trial.suggest_uniform('colsample_bytree', 0.0, 1.0),\n",
            "[I 2024-01-11 20:11:50,473] Trial 0 finished with value: 0.7696456555648522 and parameters: {'booster': 'gbtree', 'lambda': 6.321908280129636e-08, 'alpha': 2.2203912165524058e-08, 'max_depth': 3, 'eta': 0.0014037565252432605, 'gamma': 8.83593760935471e-06, 'colsample_bytree': 0.22101698057855113, 'min_child_weight': 10}. Best is trial 0 with value: 0.7696456555648522.\n",
            "<ipython-input-57-f903170c0d2c>:7: FutureWarning: suggest_loguniform has been deprecated in v3.0.0. This feature will be removed in v6.0.0. See https://github.com/optuna/optuna/releases/tag/v3.0.0. Use suggest_float(..., log=True) instead.\n",
            "  'lambda': trial.suggest_loguniform('lambda', 1e-8, 1.0),\n",
            "<ipython-input-57-f903170c0d2c>:8: FutureWarning: suggest_loguniform has been deprecated in v3.0.0. This feature will be removed in v6.0.0. See https://github.com/optuna/optuna/releases/tag/v3.0.0. Use suggest_float(..., log=True) instead.\n",
            "  'alpha': trial.suggest_loguniform('alpha', 1e-8, 1.0),\n",
            "<ipython-input-57-f903170c0d2c>:10: FutureWarning: suggest_loguniform has been deprecated in v3.0.0. This feature will be removed in v6.0.0. See https://github.com/optuna/optuna/releases/tag/v3.0.0. Use suggest_float(..., log=True) instead.\n",
            "  'eta': trial.suggest_loguniform('eta', 1e-8, 1.0),\n",
            "<ipython-input-57-f903170c0d2c>:11: FutureWarning: suggest_loguniform has been deprecated in v3.0.0. This feature will be removed in v6.0.0. See https://github.com/optuna/optuna/releases/tag/v3.0.0. Use suggest_float(..., log=True) instead.\n",
            "  'gamma': trial.suggest_loguniform('gamma', 1e-8, 1.0),\n",
            "<ipython-input-57-f903170c0d2c>:12: FutureWarning: suggest_uniform has been deprecated in v3.0.0. This feature will be removed in v6.0.0. See https://github.com/optuna/optuna/releases/tag/v3.0.0. Use suggest_float instead.\n",
            "  'colsample_bytree': trial.suggest_uniform('colsample_bytree', 0.0, 1.0),\n",
            "[I 2024-01-11 20:11:51,144] Trial 1 finished with value: 0.7731921957408738 and parameters: {'booster': 'gbtree', 'lambda': 0.3181436670453999, 'alpha': 0.036893947859746416, 'max_depth': 7, 'eta': 4.32859368777887e-05, 'gamma': 9.641436721368866e-05, 'colsample_bytree': 0.7818804456592584, 'min_child_weight': 0}. Best is trial 1 with value: 0.7731921957408738.\n",
            "<ipython-input-57-f903170c0d2c>:7: FutureWarning: suggest_loguniform has been deprecated in v3.0.0. This feature will be removed in v6.0.0. See https://github.com/optuna/optuna/releases/tag/v3.0.0. Use suggest_float(..., log=True) instead.\n",
            "  'lambda': trial.suggest_loguniform('lambda', 1e-8, 1.0),\n",
            "<ipython-input-57-f903170c0d2c>:8: FutureWarning: suggest_loguniform has been deprecated in v3.0.0. This feature will be removed in v6.0.0. See https://github.com/optuna/optuna/releases/tag/v3.0.0. Use suggest_float(..., log=True) instead.\n",
            "  'alpha': trial.suggest_loguniform('alpha', 1e-8, 1.0),\n",
            "<ipython-input-57-f903170c0d2c>:10: FutureWarning: suggest_loguniform has been deprecated in v3.0.0. This feature will be removed in v6.0.0. See https://github.com/optuna/optuna/releases/tag/v3.0.0. Use suggest_float(..., log=True) instead.\n",
            "  'eta': trial.suggest_loguniform('eta', 1e-8, 1.0),\n",
            "<ipython-input-57-f903170c0d2c>:11: FutureWarning: suggest_loguniform has been deprecated in v3.0.0. This feature will be removed in v6.0.0. See https://github.com/optuna/optuna/releases/tag/v3.0.0. Use suggest_float(..., log=True) instead.\n",
            "  'gamma': trial.suggest_loguniform('gamma', 1e-8, 1.0),\n",
            "<ipython-input-57-f903170c0d2c>:12: FutureWarning: suggest_uniform has been deprecated in v3.0.0. This feature will be removed in v6.0.0. See https://github.com/optuna/optuna/releases/tag/v3.0.0. Use suggest_float instead.\n",
            "  'colsample_bytree': trial.suggest_uniform('colsample_bytree', 0.0, 1.0),\n",
            "[I 2024-01-11 20:11:51,314] Trial 2 finished with value: 0.7734297630253921 and parameters: {'booster': 'gbtree', 'lambda': 0.02684257359949759, 'alpha': 2.4290726504432865e-07, 'max_depth': 2, 'eta': 0.1453558470782495, 'gamma': 0.0003684090383660434, 'colsample_bytree': 0.2097373606966847, 'min_child_weight': 0}. Best is trial 2 with value: 0.7734297630253921.\n",
            "<ipython-input-57-f903170c0d2c>:7: FutureWarning: suggest_loguniform has been deprecated in v3.0.0. This feature will be removed in v6.0.0. See https://github.com/optuna/optuna/releases/tag/v3.0.0. Use suggest_float(..., log=True) instead.\n",
            "  'lambda': trial.suggest_loguniform('lambda', 1e-8, 1.0),\n",
            "<ipython-input-57-f903170c0d2c>:8: FutureWarning: suggest_loguniform has been deprecated in v3.0.0. This feature will be removed in v6.0.0. See https://github.com/optuna/optuna/releases/tag/v3.0.0. Use suggest_float(..., log=True) instead.\n",
            "  'alpha': trial.suggest_loguniform('alpha', 1e-8, 1.0),\n",
            "<ipython-input-57-f903170c0d2c>:10: FutureWarning: suggest_loguniform has been deprecated in v3.0.0. This feature will be removed in v6.0.0. See https://github.com/optuna/optuna/releases/tag/v3.0.0. Use suggest_float(..., log=True) instead.\n",
            "  'eta': trial.suggest_loguniform('eta', 1e-8, 1.0),\n",
            "<ipython-input-57-f903170c0d2c>:11: FutureWarning: suggest_loguniform has been deprecated in v3.0.0. This feature will be removed in v6.0.0. See https://github.com/optuna/optuna/releases/tag/v3.0.0. Use suggest_float(..., log=True) instead.\n",
            "  'gamma': trial.suggest_loguniform('gamma', 1e-8, 1.0),\n",
            "<ipython-input-57-f903170c0d2c>:12: FutureWarning: suggest_uniform has been deprecated in v3.0.0. This feature will be removed in v6.0.0. See https://github.com/optuna/optuna/releases/tag/v3.0.0. Use suggest_float instead.\n",
            "  'colsample_bytree': trial.suggest_uniform('colsample_bytree', 0.0, 1.0),\n",
            "[I 2024-01-11 20:11:52,826] Trial 3 finished with value: 0.775111027525688 and parameters: {'booster': 'dart', 'lambda': 0.027598328198037213, 'alpha': 0.33716545665194997, 'max_depth': 8, 'eta': 0.0002484182906299773, 'gamma': 8.844990209641088e-08, 'colsample_bytree': 0.19662643087692888, 'min_child_weight': 8}. Best is trial 3 with value: 0.775111027525688.\n",
            "<ipython-input-57-f903170c0d2c>:7: FutureWarning: suggest_loguniform has been deprecated in v3.0.0. This feature will be removed in v6.0.0. See https://github.com/optuna/optuna/releases/tag/v3.0.0. Use suggest_float(..., log=True) instead.\n",
            "  'lambda': trial.suggest_loguniform('lambda', 1e-8, 1.0),\n",
            "<ipython-input-57-f903170c0d2c>:8: FutureWarning: suggest_loguniform has been deprecated in v3.0.0. This feature will be removed in v6.0.0. See https://github.com/optuna/optuna/releases/tag/v3.0.0. Use suggest_float(..., log=True) instead.\n",
            "  'alpha': trial.suggest_loguniform('alpha', 1e-8, 1.0),\n",
            "<ipython-input-57-f903170c0d2c>:10: FutureWarning: suggest_loguniform has been deprecated in v3.0.0. This feature will be removed in v6.0.0. See https://github.com/optuna/optuna/releases/tag/v3.0.0. Use suggest_float(..., log=True) instead.\n",
            "  'eta': trial.suggest_loguniform('eta', 1e-8, 1.0),\n",
            "<ipython-input-57-f903170c0d2c>:11: FutureWarning: suggest_loguniform has been deprecated in v3.0.0. This feature will be removed in v6.0.0. See https://github.com/optuna/optuna/releases/tag/v3.0.0. Use suggest_float(..., log=True) instead.\n",
            "  'gamma': trial.suggest_loguniform('gamma', 1e-8, 1.0),\n",
            "<ipython-input-57-f903170c0d2c>:12: FutureWarning: suggest_uniform has been deprecated in v3.0.0. This feature will be removed in v6.0.0. See https://github.com/optuna/optuna/releases/tag/v3.0.0. Use suggest_float instead.\n",
            "  'colsample_bytree': trial.suggest_uniform('colsample_bytree', 0.0, 1.0),\n",
            "[I 2024-01-11 20:11:54,554] Trial 4 finished with value: 0.776782607227277 and parameters: {'booster': 'dart', 'lambda': 0.014228111009394629, 'alpha': 0.01724074096153256, 'max_depth': 9, 'eta': 1.1383884499660256e-05, 'gamma': 9.275068398803857e-07, 'colsample_bytree': 0.5145217436153172, 'min_child_weight': 7}. Best is trial 4 with value: 0.776782607227277.\n",
            "<ipython-input-57-f903170c0d2c>:7: FutureWarning: suggest_loguniform has been deprecated in v3.0.0. This feature will be removed in v6.0.0. See https://github.com/optuna/optuna/releases/tag/v3.0.0. Use suggest_float(..., log=True) instead.\n",
            "  'lambda': trial.suggest_loguniform('lambda', 1e-8, 1.0),\n",
            "<ipython-input-57-f903170c0d2c>:8: FutureWarning: suggest_loguniform has been deprecated in v3.0.0. This feature will be removed in v6.0.0. See https://github.com/optuna/optuna/releases/tag/v3.0.0. Use suggest_float(..., log=True) instead.\n",
            "  'alpha': trial.suggest_loguniform('alpha', 1e-8, 1.0),\n",
            "<ipython-input-57-f903170c0d2c>:10: FutureWarning: suggest_loguniform has been deprecated in v3.0.0. This feature will be removed in v6.0.0. See https://github.com/optuna/optuna/releases/tag/v3.0.0. Use suggest_float(..., log=True) instead.\n",
            "  'eta': trial.suggest_loguniform('eta', 1e-8, 1.0),\n",
            "<ipython-input-57-f903170c0d2c>:11: FutureWarning: suggest_loguniform has been deprecated in v3.0.0. This feature will be removed in v6.0.0. See https://github.com/optuna/optuna/releases/tag/v3.0.0. Use suggest_float(..., log=True) instead.\n",
            "  'gamma': trial.suggest_loguniform('gamma', 1e-8, 1.0),\n",
            "<ipython-input-57-f903170c0d2c>:12: FutureWarning: suggest_uniform has been deprecated in v3.0.0. This feature will be removed in v6.0.0. See https://github.com/optuna/optuna/releases/tag/v3.0.0. Use suggest_float instead.\n",
            "  'colsample_bytree': trial.suggest_uniform('colsample_bytree', 0.0, 1.0),\n",
            "[I 2024-01-11 20:11:55,599] Trial 5 finished with value: 0.769759472643672 and parameters: {'booster': 'dart', 'lambda': 2.005653073268941e-05, 'alpha': 0.03797417055449774, 'max_depth': 5, 'eta': 0.006970335101142672, 'gamma': 0.08987579700411646, 'colsample_bytree': 0.1752053618372128, 'min_child_weight': 7}. Best is trial 4 with value: 0.776782607227277.\n",
            "<ipython-input-57-f903170c0d2c>:7: FutureWarning: suggest_loguniform has been deprecated in v3.0.0. This feature will be removed in v6.0.0. See https://github.com/optuna/optuna/releases/tag/v3.0.0. Use suggest_float(..., log=True) instead.\n",
            "  'lambda': trial.suggest_loguniform('lambda', 1e-8, 1.0),\n",
            "<ipython-input-57-f903170c0d2c>:8: FutureWarning: suggest_loguniform has been deprecated in v3.0.0. This feature will be removed in v6.0.0. See https://github.com/optuna/optuna/releases/tag/v3.0.0. Use suggest_float(..., log=True) instead.\n",
            "  'alpha': trial.suggest_loguniform('alpha', 1e-8, 1.0),\n",
            "<ipython-input-57-f903170c0d2c>:10: FutureWarning: suggest_loguniform has been deprecated in v3.0.0. This feature will be removed in v6.0.0. See https://github.com/optuna/optuna/releases/tag/v3.0.0. Use suggest_float(..., log=True) instead.\n",
            "  'eta': trial.suggest_loguniform('eta', 1e-8, 1.0),\n",
            "<ipython-input-57-f903170c0d2c>:11: FutureWarning: suggest_loguniform has been deprecated in v3.0.0. This feature will be removed in v6.0.0. See https://github.com/optuna/optuna/releases/tag/v3.0.0. Use suggest_float(..., log=True) instead.\n",
            "  'gamma': trial.suggest_loguniform('gamma', 1e-8, 1.0),\n",
            "<ipython-input-57-f903170c0d2c>:12: FutureWarning: suggest_uniform has been deprecated in v3.0.0. This feature will be removed in v6.0.0. See https://github.com/optuna/optuna/releases/tag/v3.0.0. Use suggest_float instead.\n",
            "  'colsample_bytree': trial.suggest_uniform('colsample_bytree', 0.0, 1.0),\n",
            "[I 2024-01-11 20:11:56,488] Trial 6 finished with value: 0.7234013211720958 and parameters: {'booster': 'gbtree', 'lambda': 2.8595513983196103e-06, 'alpha': 1.4126600487579433e-05, 'max_depth': 9, 'eta': 0.764572117103433, 'gamma': 3.881086257330912e-07, 'colsample_bytree': 0.9758238405538964, 'min_child_weight': 0}. Best is trial 4 with value: 0.776782607227277.\n",
            "<ipython-input-57-f903170c0d2c>:7: FutureWarning: suggest_loguniform has been deprecated in v3.0.0. This feature will be removed in v6.0.0. See https://github.com/optuna/optuna/releases/tag/v3.0.0. Use suggest_float(..., log=True) instead.\n",
            "  'lambda': trial.suggest_loguniform('lambda', 1e-8, 1.0),\n",
            "<ipython-input-57-f903170c0d2c>:8: FutureWarning: suggest_loguniform has been deprecated in v3.0.0. This feature will be removed in v6.0.0. See https://github.com/optuna/optuna/releases/tag/v3.0.0. Use suggest_float(..., log=True) instead.\n",
            "  'alpha': trial.suggest_loguniform('alpha', 1e-8, 1.0),\n",
            "<ipython-input-57-f903170c0d2c>:10: FutureWarning: suggest_loguniform has been deprecated in v3.0.0. This feature will be removed in v6.0.0. See https://github.com/optuna/optuna/releases/tag/v3.0.0. Use suggest_float(..., log=True) instead.\n",
            "  'eta': trial.suggest_loguniform('eta', 1e-8, 1.0),\n",
            "<ipython-input-57-f903170c0d2c>:11: FutureWarning: suggest_loguniform has been deprecated in v3.0.0. This feature will be removed in v6.0.0. See https://github.com/optuna/optuna/releases/tag/v3.0.0. Use suggest_float(..., log=True) instead.\n",
            "  'gamma': trial.suggest_loguniform('gamma', 1e-8, 1.0),\n",
            "<ipython-input-57-f903170c0d2c>:12: FutureWarning: suggest_uniform has been deprecated in v3.0.0. This feature will be removed in v6.0.0. See https://github.com/optuna/optuna/releases/tag/v3.0.0. Use suggest_float instead.\n",
            "  'colsample_bytree': trial.suggest_uniform('colsample_bytree', 0.0, 1.0),\n",
            "[I 2024-01-11 20:11:56,918] Trial 7 finished with value: 0.7767323621604816 and parameters: {'booster': 'gbtree', 'lambda': 2.986224599426851e-08, 'alpha': 4.328996022742835e-06, 'max_depth': 6, 'eta': 0.021203796162505055, 'gamma': 0.1227834426362232, 'colsample_bytree': 0.5414910152249482, 'min_child_weight': 6}. Best is trial 4 with value: 0.776782607227277.\n",
            "<ipython-input-57-f903170c0d2c>:7: FutureWarning: suggest_loguniform has been deprecated in v3.0.0. This feature will be removed in v6.0.0. See https://github.com/optuna/optuna/releases/tag/v3.0.0. Use suggest_float(..., log=True) instead.\n",
            "  'lambda': trial.suggest_loguniform('lambda', 1e-8, 1.0),\n",
            "<ipython-input-57-f903170c0d2c>:8: FutureWarning: suggest_loguniform has been deprecated in v3.0.0. This feature will be removed in v6.0.0. See https://github.com/optuna/optuna/releases/tag/v3.0.0. Use suggest_float(..., log=True) instead.\n",
            "  'alpha': trial.suggest_loguniform('alpha', 1e-8, 1.0),\n",
            "<ipython-input-57-f903170c0d2c>:10: FutureWarning: suggest_loguniform has been deprecated in v3.0.0. This feature will be removed in v6.0.0. See https://github.com/optuna/optuna/releases/tag/v3.0.0. Use suggest_float(..., log=True) instead.\n",
            "  'eta': trial.suggest_loguniform('eta', 1e-8, 1.0),\n",
            "<ipython-input-57-f903170c0d2c>:11: FutureWarning: suggest_loguniform has been deprecated in v3.0.0. This feature will be removed in v6.0.0. See https://github.com/optuna/optuna/releases/tag/v3.0.0. Use suggest_float(..., log=True) instead.\n",
            "  'gamma': trial.suggest_loguniform('gamma', 1e-8, 1.0),\n",
            "<ipython-input-57-f903170c0d2c>:12: FutureWarning: suggest_uniform has been deprecated in v3.0.0. This feature will be removed in v6.0.0. See https://github.com/optuna/optuna/releases/tag/v3.0.0. Use suggest_float instead.\n",
            "  'colsample_bytree': trial.suggest_uniform('colsample_bytree', 0.0, 1.0),\n",
            "[I 2024-01-11 20:11:57,025] Trial 8 finished with value: 0.7037761112934023 and parameters: {'booster': 'gblinear', 'lambda': 0.03403830553829469, 'alpha': 0.01283126835120139, 'max_depth': 5, 'eta': 0.0008164125354641429, 'gamma': 0.0047479712497289685, 'colsample_bytree': 0.39533174059356657, 'min_child_weight': 2}. Best is trial 4 with value: 0.776782607227277.\n",
            "<ipython-input-57-f903170c0d2c>:7: FutureWarning: suggest_loguniform has been deprecated in v3.0.0. This feature will be removed in v6.0.0. See https://github.com/optuna/optuna/releases/tag/v3.0.0. Use suggest_float(..., log=True) instead.\n",
            "  'lambda': trial.suggest_loguniform('lambda', 1e-8, 1.0),\n",
            "<ipython-input-57-f903170c0d2c>:8: FutureWarning: suggest_loguniform has been deprecated in v3.0.0. This feature will be removed in v6.0.0. See https://github.com/optuna/optuna/releases/tag/v3.0.0. Use suggest_float(..., log=True) instead.\n",
            "  'alpha': trial.suggest_loguniform('alpha', 1e-8, 1.0),\n",
            "<ipython-input-57-f903170c0d2c>:10: FutureWarning: suggest_loguniform has been deprecated in v3.0.0. This feature will be removed in v6.0.0. See https://github.com/optuna/optuna/releases/tag/v3.0.0. Use suggest_float(..., log=True) instead.\n",
            "  'eta': trial.suggest_loguniform('eta', 1e-8, 1.0),\n",
            "<ipython-input-57-f903170c0d2c>:11: FutureWarning: suggest_loguniform has been deprecated in v3.0.0. This feature will be removed in v6.0.0. See https://github.com/optuna/optuna/releases/tag/v3.0.0. Use suggest_float(..., log=True) instead.\n",
            "  'gamma': trial.suggest_loguniform('gamma', 1e-8, 1.0),\n",
            "<ipython-input-57-f903170c0d2c>:12: FutureWarning: suggest_uniform has been deprecated in v3.0.0. This feature will be removed in v6.0.0. See https://github.com/optuna/optuna/releases/tag/v3.0.0. Use suggest_float instead.\n",
            "  'colsample_bytree': trial.suggest_uniform('colsample_bytree', 0.0, 1.0),\n"
          ]
        },
        {
          "name": "stdout",
          "output_type": "stream",
          "text": [
            "[20:11:56] WARNING: C:\\buildkite-agent\\builds\\buildkite-windows-cpu-autoscaling-group-i-0fdc6d574b9c0d168-1\\xgboost\\xgboost-ci-windows\\src\\learner.cc:767: \n",
            "Parameters: { \"colsample_bytree\", \"gamma\", \"max_depth\", \"min_child_weight\" } are not used.\n",
            "\n"
          ]
        },
        {
          "name": "stderr",
          "output_type": "stream",
          "text": [
            "[I 2024-01-11 20:11:57,273] Trial 9 finished with value: 0.769519918733778 and parameters: {'booster': 'gbtree', 'lambda': 0.00034617417115819985, 'alpha': 6.593309642189017e-05, 'max_depth': 6, 'eta': 5.300280230357275e-07, 'gamma': 0.010615823334750155, 'colsample_bytree': 0.13559487519122015, 'min_child_weight': 6}. Best is trial 4 with value: 0.776782607227277.\n",
            "<ipython-input-57-f903170c0d2c>:7: FutureWarning: suggest_loguniform has been deprecated in v3.0.0. This feature will be removed in v6.0.0. See https://github.com/optuna/optuna/releases/tag/v3.0.0. Use suggest_float(..., log=True) instead.\n",
            "  'lambda': trial.suggest_loguniform('lambda', 1e-8, 1.0),\n",
            "<ipython-input-57-f903170c0d2c>:8: FutureWarning: suggest_loguniform has been deprecated in v3.0.0. This feature will be removed in v6.0.0. See https://github.com/optuna/optuna/releases/tag/v3.0.0. Use suggest_float(..., log=True) instead.\n",
            "  'alpha': trial.suggest_loguniform('alpha', 1e-8, 1.0),\n",
            "<ipython-input-57-f903170c0d2c>:10: FutureWarning: suggest_loguniform has been deprecated in v3.0.0. This feature will be removed in v6.0.0. See https://github.com/optuna/optuna/releases/tag/v3.0.0. Use suggest_float(..., log=True) instead.\n",
            "  'eta': trial.suggest_loguniform('eta', 1e-8, 1.0),\n",
            "<ipython-input-57-f903170c0d2c>:11: FutureWarning: suggest_loguniform has been deprecated in v3.0.0. This feature will be removed in v6.0.0. See https://github.com/optuna/optuna/releases/tag/v3.0.0. Use suggest_float(..., log=True) instead.\n",
            "  'gamma': trial.suggest_loguniform('gamma', 1e-8, 1.0),\n",
            "<ipython-input-57-f903170c0d2c>:12: FutureWarning: suggest_uniform has been deprecated in v3.0.0. This feature will be removed in v6.0.0. See https://github.com/optuna/optuna/releases/tag/v3.0.0. Use suggest_float instead.\n",
            "  'colsample_bytree': trial.suggest_uniform('colsample_bytree', 0.0, 1.0),\n",
            "[I 2024-01-11 20:11:58,995] Trial 10 finished with value: 0.7757344967894478 and parameters: {'booster': 'dart', 'lambda': 0.0007754191841077363, 'alpha': 0.005886927880914859, 'max_depth': 9, 'eta': 9.766756366353908e-08, 'gamma': 1.2212318314136665e-08, 'colsample_bytree': 0.578555158408841, 'min_child_weight': 4}. Best is trial 4 with value: 0.776782607227277.\n",
            "<ipython-input-57-f903170c0d2c>:7: FutureWarning: suggest_loguniform has been deprecated in v3.0.0. This feature will be removed in v6.0.0. See https://github.com/optuna/optuna/releases/tag/v3.0.0. Use suggest_float(..., log=True) instead.\n",
            "  'lambda': trial.suggest_loguniform('lambda', 1e-8, 1.0),\n",
            "<ipython-input-57-f903170c0d2c>:8: FutureWarning: suggest_loguniform has been deprecated in v3.0.0. This feature will be removed in v6.0.0. See https://github.com/optuna/optuna/releases/tag/v3.0.0. Use suggest_float(..., log=True) instead.\n",
            "  'alpha': trial.suggest_loguniform('alpha', 1e-8, 1.0),\n",
            "<ipython-input-57-f903170c0d2c>:10: FutureWarning: suggest_loguniform has been deprecated in v3.0.0. This feature will be removed in v6.0.0. See https://github.com/optuna/optuna/releases/tag/v3.0.0. Use suggest_float(..., log=True) instead.\n",
            "  'eta': trial.suggest_loguniform('eta', 1e-8, 1.0),\n",
            "<ipython-input-57-f903170c0d2c>:11: FutureWarning: suggest_loguniform has been deprecated in v3.0.0. This feature will be removed in v6.0.0. See https://github.com/optuna/optuna/releases/tag/v3.0.0. Use suggest_float(..., log=True) instead.\n",
            "  'gamma': trial.suggest_loguniform('gamma', 1e-8, 1.0),\n",
            "<ipython-input-57-f903170c0d2c>:12: FutureWarning: suggest_uniform has been deprecated in v3.0.0. This feature will be removed in v6.0.0. See https://github.com/optuna/optuna/releases/tag/v3.0.0. Use suggest_float instead.\n",
            "  'colsample_bytree': trial.suggest_uniform('colsample_bytree', 0.0, 1.0),\n",
            "[I 2024-01-11 20:11:59,135] Trial 11 finished with value: 0.7038152643685163 and parameters: {'booster': 'gblinear', 'lambda': 5.136006460780928e-08, 'alpha': 3.945672658395481e-06, 'max_depth': 4, 'eta': 3.74761529101309e-06, 'gamma': 3.6369795639837082e-06, 'colsample_bytree': 0.5070318795844045, 'min_child_weight': 4}. Best is trial 4 with value: 0.776782607227277.\n",
            "<ipython-input-57-f903170c0d2c>:7: FutureWarning: suggest_loguniform has been deprecated in v3.0.0. This feature will be removed in v6.0.0. See https://github.com/optuna/optuna/releases/tag/v3.0.0. Use suggest_float(..., log=True) instead.\n",
            "  'lambda': trial.suggest_loguniform('lambda', 1e-8, 1.0),\n",
            "<ipython-input-57-f903170c0d2c>:8: FutureWarning: suggest_loguniform has been deprecated in v3.0.0. This feature will be removed in v6.0.0. See https://github.com/optuna/optuna/releases/tag/v3.0.0. Use suggest_float(..., log=True) instead.\n",
            "  'alpha': trial.suggest_loguniform('alpha', 1e-8, 1.0),\n",
            "<ipython-input-57-f903170c0d2c>:10: FutureWarning: suggest_loguniform has been deprecated in v3.0.0. This feature will be removed in v6.0.0. See https://github.com/optuna/optuna/releases/tag/v3.0.0. Use suggest_float(..., log=True) instead.\n",
            "  'eta': trial.suggest_loguniform('eta', 1e-8, 1.0),\n",
            "<ipython-input-57-f903170c0d2c>:11: FutureWarning: suggest_loguniform has been deprecated in v3.0.0. This feature will be removed in v6.0.0. See https://github.com/optuna/optuna/releases/tag/v3.0.0. Use suggest_float(..., log=True) instead.\n",
            "  'gamma': trial.suggest_loguniform('gamma', 1e-8, 1.0),\n",
            "<ipython-input-57-f903170c0d2c>:12: FutureWarning: suggest_uniform has been deprecated in v3.0.0. This feature will be removed in v6.0.0. See https://github.com/optuna/optuna/releases/tag/v3.0.0. Use suggest_float instead.\n",
            "  'colsample_bytree': trial.suggest_uniform('colsample_bytree', 0.0, 1.0),\n"
          ]
        },
        {
          "name": "stdout",
          "output_type": "stream",
          "text": [
            "[20:11:59] WARNING: C:\\buildkite-agent\\builds\\buildkite-windows-cpu-autoscaling-group-i-0fdc6d574b9c0d168-1\\xgboost\\xgboost-ci-windows\\src\\learner.cc:767: \n",
            "Parameters: { \"colsample_bytree\", \"gamma\", \"max_depth\", \"min_child_weight\" } are not used.\n",
            "\n"
          ]
        },
        {
          "name": "stderr",
          "output_type": "stream",
          "text": [
            "[I 2024-01-11 20:12:00,633] Trial 12 finished with value: 0.7739631719387842 and parameters: {'booster': 'dart', 'lambda': 1.1899434537051429e-06, 'alpha': 0.0008695029306682543, 'max_depth': 7, 'eta': 1.7894045633800285e-05, 'gamma': 0.25855092237638416, 'colsample_bytree': 0.6414188828847043, 'min_child_weight': 9}. Best is trial 4 with value: 0.776782607227277.\n",
            "<ipython-input-57-f903170c0d2c>:7: FutureWarning: suggest_loguniform has been deprecated in v3.0.0. This feature will be removed in v6.0.0. See https://github.com/optuna/optuna/releases/tag/v3.0.0. Use suggest_float(..., log=True) instead.\n",
            "  'lambda': trial.suggest_loguniform('lambda', 1e-8, 1.0),\n",
            "<ipython-input-57-f903170c0d2c>:8: FutureWarning: suggest_loguniform has been deprecated in v3.0.0. This feature will be removed in v6.0.0. See https://github.com/optuna/optuna/releases/tag/v3.0.0. Use suggest_float(..., log=True) instead.\n",
            "  'alpha': trial.suggest_loguniform('alpha', 1e-8, 1.0),\n",
            "<ipython-input-57-f903170c0d2c>:10: FutureWarning: suggest_loguniform has been deprecated in v3.0.0. This feature will be removed in v6.0.0. See https://github.com/optuna/optuna/releases/tag/v3.0.0. Use suggest_float(..., log=True) instead.\n",
            "  'eta': trial.suggest_loguniform('eta', 1e-8, 1.0),\n",
            "<ipython-input-57-f903170c0d2c>:11: FutureWarning: suggest_loguniform has been deprecated in v3.0.0. This feature will be removed in v6.0.0. See https://github.com/optuna/optuna/releases/tag/v3.0.0. Use suggest_float(..., log=True) instead.\n",
            "  'gamma': trial.suggest_loguniform('gamma', 1e-8, 1.0),\n",
            "<ipython-input-57-f903170c0d2c>:12: FutureWarning: suggest_uniform has been deprecated in v3.0.0. This feature will be removed in v6.0.0. See https://github.com/optuna/optuna/releases/tag/v3.0.0. Use suggest_float instead.\n",
            "  'colsample_bytree': trial.suggest_uniform('colsample_bytree', 0.0, 1.0),\n",
            "[I 2024-01-11 20:12:01,460] Trial 13 finished with value: 0.7622496148430052 and parameters: {'booster': 'dart', 'lambda': 0.001621024612475306, 'alpha': 0.0003201819686288931, 'max_depth': 1, 'eta': 0.023092816989164273, 'gamma': 8.812887144608777e-05, 'colsample_bytree': 0.38337729916888774, 'min_child_weight': 6}. Best is trial 4 with value: 0.776782607227277.\n",
            "<ipython-input-57-f903170c0d2c>:7: FutureWarning: suggest_loguniform has been deprecated in v3.0.0. This feature will be removed in v6.0.0. See https://github.com/optuna/optuna/releases/tag/v3.0.0. Use suggest_float(..., log=True) instead.\n",
            "  'lambda': trial.suggest_loguniform('lambda', 1e-8, 1.0),\n",
            "<ipython-input-57-f903170c0d2c>:8: FutureWarning: suggest_loguniform has been deprecated in v3.0.0. This feature will be removed in v6.0.0. See https://github.com/optuna/optuna/releases/tag/v3.0.0. Use suggest_float(..., log=True) instead.\n",
            "  'alpha': trial.suggest_loguniform('alpha', 1e-8, 1.0),\n",
            "<ipython-input-57-f903170c0d2c>:10: FutureWarning: suggest_loguniform has been deprecated in v3.0.0. This feature will be removed in v6.0.0. See https://github.com/optuna/optuna/releases/tag/v3.0.0. Use suggest_float(..., log=True) instead.\n",
            "  'eta': trial.suggest_loguniform('eta', 1e-8, 1.0),\n",
            "<ipython-input-57-f903170c0d2c>:11: FutureWarning: suggest_loguniform has been deprecated in v3.0.0. This feature will be removed in v6.0.0. See https://github.com/optuna/optuna/releases/tag/v3.0.0. Use suggest_float(..., log=True) instead.\n",
            "  'gamma': trial.suggest_loguniform('gamma', 1e-8, 1.0),\n",
            "<ipython-input-57-f903170c0d2c>:12: FutureWarning: suggest_uniform has been deprecated in v3.0.0. This feature will be removed in v6.0.0. See https://github.com/optuna/optuna/releases/tag/v3.0.0. Use suggest_float instead.\n",
            "  'colsample_bytree': trial.suggest_uniform('colsample_bytree', 0.0, 1.0),\n",
            "[I 2024-01-11 20:12:01,606] Trial 14 finished with value: 0.6751247517959921 and parameters: {'booster': 'gblinear', 'lambda': 0.913314757028531, 'alpha': 3.7211046700078537e-06, 'max_depth': 7, 'eta': 1.5563848276698112e-06, 'gamma': 9.43303445535239e-07, 'colsample_bytree': 0.741896832923669, 'min_child_weight': 5}. Best is trial 4 with value: 0.776782607227277.\n",
            "<ipython-input-57-f903170c0d2c>:7: FutureWarning: suggest_loguniform has been deprecated in v3.0.0. This feature will be removed in v6.0.0. See https://github.com/optuna/optuna/releases/tag/v3.0.0. Use suggest_float(..., log=True) instead.\n",
            "  'lambda': trial.suggest_loguniform('lambda', 1e-8, 1.0),\n",
            "<ipython-input-57-f903170c0d2c>:8: FutureWarning: suggest_loguniform has been deprecated in v3.0.0. This feature will be removed in v6.0.0. See https://github.com/optuna/optuna/releases/tag/v3.0.0. Use suggest_float(..., log=True) instead.\n",
            "  'alpha': trial.suggest_loguniform('alpha', 1e-8, 1.0),\n",
            "<ipython-input-57-f903170c0d2c>:10: FutureWarning: suggest_loguniform has been deprecated in v3.0.0. This feature will be removed in v6.0.0. See https://github.com/optuna/optuna/releases/tag/v3.0.0. Use suggest_float(..., log=True) instead.\n",
            "  'eta': trial.suggest_loguniform('eta', 1e-8, 1.0),\n",
            "<ipython-input-57-f903170c0d2c>:11: FutureWarning: suggest_loguniform has been deprecated in v3.0.0. This feature will be removed in v6.0.0. See https://github.com/optuna/optuna/releases/tag/v3.0.0. Use suggest_float(..., log=True) instead.\n",
            "  'gamma': trial.suggest_loguniform('gamma', 1e-8, 1.0),\n",
            "<ipython-input-57-f903170c0d2c>:12: FutureWarning: suggest_uniform has been deprecated in v3.0.0. This feature will be removed in v6.0.0. See https://github.com/optuna/optuna/releases/tag/v3.0.0. Use suggest_float instead.\n",
            "  'colsample_bytree': trial.suggest_uniform('colsample_bytree', 0.0, 1.0),\n"
          ]
        },
        {
          "name": "stdout",
          "output_type": "stream",
          "text": [
            "[20:12:01] WARNING: C:\\buildkite-agent\\builds\\buildkite-windows-cpu-autoscaling-group-i-0fdc6d574b9c0d168-1\\xgboost\\xgboost-ci-windows\\src\\learner.cc:767: \n",
            "Parameters: { \"colsample_bytree\", \"gamma\", \"max_depth\", \"min_child_weight\" } are not used.\n",
            "\n"
          ]
        },
        {
          "name": "stderr",
          "output_type": "stream",
          "text": [
            "[I 2024-01-11 20:12:02,137] Trial 15 finished with value: 0.7697023571641187 and parameters: {'booster': 'gbtree', 'lambda': 3.033550753794476e-05, 'alpha': 0.48511070899752057, 'max_depth': 8, 'eta': 2.0218236364338502e-08, 'gamma': 0.0060082987540211906, 'colsample_bytree': 0.37831032723731167, 'min_child_weight': 8}. Best is trial 4 with value: 0.776782607227277.\n",
            "<ipython-input-57-f903170c0d2c>:7: FutureWarning: suggest_loguniform has been deprecated in v3.0.0. This feature will be removed in v6.0.0. See https://github.com/optuna/optuna/releases/tag/v3.0.0. Use suggest_float(..., log=True) instead.\n",
            "  'lambda': trial.suggest_loguniform('lambda', 1e-8, 1.0),\n",
            "<ipython-input-57-f903170c0d2c>:8: FutureWarning: suggest_loguniform has been deprecated in v3.0.0. This feature will be removed in v6.0.0. See https://github.com/optuna/optuna/releases/tag/v3.0.0. Use suggest_float(..., log=True) instead.\n",
            "  'alpha': trial.suggest_loguniform('alpha', 1e-8, 1.0),\n",
            "<ipython-input-57-f903170c0d2c>:10: FutureWarning: suggest_loguniform has been deprecated in v3.0.0. This feature will be removed in v6.0.0. See https://github.com/optuna/optuna/releases/tag/v3.0.0. Use suggest_float(..., log=True) instead.\n",
            "  'eta': trial.suggest_loguniform('eta', 1e-8, 1.0),\n",
            "<ipython-input-57-f903170c0d2c>:11: FutureWarning: suggest_loguniform has been deprecated in v3.0.0. This feature will be removed in v6.0.0. See https://github.com/optuna/optuna/releases/tag/v3.0.0. Use suggest_float(..., log=True) instead.\n",
            "  'gamma': trial.suggest_loguniform('gamma', 1e-8, 1.0),\n",
            "<ipython-input-57-f903170c0d2c>:12: FutureWarning: suggest_uniform has been deprecated in v3.0.0. This feature will be removed in v6.0.0. See https://github.com/optuna/optuna/releases/tag/v3.0.0. Use suggest_float instead.\n",
            "  'colsample_bytree': trial.suggest_uniform('colsample_bytree', 0.0, 1.0),\n",
            "[I 2024-01-11 20:12:03,495] Trial 16 finished with value: 0.7749833868452952 and parameters: {'booster': 'dart', 'lambda': 1.4541237980722485e-08, 'alpha': 3.1589671631034606e-07, 'max_depth': 6, 'eta': 0.017866405219157763, 'gamma': 0.6086220582499317, 'colsample_bytree': 0.7188965689489106, 'min_child_weight': 3}. Best is trial 4 with value: 0.776782607227277.\n",
            "<ipython-input-57-f903170c0d2c>:7: FutureWarning: suggest_loguniform has been deprecated in v3.0.0. This feature will be removed in v6.0.0. See https://github.com/optuna/optuna/releases/tag/v3.0.0. Use suggest_float(..., log=True) instead.\n",
            "  'lambda': trial.suggest_loguniform('lambda', 1e-8, 1.0),\n",
            "<ipython-input-57-f903170c0d2c>:8: FutureWarning: suggest_loguniform has been deprecated in v3.0.0. This feature will be removed in v6.0.0. See https://github.com/optuna/optuna/releases/tag/v3.0.0. Use suggest_float(..., log=True) instead.\n",
            "  'alpha': trial.suggest_loguniform('alpha', 1e-8, 1.0),\n",
            "<ipython-input-57-f903170c0d2c>:10: FutureWarning: suggest_loguniform has been deprecated in v3.0.0. This feature will be removed in v6.0.0. See https://github.com/optuna/optuna/releases/tag/v3.0.0. Use suggest_float(..., log=True) instead.\n",
            "  'eta': trial.suggest_loguniform('eta', 1e-8, 1.0),\n",
            "<ipython-input-57-f903170c0d2c>:11: FutureWarning: suggest_loguniform has been deprecated in v3.0.0. This feature will be removed in v6.0.0. See https://github.com/optuna/optuna/releases/tag/v3.0.0. Use suggest_float(..., log=True) instead.\n",
            "  'gamma': trial.suggest_loguniform('gamma', 1e-8, 1.0),\n",
            "<ipython-input-57-f903170c0d2c>:12: FutureWarning: suggest_uniform has been deprecated in v3.0.0. This feature will be removed in v6.0.0. See https://github.com/optuna/optuna/releases/tag/v3.0.0. Use suggest_float instead.\n",
            "  'colsample_bytree': trial.suggest_uniform('colsample_bytree', 0.0, 1.0),\n",
            "[I 2024-01-11 20:12:04,454] Trial 17 finished with value: 0.7649627656738948 and parameters: {'booster': 'dart', 'lambda': 8.441668594665417e-07, 'alpha': 0.001242787054065819, 'max_depth': 4, 'eta': 1.4790375016430411e-05, 'gamma': 1.3965323653981231e-05, 'colsample_bytree': 0.013484291366233747, 'min_child_weight': 7}. Best is trial 4 with value: 0.776782607227277.\n",
            "<ipython-input-57-f903170c0d2c>:7: FutureWarning: suggest_loguniform has been deprecated in v3.0.0. This feature will be removed in v6.0.0. See https://github.com/optuna/optuna/releases/tag/v3.0.0. Use suggest_float(..., log=True) instead.\n",
            "  'lambda': trial.suggest_loguniform('lambda', 1e-8, 1.0),\n",
            "<ipython-input-57-f903170c0d2c>:8: FutureWarning: suggest_loguniform has been deprecated in v3.0.0. This feature will be removed in v6.0.0. See https://github.com/optuna/optuna/releases/tag/v3.0.0. Use suggest_float(..., log=True) instead.\n",
            "  'alpha': trial.suggest_loguniform('alpha', 1e-8, 1.0),\n",
            "<ipython-input-57-f903170c0d2c>:10: FutureWarning: suggest_loguniform has been deprecated in v3.0.0. This feature will be removed in v6.0.0. See https://github.com/optuna/optuna/releases/tag/v3.0.0. Use suggest_float(..., log=True) instead.\n",
            "  'eta': trial.suggest_loguniform('eta', 1e-8, 1.0),\n",
            "<ipython-input-57-f903170c0d2c>:11: FutureWarning: suggest_loguniform has been deprecated in v3.0.0. This feature will be removed in v6.0.0. See https://github.com/optuna/optuna/releases/tag/v3.0.0. Use suggest_float(..., log=True) instead.\n",
            "  'gamma': trial.suggest_loguniform('gamma', 1e-8, 1.0),\n",
            "<ipython-input-57-f903170c0d2c>:12: FutureWarning: suggest_uniform has been deprecated in v3.0.0. This feature will be removed in v6.0.0. See https://github.com/optuna/optuna/releases/tag/v3.0.0. Use suggest_float instead.\n",
            "  'colsample_bytree': trial.suggest_uniform('colsample_bytree', 0.0, 1.0),\n",
            "[I 2024-01-11 20:12:05,262] Trial 18 finished with value: 0.7726216203777436 and parameters: {'booster': 'gbtree', 'lambda': 0.003832176673688333, 'alpha': 7.342637787705865e-05, 'max_depth': 9, 'eta': 0.00018651800476309695, 'gamma': 1.089466180571096e-08, 'colsample_bytree': 0.8714659499698023, 'min_child_weight': 10}. Best is trial 4 with value: 0.776782607227277.\n",
            "<ipython-input-57-f903170c0d2c>:7: FutureWarning: suggest_loguniform has been deprecated in v3.0.0. This feature will be removed in v6.0.0. See https://github.com/optuna/optuna/releases/tag/v3.0.0. Use suggest_float(..., log=True) instead.\n",
            "  'lambda': trial.suggest_loguniform('lambda', 1e-8, 1.0),\n",
            "<ipython-input-57-f903170c0d2c>:8: FutureWarning: suggest_loguniform has been deprecated in v3.0.0. This feature will be removed in v6.0.0. See https://github.com/optuna/optuna/releases/tag/v3.0.0. Use suggest_float(..., log=True) instead.\n",
            "  'alpha': trial.suggest_loguniform('alpha', 1e-8, 1.0),\n",
            "<ipython-input-57-f903170c0d2c>:10: FutureWarning: suggest_loguniform has been deprecated in v3.0.0. This feature will be removed in v6.0.0. See https://github.com/optuna/optuna/releases/tag/v3.0.0. Use suggest_float(..., log=True) instead.\n",
            "  'eta': trial.suggest_loguniform('eta', 1e-8, 1.0),\n",
            "<ipython-input-57-f903170c0d2c>:11: FutureWarning: suggest_loguniform has been deprecated in v3.0.0. This feature will be removed in v6.0.0. See https://github.com/optuna/optuna/releases/tag/v3.0.0. Use suggest_float(..., log=True) instead.\n",
            "  'gamma': trial.suggest_loguniform('gamma', 1e-8, 1.0),\n",
            "<ipython-input-57-f903170c0d2c>:12: FutureWarning: suggest_uniform has been deprecated in v3.0.0. This feature will be removed in v6.0.0. See https://github.com/optuna/optuna/releases/tag/v3.0.0. Use suggest_float instead.\n",
            "  'colsample_bytree': trial.suggest_uniform('colsample_bytree', 0.0, 1.0),\n",
            "[I 2024-01-11 20:12:05,406] Trial 19 finished with value: 0.7289853112230757 and parameters: {'booster': 'gblinear', 'lambda': 8.522526123408028e-05, 'alpha': 2.706663682177185e-07, 'max_depth': 8, 'eta': 0.826198166965003, 'gamma': 0.0004693714251732607, 'colsample_bytree': 0.48008945893161303, 'min_child_weight': 6}. Best is trial 4 with value: 0.776782607227277.\n",
            "<ipython-input-57-f903170c0d2c>:7: FutureWarning: suggest_loguniform has been deprecated in v3.0.0. This feature will be removed in v6.0.0. See https://github.com/optuna/optuna/releases/tag/v3.0.0. Use suggest_float(..., log=True) instead.\n",
            "  'lambda': trial.suggest_loguniform('lambda', 1e-8, 1.0),\n",
            "<ipython-input-57-f903170c0d2c>:8: FutureWarning: suggest_loguniform has been deprecated in v3.0.0. This feature will be removed in v6.0.0. See https://github.com/optuna/optuna/releases/tag/v3.0.0. Use suggest_float(..., log=True) instead.\n",
            "  'alpha': trial.suggest_loguniform('alpha', 1e-8, 1.0),\n",
            "<ipython-input-57-f903170c0d2c>:10: FutureWarning: suggest_loguniform has been deprecated in v3.0.0. This feature will be removed in v6.0.0. See https://github.com/optuna/optuna/releases/tag/v3.0.0. Use suggest_float(..., log=True) instead.\n",
            "  'eta': trial.suggest_loguniform('eta', 1e-8, 1.0),\n",
            "<ipython-input-57-f903170c0d2c>:11: FutureWarning: suggest_loguniform has been deprecated in v3.0.0. This feature will be removed in v6.0.0. See https://github.com/optuna/optuna/releases/tag/v3.0.0. Use suggest_float(..., log=True) instead.\n",
            "  'gamma': trial.suggest_loguniform('gamma', 1e-8, 1.0),\n",
            "<ipython-input-57-f903170c0d2c>:12: FutureWarning: suggest_uniform has been deprecated in v3.0.0. This feature will be removed in v6.0.0. See https://github.com/optuna/optuna/releases/tag/v3.0.0. Use suggest_float instead.\n",
            "  'colsample_bytree': trial.suggest_uniform('colsample_bytree', 0.0, 1.0),\n"
          ]
        },
        {
          "name": "stdout",
          "output_type": "stream",
          "text": [
            "[20:12:05] WARNING: C:\\buildkite-agent\\builds\\buildkite-windows-cpu-autoscaling-group-i-0fdc6d574b9c0d168-1\\xgboost\\xgboost-ci-windows\\src\\learner.cc:767: \n",
            "Parameters: { \"colsample_bytree\", \"gamma\", \"max_depth\", \"min_child_weight\" } are not used.\n",
            "\n"
          ]
        },
        {
          "name": "stderr",
          "output_type": "stream",
          "text": [
            "[I 2024-01-11 20:12:06,866] Trial 20 finished with value: 0.7739241844157848 and parameters: {'booster': 'dart', 'lambda': 6.278645766359656e-06, 'alpha': 1.5259089199536277e-05, 'max_depth': 6, 'eta': 0.0040747502821354255, 'gamma': 1.372980143838781e-07, 'colsample_bytree': 0.6024996520500314, 'min_child_weight': 8}. Best is trial 4 with value: 0.776782607227277.\n",
            "<ipython-input-57-f903170c0d2c>:7: FutureWarning: suggest_loguniform has been deprecated in v3.0.0. This feature will be removed in v6.0.0. See https://github.com/optuna/optuna/releases/tag/v3.0.0. Use suggest_float(..., log=True) instead.\n",
            "  'lambda': trial.suggest_loguniform('lambda', 1e-8, 1.0),\n",
            "<ipython-input-57-f903170c0d2c>:8: FutureWarning: suggest_loguniform has been deprecated in v3.0.0. This feature will be removed in v6.0.0. See https://github.com/optuna/optuna/releases/tag/v3.0.0. Use suggest_float(..., log=True) instead.\n",
            "  'alpha': trial.suggest_loguniform('alpha', 1e-8, 1.0),\n",
            "<ipython-input-57-f903170c0d2c>:10: FutureWarning: suggest_loguniform has been deprecated in v3.0.0. This feature will be removed in v6.0.0. See https://github.com/optuna/optuna/releases/tag/v3.0.0. Use suggest_float(..., log=True) instead.\n",
            "  'eta': trial.suggest_loguniform('eta', 1e-8, 1.0),\n",
            "<ipython-input-57-f903170c0d2c>:11: FutureWarning: suggest_loguniform has been deprecated in v3.0.0. This feature will be removed in v6.0.0. See https://github.com/optuna/optuna/releases/tag/v3.0.0. Use suggest_float(..., log=True) instead.\n",
            "  'gamma': trial.suggest_loguniform('gamma', 1e-8, 1.0),\n",
            "<ipython-input-57-f903170c0d2c>:12: FutureWarning: suggest_uniform has been deprecated in v3.0.0. This feature will be removed in v6.0.0. See https://github.com/optuna/optuna/releases/tag/v3.0.0. Use suggest_float instead.\n",
            "  'colsample_bytree': trial.suggest_uniform('colsample_bytree', 0.0, 1.0),\n",
            "[I 2024-01-11 20:12:08,812] Trial 21 finished with value: 0.7760569095327224 and parameters: {'booster': 'dart', 'lambda': 0.002723702038060807, 'alpha': 0.012803995313010151, 'max_depth': 9, 'eta': 8.483062082724593e-08, 'gamma': 2.1127502346356688e-08, 'colsample_bytree': 0.5654753022952388, 'min_child_weight': 4}. Best is trial 4 with value: 0.776782607227277.\n",
            "<ipython-input-57-f903170c0d2c>:7: FutureWarning: suggest_loguniform has been deprecated in v3.0.0. This feature will be removed in v6.0.0. See https://github.com/optuna/optuna/releases/tag/v3.0.0. Use suggest_float(..., log=True) instead.\n",
            "  'lambda': trial.suggest_loguniform('lambda', 1e-8, 1.0),\n",
            "<ipython-input-57-f903170c0d2c>:8: FutureWarning: suggest_loguniform has been deprecated in v3.0.0. This feature will be removed in v6.0.0. See https://github.com/optuna/optuna/releases/tag/v3.0.0. Use suggest_float(..., log=True) instead.\n",
            "  'alpha': trial.suggest_loguniform('alpha', 1e-8, 1.0),\n",
            "<ipython-input-57-f903170c0d2c>:10: FutureWarning: suggest_loguniform has been deprecated in v3.0.0. This feature will be removed in v6.0.0. See https://github.com/optuna/optuna/releases/tag/v3.0.0. Use suggest_float(..., log=True) instead.\n",
            "  'eta': trial.suggest_loguniform('eta', 1e-8, 1.0),\n",
            "<ipython-input-57-f903170c0d2c>:11: FutureWarning: suggest_loguniform has been deprecated in v3.0.0. This feature will be removed in v6.0.0. See https://github.com/optuna/optuna/releases/tag/v3.0.0. Use suggest_float(..., log=True) instead.\n",
            "  'gamma': trial.suggest_loguniform('gamma', 1e-8, 1.0),\n",
            "<ipython-input-57-f903170c0d2c>:12: FutureWarning: suggest_uniform has been deprecated in v3.0.0. This feature will be removed in v6.0.0. See https://github.com/optuna/optuna/releases/tag/v3.0.0. Use suggest_float instead.\n",
            "  'colsample_bytree': trial.suggest_uniform('colsample_bytree', 0.0, 1.0),\n",
            "[I 2024-01-11 20:12:10,687] Trial 22 finished with value: 0.7752736824783283 and parameters: {'booster': 'dart', 'lambda': 0.008435866733016766, 'alpha': 0.0036233801561623455, 'max_depth': 9, 'eta': 8.363075376051378e-08, 'gamma': 6.498574731269082e-08, 'colsample_bytree': 0.51975575721989, 'min_child_weight': 2}. Best is trial 4 with value: 0.776782607227277.\n",
            "<ipython-input-57-f903170c0d2c>:7: FutureWarning: suggest_loguniform has been deprecated in v3.0.0. This feature will be removed in v6.0.0. See https://github.com/optuna/optuna/releases/tag/v3.0.0. Use suggest_float(..., log=True) instead.\n",
            "  'lambda': trial.suggest_loguniform('lambda', 1e-8, 1.0),\n",
            "<ipython-input-57-f903170c0d2c>:8: FutureWarning: suggest_loguniform has been deprecated in v3.0.0. This feature will be removed in v6.0.0. See https://github.com/optuna/optuna/releases/tag/v3.0.0. Use suggest_float(..., log=True) instead.\n",
            "  'alpha': trial.suggest_loguniform('alpha', 1e-8, 1.0),\n",
            "<ipython-input-57-f903170c0d2c>:10: FutureWarning: suggest_loguniform has been deprecated in v3.0.0. This feature will be removed in v6.0.0. See https://github.com/optuna/optuna/releases/tag/v3.0.0. Use suggest_float(..., log=True) instead.\n",
            "  'eta': trial.suggest_loguniform('eta', 1e-8, 1.0),\n",
            "<ipython-input-57-f903170c0d2c>:11: FutureWarning: suggest_loguniform has been deprecated in v3.0.0. This feature will be removed in v6.0.0. See https://github.com/optuna/optuna/releases/tag/v3.0.0. Use suggest_float(..., log=True) instead.\n",
            "  'gamma': trial.suggest_loguniform('gamma', 1e-8, 1.0),\n",
            "<ipython-input-57-f903170c0d2c>:12: FutureWarning: suggest_uniform has been deprecated in v3.0.0. This feature will be removed in v6.0.0. See https://github.com/optuna/optuna/releases/tag/v3.0.0. Use suggest_float instead.\n",
            "  'colsample_bytree': trial.suggest_uniform('colsample_bytree', 0.0, 1.0),\n",
            "[I 2024-01-11 20:12:12,249] Trial 23 finished with value: 0.766662820339203 and parameters: {'booster': 'dart', 'lambda': 0.00022501730253097265, 'alpha': 0.14965163740695175, 'max_depth': 8, 'eta': 1.3419229324255423e-08, 'gamma': 7.936804378673343e-07, 'colsample_bytree': 0.3105618405851911, 'min_child_weight': 5}. Best is trial 4 with value: 0.776782607227277.\n",
            "<ipython-input-57-f903170c0d2c>:7: FutureWarning: suggest_loguniform has been deprecated in v3.0.0. This feature will be removed in v6.0.0. See https://github.com/optuna/optuna/releases/tag/v3.0.0. Use suggest_float(..., log=True) instead.\n",
            "  'lambda': trial.suggest_loguniform('lambda', 1e-8, 1.0),\n",
            "<ipython-input-57-f903170c0d2c>:8: FutureWarning: suggest_loguniform has been deprecated in v3.0.0. This feature will be removed in v6.0.0. See https://github.com/optuna/optuna/releases/tag/v3.0.0. Use suggest_float(..., log=True) instead.\n",
            "  'alpha': trial.suggest_loguniform('alpha', 1e-8, 1.0),\n",
            "<ipython-input-57-f903170c0d2c>:10: FutureWarning: suggest_loguniform has been deprecated in v3.0.0. This feature will be removed in v6.0.0. See https://github.com/optuna/optuna/releases/tag/v3.0.0. Use suggest_float(..., log=True) instead.\n",
            "  'eta': trial.suggest_loguniform('eta', 1e-8, 1.0),\n",
            "<ipython-input-57-f903170c0d2c>:11: FutureWarning: suggest_loguniform has been deprecated in v3.0.0. This feature will be removed in v6.0.0. See https://github.com/optuna/optuna/releases/tag/v3.0.0. Use suggest_float(..., log=True) instead.\n",
            "  'gamma': trial.suggest_loguniform('gamma', 1e-8, 1.0),\n",
            "<ipython-input-57-f903170c0d2c>:12: FutureWarning: suggest_uniform has been deprecated in v3.0.0. This feature will be removed in v6.0.0. See https://github.com/optuna/optuna/releases/tag/v3.0.0. Use suggest_float instead.\n",
            "  'colsample_bytree': trial.suggest_uniform('colsample_bytree', 0.0, 1.0),\n",
            "[I 2024-01-11 20:12:14,099] Trial 24 finished with value: 0.7740969380474187 and parameters: {'booster': 'dart', 'lambda': 0.00568112938328423, 'alpha': 0.04420654617142709, 'max_depth': 7, 'eta': 2.99044792061019e-07, 'gamma': 2.5550977282776656e-08, 'colsample_bytree': 0.6574057533581633, 'min_child_weight': 4}. Best is trial 4 with value: 0.776782607227277.\n",
            "<ipython-input-57-f903170c0d2c>:7: FutureWarning: suggest_loguniform has been deprecated in v3.0.0. This feature will be removed in v6.0.0. See https://github.com/optuna/optuna/releases/tag/v3.0.0. Use suggest_float(..., log=True) instead.\n",
            "  'lambda': trial.suggest_loguniform('lambda', 1e-8, 1.0),\n",
            "<ipython-input-57-f903170c0d2c>:8: FutureWarning: suggest_loguniform has been deprecated in v3.0.0. This feature will be removed in v6.0.0. See https://github.com/optuna/optuna/releases/tag/v3.0.0. Use suggest_float(..., log=True) instead.\n",
            "  'alpha': trial.suggest_loguniform('alpha', 1e-8, 1.0),\n",
            "<ipython-input-57-f903170c0d2c>:10: FutureWarning: suggest_loguniform has been deprecated in v3.0.0. This feature will be removed in v6.0.0. See https://github.com/optuna/optuna/releases/tag/v3.0.0. Use suggest_float(..., log=True) instead.\n",
            "  'eta': trial.suggest_loguniform('eta', 1e-8, 1.0),\n",
            "<ipython-input-57-f903170c0d2c>:11: FutureWarning: suggest_loguniform has been deprecated in v3.0.0. This feature will be removed in v6.0.0. See https://github.com/optuna/optuna/releases/tag/v3.0.0. Use suggest_float(..., log=True) instead.\n",
            "  'gamma': trial.suggest_loguniform('gamma', 1e-8, 1.0),\n",
            "<ipython-input-57-f903170c0d2c>:12: FutureWarning: suggest_uniform has been deprecated in v3.0.0. This feature will be removed in v6.0.0. See https://github.com/optuna/optuna/releases/tag/v3.0.0. Use suggest_float instead.\n",
            "  'colsample_bytree': trial.suggest_uniform('colsample_bytree', 0.0, 1.0),\n",
            "[I 2024-01-11 20:12:14,948] Trial 25 finished with value: 0.7750502698996125 and parameters: {'booster': 'gbtree', 'lambda': 4.3759235572772355e-07, 'alpha': 0.00044126385928114646, 'max_depth': 8, 'eta': 2.153285907956186e-06, 'gamma': 3.880364577008882e-06, 'colsample_bytree': 0.4505885013190899, 'min_child_weight': 3}. Best is trial 4 with value: 0.776782607227277.\n",
            "<ipython-input-57-f903170c0d2c>:7: FutureWarning: suggest_loguniform has been deprecated in v3.0.0. This feature will be removed in v6.0.0. See https://github.com/optuna/optuna/releases/tag/v3.0.0. Use suggest_float(..., log=True) instead.\n",
            "  'lambda': trial.suggest_loguniform('lambda', 1e-8, 1.0),\n",
            "<ipython-input-57-f903170c0d2c>:8: FutureWarning: suggest_loguniform has been deprecated in v3.0.0. This feature will be removed in v6.0.0. See https://github.com/optuna/optuna/releases/tag/v3.0.0. Use suggest_float(..., log=True) instead.\n",
            "  'alpha': trial.suggest_loguniform('alpha', 1e-8, 1.0),\n",
            "<ipython-input-57-f903170c0d2c>:10: FutureWarning: suggest_loguniform has been deprecated in v3.0.0. This feature will be removed in v6.0.0. See https://github.com/optuna/optuna/releases/tag/v3.0.0. Use suggest_float(..., log=True) instead.\n",
            "  'eta': trial.suggest_loguniform('eta', 1e-8, 1.0),\n",
            "<ipython-input-57-f903170c0d2c>:11: FutureWarning: suggest_loguniform has been deprecated in v3.0.0. This feature will be removed in v6.0.0. See https://github.com/optuna/optuna/releases/tag/v3.0.0. Use suggest_float(..., log=True) instead.\n",
            "  'gamma': trial.suggest_loguniform('gamma', 1e-8, 1.0),\n",
            "<ipython-input-57-f903170c0d2c>:12: FutureWarning: suggest_uniform has been deprecated in v3.0.0. This feature will be removed in v6.0.0. See https://github.com/optuna/optuna/releases/tag/v3.0.0. Use suggest_float instead.\n",
            "  'colsample_bytree': trial.suggest_uniform('colsample_bytree', 0.0, 1.0),\n",
            "[I 2024-01-11 20:12:16,484] Trial 26 finished with value: 0.7707853990981383 and parameters: {'booster': 'dart', 'lambda': 0.4066906957822211, 'alpha': 0.004257785727119361, 'max_depth': 4, 'eta': 9.486293301087355e-06, 'gamma': 0.04570080522712782, 'colsample_bytree': 0.5710944112603032, 'min_child_weight': 7}. Best is trial 4 with value: 0.776782607227277.\n",
            "<ipython-input-57-f903170c0d2c>:7: FutureWarning: suggest_loguniform has been deprecated in v3.0.0. This feature will be removed in v6.0.0. See https://github.com/optuna/optuna/releases/tag/v3.0.0. Use suggest_float(..., log=True) instead.\n",
            "  'lambda': trial.suggest_loguniform('lambda', 1e-8, 1.0),\n",
            "<ipython-input-57-f903170c0d2c>:8: FutureWarning: suggest_loguniform has been deprecated in v3.0.0. This feature will be removed in v6.0.0. See https://github.com/optuna/optuna/releases/tag/v3.0.0. Use suggest_float(..., log=True) instead.\n",
            "  'alpha': trial.suggest_loguniform('alpha', 1e-8, 1.0),\n",
            "<ipython-input-57-f903170c0d2c>:10: FutureWarning: suggest_loguniform has been deprecated in v3.0.0. This feature will be removed in v6.0.0. See https://github.com/optuna/optuna/releases/tag/v3.0.0. Use suggest_float(..., log=True) instead.\n",
            "  'eta': trial.suggest_loguniform('eta', 1e-8, 1.0),\n",
            "<ipython-input-57-f903170c0d2c>:11: FutureWarning: suggest_loguniform has been deprecated in v3.0.0. This feature will be removed in v6.0.0. See https://github.com/optuna/optuna/releases/tag/v3.0.0. Use suggest_float(..., log=True) instead.\n",
            "  'gamma': trial.suggest_loguniform('gamma', 1e-8, 1.0),\n",
            "<ipython-input-57-f903170c0d2c>:12: FutureWarning: suggest_uniform has been deprecated in v3.0.0. This feature will be removed in v6.0.0. See https://github.com/optuna/optuna/releases/tag/v3.0.0. Use suggest_float instead.\n",
            "  'colsample_bytree': trial.suggest_uniform('colsample_bytree', 0.0, 1.0),\n",
            "[I 2024-01-11 20:12:18,662] Trial 27 finished with value: 0.7689170607082916 and parameters: {'booster': 'dart', 'lambda': 0.09171830610082454, 'alpha': 1.841159522311487e-06, 'max_depth': 9, 'eta': 0.1089035442419154, 'gamma': 2.736871607332815e-07, 'colsample_bytree': 0.29931038572023444, 'min_child_weight': 6}. Best is trial 4 with value: 0.776782607227277.\n",
            "<ipython-input-57-f903170c0d2c>:7: FutureWarning: suggest_loguniform has been deprecated in v3.0.0. This feature will be removed in v6.0.0. See https://github.com/optuna/optuna/releases/tag/v3.0.0. Use suggest_float(..., log=True) instead.\n",
            "  'lambda': trial.suggest_loguniform('lambda', 1e-8, 1.0),\n",
            "<ipython-input-57-f903170c0d2c>:8: FutureWarning: suggest_loguniform has been deprecated in v3.0.0. This feature will be removed in v6.0.0. See https://github.com/optuna/optuna/releases/tag/v3.0.0. Use suggest_float(..., log=True) instead.\n",
            "  'alpha': trial.suggest_loguniform('alpha', 1e-8, 1.0),\n",
            "<ipython-input-57-f903170c0d2c>:10: FutureWarning: suggest_loguniform has been deprecated in v3.0.0. This feature will be removed in v6.0.0. See https://github.com/optuna/optuna/releases/tag/v3.0.0. Use suggest_float(..., log=True) instead.\n",
            "  'eta': trial.suggest_loguniform('eta', 1e-8, 1.0),\n",
            "<ipython-input-57-f903170c0d2c>:11: FutureWarning: suggest_loguniform has been deprecated in v3.0.0. This feature will be removed in v6.0.0. See https://github.com/optuna/optuna/releases/tag/v3.0.0. Use suggest_float(..., log=True) instead.\n",
            "  'gamma': trial.suggest_loguniform('gamma', 1e-8, 1.0),\n",
            "<ipython-input-57-f903170c0d2c>:12: FutureWarning: suggest_uniform has been deprecated in v3.0.0. This feature will be removed in v6.0.0. See https://github.com/optuna/optuna/releases/tag/v3.0.0. Use suggest_float instead.\n",
            "  'colsample_bytree': trial.suggest_uniform('colsample_bytree', 0.0, 1.0),\n",
            "[I 2024-01-11 20:12:18,852] Trial 28 finished with value: 0.7053433103867066 and parameters: {'booster': 'gblinear', 'lambda': 0.0010974374429384504, 'alpha': 0.00014905542908373432, 'max_depth': 6, 'eta': 0.0007318411624246162, 'gamma': 0.001082956537672279, 'colsample_bytree': 0.8197398799751794, 'min_child_weight': 5}. Best is trial 4 with value: 0.776782607227277.\n"
          ]
        },
        {
          "name": "stdout",
          "output_type": "stream",
          "text": [
            "[20:12:18] WARNING: C:\\buildkite-agent\\builds\\buildkite-windows-cpu-autoscaling-group-i-0fdc6d574b9c0d168-1\\xgboost\\xgboost-ci-windows\\src\\learner.cc:767: \n",
            "Parameters: { \"colsample_bytree\", \"gamma\", \"max_depth\", \"min_child_weight\" } are not used.\n",
            "\n"
          ]
        },
        {
          "name": "stderr",
          "output_type": "stream",
          "text": [
            "<ipython-input-57-f903170c0d2c>:7: FutureWarning: suggest_loguniform has been deprecated in v3.0.0. This feature will be removed in v6.0.0. See https://github.com/optuna/optuna/releases/tag/v3.0.0. Use suggest_float(..., log=True) instead.\n",
            "  'lambda': trial.suggest_loguniform('lambda', 1e-8, 1.0),\n",
            "<ipython-input-57-f903170c0d2c>:8: FutureWarning: suggest_loguniform has been deprecated in v3.0.0. This feature will be removed in v6.0.0. See https://github.com/optuna/optuna/releases/tag/v3.0.0. Use suggest_float(..., log=True) instead.\n",
            "  'alpha': trial.suggest_loguniform('alpha', 1e-8, 1.0),\n",
            "<ipython-input-57-f903170c0d2c>:10: FutureWarning: suggest_loguniform has been deprecated in v3.0.0. This feature will be removed in v6.0.0. See https://github.com/optuna/optuna/releases/tag/v3.0.0. Use suggest_float(..., log=True) instead.\n",
            "  'eta': trial.suggest_loguniform('eta', 1e-8, 1.0),\n",
            "<ipython-input-57-f903170c0d2c>:11: FutureWarning: suggest_loguniform has been deprecated in v3.0.0. This feature will be removed in v6.0.0. See https://github.com/optuna/optuna/releases/tag/v3.0.0. Use suggest_float(..., log=True) instead.\n",
            "  'gamma': trial.suggest_loguniform('gamma', 1e-8, 1.0),\n",
            "<ipython-input-57-f903170c0d2c>:12: FutureWarning: suggest_uniform has been deprecated in v3.0.0. This feature will be removed in v6.0.0. See https://github.com/optuna/optuna/releases/tag/v3.0.0. Use suggest_float instead.\n",
            "  'colsample_bytree': trial.suggest_uniform('colsample_bytree', 0.0, 1.0),\n",
            "[I 2024-01-11 20:12:19,070] Trial 29 finished with value: 0.7053947970943617 and parameters: {'booster': 'gbtree', 'lambda': 9.259389680724054e-08, 'alpha': 0.9948313917593761, 'max_depth': 1, 'eta': 9.798355214452543e-05, 'gamma': 2.6428170413840823e-05, 'colsample_bytree': 0.6855698332382473, 'min_child_weight': 9}. Best is trial 4 with value: 0.776782607227277.\n",
            "<ipython-input-57-f903170c0d2c>:7: FutureWarning: suggest_loguniform has been deprecated in v3.0.0. This feature will be removed in v6.0.0. See https://github.com/optuna/optuna/releases/tag/v3.0.0. Use suggest_float(..., log=True) instead.\n",
            "  'lambda': trial.suggest_loguniform('lambda', 1e-8, 1.0),\n",
            "<ipython-input-57-f903170c0d2c>:8: FutureWarning: suggest_loguniform has been deprecated in v3.0.0. This feature will be removed in v6.0.0. See https://github.com/optuna/optuna/releases/tag/v3.0.0. Use suggest_float(..., log=True) instead.\n",
            "  'alpha': trial.suggest_loguniform('alpha', 1e-8, 1.0),\n",
            "<ipython-input-57-f903170c0d2c>:10: FutureWarning: suggest_loguniform has been deprecated in v3.0.0. This feature will be removed in v6.0.0. See https://github.com/optuna/optuna/releases/tag/v3.0.0. Use suggest_float(..., log=True) instead.\n",
            "  'eta': trial.suggest_loguniform('eta', 1e-8, 1.0),\n",
            "<ipython-input-57-f903170c0d2c>:11: FutureWarning: suggest_loguniform has been deprecated in v3.0.0. This feature will be removed in v6.0.0. See https://github.com/optuna/optuna/releases/tag/v3.0.0. Use suggest_float(..., log=True) instead.\n",
            "  'gamma': trial.suggest_loguniform('gamma', 1e-8, 1.0),\n",
            "<ipython-input-57-f903170c0d2c>:12: FutureWarning: suggest_uniform has been deprecated in v3.0.0. This feature will be removed in v6.0.0. See https://github.com/optuna/optuna/releases/tag/v3.0.0. Use suggest_float instead.\n",
            "  'colsample_bytree': trial.suggest_uniform('colsample_bytree', 0.0, 1.0),\n",
            "[I 2024-01-11 20:12:19,407] Trial 30 finished with value: 0.7673192344737778 and parameters: {'booster': 'gbtree', 'lambda': 8.739946557979421e-05, 'alpha': 3.2131582762938396e-08, 'max_depth': 3, 'eta': 6.661369399737165e-08, 'gamma': 1.6573646785082039e-06, 'colsample_bytree': 0.4337406909931006, 'min_child_weight': 3}. Best is trial 4 with value: 0.776782607227277.\n",
            "<ipython-input-57-f903170c0d2c>:7: FutureWarning: suggest_loguniform has been deprecated in v3.0.0. This feature will be removed in v6.0.0. See https://github.com/optuna/optuna/releases/tag/v3.0.0. Use suggest_float(..., log=True) instead.\n",
            "  'lambda': trial.suggest_loguniform('lambda', 1e-8, 1.0),\n",
            "<ipython-input-57-f903170c0d2c>:8: FutureWarning: suggest_loguniform has been deprecated in v3.0.0. This feature will be removed in v6.0.0. See https://github.com/optuna/optuna/releases/tag/v3.0.0. Use suggest_float(..., log=True) instead.\n",
            "  'alpha': trial.suggest_loguniform('alpha', 1e-8, 1.0),\n",
            "<ipython-input-57-f903170c0d2c>:10: FutureWarning: suggest_loguniform has been deprecated in v3.0.0. This feature will be removed in v6.0.0. See https://github.com/optuna/optuna/releases/tag/v3.0.0. Use suggest_float(..., log=True) instead.\n",
            "  'eta': trial.suggest_loguniform('eta', 1e-8, 1.0),\n",
            "<ipython-input-57-f903170c0d2c>:11: FutureWarning: suggest_loguniform has been deprecated in v3.0.0. This feature will be removed in v6.0.0. See https://github.com/optuna/optuna/releases/tag/v3.0.0. Use suggest_float(..., log=True) instead.\n",
            "  'gamma': trial.suggest_loguniform('gamma', 1e-8, 1.0),\n",
            "<ipython-input-57-f903170c0d2c>:12: FutureWarning: suggest_uniform has been deprecated in v3.0.0. This feature will be removed in v6.0.0. See https://github.com/optuna/optuna/releases/tag/v3.0.0. Use suggest_float instead.\n",
            "  'colsample_bytree': trial.suggest_uniform('colsample_bytree', 0.0, 1.0),\n",
            "[I 2024-01-11 20:12:21,783] Trial 31 finished with value: 0.7758422712160828 and parameters: {'booster': 'dart', 'lambda': 0.0005586105541439464, 'alpha': 0.006114704280092138, 'max_depth': 9, 'eta': 3.3012170396005444e-07, 'gamma': 3.7260610833963083e-08, 'colsample_bytree': 0.5646103411884499, 'min_child_weight': 4}. Best is trial 4 with value: 0.776782607227277.\n",
            "<ipython-input-57-f903170c0d2c>:7: FutureWarning: suggest_loguniform has been deprecated in v3.0.0. This feature will be removed in v6.0.0. See https://github.com/optuna/optuna/releases/tag/v3.0.0. Use suggest_float(..., log=True) instead.\n",
            "  'lambda': trial.suggest_loguniform('lambda', 1e-8, 1.0),\n",
            "<ipython-input-57-f903170c0d2c>:8: FutureWarning: suggest_loguniform has been deprecated in v3.0.0. This feature will be removed in v6.0.0. See https://github.com/optuna/optuna/releases/tag/v3.0.0. Use suggest_float(..., log=True) instead.\n",
            "  'alpha': trial.suggest_loguniform('alpha', 1e-8, 1.0),\n",
            "<ipython-input-57-f903170c0d2c>:10: FutureWarning: suggest_loguniform has been deprecated in v3.0.0. This feature will be removed in v6.0.0. See https://github.com/optuna/optuna/releases/tag/v3.0.0. Use suggest_float(..., log=True) instead.\n",
            "  'eta': trial.suggest_loguniform('eta', 1e-8, 1.0),\n",
            "<ipython-input-57-f903170c0d2c>:11: FutureWarning: suggest_loguniform has been deprecated in v3.0.0. This feature will be removed in v6.0.0. See https://github.com/optuna/optuna/releases/tag/v3.0.0. Use suggest_float(..., log=True) instead.\n",
            "  'gamma': trial.suggest_loguniform('gamma', 1e-8, 1.0),\n",
            "<ipython-input-57-f903170c0d2c>:12: FutureWarning: suggest_uniform has been deprecated in v3.0.0. This feature will be removed in v6.0.0. See https://github.com/optuna/optuna/releases/tag/v3.0.0. Use suggest_float instead.\n",
            "  'colsample_bytree': trial.suggest_uniform('colsample_bytree', 0.0, 1.0),\n",
            "[I 2024-01-11 20:12:24,134] Trial 32 finished with value: 0.7761688227622238 and parameters: {'booster': 'dart', 'lambda': 0.002121866006053291, 'alpha': 0.12312130299833715, 'max_depth': 9, 'eta': 6.08433228468522e-07, 'gamma': 3.6300088446903936e-08, 'colsample_bytree': 0.5251087188335016, 'min_child_weight': 5}. Best is trial 4 with value: 0.776782607227277.\n",
            "<ipython-input-57-f903170c0d2c>:7: FutureWarning: suggest_loguniform has been deprecated in v3.0.0. This feature will be removed in v6.0.0. See https://github.com/optuna/optuna/releases/tag/v3.0.0. Use suggest_float(..., log=True) instead.\n",
            "  'lambda': trial.suggest_loguniform('lambda', 1e-8, 1.0),\n",
            "<ipython-input-57-f903170c0d2c>:8: FutureWarning: suggest_loguniform has been deprecated in v3.0.0. This feature will be removed in v6.0.0. See https://github.com/optuna/optuna/releases/tag/v3.0.0. Use suggest_float(..., log=True) instead.\n",
            "  'alpha': trial.suggest_loguniform('alpha', 1e-8, 1.0),\n",
            "<ipython-input-57-f903170c0d2c>:10: FutureWarning: suggest_loguniform has been deprecated in v3.0.0. This feature will be removed in v6.0.0. See https://github.com/optuna/optuna/releases/tag/v3.0.0. Use suggest_float(..., log=True) instead.\n",
            "  'eta': trial.suggest_loguniform('eta', 1e-8, 1.0),\n",
            "<ipython-input-57-f903170c0d2c>:11: FutureWarning: suggest_loguniform has been deprecated in v3.0.0. This feature will be removed in v6.0.0. See https://github.com/optuna/optuna/releases/tag/v3.0.0. Use suggest_float(..., log=True) instead.\n",
            "  'gamma': trial.suggest_loguniform('gamma', 1e-8, 1.0),\n",
            "<ipython-input-57-f903170c0d2c>:12: FutureWarning: suggest_uniform has been deprecated in v3.0.0. This feature will be removed in v6.0.0. See https://github.com/optuna/optuna/releases/tag/v3.0.0. Use suggest_float instead.\n",
            "  'colsample_bytree': trial.suggest_uniform('colsample_bytree', 0.0, 1.0),\n",
            "[I 2024-01-11 20:12:26,190] Trial 33 finished with value: 0.7759395330834378 and parameters: {'booster': 'dart', 'lambda': 0.011066351255763062, 'alpha': 0.1362283029883635, 'max_depth': 8, 'eta': 1.0155594650632032e-06, 'gamma': 2.1491217976526314e-07, 'colsample_bytree': 0.31542890993292005, 'min_child_weight': 5}. Best is trial 4 with value: 0.776782607227277.\n",
            "<ipython-input-57-f903170c0d2c>:7: FutureWarning: suggest_loguniform has been deprecated in v3.0.0. This feature will be removed in v6.0.0. See https://github.com/optuna/optuna/releases/tag/v3.0.0. Use suggest_float(..., log=True) instead.\n",
            "  'lambda': trial.suggest_loguniform('lambda', 1e-8, 1.0),\n",
            "<ipython-input-57-f903170c0d2c>:8: FutureWarning: suggest_loguniform has been deprecated in v3.0.0. This feature will be removed in v6.0.0. See https://github.com/optuna/optuna/releases/tag/v3.0.0. Use suggest_float(..., log=True) instead.\n",
            "  'alpha': trial.suggest_loguniform('alpha', 1e-8, 1.0),\n",
            "<ipython-input-57-f903170c0d2c>:10: FutureWarning: suggest_loguniform has been deprecated in v3.0.0. This feature will be removed in v6.0.0. See https://github.com/optuna/optuna/releases/tag/v3.0.0. Use suggest_float(..., log=True) instead.\n",
            "  'eta': trial.suggest_loguniform('eta', 1e-8, 1.0),\n",
            "<ipython-input-57-f903170c0d2c>:11: FutureWarning: suggest_loguniform has been deprecated in v3.0.0. This feature will be removed in v6.0.0. See https://github.com/optuna/optuna/releases/tag/v3.0.0. Use suggest_float(..., log=True) instead.\n",
            "  'gamma': trial.suggest_loguniform('gamma', 1e-8, 1.0),\n",
            "<ipython-input-57-f903170c0d2c>:12: FutureWarning: suggest_uniform has been deprecated in v3.0.0. This feature will be removed in v6.0.0. See https://github.com/optuna/optuna/releases/tag/v3.0.0. Use suggest_float instead.\n",
            "  'colsample_bytree': trial.suggest_uniform('colsample_bytree', 0.0, 1.0),\n",
            "[I 2024-01-11 20:12:28,126] Trial 34 finished with value: 0.774974115926875 and parameters: {'booster': 'dart', 'lambda': 0.07947598183402604, 'alpha': 0.018973029438911885, 'max_depth': 7, 'eta': 6.09224078300006e-06, 'gamma': 3.177314238836532e-08, 'colsample_bytree': 0.514383909519985, 'min_child_weight': 7}. Best is trial 4 with value: 0.776782607227277.\n",
            "<ipython-input-57-f903170c0d2c>:7: FutureWarning: suggest_loguniform has been deprecated in v3.0.0. This feature will be removed in v6.0.0. See https://github.com/optuna/optuna/releases/tag/v3.0.0. Use suggest_float(..., log=True) instead.\n",
            "  'lambda': trial.suggest_loguniform('lambda', 1e-8, 1.0),\n",
            "<ipython-input-57-f903170c0d2c>:8: FutureWarning: suggest_loguniform has been deprecated in v3.0.0. This feature will be removed in v6.0.0. See https://github.com/optuna/optuna/releases/tag/v3.0.0. Use suggest_float(..., log=True) instead.\n",
            "  'alpha': trial.suggest_loguniform('alpha', 1e-8, 1.0),\n",
            "<ipython-input-57-f903170c0d2c>:10: FutureWarning: suggest_loguniform has been deprecated in v3.0.0. This feature will be removed in v6.0.0. See https://github.com/optuna/optuna/releases/tag/v3.0.0. Use suggest_float(..., log=True) instead.\n",
            "  'eta': trial.suggest_loguniform('eta', 1e-8, 1.0),\n",
            "<ipython-input-57-f903170c0d2c>:11: FutureWarning: suggest_loguniform has been deprecated in v3.0.0. This feature will be removed in v6.0.0. See https://github.com/optuna/optuna/releases/tag/v3.0.0. Use suggest_float(..., log=True) instead.\n",
            "  'gamma': trial.suggest_loguniform('gamma', 1e-8, 1.0),\n",
            "<ipython-input-57-f903170c0d2c>:12: FutureWarning: suggest_uniform has been deprecated in v3.0.0. This feature will be removed in v6.0.0. See https://github.com/optuna/optuna/releases/tag/v3.0.0. Use suggest_float instead.\n",
            "  'colsample_bytree': trial.suggest_uniform('colsample_bytree', 0.0, 1.0),\n",
            "[I 2024-01-11 20:12:29,149] Trial 35 finished with value: 0.7751511739134896 and parameters: {'booster': 'gbtree', 'lambda': 0.0019470619125702066, 'alpha': 0.08497596446777747, 'max_depth': 9, 'eta': 2.837680578754972e-05, 'gamma': 3.835314190621665e-05, 'colsample_bytree': 0.6157621861064071, 'min_child_weight': 6}. Best is trial 4 with value: 0.776782607227277.\n",
            "<ipython-input-57-f903170c0d2c>:7: FutureWarning: suggest_loguniform has been deprecated in v3.0.0. This feature will be removed in v6.0.0. See https://github.com/optuna/optuna/releases/tag/v3.0.0. Use suggest_float(..., log=True) instead.\n",
            "  'lambda': trial.suggest_loguniform('lambda', 1e-8, 1.0),\n",
            "<ipython-input-57-f903170c0d2c>:8: FutureWarning: suggest_loguniform has been deprecated in v3.0.0. This feature will be removed in v6.0.0. See https://github.com/optuna/optuna/releases/tag/v3.0.0. Use suggest_float(..., log=True) instead.\n",
            "  'alpha': trial.suggest_loguniform('alpha', 1e-8, 1.0),\n",
            "<ipython-input-57-f903170c0d2c>:10: FutureWarning: suggest_loguniform has been deprecated in v3.0.0. This feature will be removed in v6.0.0. See https://github.com/optuna/optuna/releases/tag/v3.0.0. Use suggest_float(..., log=True) instead.\n",
            "  'eta': trial.suggest_loguniform('eta', 1e-8, 1.0),\n",
            "<ipython-input-57-f903170c0d2c>:11: FutureWarning: suggest_loguniform has been deprecated in v3.0.0. This feature will be removed in v6.0.0. See https://github.com/optuna/optuna/releases/tag/v3.0.0. Use suggest_float(..., log=True) instead.\n",
            "  'gamma': trial.suggest_loguniform('gamma', 1e-8, 1.0),\n",
            "<ipython-input-57-f903170c0d2c>:12: FutureWarning: suggest_uniform has been deprecated in v3.0.0. This feature will be removed in v6.0.0. See https://github.com/optuna/optuna/releases/tag/v3.0.0. Use suggest_float instead.\n",
            "  'colsample_bytree': trial.suggest_uniform('colsample_bytree', 0.0, 1.0),\n",
            "[I 2024-01-11 20:12:31,378] Trial 36 finished with value: 0.7749561535224357 and parameters: {'booster': 'dart', 'lambda': 0.105249323941793, 'alpha': 0.02225228840332953, 'max_depth': 8, 'eta': 4.9733938488281947e-05, 'gamma': 4.888892920013697e-06, 'colsample_bytree': 0.5454185933059057, 'min_child_weight': 2}. Best is trial 4 with value: 0.776782607227277.\n",
            "<ipython-input-57-f903170c0d2c>:7: FutureWarning: suggest_loguniform has been deprecated in v3.0.0. This feature will be removed in v6.0.0. See https://github.com/optuna/optuna/releases/tag/v3.0.0. Use suggest_float(..., log=True) instead.\n",
            "  'lambda': trial.suggest_loguniform('lambda', 1e-8, 1.0),\n",
            "<ipython-input-57-f903170c0d2c>:8: FutureWarning: suggest_loguniform has been deprecated in v3.0.0. This feature will be removed in v6.0.0. See https://github.com/optuna/optuna/releases/tag/v3.0.0. Use suggest_float(..., log=True) instead.\n",
            "  'alpha': trial.suggest_loguniform('alpha', 1e-8, 1.0),\n",
            "<ipython-input-57-f903170c0d2c>:10: FutureWarning: suggest_loguniform has been deprecated in v3.0.0. This feature will be removed in v6.0.0. See https://github.com/optuna/optuna/releases/tag/v3.0.0. Use suggest_float(..., log=True) instead.\n",
            "  'eta': trial.suggest_loguniform('eta', 1e-8, 1.0),\n",
            "<ipython-input-57-f903170c0d2c>:11: FutureWarning: suggest_loguniform has been deprecated in v3.0.0. This feature will be removed in v6.0.0. See https://github.com/optuna/optuna/releases/tag/v3.0.0. Use suggest_float(..., log=True) instead.\n",
            "  'gamma': trial.suggest_loguniform('gamma', 1e-8, 1.0),\n",
            "<ipython-input-57-f903170c0d2c>:12: FutureWarning: suggest_uniform has been deprecated in v3.0.0. This feature will be removed in v6.0.0. See https://github.com/optuna/optuna/releases/tag/v3.0.0. Use suggest_float instead.\n",
            "  'colsample_bytree': trial.suggest_uniform('colsample_bytree', 0.0, 1.0),\n",
            "[I 2024-01-11 20:12:32,767] Trial 37 finished with value: 0.7639054670937029 and parameters: {'booster': 'dart', 'lambda': 0.003406909139395626, 'alpha': 0.28626634072919743, 'max_depth': 3, 'eta': 3.917994670729122e-08, 'gamma': 7.105476355679245e-08, 'colsample_bytree': 0.44864084590900033, 'min_child_weight': 8}. Best is trial 4 with value: 0.776782607227277.\n",
            "<ipython-input-57-f903170c0d2c>:7: FutureWarning: suggest_loguniform has been deprecated in v3.0.0. This feature will be removed in v6.0.0. See https://github.com/optuna/optuna/releases/tag/v3.0.0. Use suggest_float(..., log=True) instead.\n",
            "  'lambda': trial.suggest_loguniform('lambda', 1e-8, 1.0),\n",
            "<ipython-input-57-f903170c0d2c>:8: FutureWarning: suggest_loguniform has been deprecated in v3.0.0. This feature will be removed in v6.0.0. See https://github.com/optuna/optuna/releases/tag/v3.0.0. Use suggest_float(..., log=True) instead.\n",
            "  'alpha': trial.suggest_loguniform('alpha', 1e-8, 1.0),\n",
            "<ipython-input-57-f903170c0d2c>:10: FutureWarning: suggest_loguniform has been deprecated in v3.0.0. This feature will be removed in v6.0.0. See https://github.com/optuna/optuna/releases/tag/v3.0.0. Use suggest_float(..., log=True) instead.\n",
            "  'eta': trial.suggest_loguniform('eta', 1e-8, 1.0),\n",
            "<ipython-input-57-f903170c0d2c>:11: FutureWarning: suggest_loguniform has been deprecated in v3.0.0. This feature will be removed in v6.0.0. See https://github.com/optuna/optuna/releases/tag/v3.0.0. Use suggest_float(..., log=True) instead.\n",
            "  'gamma': trial.suggest_loguniform('gamma', 1e-8, 1.0),\n",
            "<ipython-input-57-f903170c0d2c>:12: FutureWarning: suggest_uniform has been deprecated in v3.0.0. This feature will be removed in v6.0.0. See https://github.com/optuna/optuna/releases/tag/v3.0.0. Use suggest_float instead.\n",
            "  'colsample_bytree': trial.suggest_uniform('colsample_bytree', 0.0, 1.0),\n",
            "[I 2024-01-11 20:12:33,641] Trial 38 finished with value: 0.7727513304595693 and parameters: {'booster': 'gbtree', 'lambda': 0.039738139568509995, 'alpha': 0.001637770297305529, 'max_depth': 7, 'eta': 3.178355849115474e-07, 'gamma': 5.411960979124275e-07, 'colsample_bytree': 0.7901802369303277, 'min_child_weight': 1}. Best is trial 4 with value: 0.776782607227277.\n",
            "<ipython-input-57-f903170c0d2c>:7: FutureWarning: suggest_loguniform has been deprecated in v3.0.0. This feature will be removed in v6.0.0. See https://github.com/optuna/optuna/releases/tag/v3.0.0. Use suggest_float(..., log=True) instead.\n",
            "  'lambda': trial.suggest_loguniform('lambda', 1e-8, 1.0),\n",
            "<ipython-input-57-f903170c0d2c>:8: FutureWarning: suggest_loguniform has been deprecated in v3.0.0. This feature will be removed in v6.0.0. See https://github.com/optuna/optuna/releases/tag/v3.0.0. Use suggest_float(..., log=True) instead.\n",
            "  'alpha': trial.suggest_loguniform('alpha', 1e-8, 1.0),\n",
            "<ipython-input-57-f903170c0d2c>:10: FutureWarning: suggest_loguniform has been deprecated in v3.0.0. This feature will be removed in v6.0.0. See https://github.com/optuna/optuna/releases/tag/v3.0.0. Use suggest_float(..., log=True) instead.\n",
            "  'eta': trial.suggest_loguniform('eta', 1e-8, 1.0),\n",
            "<ipython-input-57-f903170c0d2c>:11: FutureWarning: suggest_loguniform has been deprecated in v3.0.0. This feature will be removed in v6.0.0. See https://github.com/optuna/optuna/releases/tag/v3.0.0. Use suggest_float(..., log=True) instead.\n",
            "  'gamma': trial.suggest_loguniform('gamma', 1e-8, 1.0),\n",
            "<ipython-input-57-f903170c0d2c>:12: FutureWarning: suggest_uniform has been deprecated in v3.0.0. This feature will be removed in v6.0.0. See https://github.com/optuna/optuna/releases/tag/v3.0.0. Use suggest_float instead.\n",
            "  'colsample_bytree': trial.suggest_uniform('colsample_bytree', 0.0, 1.0),\n",
            "[I 2024-01-11 20:12:35,907] Trial 39 finished with value: 0.7740160658394137 and parameters: {'booster': 'dart', 'lambda': 0.01596277277982762, 'alpha': 2.3385570131563878e-05, 'max_depth': 8, 'eta': 1.692495839880602e-07, 'gamma': 0.028161374264630324, 'colsample_bytree': 0.6667374397803506, 'min_child_weight': 4}. Best is trial 4 with value: 0.776782607227277.\n",
            "<ipython-input-57-f903170c0d2c>:7: FutureWarning: suggest_loguniform has been deprecated in v3.0.0. This feature will be removed in v6.0.0. See https://github.com/optuna/optuna/releases/tag/v3.0.0. Use suggest_float(..., log=True) instead.\n",
            "  'lambda': trial.suggest_loguniform('lambda', 1e-8, 1.0),\n",
            "<ipython-input-57-f903170c0d2c>:8: FutureWarning: suggest_loguniform has been deprecated in v3.0.0. This feature will be removed in v6.0.0. See https://github.com/optuna/optuna/releases/tag/v3.0.0. Use suggest_float(..., log=True) instead.\n",
            "  'alpha': trial.suggest_loguniform('alpha', 1e-8, 1.0),\n",
            "<ipython-input-57-f903170c0d2c>:10: FutureWarning: suggest_loguniform has been deprecated in v3.0.0. This feature will be removed in v6.0.0. See https://github.com/optuna/optuna/releases/tag/v3.0.0. Use suggest_float(..., log=True) instead.\n",
            "  'eta': trial.suggest_loguniform('eta', 1e-8, 1.0),\n",
            "<ipython-input-57-f903170c0d2c>:11: FutureWarning: suggest_loguniform has been deprecated in v3.0.0. This feature will be removed in v6.0.0. See https://github.com/optuna/optuna/releases/tag/v3.0.0. Use suggest_float(..., log=True) instead.\n",
            "  'gamma': trial.suggest_loguniform('gamma', 1e-8, 1.0),\n",
            "<ipython-input-57-f903170c0d2c>:12: FutureWarning: suggest_uniform has been deprecated in v3.0.0. This feature will be removed in v6.0.0. See https://github.com/optuna/optuna/releases/tag/v3.0.0. Use suggest_float instead.\n",
            "  'colsample_bytree': trial.suggest_uniform('colsample_bytree', 0.0, 1.0),\n",
            "[I 2024-01-11 20:12:36,166] Trial 40 finished with value: 0.7744920281690234 and parameters: {'booster': 'gbtree', 'lambda': 1.1493430525938447e-05, 'alpha': 8.289601196252709e-07, 'max_depth': 2, 'eta': 0.1885200692628524, 'gamma': 0.00108549686424683, 'colsample_bytree': 0.24549215340542496, 'min_child_weight': 5}. Best is trial 4 with value: 0.776782607227277.\n",
            "<ipython-input-57-f903170c0d2c>:7: FutureWarning: suggest_loguniform has been deprecated in v3.0.0. This feature will be removed in v6.0.0. See https://github.com/optuna/optuna/releases/tag/v3.0.0. Use suggest_float(..., log=True) instead.\n",
            "  'lambda': trial.suggest_loguniform('lambda', 1e-8, 1.0),\n",
            "<ipython-input-57-f903170c0d2c>:8: FutureWarning: suggest_loguniform has been deprecated in v3.0.0. This feature will be removed in v6.0.0. See https://github.com/optuna/optuna/releases/tag/v3.0.0. Use suggest_float(..., log=True) instead.\n",
            "  'alpha': trial.suggest_loguniform('alpha', 1e-8, 1.0),\n",
            "<ipython-input-57-f903170c0d2c>:10: FutureWarning: suggest_loguniform has been deprecated in v3.0.0. This feature will be removed in v6.0.0. See https://github.com/optuna/optuna/releases/tag/v3.0.0. Use suggest_float(..., log=True) instead.\n",
            "  'eta': trial.suggest_loguniform('eta', 1e-8, 1.0),\n",
            "<ipython-input-57-f903170c0d2c>:11: FutureWarning: suggest_loguniform has been deprecated in v3.0.0. This feature will be removed in v6.0.0. See https://github.com/optuna/optuna/releases/tag/v3.0.0. Use suggest_float(..., log=True) instead.\n",
            "  'gamma': trial.suggest_loguniform('gamma', 1e-8, 1.0),\n",
            "<ipython-input-57-f903170c0d2c>:12: FutureWarning: suggest_uniform has been deprecated in v3.0.0. This feature will be removed in v6.0.0. See https://github.com/optuna/optuna/releases/tag/v3.0.0. Use suggest_float instead.\n",
            "  'colsample_bytree': trial.suggest_uniform('colsample_bytree', 0.0, 1.0),\n",
            "[I 2024-01-11 20:12:38,408] Trial 41 finished with value: 0.7764707070432824 and parameters: {'booster': 'dart', 'lambda': 0.010263224176363718, 'alpha': 0.09849910406037085, 'max_depth': 9, 'eta': 1.2847812082068397e-06, 'gamma': 1.6542561629491607e-07, 'colsample_bytree': 0.34714657597940424, 'min_child_weight': 5}. Best is trial 4 with value: 0.776782607227277.\n",
            "<ipython-input-57-f903170c0d2c>:7: FutureWarning: suggest_loguniform has been deprecated in v3.0.0. This feature will be removed in v6.0.0. See https://github.com/optuna/optuna/releases/tag/v3.0.0. Use suggest_float(..., log=True) instead.\n",
            "  'lambda': trial.suggest_loguniform('lambda', 1e-8, 1.0),\n",
            "<ipython-input-57-f903170c0d2c>:8: FutureWarning: suggest_loguniform has been deprecated in v3.0.0. This feature will be removed in v6.0.0. See https://github.com/optuna/optuna/releases/tag/v3.0.0. Use suggest_float(..., log=True) instead.\n",
            "  'alpha': trial.suggest_loguniform('alpha', 1e-8, 1.0),\n",
            "<ipython-input-57-f903170c0d2c>:10: FutureWarning: suggest_loguniform has been deprecated in v3.0.0. This feature will be removed in v6.0.0. See https://github.com/optuna/optuna/releases/tag/v3.0.0. Use suggest_float(..., log=True) instead.\n",
            "  'eta': trial.suggest_loguniform('eta', 1e-8, 1.0),\n",
            "<ipython-input-57-f903170c0d2c>:11: FutureWarning: suggest_loguniform has been deprecated in v3.0.0. This feature will be removed in v6.0.0. See https://github.com/optuna/optuna/releases/tag/v3.0.0. Use suggest_float(..., log=True) instead.\n",
            "  'gamma': trial.suggest_loguniform('gamma', 1e-8, 1.0),\n",
            "<ipython-input-57-f903170c0d2c>:12: FutureWarning: suggest_uniform has been deprecated in v3.0.0. This feature will be removed in v6.0.0. See https://github.com/optuna/optuna/releases/tag/v3.0.0. Use suggest_float instead.\n",
            "  'colsample_bytree': trial.suggest_uniform('colsample_bytree', 0.0, 1.0),\n",
            "[I 2024-01-11 20:12:40,674] Trial 42 finished with value: 0.7760219780365322 and parameters: {'booster': 'dart', 'lambda': 0.00018908937371148952, 'alpha': 0.06526202080740531, 'max_depth': 9, 'eta': 3.1001524874102055e-06, 'gamma': 1.5109830662615885e-07, 'colsample_bytree': 0.4035203318495639, 'min_child_weight': 7}. Best is trial 4 with value: 0.776782607227277.\n",
            "<ipython-input-57-f903170c0d2c>:7: FutureWarning: suggest_loguniform has been deprecated in v3.0.0. This feature will be removed in v6.0.0. See https://github.com/optuna/optuna/releases/tag/v3.0.0. Use suggest_float(..., log=True) instead.\n",
            "  'lambda': trial.suggest_loguniform('lambda', 1e-8, 1.0),\n",
            "<ipython-input-57-f903170c0d2c>:8: FutureWarning: suggest_loguniform has been deprecated in v3.0.0. This feature will be removed in v6.0.0. See https://github.com/optuna/optuna/releases/tag/v3.0.0. Use suggest_float(..., log=True) instead.\n",
            "  'alpha': trial.suggest_loguniform('alpha', 1e-8, 1.0),\n",
            "<ipython-input-57-f903170c0d2c>:10: FutureWarning: suggest_loguniform has been deprecated in v3.0.0. This feature will be removed in v6.0.0. See https://github.com/optuna/optuna/releases/tag/v3.0.0. Use suggest_float(..., log=True) instead.\n",
            "  'eta': trial.suggest_loguniform('eta', 1e-8, 1.0),\n",
            "<ipython-input-57-f903170c0d2c>:11: FutureWarning: suggest_loguniform has been deprecated in v3.0.0. This feature will be removed in v6.0.0. See https://github.com/optuna/optuna/releases/tag/v3.0.0. Use suggest_float(..., log=True) instead.\n",
            "  'gamma': trial.suggest_loguniform('gamma', 1e-8, 1.0),\n",
            "<ipython-input-57-f903170c0d2c>:12: FutureWarning: suggest_uniform has been deprecated in v3.0.0. This feature will be removed in v6.0.0. See https://github.com/optuna/optuna/releases/tag/v3.0.0. Use suggest_float instead.\n",
            "  'colsample_bytree': trial.suggest_uniform('colsample_bytree', 0.0, 1.0),\n",
            "[I 2024-01-11 20:12:42,925] Trial 43 finished with value: 0.7762961323383872 and parameters: {'booster': 'dart', 'lambda': 0.020295958118880703, 'alpha': 0.009321660609289984, 'max_depth': 9, 'eta': 7.384091696196609e-07, 'gamma': 2.31144638181886e-08, 'colsample_bytree': 0.35459023597994155, 'min_child_weight': 6}. Best is trial 4 with value: 0.776782607227277.\n",
            "<ipython-input-57-f903170c0d2c>:7: FutureWarning: suggest_loguniform has been deprecated in v3.0.0. This feature will be removed in v6.0.0. See https://github.com/optuna/optuna/releases/tag/v3.0.0. Use suggest_float(..., log=True) instead.\n",
            "  'lambda': trial.suggest_loguniform('lambda', 1e-8, 1.0),\n",
            "<ipython-input-57-f903170c0d2c>:8: FutureWarning: suggest_loguniform has been deprecated in v3.0.0. This feature will be removed in v6.0.0. See https://github.com/optuna/optuna/releases/tag/v3.0.0. Use suggest_float(..., log=True) instead.\n",
            "  'alpha': trial.suggest_loguniform('alpha', 1e-8, 1.0),\n",
            "<ipython-input-57-f903170c0d2c>:10: FutureWarning: suggest_loguniform has been deprecated in v3.0.0. This feature will be removed in v6.0.0. See https://github.com/optuna/optuna/releases/tag/v3.0.0. Use suggest_float(..., log=True) instead.\n",
            "  'eta': trial.suggest_loguniform('eta', 1e-8, 1.0),\n",
            "<ipython-input-57-f903170c0d2c>:11: FutureWarning: suggest_loguniform has been deprecated in v3.0.0. This feature will be removed in v6.0.0. See https://github.com/optuna/optuna/releases/tag/v3.0.0. Use suggest_float(..., log=True) instead.\n",
            "  'gamma': trial.suggest_loguniform('gamma', 1e-8, 1.0),\n",
            "<ipython-input-57-f903170c0d2c>:12: FutureWarning: suggest_uniform has been deprecated in v3.0.0. This feature will be removed in v6.0.0. See https://github.com/optuna/optuna/releases/tag/v3.0.0. Use suggest_float instead.\n",
            "  'colsample_bytree': trial.suggest_uniform('colsample_bytree', 0.0, 1.0),\n",
            "[I 2024-01-11 20:12:44,531] Trial 44 finished with value: 0.7730933611284297 and parameters: {'booster': 'dart', 'lambda': 0.021904802346521323, 'alpha': 0.9600396199830916, 'max_depth': 5, 'eta': 6.144956378787474e-07, 'gamma': 1.7192210186245345e-06, 'colsample_bytree': 0.3433699390109516, 'min_child_weight': 6}. Best is trial 4 with value: 0.776782607227277.\n",
            "<ipython-input-57-f903170c0d2c>:7: FutureWarning: suggest_loguniform has been deprecated in v3.0.0. This feature will be removed in v6.0.0. See https://github.com/optuna/optuna/releases/tag/v3.0.0. Use suggest_float(..., log=True) instead.\n",
            "  'lambda': trial.suggest_loguniform('lambda', 1e-8, 1.0),\n",
            "<ipython-input-57-f903170c0d2c>:8: FutureWarning: suggest_loguniform has been deprecated in v3.0.0. This feature will be removed in v6.0.0. See https://github.com/optuna/optuna/releases/tag/v3.0.0. Use suggest_float(..., log=True) instead.\n",
            "  'alpha': trial.suggest_loguniform('alpha', 1e-8, 1.0),\n",
            "<ipython-input-57-f903170c0d2c>:10: FutureWarning: suggest_loguniform has been deprecated in v3.0.0. This feature will be removed in v6.0.0. See https://github.com/optuna/optuna/releases/tag/v3.0.0. Use suggest_float(..., log=True) instead.\n",
            "  'eta': trial.suggest_loguniform('eta', 1e-8, 1.0),\n",
            "<ipython-input-57-f903170c0d2c>:11: FutureWarning: suggest_loguniform has been deprecated in v3.0.0. This feature will be removed in v6.0.0. See https://github.com/optuna/optuna/releases/tag/v3.0.0. Use suggest_float(..., log=True) instead.\n",
            "  'gamma': trial.suggest_loguniform('gamma', 1e-8, 1.0),\n",
            "<ipython-input-57-f903170c0d2c>:12: FutureWarning: suggest_uniform has been deprecated in v3.0.0. This feature will be removed in v6.0.0. See https://github.com/optuna/optuna/releases/tag/v3.0.0. Use suggest_float instead.\n",
            "  'colsample_bytree': trial.suggest_uniform('colsample_bytree', 0.0, 1.0),\n",
            "[I 2024-01-11 20:12:44,722] Trial 45 finished with value: 0.6115525742194963 and parameters: {'booster': 'gblinear', 'lambda': 0.20116171949885214, 'alpha': 0.18671653573513772, 'max_depth': 9, 'eta': 6.37899539911236e-06, 'gamma': 7.985085689090703e-08, 'colsample_bytree': 0.2530601350393274, 'min_child_weight': 7}. Best is trial 4 with value: 0.776782607227277.\n"
          ]
        },
        {
          "name": "stdout",
          "output_type": "stream",
          "text": [
            "[20:12:44] WARNING: C:\\buildkite-agent\\builds\\buildkite-windows-cpu-autoscaling-group-i-0fdc6d574b9c0d168-1\\xgboost\\xgboost-ci-windows\\src\\learner.cc:767: \n",
            "Parameters: { \"colsample_bytree\", \"gamma\", \"max_depth\", \"min_child_weight\" } are not used.\n",
            "\n"
          ]
        },
        {
          "name": "stderr",
          "output_type": "stream",
          "text": [
            "<ipython-input-57-f903170c0d2c>:7: FutureWarning: suggest_loguniform has been deprecated in v3.0.0. This feature will be removed in v6.0.0. See https://github.com/optuna/optuna/releases/tag/v3.0.0. Use suggest_float(..., log=True) instead.\n",
            "  'lambda': trial.suggest_loguniform('lambda', 1e-8, 1.0),\n",
            "<ipython-input-57-f903170c0d2c>:8: FutureWarning: suggest_loguniform has been deprecated in v3.0.0. This feature will be removed in v6.0.0. See https://github.com/optuna/optuna/releases/tag/v3.0.0. Use suggest_float(..., log=True) instead.\n",
            "  'alpha': trial.suggest_loguniform('alpha', 1e-8, 1.0),\n",
            "<ipython-input-57-f903170c0d2c>:10: FutureWarning: suggest_loguniform has been deprecated in v3.0.0. This feature will be removed in v6.0.0. See https://github.com/optuna/optuna/releases/tag/v3.0.0. Use suggest_float(..., log=True) instead.\n",
            "  'eta': trial.suggest_loguniform('eta', 1e-8, 1.0),\n",
            "<ipython-input-57-f903170c0d2c>:11: FutureWarning: suggest_loguniform has been deprecated in v3.0.0. This feature will be removed in v6.0.0. See https://github.com/optuna/optuna/releases/tag/v3.0.0. Use suggest_float(..., log=True) instead.\n",
            "  'gamma': trial.suggest_loguniform('gamma', 1e-8, 1.0),\n",
            "<ipython-input-57-f903170c0d2c>:12: FutureWarning: suggest_uniform has been deprecated in v3.0.0. This feature will be removed in v6.0.0. See https://github.com/optuna/optuna/releases/tag/v3.0.0. Use suggest_float instead.\n",
            "  'colsample_bytree': trial.suggest_uniform('colsample_bytree', 0.0, 1.0),\n",
            "[I 2024-01-11 20:12:46,758] Trial 46 finished with value: 0.7669894546614012 and parameters: {'booster': 'dart', 'lambda': 0.04020395566249776, 'alpha': 3.014515227616645e-08, 'max_depth': 8, 'eta': 8.783297293656628e-07, 'gamma': 1.0121471016967104e-08, 'colsample_bytree': 0.14360159704923703, 'min_child_weight': 5}. Best is trial 4 with value: 0.776782607227277.\n",
            "<ipython-input-57-f903170c0d2c>:7: FutureWarning: suggest_loguniform has been deprecated in v3.0.0. This feature will be removed in v6.0.0. See https://github.com/optuna/optuna/releases/tag/v3.0.0. Use suggest_float(..., log=True) instead.\n",
            "  'lambda': trial.suggest_loguniform('lambda', 1e-8, 1.0),\n",
            "<ipython-input-57-f903170c0d2c>:8: FutureWarning: suggest_loguniform has been deprecated in v3.0.0. This feature will be removed in v6.0.0. See https://github.com/optuna/optuna/releases/tag/v3.0.0. Use suggest_float(..., log=True) instead.\n",
            "  'alpha': trial.suggest_loguniform('alpha', 1e-8, 1.0),\n",
            "<ipython-input-57-f903170c0d2c>:10: FutureWarning: suggest_loguniform has been deprecated in v3.0.0. This feature will be removed in v6.0.0. See https://github.com/optuna/optuna/releases/tag/v3.0.0. Use suggest_float(..., log=True) instead.\n",
            "  'eta': trial.suggest_loguniform('eta', 1e-8, 1.0),\n",
            "<ipython-input-57-f903170c0d2c>:11: FutureWarning: suggest_loguniform has been deprecated in v3.0.0. This feature will be removed in v6.0.0. See https://github.com/optuna/optuna/releases/tag/v3.0.0. Use suggest_float(..., log=True) instead.\n",
            "  'gamma': trial.suggest_loguniform('gamma', 1e-8, 1.0),\n",
            "<ipython-input-57-f903170c0d2c>:12: FutureWarning: suggest_uniform has been deprecated in v3.0.0. This feature will be removed in v6.0.0. See https://github.com/optuna/optuna/releases/tag/v3.0.0. Use suggest_float instead.\n",
            "  'colsample_bytree': trial.suggest_uniform('colsample_bytree', 0.0, 1.0),\n",
            "[I 2024-01-11 20:12:49,152] Trial 47 finished with value: 0.7765889112531401 and parameters: {'booster': 'dart', 'lambda': 0.008149917103686627, 'alpha': 0.03324741537892249, 'max_depth': 9, 'eta': 4.928198900901041e-05, 'gamma': 4.3371240376028504e-07, 'colsample_bytree': 0.47422061673687355, 'min_child_weight': 6}. Best is trial 4 with value: 0.776782607227277.\n",
            "<ipython-input-57-f903170c0d2c>:7: FutureWarning: suggest_loguniform has been deprecated in v3.0.0. This feature will be removed in v6.0.0. See https://github.com/optuna/optuna/releases/tag/v3.0.0. Use suggest_float(..., log=True) instead.\n",
            "  'lambda': trial.suggest_loguniform('lambda', 1e-8, 1.0),\n",
            "<ipython-input-57-f903170c0d2c>:8: FutureWarning: suggest_loguniform has been deprecated in v3.0.0. This feature will be removed in v6.0.0. See https://github.com/optuna/optuna/releases/tag/v3.0.0. Use suggest_float(..., log=True) instead.\n",
            "  'alpha': trial.suggest_loguniform('alpha', 1e-8, 1.0),\n",
            "<ipython-input-57-f903170c0d2c>:10: FutureWarning: suggest_loguniform has been deprecated in v3.0.0. This feature will be removed in v6.0.0. See https://github.com/optuna/optuna/releases/tag/v3.0.0. Use suggest_float(..., log=True) instead.\n",
            "  'eta': trial.suggest_loguniform('eta', 1e-8, 1.0),\n",
            "<ipython-input-57-f903170c0d2c>:11: FutureWarning: suggest_loguniform has been deprecated in v3.0.0. This feature will be removed in v6.0.0. See https://github.com/optuna/optuna/releases/tag/v3.0.0. Use suggest_float(..., log=True) instead.\n",
            "  'gamma': trial.suggest_loguniform('gamma', 1e-8, 1.0),\n",
            "<ipython-input-57-f903170c0d2c>:12: FutureWarning: suggest_uniform has been deprecated in v3.0.0. This feature will be removed in v6.0.0. See https://github.com/optuna/optuna/releases/tag/v3.0.0. Use suggest_float instead.\n",
            "  'colsample_bytree': trial.suggest_uniform('colsample_bytree', 0.0, 1.0),\n",
            "[I 2024-01-11 20:12:51,346] Trial 48 finished with value: 0.7752303078242909 and parameters: {'booster': 'dart', 'lambda': 0.7399447632520622, 'alpha': 0.032495792085481236, 'max_depth': 8, 'eta': 0.0003737460852562343, 'gamma': 1.4569172101241186e-06, 'colsample_bytree': 0.4789194127164837, 'min_child_weight': 6}. Best is trial 4 with value: 0.776782607227277.\n",
            "<ipython-input-57-f903170c0d2c>:7: FutureWarning: suggest_loguniform has been deprecated in v3.0.0. This feature will be removed in v6.0.0. See https://github.com/optuna/optuna/releases/tag/v3.0.0. Use suggest_float(..., log=True) instead.\n",
            "  'lambda': trial.suggest_loguniform('lambda', 1e-8, 1.0),\n",
            "<ipython-input-57-f903170c0d2c>:8: FutureWarning: suggest_loguniform has been deprecated in v3.0.0. This feature will be removed in v6.0.0. See https://github.com/optuna/optuna/releases/tag/v3.0.0. Use suggest_float(..., log=True) instead.\n",
            "  'alpha': trial.suggest_loguniform('alpha', 1e-8, 1.0),\n",
            "<ipython-input-57-f903170c0d2c>:10: FutureWarning: suggest_loguniform has been deprecated in v3.0.0. This feature will be removed in v6.0.0. See https://github.com/optuna/optuna/releases/tag/v3.0.0. Use suggest_float(..., log=True) instead.\n",
            "  'eta': trial.suggest_loguniform('eta', 1e-8, 1.0),\n",
            "<ipython-input-57-f903170c0d2c>:11: FutureWarning: suggest_loguniform has been deprecated in v3.0.0. This feature will be removed in v6.0.0. See https://github.com/optuna/optuna/releases/tag/v3.0.0. Use suggest_float(..., log=True) instead.\n",
            "  'gamma': trial.suggest_loguniform('gamma', 1e-8, 1.0),\n",
            "<ipython-input-57-f903170c0d2c>:12: FutureWarning: suggest_uniform has been deprecated in v3.0.0. This feature will be removed in v6.0.0. See https://github.com/optuna/optuna/releases/tag/v3.0.0. Use suggest_float instead.\n",
            "  'colsample_bytree': trial.suggest_uniform('colsample_bytree', 0.0, 1.0),\n",
            "[I 2024-01-11 20:12:51,816] Trial 49 finished with value: 0.7717092626739249 and parameters: {'booster': 'gbtree', 'lambda': 0.00984194143205727, 'alpha': 0.008899284201001402, 'max_depth': 5, 'eta': 7.118158706882184e-05, 'gamma': 3.0320495884035457e-07, 'colsample_bytree': 0.3605412083280372, 'min_child_weight': 9}. Best is trial 4 with value: 0.776782607227277.\n",
            "<ipython-input-57-f903170c0d2c>:7: FutureWarning: suggest_loguniform has been deprecated in v3.0.0. This feature will be removed in v6.0.0. See https://github.com/optuna/optuna/releases/tag/v3.0.0. Use suggest_float(..., log=True) instead.\n",
            "  'lambda': trial.suggest_loguniform('lambda', 1e-8, 1.0),\n",
            "<ipython-input-57-f903170c0d2c>:8: FutureWarning: suggest_loguniform has been deprecated in v3.0.0. This feature will be removed in v6.0.0. See https://github.com/optuna/optuna/releases/tag/v3.0.0. Use suggest_float(..., log=True) instead.\n",
            "  'alpha': trial.suggest_loguniform('alpha', 1e-8, 1.0),\n",
            "<ipython-input-57-f903170c0d2c>:10: FutureWarning: suggest_loguniform has been deprecated in v3.0.0. This feature will be removed in v6.0.0. See https://github.com/optuna/optuna/releases/tag/v3.0.0. Use suggest_float(..., log=True) instead.\n",
            "  'eta': trial.suggest_loguniform('eta', 1e-8, 1.0),\n",
            "<ipython-input-57-f903170c0d2c>:11: FutureWarning: suggest_loguniform has been deprecated in v3.0.0. This feature will be removed in v6.0.0. See https://github.com/optuna/optuna/releases/tag/v3.0.0. Use suggest_float(..., log=True) instead.\n",
            "  'gamma': trial.suggest_loguniform('gamma', 1e-8, 1.0),\n",
            "<ipython-input-57-f903170c0d2c>:12: FutureWarning: suggest_uniform has been deprecated in v3.0.0. This feature will be removed in v6.0.0. See https://github.com/optuna/optuna/releases/tag/v3.0.0. Use suggest_float instead.\n",
            "  'colsample_bytree': trial.suggest_uniform('colsample_bytree', 0.0, 1.0),\n",
            "[I 2024-01-11 20:12:52,006] Trial 50 finished with value: 0.7037507818198614 and parameters: {'booster': 'gblinear', 'lambda': 1.3609892098428606e-08, 'alpha': 0.002331000543851952, 'max_depth': 7, 'eta': 2.0088983296779986e-05, 'gamma': 9.981824227905423e-06, 'colsample_bytree': 0.2766186336745798, 'min_child_weight': 8}. Best is trial 4 with value: 0.776782607227277.\n",
            "<ipython-input-57-f903170c0d2c>:7: FutureWarning: suggest_loguniform has been deprecated in v3.0.0. This feature will be removed in v6.0.0. See https://github.com/optuna/optuna/releases/tag/v3.0.0. Use suggest_float(..., log=True) instead.\n",
            "  'lambda': trial.suggest_loguniform('lambda', 1e-8, 1.0),\n",
            "<ipython-input-57-f903170c0d2c>:8: FutureWarning: suggest_loguniform has been deprecated in v3.0.0. This feature will be removed in v6.0.0. See https://github.com/optuna/optuna/releases/tag/v3.0.0. Use suggest_float(..., log=True) instead.\n",
            "  'alpha': trial.suggest_loguniform('alpha', 1e-8, 1.0),\n"
          ]
        },
        {
          "name": "stdout",
          "output_type": "stream",
          "text": [
            "[20:12:51] WARNING: C:\\buildkite-agent\\builds\\buildkite-windows-cpu-autoscaling-group-i-0fdc6d574b9c0d168-1\\xgboost\\xgboost-ci-windows\\src\\learner.cc:767: \n",
            "Parameters: { \"colsample_bytree\", \"gamma\", \"max_depth\", \"min_child_weight\" } are not used.\n",
            "\n"
          ]
        },
        {
          "name": "stderr",
          "output_type": "stream",
          "text": [
            "<ipython-input-57-f903170c0d2c>:10: FutureWarning: suggest_loguniform has been deprecated in v3.0.0. This feature will be removed in v6.0.0. See https://github.com/optuna/optuna/releases/tag/v3.0.0. Use suggest_float(..., log=True) instead.\n",
            "  'eta': trial.suggest_loguniform('eta', 1e-8, 1.0),\n",
            "<ipython-input-57-f903170c0d2c>:11: FutureWarning: suggest_loguniform has been deprecated in v3.0.0. This feature will be removed in v6.0.0. See https://github.com/optuna/optuna/releases/tag/v3.0.0. Use suggest_float(..., log=True) instead.\n",
            "  'gamma': trial.suggest_loguniform('gamma', 1e-8, 1.0),\n",
            "<ipython-input-57-f903170c0d2c>:12: FutureWarning: suggest_uniform has been deprecated in v3.0.0. This feature will be removed in v6.0.0. See https://github.com/optuna/optuna/releases/tag/v3.0.0. Use suggest_float instead.\n",
            "  'colsample_bytree': trial.suggest_uniform('colsample_bytree', 0.0, 1.0),\n",
            "[I 2024-01-11 20:12:54,274] Trial 51 finished with value: 0.7760266134957422 and parameters: {'booster': 'dart', 'lambda': 0.0006453274896402818, 'alpha': 0.4770528542663028, 'max_depth': 9, 'eta': 2.160769638998933e-06, 'gamma': 9.354435159164825e-08, 'colsample_bytree': 0.41502882610691894, 'min_child_weight': 6}. Best is trial 4 with value: 0.776782607227277.\n",
            "<ipython-input-57-f903170c0d2c>:7: FutureWarning: suggest_loguniform has been deprecated in v3.0.0. This feature will be removed in v6.0.0. See https://github.com/optuna/optuna/releases/tag/v3.0.0. Use suggest_float(..., log=True) instead.\n",
            "  'lambda': trial.suggest_loguniform('lambda', 1e-8, 1.0),\n",
            "<ipython-input-57-f903170c0d2c>:8: FutureWarning: suggest_loguniform has been deprecated in v3.0.0. This feature will be removed in v6.0.0. See https://github.com/optuna/optuna/releases/tag/v3.0.0. Use suggest_float(..., log=True) instead.\n",
            "  'alpha': trial.suggest_loguniform('alpha', 1e-8, 1.0),\n",
            "<ipython-input-57-f903170c0d2c>:10: FutureWarning: suggest_loguniform has been deprecated in v3.0.0. This feature will be removed in v6.0.0. See https://github.com/optuna/optuna/releases/tag/v3.0.0. Use suggest_float(..., log=True) instead.\n",
            "  'eta': trial.suggest_loguniform('eta', 1e-8, 1.0),\n",
            "<ipython-input-57-f903170c0d2c>:11: FutureWarning: suggest_loguniform has been deprecated in v3.0.0. This feature will be removed in v6.0.0. See https://github.com/optuna/optuna/releases/tag/v3.0.0. Use suggest_float(..., log=True) instead.\n",
            "  'gamma': trial.suggest_loguniform('gamma', 1e-8, 1.0),\n",
            "<ipython-input-57-f903170c0d2c>:12: FutureWarning: suggest_uniform has been deprecated in v3.0.0. This feature will be removed in v6.0.0. See https://github.com/optuna/optuna/releases/tag/v3.0.0. Use suggest_float instead.\n",
            "  'colsample_bytree': trial.suggest_uniform('colsample_bytree', 0.0, 1.0),\n",
            "[I 2024-01-11 20:12:56,684] Trial 52 finished with value: 0.7773468088339933 and parameters: {'booster': 'dart', 'lambda': 0.024056401266306895, 'alpha': 0.08735710781506488, 'max_depth': 9, 'eta': 0.0023954729834515073, 'gamma': 4.994616891378635e-07, 'colsample_bytree': 0.4821118970685464, 'min_child_weight': 7}. Best is trial 52 with value: 0.7773468088339933.\n",
            "<ipython-input-57-f903170c0d2c>:7: FutureWarning: suggest_loguniform has been deprecated in v3.0.0. This feature will be removed in v6.0.0. See https://github.com/optuna/optuna/releases/tag/v3.0.0. Use suggest_float(..., log=True) instead.\n",
            "  'lambda': trial.suggest_loguniform('lambda', 1e-8, 1.0),\n",
            "<ipython-input-57-f903170c0d2c>:8: FutureWarning: suggest_loguniform has been deprecated in v3.0.0. This feature will be removed in v6.0.0. See https://github.com/optuna/optuna/releases/tag/v3.0.0. Use suggest_float(..., log=True) instead.\n",
            "  'alpha': trial.suggest_loguniform('alpha', 1e-8, 1.0),\n",
            "<ipython-input-57-f903170c0d2c>:10: FutureWarning: suggest_loguniform has been deprecated in v3.0.0. This feature will be removed in v6.0.0. See https://github.com/optuna/optuna/releases/tag/v3.0.0. Use suggest_float(..., log=True) instead.\n",
            "  'eta': trial.suggest_loguniform('eta', 1e-8, 1.0),\n",
            "<ipython-input-57-f903170c0d2c>:11: FutureWarning: suggest_loguniform has been deprecated in v3.0.0. This feature will be removed in v6.0.0. See https://github.com/optuna/optuna/releases/tag/v3.0.0. Use suggest_float(..., log=True) instead.\n",
            "  'gamma': trial.suggest_loguniform('gamma', 1e-8, 1.0),\n",
            "<ipython-input-57-f903170c0d2c>:12: FutureWarning: suggest_uniform has been deprecated in v3.0.0. This feature will be removed in v6.0.0. See https://github.com/optuna/optuna/releases/tag/v3.0.0. Use suggest_float instead.\n",
            "  'colsample_bytree': trial.suggest_uniform('colsample_bytree', 0.0, 1.0),\n",
            "[I 2024-01-11 20:12:59,006] Trial 53 finished with value: 0.7769596652138917 and parameters: {'booster': 'dart', 'lambda': 0.21696772948811374, 'alpha': 0.03475808330262846, 'max_depth': 9, 'eta': 0.0017902374305673154, 'gamma': 4.975372972399103e-07, 'colsample_bytree': 0.47647185061738795, 'min_child_weight': 7}. Best is trial 52 with value: 0.7773468088339933.\n",
            "<ipython-input-57-f903170c0d2c>:7: FutureWarning: suggest_loguniform has been deprecated in v3.0.0. This feature will be removed in v6.0.0. See https://github.com/optuna/optuna/releases/tag/v3.0.0. Use suggest_float(..., log=True) instead.\n",
            "  'lambda': trial.suggest_loguniform('lambda', 1e-8, 1.0),\n",
            "<ipython-input-57-f903170c0d2c>:8: FutureWarning: suggest_loguniform has been deprecated in v3.0.0. This feature will be removed in v6.0.0. See https://github.com/optuna/optuna/releases/tag/v3.0.0. Use suggest_float(..., log=True) instead.\n",
            "  'alpha': trial.suggest_loguniform('alpha', 1e-8, 1.0),\n",
            "<ipython-input-57-f903170c0d2c>:10: FutureWarning: suggest_loguniform has been deprecated in v3.0.0. This feature will be removed in v6.0.0. See https://github.com/optuna/optuna/releases/tag/v3.0.0. Use suggest_float(..., log=True) instead.\n",
            "  'eta': trial.suggest_loguniform('eta', 1e-8, 1.0),\n",
            "<ipython-input-57-f903170c0d2c>:11: FutureWarning: suggest_loguniform has been deprecated in v3.0.0. This feature will be removed in v6.0.0. See https://github.com/optuna/optuna/releases/tag/v3.0.0. Use suggest_float(..., log=True) instead.\n",
            "  'gamma': trial.suggest_loguniform('gamma', 1e-8, 1.0),\n",
            "<ipython-input-57-f903170c0d2c>:12: FutureWarning: suggest_uniform has been deprecated in v3.0.0. This feature will be removed in v6.0.0. See https://github.com/optuna/optuna/releases/tag/v3.0.0. Use suggest_float instead.\n",
            "  'colsample_bytree': trial.suggest_uniform('colsample_bytree', 0.0, 1.0),\n",
            "[I 2024-01-11 20:13:01,448] Trial 54 finished with value: 0.7755931980595968 and parameters: {'booster': 'dart', 'lambda': 0.15606913159993513, 'alpha': 0.050477109974091064, 'max_depth': 9, 'eta': 0.0028750459684922926, 'gamma': 8.196878844798593e-07, 'colsample_bytree': 0.6059705475586292, 'min_child_weight': 8}. Best is trial 52 with value: 0.7773468088339933.\n",
            "<ipython-input-57-f903170c0d2c>:7: FutureWarning: suggest_loguniform has been deprecated in v3.0.0. This feature will be removed in v6.0.0. See https://github.com/optuna/optuna/releases/tag/v3.0.0. Use suggest_float(..., log=True) instead.\n",
            "  'lambda': trial.suggest_loguniform('lambda', 1e-8, 1.0),\n",
            "<ipython-input-57-f903170c0d2c>:8: FutureWarning: suggest_loguniform has been deprecated in v3.0.0. This feature will be removed in v6.0.0. See https://github.com/optuna/optuna/releases/tag/v3.0.0. Use suggest_float(..., log=True) instead.\n",
            "  'alpha': trial.suggest_loguniform('alpha', 1e-8, 1.0),\n",
            "<ipython-input-57-f903170c0d2c>:10: FutureWarning: suggest_loguniform has been deprecated in v3.0.0. This feature will be removed in v6.0.0. See https://github.com/optuna/optuna/releases/tag/v3.0.0. Use suggest_float(..., log=True) instead.\n",
            "  'eta': trial.suggest_loguniform('eta', 1e-8, 1.0),\n",
            "<ipython-input-57-f903170c0d2c>:11: FutureWarning: suggest_loguniform has been deprecated in v3.0.0. This feature will be removed in v6.0.0. See https://github.com/optuna/optuna/releases/tag/v3.0.0. Use suggest_float(..., log=True) instead.\n",
            "  'gamma': trial.suggest_loguniform('gamma', 1e-8, 1.0),\n",
            "<ipython-input-57-f903170c0d2c>:12: FutureWarning: suggest_uniform has been deprecated in v3.0.0. This feature will be removed in v6.0.0. See https://github.com/optuna/optuna/releases/tag/v3.0.0. Use suggest_float instead.\n",
            "  'colsample_bytree': trial.suggest_uniform('colsample_bytree', 0.0, 1.0),\n",
            "[I 2024-01-11 20:13:03,676] Trial 55 finished with value: 0.7774645991635645 and parameters: {'booster': 'dart', 'lambda': 0.3842092689910703, 'alpha': 0.02426702221139564, 'max_depth': 8, 'eta': 0.009844579726403704, 'gamma': 2.613129491277775e-06, 'colsample_bytree': 0.46714308723646003, 'min_child_weight': 7}. Best is trial 55 with value: 0.7774645991635645.\n",
            "<ipython-input-57-f903170c0d2c>:7: FutureWarning: suggest_loguniform has been deprecated in v3.0.0. This feature will be removed in v6.0.0. See https://github.com/optuna/optuna/releases/tag/v3.0.0. Use suggest_float(..., log=True) instead.\n",
            "  'lambda': trial.suggest_loguniform('lambda', 1e-8, 1.0),\n",
            "<ipython-input-57-f903170c0d2c>:8: FutureWarning: suggest_loguniform has been deprecated in v3.0.0. This feature will be removed in v6.0.0. See https://github.com/optuna/optuna/releases/tag/v3.0.0. Use suggest_float(..., log=True) instead.\n",
            "  'alpha': trial.suggest_loguniform('alpha', 1e-8, 1.0),\n",
            "<ipython-input-57-f903170c0d2c>:10: FutureWarning: suggest_loguniform has been deprecated in v3.0.0. This feature will be removed in v6.0.0. See https://github.com/optuna/optuna/releases/tag/v3.0.0. Use suggest_float(..., log=True) instead.\n",
            "  'eta': trial.suggest_loguniform('eta', 1e-8, 1.0),\n",
            "<ipython-input-57-f903170c0d2c>:11: FutureWarning: suggest_loguniform has been deprecated in v3.0.0. This feature will be removed in v6.0.0. See https://github.com/optuna/optuna/releases/tag/v3.0.0. Use suggest_float(..., log=True) instead.\n",
            "  'gamma': trial.suggest_loguniform('gamma', 1e-8, 1.0),\n",
            "<ipython-input-57-f903170c0d2c>:12: FutureWarning: suggest_uniform has been deprecated in v3.0.0. This feature will be removed in v6.0.0. See https://github.com/optuna/optuna/releases/tag/v3.0.0. Use suggest_float instead.\n",
            "  'colsample_bytree': trial.suggest_uniform('colsample_bytree', 0.0, 1.0),\n",
            "[I 2024-01-11 20:13:05,838] Trial 56 finished with value: 0.7782703413055506 and parameters: {'booster': 'dart', 'lambda': 0.3639890698046267, 'alpha': 0.0008102977837571893, 'max_depth': 8, 'eta': 0.028053093914775357, 'gamma': 0.00016205792049530472, 'colsample_bytree': 0.4878404469507613, 'min_child_weight': 7}. Best is trial 56 with value: 0.7782703413055506.\n",
            "<ipython-input-57-f903170c0d2c>:7: FutureWarning: suggest_loguniform has been deprecated in v3.0.0. This feature will be removed in v6.0.0. See https://github.com/optuna/optuna/releases/tag/v3.0.0. Use suggest_float(..., log=True) instead.\n",
            "  'lambda': trial.suggest_loguniform('lambda', 1e-8, 1.0),\n",
            "<ipython-input-57-f903170c0d2c>:8: FutureWarning: suggest_loguniform has been deprecated in v3.0.0. This feature will be removed in v6.0.0. See https://github.com/optuna/optuna/releases/tag/v3.0.0. Use suggest_float(..., log=True) instead.\n",
            "  'alpha': trial.suggest_loguniform('alpha', 1e-8, 1.0),\n",
            "<ipython-input-57-f903170c0d2c>:10: FutureWarning: suggest_loguniform has been deprecated in v3.0.0. This feature will be removed in v6.0.0. See https://github.com/optuna/optuna/releases/tag/v3.0.0. Use suggest_float(..., log=True) instead.\n",
            "  'eta': trial.suggest_loguniform('eta', 1e-8, 1.0),\n",
            "<ipython-input-57-f903170c0d2c>:11: FutureWarning: suggest_loguniform has been deprecated in v3.0.0. This feature will be removed in v6.0.0. See https://github.com/optuna/optuna/releases/tag/v3.0.0. Use suggest_float(..., log=True) instead.\n",
            "  'gamma': trial.suggest_loguniform('gamma', 1e-8, 1.0),\n",
            "<ipython-input-57-f903170c0d2c>:12: FutureWarning: suggest_uniform has been deprecated in v3.0.0. This feature will be removed in v6.0.0. See https://github.com/optuna/optuna/releases/tag/v3.0.0. Use suggest_float instead.\n",
            "  'colsample_bytree': trial.suggest_uniform('colsample_bytree', 0.0, 1.0),\n",
            "[I 2024-01-11 20:13:07,983] Trial 57 finished with value: 0.7772975570798857 and parameters: {'booster': 'dart', 'lambda': 0.31103142964866143, 'alpha': 0.0005304160680045431, 'max_depth': 8, 'eta': 0.01654281386941548, 'gamma': 0.00010696681011944407, 'colsample_bytree': 0.47348755364619843, 'min_child_weight': 7}. Best is trial 56 with value: 0.7782703413055506.\n",
            "<ipython-input-57-f903170c0d2c>:7: FutureWarning: suggest_loguniform has been deprecated in v3.0.0. This feature will be removed in v6.0.0. See https://github.com/optuna/optuna/releases/tag/v3.0.0. Use suggest_float(..., log=True) instead.\n",
            "  'lambda': trial.suggest_loguniform('lambda', 1e-8, 1.0),\n",
            "<ipython-input-57-f903170c0d2c>:8: FutureWarning: suggest_loguniform has been deprecated in v3.0.0. This feature will be removed in v6.0.0. See https://github.com/optuna/optuna/releases/tag/v3.0.0. Use suggest_float(..., log=True) instead.\n",
            "  'alpha': trial.suggest_loguniform('alpha', 1e-8, 1.0),\n",
            "<ipython-input-57-f903170c0d2c>:10: FutureWarning: suggest_loguniform has been deprecated in v3.0.0. This feature will be removed in v6.0.0. See https://github.com/optuna/optuna/releases/tag/v3.0.0. Use suggest_float(..., log=True) instead.\n",
            "  'eta': trial.suggest_loguniform('eta', 1e-8, 1.0),\n",
            "<ipython-input-57-f903170c0d2c>:11: FutureWarning: suggest_loguniform has been deprecated in v3.0.0. This feature will be removed in v6.0.0. See https://github.com/optuna/optuna/releases/tag/v3.0.0. Use suggest_float(..., log=True) instead.\n",
            "  'gamma': trial.suggest_loguniform('gamma', 1e-8, 1.0),\n",
            "<ipython-input-57-f903170c0d2c>:12: FutureWarning: suggest_uniform has been deprecated in v3.0.0. This feature will be removed in v6.0.0. See https://github.com/optuna/optuna/releases/tag/v3.0.0. Use suggest_float instead.\n",
            "  'colsample_bytree': trial.suggest_uniform('colsample_bytree', 0.0, 1.0),\n",
            "[I 2024-01-11 20:13:10,028] Trial 58 finished with value: 0.777051629413578 and parameters: {'booster': 'dart', 'lambda': 0.3604444171324877, 'alpha': 0.0005092334850640594, 'max_depth': 7, 'eta': 0.011558739000305792, 'gamma': 0.0001298628248598202, 'colsample_bytree': 0.48920729748405845, 'min_child_weight': 7}. Best is trial 56 with value: 0.7782703413055506.\n",
            "<ipython-input-57-f903170c0d2c>:7: FutureWarning: suggest_loguniform has been deprecated in v3.0.0. This feature will be removed in v6.0.0. See https://github.com/optuna/optuna/releases/tag/v3.0.0. Use suggest_float(..., log=True) instead.\n",
            "  'lambda': trial.suggest_loguniform('lambda', 1e-8, 1.0),\n",
            "<ipython-input-57-f903170c0d2c>:8: FutureWarning: suggest_loguniform has been deprecated in v3.0.0. This feature will be removed in v6.0.0. See https://github.com/optuna/optuna/releases/tag/v3.0.0. Use suggest_float(..., log=True) instead.\n",
            "  'alpha': trial.suggest_loguniform('alpha', 1e-8, 1.0),\n",
            "<ipython-input-57-f903170c0d2c>:10: FutureWarning: suggest_loguniform has been deprecated in v3.0.0. This feature will be removed in v6.0.0. See https://github.com/optuna/optuna/releases/tag/v3.0.0. Use suggest_float(..., log=True) instead.\n",
            "  'eta': trial.suggest_loguniform('eta', 1e-8, 1.0),\n",
            "<ipython-input-57-f903170c0d2c>:11: FutureWarning: suggest_loguniform has been deprecated in v3.0.0. This feature will be removed in v6.0.0. See https://github.com/optuna/optuna/releases/tag/v3.0.0. Use suggest_float(..., log=True) instead.\n",
            "  'gamma': trial.suggest_loguniform('gamma', 1e-8, 1.0),\n",
            "<ipython-input-57-f903170c0d2c>:12: FutureWarning: suggest_uniform has been deprecated in v3.0.0. This feature will be removed in v6.0.0. See https://github.com/optuna/optuna/releases/tag/v3.0.0. Use suggest_float instead.\n",
            "  'colsample_bytree': trial.suggest_uniform('colsample_bytree', 0.0, 1.0),\n",
            "[I 2024-01-11 20:13:12,296] Trial 59 finished with value: 0.7771190091242393 and parameters: {'booster': 'dart', 'lambda': 0.4344637432322305, 'alpha': 0.0006764676540717707, 'max_depth': 7, 'eta': 0.010741740281338489, 'gamma': 0.00016633308265868354, 'colsample_bytree': 0.4659485659428076, 'min_child_weight': 9}. Best is trial 56 with value: 0.7782703413055506.\n",
            "<ipython-input-57-f903170c0d2c>:7: FutureWarning: suggest_loguniform has been deprecated in v3.0.0. This feature will be removed in v6.0.0. See https://github.com/optuna/optuna/releases/tag/v3.0.0. Use suggest_float(..., log=True) instead.\n",
            "  'lambda': trial.suggest_loguniform('lambda', 1e-8, 1.0),\n",
            "<ipython-input-57-f903170c0d2c>:8: FutureWarning: suggest_loguniform has been deprecated in v3.0.0. This feature will be removed in v6.0.0. See https://github.com/optuna/optuna/releases/tag/v3.0.0. Use suggest_float(..., log=True) instead.\n",
            "  'alpha': trial.suggest_loguniform('alpha', 1e-8, 1.0),\n",
            "<ipython-input-57-f903170c0d2c>:10: FutureWarning: suggest_loguniform has been deprecated in v3.0.0. This feature will be removed in v6.0.0. See https://github.com/optuna/optuna/releases/tag/v3.0.0. Use suggest_float(..., log=True) instead.\n",
            "  'eta': trial.suggest_loguniform('eta', 1e-8, 1.0),\n",
            "<ipython-input-57-f903170c0d2c>:11: FutureWarning: suggest_loguniform has been deprecated in v3.0.0. This feature will be removed in v6.0.0. See https://github.com/optuna/optuna/releases/tag/v3.0.0. Use suggest_float(..., log=True) instead.\n",
            "  'gamma': trial.suggest_loguniform('gamma', 1e-8, 1.0),\n",
            "<ipython-input-57-f903170c0d2c>:12: FutureWarning: suggest_uniform has been deprecated in v3.0.0. This feature will be removed in v6.0.0. See https://github.com/optuna/optuna/releases/tag/v3.0.0. Use suggest_float instead.\n",
            "  'colsample_bytree': trial.suggest_uniform('colsample_bytree', 0.0, 1.0),\n",
            "[I 2024-01-11 20:13:14,295] Trial 60 finished with value: 0.7770643769264057 and parameters: {'booster': 'dart', 'lambda': 0.49452968567481104, 'alpha': 0.0006153360933376576, 'max_depth': 7, 'eta': 0.01069149839570428, 'gamma': 0.00017662177425152988, 'colsample_bytree': 0.4243543793824261, 'min_child_weight': 10}. Best is trial 56 with value: 0.7782703413055506.\n",
            "<ipython-input-57-f903170c0d2c>:7: FutureWarning: suggest_loguniform has been deprecated in v3.0.0. This feature will be removed in v6.0.0. See https://github.com/optuna/optuna/releases/tag/v3.0.0. Use suggest_float(..., log=True) instead.\n",
            "  'lambda': trial.suggest_loguniform('lambda', 1e-8, 1.0),\n",
            "<ipython-input-57-f903170c0d2c>:8: FutureWarning: suggest_loguniform has been deprecated in v3.0.0. This feature will be removed in v6.0.0. See https://github.com/optuna/optuna/releases/tag/v3.0.0. Use suggest_float(..., log=True) instead.\n",
            "  'alpha': trial.suggest_loguniform('alpha', 1e-8, 1.0),\n",
            "<ipython-input-57-f903170c0d2c>:10: FutureWarning: suggest_loguniform has been deprecated in v3.0.0. This feature will be removed in v6.0.0. See https://github.com/optuna/optuna/releases/tag/v3.0.0. Use suggest_float(..., log=True) instead.\n",
            "  'eta': trial.suggest_loguniform('eta', 1e-8, 1.0),\n",
            "<ipython-input-57-f903170c0d2c>:11: FutureWarning: suggest_loguniform has been deprecated in v3.0.0. This feature will be removed in v6.0.0. See https://github.com/optuna/optuna/releases/tag/v3.0.0. Use suggest_float(..., log=True) instead.\n",
            "  'gamma': trial.suggest_loguniform('gamma', 1e-8, 1.0),\n",
            "<ipython-input-57-f903170c0d2c>:12: FutureWarning: suggest_uniform has been deprecated in v3.0.0. This feature will be removed in v6.0.0. See https://github.com/optuna/optuna/releases/tag/v3.0.0. Use suggest_float instead.\n",
            "  'colsample_bytree': trial.suggest_uniform('colsample_bytree', 0.0, 1.0),\n",
            "[I 2024-01-11 20:13:16,342] Trial 61 finished with value: 0.7768917888468865 and parameters: {'booster': 'dart', 'lambda': 0.4519026912832198, 'alpha': 0.0005573618635786195, 'max_depth': 7, 'eta': 0.010053468154953914, 'gamma': 0.0001553338877992412, 'colsample_bytree': 0.42533792043096663, 'min_child_weight': 10}. Best is trial 56 with value: 0.7782703413055506.\n",
            "<ipython-input-57-f903170c0d2c>:7: FutureWarning: suggest_loguniform has been deprecated in v3.0.0. This feature will be removed in v6.0.0. See https://github.com/optuna/optuna/releases/tag/v3.0.0. Use suggest_float(..., log=True) instead.\n",
            "  'lambda': trial.suggest_loguniform('lambda', 1e-8, 1.0),\n",
            "<ipython-input-57-f903170c0d2c>:8: FutureWarning: suggest_loguniform has been deprecated in v3.0.0. This feature will be removed in v6.0.0. See https://github.com/optuna/optuna/releases/tag/v3.0.0. Use suggest_float(..., log=True) instead.\n",
            "  'alpha': trial.suggest_loguniform('alpha', 1e-8, 1.0),\n",
            "<ipython-input-57-f903170c0d2c>:10: FutureWarning: suggest_loguniform has been deprecated in v3.0.0. This feature will be removed in v6.0.0. See https://github.com/optuna/optuna/releases/tag/v3.0.0. Use suggest_float(..., log=True) instead.\n",
            "  'eta': trial.suggest_loguniform('eta', 1e-8, 1.0),\n",
            "<ipython-input-57-f903170c0d2c>:11: FutureWarning: suggest_loguniform has been deprecated in v3.0.0. This feature will be removed in v6.0.0. See https://github.com/optuna/optuna/releases/tag/v3.0.0. Use suggest_float(..., log=True) instead.\n",
            "  'gamma': trial.suggest_loguniform('gamma', 1e-8, 1.0),\n",
            "<ipython-input-57-f903170c0d2c>:12: FutureWarning: suggest_uniform has been deprecated in v3.0.0. This feature will be removed in v6.0.0. See https://github.com/optuna/optuna/releases/tag/v3.0.0. Use suggest_float instead.\n",
            "  'colsample_bytree': trial.suggest_uniform('colsample_bytree', 0.0, 1.0),\n",
            "[I 2024-01-11 20:13:18,122] Trial 62 finished with value: 0.7784093223057966 and parameters: {'booster': 'dart', 'lambda': 0.8049326467349056, 'alpha': 0.00016948474846687365, 'max_depth': 6, 'eta': 0.04352983787844, 'gamma': 0.00028345058784284176, 'colsample_bytree': 0.3898635686504973, 'min_child_weight': 10}. Best is trial 62 with value: 0.7784093223057966.\n",
            "<ipython-input-57-f903170c0d2c>:7: FutureWarning: suggest_loguniform has been deprecated in v3.0.0. This feature will be removed in v6.0.0. See https://github.com/optuna/optuna/releases/tag/v3.0.0. Use suggest_float(..., log=True) instead.\n",
            "  'lambda': trial.suggest_loguniform('lambda', 1e-8, 1.0),\n",
            "<ipython-input-57-f903170c0d2c>:8: FutureWarning: suggest_loguniform has been deprecated in v3.0.0. This feature will be removed in v6.0.0. See https://github.com/optuna/optuna/releases/tag/v3.0.0. Use suggest_float(..., log=True) instead.\n",
            "  'alpha': trial.suggest_loguniform('alpha', 1e-8, 1.0),\n",
            "<ipython-input-57-f903170c0d2c>:10: FutureWarning: suggest_loguniform has been deprecated in v3.0.0. This feature will be removed in v6.0.0. See https://github.com/optuna/optuna/releases/tag/v3.0.0. Use suggest_float(..., log=True) instead.\n",
            "  'eta': trial.suggest_loguniform('eta', 1e-8, 1.0),\n",
            "<ipython-input-57-f903170c0d2c>:11: FutureWarning: suggest_loguniform has been deprecated in v3.0.0. This feature will be removed in v6.0.0. See https://github.com/optuna/optuna/releases/tag/v3.0.0. Use suggest_float(..., log=True) instead.\n",
            "  'gamma': trial.suggest_loguniform('gamma', 1e-8, 1.0),\n",
            "<ipython-input-57-f903170c0d2c>:12: FutureWarning: suggest_uniform has been deprecated in v3.0.0. This feature will be removed in v6.0.0. See https://github.com/optuna/optuna/releases/tag/v3.0.0. Use suggest_float instead.\n",
            "  'colsample_bytree': trial.suggest_uniform('colsample_bytree', 0.0, 1.0),\n",
            "[I 2024-01-11 20:13:19,905] Trial 63 finished with value: 0.7782506406039076 and parameters: {'booster': 'dart', 'lambda': 0.9150573363940255, 'alpha': 0.0002574876234805034, 'max_depth': 6, 'eta': 0.04790424599999612, 'gamma': 0.0003950050222296517, 'colsample_bytree': 0.4038796938909094, 'min_child_weight': 10}. Best is trial 62 with value: 0.7784093223057966.\n",
            "<ipython-input-57-f903170c0d2c>:7: FutureWarning: suggest_loguniform has been deprecated in v3.0.0. This feature will be removed in v6.0.0. See https://github.com/optuna/optuna/releases/tag/v3.0.0. Use suggest_float(..., log=True) instead.\n",
            "  'lambda': trial.suggest_loguniform('lambda', 1e-8, 1.0),\n",
            "<ipython-input-57-f903170c0d2c>:8: FutureWarning: suggest_loguniform has been deprecated in v3.0.0. This feature will be removed in v6.0.0. See https://github.com/optuna/optuna/releases/tag/v3.0.0. Use suggest_float(..., log=True) instead.\n",
            "  'alpha': trial.suggest_loguniform('alpha', 1e-8, 1.0),\n",
            "<ipython-input-57-f903170c0d2c>:10: FutureWarning: suggest_loguniform has been deprecated in v3.0.0. This feature will be removed in v6.0.0. See https://github.com/optuna/optuna/releases/tag/v3.0.0. Use suggest_float(..., log=True) instead.\n",
            "  'eta': trial.suggest_loguniform('eta', 1e-8, 1.0),\n",
            "<ipython-input-57-f903170c0d2c>:11: FutureWarning: suggest_loguniform has been deprecated in v3.0.0. This feature will be removed in v6.0.0. See https://github.com/optuna/optuna/releases/tag/v3.0.0. Use suggest_float(..., log=True) instead.\n",
            "  'gamma': trial.suggest_loguniform('gamma', 1e-8, 1.0),\n",
            "<ipython-input-57-f903170c0d2c>:12: FutureWarning: suggest_uniform has been deprecated in v3.0.0. This feature will be removed in v6.0.0. See https://github.com/optuna/optuna/releases/tag/v3.0.0. Use suggest_float instead.\n",
            "  'colsample_bytree': trial.suggest_uniform('colsample_bytree', 0.0, 1.0),\n",
            "[I 2024-01-11 20:13:21,721] Trial 64 finished with value: 0.7784087428733953 and parameters: {'booster': 'dart', 'lambda': 0.9637551418926564, 'alpha': 0.00016107485306311636, 'max_depth': 6, 'eta': 0.037816843251120766, 'gamma': 0.00047521647264532065, 'colsample_bytree': 0.3926862386596404, 'min_child_weight': 9}. Best is trial 62 with value: 0.7784093223057966.\n",
            "<ipython-input-57-f903170c0d2c>:7: FutureWarning: suggest_loguniform has been deprecated in v3.0.0. This feature will be removed in v6.0.0. See https://github.com/optuna/optuna/releases/tag/v3.0.0. Use suggest_float(..., log=True) instead.\n",
            "  'lambda': trial.suggest_loguniform('lambda', 1e-8, 1.0),\n",
            "<ipython-input-57-f903170c0d2c>:8: FutureWarning: suggest_loguniform has been deprecated in v3.0.0. This feature will be removed in v6.0.0. See https://github.com/optuna/optuna/releases/tag/v3.0.0. Use suggest_float(..., log=True) instead.\n",
            "  'alpha': trial.suggest_loguniform('alpha', 1e-8, 1.0),\n",
            "<ipython-input-57-f903170c0d2c>:10: FutureWarning: suggest_loguniform has been deprecated in v3.0.0. This feature will be removed in v6.0.0. See https://github.com/optuna/optuna/releases/tag/v3.0.0. Use suggest_float(..., log=True) instead.\n",
            "  'eta': trial.suggest_loguniform('eta', 1e-8, 1.0),\n",
            "<ipython-input-57-f903170c0d2c>:11: FutureWarning: suggest_loguniform has been deprecated in v3.0.0. This feature will be removed in v6.0.0. See https://github.com/optuna/optuna/releases/tag/v3.0.0. Use suggest_float(..., log=True) instead.\n",
            "  'gamma': trial.suggest_loguniform('gamma', 1e-8, 1.0),\n",
            "<ipython-input-57-f903170c0d2c>:12: FutureWarning: suggest_uniform has been deprecated in v3.0.0. This feature will be removed in v6.0.0. See https://github.com/optuna/optuna/releases/tag/v3.0.0. Use suggest_float instead.\n",
            "  'colsample_bytree': trial.suggest_uniform('colsample_bytree', 0.0, 1.0),\n",
            "[I 2024-01-11 20:13:23,504] Trial 65 finished with value: 0.7780936144231652 and parameters: {'booster': 'dart', 'lambda': 0.9334144118796919, 'alpha': 0.00021466975275936926, 'max_depth': 6, 'eta': 0.04823352751295522, 'gamma': 0.0007800500175472045, 'colsample_bytree': 0.39997668756929716, 'min_child_weight': 10}. Best is trial 62 with value: 0.7784093223057966.\n",
            "<ipython-input-57-f903170c0d2c>:7: FutureWarning: suggest_loguniform has been deprecated in v3.0.0. This feature will be removed in v6.0.0. See https://github.com/optuna/optuna/releases/tag/v3.0.0. Use suggest_float(..., log=True) instead.\n",
            "  'lambda': trial.suggest_loguniform('lambda', 1e-8, 1.0),\n",
            "<ipython-input-57-f903170c0d2c>:8: FutureWarning: suggest_loguniform has been deprecated in v3.0.0. This feature will be removed in v6.0.0. See https://github.com/optuna/optuna/releases/tag/v3.0.0. Use suggest_float(..., log=True) instead.\n",
            "  'alpha': trial.suggest_loguniform('alpha', 1e-8, 1.0),\n",
            "<ipython-input-57-f903170c0d2c>:10: FutureWarning: suggest_loguniform has been deprecated in v3.0.0. This feature will be removed in v6.0.0. See https://github.com/optuna/optuna/releases/tag/v3.0.0. Use suggest_float(..., log=True) instead.\n",
            "  'eta': trial.suggest_loguniform('eta', 1e-8, 1.0),\n",
            "<ipython-input-57-f903170c0d2c>:11: FutureWarning: suggest_loguniform has been deprecated in v3.0.0. This feature will be removed in v6.0.0. See https://github.com/optuna/optuna/releases/tag/v3.0.0. Use suggest_float(..., log=True) instead.\n",
            "  'gamma': trial.suggest_loguniform('gamma', 1e-8, 1.0),\n",
            "<ipython-input-57-f903170c0d2c>:12: FutureWarning: suggest_uniform has been deprecated in v3.0.0. This feature will be removed in v6.0.0. See https://github.com/optuna/optuna/releases/tag/v3.0.0. Use suggest_float instead.\n",
            "  'colsample_bytree': trial.suggest_uniform('colsample_bytree', 0.0, 1.0),\n",
            "[I 2024-01-11 20:13:25,289] Trial 66 finished with value: 0.7782156263316599 and parameters: {'booster': 'dart', 'lambda': 0.9682463648887415, 'alpha': 0.000172401511668717, 'max_depth': 6, 'eta': 0.05322774728079268, 'gamma': 0.0016710868716207357, 'colsample_bytree': 0.3889919408417807, 'min_child_weight': 10}. Best is trial 62 with value: 0.7784093223057966.\n",
            "<ipython-input-57-f903170c0d2c>:7: FutureWarning: suggest_loguniform has been deprecated in v3.0.0. This feature will be removed in v6.0.0. See https://github.com/optuna/optuna/releases/tag/v3.0.0. Use suggest_float(..., log=True) instead.\n",
            "  'lambda': trial.suggest_loguniform('lambda', 1e-8, 1.0),\n",
            "<ipython-input-57-f903170c0d2c>:8: FutureWarning: suggest_loguniform has been deprecated in v3.0.0. This feature will be removed in v6.0.0. See https://github.com/optuna/optuna/releases/tag/v3.0.0. Use suggest_float(..., log=True) instead.\n",
            "  'alpha': trial.suggest_loguniform('alpha', 1e-8, 1.0),\n",
            "<ipython-input-57-f903170c0d2c>:10: FutureWarning: suggest_loguniform has been deprecated in v3.0.0. This feature will be removed in v6.0.0. See https://github.com/optuna/optuna/releases/tag/v3.0.0. Use suggest_float(..., log=True) instead.\n",
            "  'eta': trial.suggest_loguniform('eta', 1e-8, 1.0),\n",
            "<ipython-input-57-f903170c0d2c>:11: FutureWarning: suggest_loguniform has been deprecated in v3.0.0. This feature will be removed in v6.0.0. See https://github.com/optuna/optuna/releases/tag/v3.0.0. Use suggest_float(..., log=True) instead.\n",
            "  'gamma': trial.suggest_loguniform('gamma', 1e-8, 1.0),\n",
            "<ipython-input-57-f903170c0d2c>:12: FutureWarning: suggest_uniform has been deprecated in v3.0.0. This feature will be removed in v6.0.0. See https://github.com/optuna/optuna/releases/tag/v3.0.0. Use suggest_float instead.\n",
            "  'colsample_bytree': trial.suggest_uniform('colsample_bytree', 0.0, 1.0),\n",
            "[I 2024-01-11 20:13:27,073] Trial 67 finished with value: 0.7777157417214837 and parameters: {'booster': 'dart', 'lambda': 0.07379743471630394, 'alpha': 0.00018134333238658127, 'max_depth': 6, 'eta': 0.037874442307660225, 'gamma': 0.001839557430416386, 'colsample_bytree': 0.3893301403617448, 'min_child_weight': 10}. Best is trial 62 with value: 0.7784093223057966.\n",
            "<ipython-input-57-f903170c0d2c>:7: FutureWarning: suggest_loguniform has been deprecated in v3.0.0. This feature will be removed in v6.0.0. See https://github.com/optuna/optuna/releases/tag/v3.0.0. Use suggest_float(..., log=True) instead.\n",
            "  'lambda': trial.suggest_loguniform('lambda', 1e-8, 1.0),\n",
            "<ipython-input-57-f903170c0d2c>:8: FutureWarning: suggest_loguniform has been deprecated in v3.0.0. This feature will be removed in v6.0.0. See https://github.com/optuna/optuna/releases/tag/v3.0.0. Use suggest_float(..., log=True) instead.\n",
            "  'alpha': trial.suggest_loguniform('alpha', 1e-8, 1.0),\n",
            "<ipython-input-57-f903170c0d2c>:10: FutureWarning: suggest_loguniform has been deprecated in v3.0.0. This feature will be removed in v6.0.0. See https://github.com/optuna/optuna/releases/tag/v3.0.0. Use suggest_float(..., log=True) instead.\n",
            "  'eta': trial.suggest_loguniform('eta', 1e-8, 1.0),\n",
            "<ipython-input-57-f903170c0d2c>:11: FutureWarning: suggest_loguniform has been deprecated in v3.0.0. This feature will be removed in v6.0.0. See https://github.com/optuna/optuna/releases/tag/v3.0.0. Use suggest_float(..., log=True) instead.\n",
            "  'gamma': trial.suggest_loguniform('gamma', 1e-8, 1.0),\n",
            "<ipython-input-57-f903170c0d2c>:12: FutureWarning: suggest_uniform has been deprecated in v3.0.0. This feature will be removed in v6.0.0. See https://github.com/optuna/optuna/releases/tag/v3.0.0. Use suggest_float instead.\n",
            "  'colsample_bytree': trial.suggest_uniform('colsample_bytree', 0.0, 1.0),\n",
            "[I 2024-01-11 20:13:28,855] Trial 68 finished with value: 0.7785185867014636 and parameters: {'booster': 'dart', 'lambda': 0.9661526960910785, 'alpha': 0.00014328872670642796, 'max_depth': 6, 'eta': 0.0527317658805278, 'gamma': 0.002546123562008755, 'colsample_bytree': 0.386519907277539, 'min_child_weight': 10}. Best is trial 68 with value: 0.7785185867014636.\n",
            "<ipython-input-57-f903170c0d2c>:7: FutureWarning: suggest_loguniform has been deprecated in v3.0.0. This feature will be removed in v6.0.0. See https://github.com/optuna/optuna/releases/tag/v3.0.0. Use suggest_float(..., log=True) instead.\n",
            "  'lambda': trial.suggest_loguniform('lambda', 1e-8, 1.0),\n",
            "<ipython-input-57-f903170c0d2c>:8: FutureWarning: suggest_loguniform has been deprecated in v3.0.0. This feature will be removed in v6.0.0. See https://github.com/optuna/optuna/releases/tag/v3.0.0. Use suggest_float(..., log=True) instead.\n",
            "  'alpha': trial.suggest_loguniform('alpha', 1e-8, 1.0),\n",
            "<ipython-input-57-f903170c0d2c>:10: FutureWarning: suggest_loguniform has been deprecated in v3.0.0. This feature will be removed in v6.0.0. See https://github.com/optuna/optuna/releases/tag/v3.0.0. Use suggest_float(..., log=True) instead.\n",
            "  'eta': trial.suggest_loguniform('eta', 1e-8, 1.0),\n",
            "<ipython-input-57-f903170c0d2c>:11: FutureWarning: suggest_loguniform has been deprecated in v3.0.0. This feature will be removed in v6.0.0. See https://github.com/optuna/optuna/releases/tag/v3.0.0. Use suggest_float(..., log=True) instead.\n",
            "  'gamma': trial.suggest_loguniform('gamma', 1e-8, 1.0),\n",
            "<ipython-input-57-f903170c0d2c>:12: FutureWarning: suggest_uniform has been deprecated in v3.0.0. This feature will be removed in v6.0.0. See https://github.com/optuna/optuna/releases/tag/v3.0.0. Use suggest_float instead.\n",
            "  'colsample_bytree': trial.suggest_uniform('colsample_bytree', 0.0, 1.0),\n",
            "[I 2024-01-11 20:13:30,788] Trial 69 finished with value: 0.7793975856541808 and parameters: {'booster': 'dart', 'lambda': 0.8772056114195729, 'alpha': 4.2974181965344104e-05, 'max_depth': 6, 'eta': 0.07546655870761754, 'gamma': 0.0003959920179080056, 'colsample_bytree': 0.30972139442572455, 'min_child_weight': 9}. Best is trial 69 with value: 0.7793975856541808.\n",
            "<ipython-input-57-f903170c0d2c>:7: FutureWarning: suggest_loguniform has been deprecated in v3.0.0. This feature will be removed in v6.0.0. See https://github.com/optuna/optuna/releases/tag/v3.0.0. Use suggest_float(..., log=True) instead.\n",
            "  'lambda': trial.suggest_loguniform('lambda', 1e-8, 1.0),\n",
            "<ipython-input-57-f903170c0d2c>:8: FutureWarning: suggest_loguniform has been deprecated in v3.0.0. This feature will be removed in v6.0.0. See https://github.com/optuna/optuna/releases/tag/v3.0.0. Use suggest_float(..., log=True) instead.\n",
            "  'alpha': trial.suggest_loguniform('alpha', 1e-8, 1.0),\n",
            "<ipython-input-57-f903170c0d2c>:10: FutureWarning: suggest_loguniform has been deprecated in v3.0.0. This feature will be removed in v6.0.0. See https://github.com/optuna/optuna/releases/tag/v3.0.0. Use suggest_float(..., log=True) instead.\n",
            "  'eta': trial.suggest_loguniform('eta', 1e-8, 1.0),\n",
            "<ipython-input-57-f903170c0d2c>:11: FutureWarning: suggest_loguniform has been deprecated in v3.0.0. This feature will be removed in v6.0.0. See https://github.com/optuna/optuna/releases/tag/v3.0.0. Use suggest_float(..., log=True) instead.\n",
            "  'gamma': trial.suggest_loguniform('gamma', 1e-8, 1.0),\n",
            "<ipython-input-57-f903170c0d2c>:12: FutureWarning: suggest_uniform has been deprecated in v3.0.0. This feature will be removed in v6.0.0. See https://github.com/optuna/optuna/releases/tag/v3.0.0. Use suggest_float instead.\n",
            "  'colsample_bytree': trial.suggest_uniform('colsample_bytree', 0.0, 1.0),\n",
            "[I 2024-01-11 20:13:30,974] Trial 70 finished with value: 0.7133459340566195 and parameters: {'booster': 'gblinear', 'lambda': 0.8510879717883554, 'alpha': 3.774625680400535e-05, 'max_depth': 5, 'eta': 0.10470656644650855, 'gamma': 0.004903404541127273, 'colsample_bytree': 0.32816172505265817, 'min_child_weight': 9}. Best is trial 69 with value: 0.7793975856541808.\n"
          ]
        },
        {
          "name": "stdout",
          "output_type": "stream",
          "text": [
            "[20:13:30] WARNING: C:\\buildkite-agent\\builds\\buildkite-windows-cpu-autoscaling-group-i-0fdc6d574b9c0d168-1\\xgboost\\xgboost-ci-windows\\src\\learner.cc:767: \n",
            "Parameters: { \"colsample_bytree\", \"gamma\", \"max_depth\", \"min_child_weight\" } are not used.\n",
            "\n"
          ]
        },
        {
          "name": "stderr",
          "output_type": "stream",
          "text": [
            "<ipython-input-57-f903170c0d2c>:7: FutureWarning: suggest_loguniform has been deprecated in v3.0.0. This feature will be removed in v6.0.0. See https://github.com/optuna/optuna/releases/tag/v3.0.0. Use suggest_float(..., log=True) instead.\n",
            "  'lambda': trial.suggest_loguniform('lambda', 1e-8, 1.0),\n",
            "<ipython-input-57-f903170c0d2c>:8: FutureWarning: suggest_loguniform has been deprecated in v3.0.0. This feature will be removed in v6.0.0. See https://github.com/optuna/optuna/releases/tag/v3.0.0. Use suggest_float(..., log=True) instead.\n",
            "  'alpha': trial.suggest_loguniform('alpha', 1e-8, 1.0),\n",
            "<ipython-input-57-f903170c0d2c>:10: FutureWarning: suggest_loguniform has been deprecated in v3.0.0. This feature will be removed in v6.0.0. See https://github.com/optuna/optuna/releases/tag/v3.0.0. Use suggest_float(..., log=True) instead.\n",
            "  'eta': trial.suggest_loguniform('eta', 1e-8, 1.0),\n",
            "<ipython-input-57-f903170c0d2c>:11: FutureWarning: suggest_loguniform has been deprecated in v3.0.0. This feature will be removed in v6.0.0. See https://github.com/optuna/optuna/releases/tag/v3.0.0. Use suggest_float(..., log=True) instead.\n",
            "  'gamma': trial.suggest_loguniform('gamma', 1e-8, 1.0),\n",
            "<ipython-input-57-f903170c0d2c>:12: FutureWarning: suggest_uniform has been deprecated in v3.0.0. This feature will be removed in v6.0.0. See https://github.com/optuna/optuna/releases/tag/v3.0.0. Use suggest_float instead.\n",
            "  'colsample_bytree': trial.suggest_uniform('colsample_bytree', 0.0, 1.0),\n",
            "[I 2024-01-11 20:13:32,815] Trial 71 finished with value: 0.7784183448960449 and parameters: {'booster': 'dart', 'lambda': 0.9861295243929923, 'alpha': 0.00022093568592839236, 'max_depth': 6, 'eta': 0.04731320249647119, 'gamma': 0.0004374562478226547, 'colsample_bytree': 0.28704202053456396, 'min_child_weight': 10}. Best is trial 69 with value: 0.7793975856541808.\n",
            "<ipython-input-57-f903170c0d2c>:7: FutureWarning: suggest_loguniform has been deprecated in v3.0.0. This feature will be removed in v6.0.0. See https://github.com/optuna/optuna/releases/tag/v3.0.0. Use suggest_float(..., log=True) instead.\n",
            "  'lambda': trial.suggest_loguniform('lambda', 1e-8, 1.0),\n",
            "<ipython-input-57-f903170c0d2c>:8: FutureWarning: suggest_loguniform has been deprecated in v3.0.0. This feature will be removed in v6.0.0. See https://github.com/optuna/optuna/releases/tag/v3.0.0. Use suggest_float(..., log=True) instead.\n",
            "  'alpha': trial.suggest_loguniform('alpha', 1e-8, 1.0),\n",
            "<ipython-input-57-f903170c0d2c>:10: FutureWarning: suggest_loguniform has been deprecated in v3.0.0. This feature will be removed in v6.0.0. See https://github.com/optuna/optuna/releases/tag/v3.0.0. Use suggest_float(..., log=True) instead.\n",
            "  'eta': trial.suggest_loguniform('eta', 1e-8, 1.0),\n",
            "<ipython-input-57-f903170c0d2c>:11: FutureWarning: suggest_loguniform has been deprecated in v3.0.0. This feature will be removed in v6.0.0. See https://github.com/optuna/optuna/releases/tag/v3.0.0. Use suggest_float(..., log=True) instead.\n",
            "  'gamma': trial.suggest_loguniform('gamma', 1e-8, 1.0),\n",
            "<ipython-input-57-f903170c0d2c>:12: FutureWarning: suggest_uniform has been deprecated in v3.0.0. This feature will be removed in v6.0.0. See https://github.com/optuna/optuna/releases/tag/v3.0.0. Use suggest_float instead.\n",
            "  'colsample_bytree': trial.suggest_uniform('colsample_bytree', 0.0, 1.0),\n",
            "[I 2024-01-11 20:13:34,592] Trial 72 finished with value: 0.7578620699245777 and parameters: {'booster': 'dart', 'lambda': 0.14230198761176702, 'alpha': 9.00682710354382e-05, 'max_depth': 6, 'eta': 0.3414327469523403, 'gamma': 0.002424902664811248, 'colsample_bytree': 0.21303462639325454, 'min_child_weight': 10}. Best is trial 69 with value: 0.7793975856541808.\n",
            "<ipython-input-57-f903170c0d2c>:7: FutureWarning: suggest_loguniform has been deprecated in v3.0.0. This feature will be removed in v6.0.0. See https://github.com/optuna/optuna/releases/tag/v3.0.0. Use suggest_float(..., log=True) instead.\n",
            "  'lambda': trial.suggest_loguniform('lambda', 1e-8, 1.0),\n",
            "<ipython-input-57-f903170c0d2c>:8: FutureWarning: suggest_loguniform has been deprecated in v3.0.0. This feature will be removed in v6.0.0. See https://github.com/optuna/optuna/releases/tag/v3.0.0. Use suggest_float(..., log=True) instead.\n",
            "  'alpha': trial.suggest_loguniform('alpha', 1e-8, 1.0),\n",
            "<ipython-input-57-f903170c0d2c>:10: FutureWarning: suggest_loguniform has been deprecated in v3.0.0. This feature will be removed in v6.0.0. See https://github.com/optuna/optuna/releases/tag/v3.0.0. Use suggest_float(..., log=True) instead.\n",
            "  'eta': trial.suggest_loguniform('eta', 1e-8, 1.0),\n",
            "<ipython-input-57-f903170c0d2c>:11: FutureWarning: suggest_loguniform has been deprecated in v3.0.0. This feature will be removed in v6.0.0. See https://github.com/optuna/optuna/releases/tag/v3.0.0. Use suggest_float(..., log=True) instead.\n",
            "  'gamma': trial.suggest_loguniform('gamma', 1e-8, 1.0),\n",
            "<ipython-input-57-f903170c0d2c>:12: FutureWarning: suggest_uniform has been deprecated in v3.0.0. This feature will be removed in v6.0.0. See https://github.com/optuna/optuna/releases/tag/v3.0.0. Use suggest_float instead.\n",
            "  'colsample_bytree': trial.suggest_uniform('colsample_bytree', 0.0, 1.0),\n",
            "[I 2024-01-11 20:13:36,326] Trial 73 finished with value: 0.7788278380516238 and parameters: {'booster': 'dart', 'lambda': 0.9539359368233503, 'alpha': 4.0747310074987125e-05, 'max_depth': 6, 'eta': 0.06569032493513624, 'gamma': 0.00043307157602486365, 'colsample_bytree': 0.28752140076196536, 'min_child_weight': 9}. Best is trial 69 with value: 0.7793975856541808.\n",
            "<ipython-input-57-f903170c0d2c>:7: FutureWarning: suggest_loguniform has been deprecated in v3.0.0. This feature will be removed in v6.0.0. See https://github.com/optuna/optuna/releases/tag/v3.0.0. Use suggest_float(..., log=True) instead.\n",
            "  'lambda': trial.suggest_loguniform('lambda', 1e-8, 1.0),\n",
            "<ipython-input-57-f903170c0d2c>:8: FutureWarning: suggest_loguniform has been deprecated in v3.0.0. This feature will be removed in v6.0.0. See https://github.com/optuna/optuna/releases/tag/v3.0.0. Use suggest_float(..., log=True) instead.\n",
            "  'alpha': trial.suggest_loguniform('alpha', 1e-8, 1.0),\n",
            "<ipython-input-57-f903170c0d2c>:10: FutureWarning: suggest_loguniform has been deprecated in v3.0.0. This feature will be removed in v6.0.0. See https://github.com/optuna/optuna/releases/tag/v3.0.0. Use suggest_float(..., log=True) instead.\n",
            "  'eta': trial.suggest_loguniform('eta', 1e-8, 1.0),\n",
            "<ipython-input-57-f903170c0d2c>:11: FutureWarning: suggest_loguniform has been deprecated in v3.0.0. This feature will be removed in v6.0.0. See https://github.com/optuna/optuna/releases/tag/v3.0.0. Use suggest_float(..., log=True) instead.\n",
            "  'gamma': trial.suggest_loguniform('gamma', 1e-8, 1.0),\n",
            "<ipython-input-57-f903170c0d2c>:12: FutureWarning: suggest_uniform has been deprecated in v3.0.0. This feature will be removed in v6.0.0. See https://github.com/optuna/optuna/releases/tag/v3.0.0. Use suggest_float instead.\n",
            "  'colsample_bytree': trial.suggest_uniform('colsample_bytree', 0.0, 1.0),\n",
            "[I 2024-01-11 20:13:37,901] Trial 74 finished with value: 0.759420825860035 and parameters: {'booster': 'dart', 'lambda': 0.23282566644201444, 'alpha': 8.990176906061811e-06, 'max_depth': 5, 'eta': 0.42982125573559476, 'gamma': 0.0005434555427961305, 'colsample_bytree': 0.18842989789878828, 'min_child_weight': 9}. Best is trial 69 with value: 0.7793975856541808.\n",
            "<ipython-input-57-f903170c0d2c>:7: FutureWarning: suggest_loguniform has been deprecated in v3.0.0. This feature will be removed in v6.0.0. See https://github.com/optuna/optuna/releases/tag/v3.0.0. Use suggest_float(..., log=True) instead.\n",
            "  'lambda': trial.suggest_loguniform('lambda', 1e-8, 1.0),\n",
            "<ipython-input-57-f903170c0d2c>:8: FutureWarning: suggest_loguniform has been deprecated in v3.0.0. This feature will be removed in v6.0.0. See https://github.com/optuna/optuna/releases/tag/v3.0.0. Use suggest_float(..., log=True) instead.\n",
            "  'alpha': trial.suggest_loguniform('alpha', 1e-8, 1.0),\n",
            "<ipython-input-57-f903170c0d2c>:10: FutureWarning: suggest_loguniform has been deprecated in v3.0.0. This feature will be removed in v6.0.0. See https://github.com/optuna/optuna/releases/tag/v3.0.0. Use suggest_float(..., log=True) instead.\n",
            "  'eta': trial.suggest_loguniform('eta', 1e-8, 1.0),\n",
            "<ipython-input-57-f903170c0d2c>:11: FutureWarning: suggest_loguniform has been deprecated in v3.0.0. This feature will be removed in v6.0.0. See https://github.com/optuna/optuna/releases/tag/v3.0.0. Use suggest_float(..., log=True) instead.\n",
            "  'gamma': trial.suggest_loguniform('gamma', 1e-8, 1.0),\n",
            "<ipython-input-57-f903170c0d2c>:12: FutureWarning: suggest_uniform has been deprecated in v3.0.0. This feature will be removed in v6.0.0. See https://github.com/optuna/optuna/releases/tag/v3.0.0. Use suggest_float instead.\n",
            "  'colsample_bytree': trial.suggest_uniform('colsample_bytree', 0.0, 1.0),\n",
            "[I 2024-01-11 20:13:39,689] Trial 75 finished with value: 0.7776768369745417 and parameters: {'booster': 'dart', 'lambda': 0.5881199438493443, 'alpha': 4.9475672976127966e-05, 'max_depth': 6, 'eta': 0.02945841290519994, 'gamma': 0.00027812779381450044, 'colsample_bytree': 0.2844593935002922, 'min_child_weight': 9}. Best is trial 69 with value: 0.7793975856541808.\n",
            "<ipython-input-57-f903170c0d2c>:7: FutureWarning: suggest_loguniform has been deprecated in v3.0.0. This feature will be removed in v6.0.0. See https://github.com/optuna/optuna/releases/tag/v3.0.0. Use suggest_float(..., log=True) instead.\n",
            "  'lambda': trial.suggest_loguniform('lambda', 1e-8, 1.0),\n",
            "<ipython-input-57-f903170c0d2c>:8: FutureWarning: suggest_loguniform has been deprecated in v3.0.0. This feature will be removed in v6.0.0. See https://github.com/optuna/optuna/releases/tag/v3.0.0. Use suggest_float(..., log=True) instead.\n",
            "  'alpha': trial.suggest_loguniform('alpha', 1e-8, 1.0),\n",
            "<ipython-input-57-f903170c0d2c>:10: FutureWarning: suggest_loguniform has been deprecated in v3.0.0. This feature will be removed in v6.0.0. See https://github.com/optuna/optuna/releases/tag/v3.0.0. Use suggest_float(..., log=True) instead.\n",
            "  'eta': trial.suggest_loguniform('eta', 1e-8, 1.0),\n",
            "<ipython-input-57-f903170c0d2c>:11: FutureWarning: suggest_loguniform has been deprecated in v3.0.0. This feature will be removed in v6.0.0. See https://github.com/optuna/optuna/releases/tag/v3.0.0. Use suggest_float(..., log=True) instead.\n",
            "  'gamma': trial.suggest_loguniform('gamma', 1e-8, 1.0),\n",
            "<ipython-input-57-f903170c0d2c>:12: FutureWarning: suggest_uniform has been deprecated in v3.0.0. This feature will be removed in v6.0.0. See https://github.com/optuna/optuna/releases/tag/v3.0.0. Use suggest_float instead.\n",
            "  'colsample_bytree': trial.suggest_uniform('colsample_bytree', 0.0, 1.0),\n",
            "[I 2024-01-11 20:13:41,285] Trial 76 finished with value: 0.7769989838411202 and parameters: {'booster': 'dart', 'lambda': 0.060490872038294875, 'alpha': 0.0002970591736553219, 'max_depth': 5, 'eta': 0.08900517324330795, 'gamma': 7.286855837340918e-05, 'colsample_bytree': 0.23317666412863708, 'min_child_weight': 9}. Best is trial 69 with value: 0.7793975856541808.\n",
            "<ipython-input-57-f903170c0d2c>:7: FutureWarning: suggest_loguniform has been deprecated in v3.0.0. This feature will be removed in v6.0.0. See https://github.com/optuna/optuna/releases/tag/v3.0.0. Use suggest_float(..., log=True) instead.\n",
            "  'lambda': trial.suggest_loguniform('lambda', 1e-8, 1.0),\n",
            "<ipython-input-57-f903170c0d2c>:8: FutureWarning: suggest_loguniform has been deprecated in v3.0.0. This feature will be removed in v6.0.0. See https://github.com/optuna/optuna/releases/tag/v3.0.0. Use suggest_float(..., log=True) instead.\n",
            "  'alpha': trial.suggest_loguniform('alpha', 1e-8, 1.0),\n",
            "<ipython-input-57-f903170c0d2c>:10: FutureWarning: suggest_loguniform has been deprecated in v3.0.0. This feature will be removed in v6.0.0. See https://github.com/optuna/optuna/releases/tag/v3.0.0. Use suggest_float(..., log=True) instead.\n",
            "  'eta': trial.suggest_loguniform('eta', 1e-8, 1.0),\n",
            "<ipython-input-57-f903170c0d2c>:11: FutureWarning: suggest_loguniform has been deprecated in v3.0.0. This feature will be removed in v6.0.0. See https://github.com/optuna/optuna/releases/tag/v3.0.0. Use suggest_float(..., log=True) instead.\n",
            "  'gamma': trial.suggest_loguniform('gamma', 1e-8, 1.0),\n",
            "<ipython-input-57-f903170c0d2c>:12: FutureWarning: suggest_uniform has been deprecated in v3.0.0. This feature will be removed in v6.0.0. See https://github.com/optuna/optuna/releases/tag/v3.0.0. Use suggest_float instead.\n",
            "  'colsample_bytree': trial.suggest_uniform('colsample_bytree', 0.0, 1.0),\n",
            "[I 2024-01-11 20:13:42,791] Trial 77 finished with value: 0.7614604279124838 and parameters: {'booster': 'dart', 'lambda': 0.1470610374366204, 'alpha': 9.655647115738348e-05, 'max_depth': 6, 'eta': 0.2070362788321483, 'gamma': 0.0003321266030380261, 'colsample_bytree': 0.05763501637035273, 'min_child_weight': 10}. Best is trial 69 with value: 0.7793975856541808.\n",
            "<ipython-input-57-f903170c0d2c>:7: FutureWarning: suggest_loguniform has been deprecated in v3.0.0. This feature will be removed in v6.0.0. See https://github.com/optuna/optuna/releases/tag/v3.0.0. Use suggest_float(..., log=True) instead.\n",
            "  'lambda': trial.suggest_loguniform('lambda', 1e-8, 1.0),\n",
            "<ipython-input-57-f903170c0d2c>:8: FutureWarning: suggest_loguniform has been deprecated in v3.0.0. This feature will be removed in v6.0.0. See https://github.com/optuna/optuna/releases/tag/v3.0.0. Use suggest_float(..., log=True) instead.\n",
            "  'alpha': trial.suggest_loguniform('alpha', 1e-8, 1.0),\n",
            "<ipython-input-57-f903170c0d2c>:10: FutureWarning: suggest_loguniform has been deprecated in v3.0.0. This feature will be removed in v6.0.0. See https://github.com/optuna/optuna/releases/tag/v3.0.0. Use suggest_float(..., log=True) instead.\n",
            "  'eta': trial.suggest_loguniform('eta', 1e-8, 1.0),\n",
            "<ipython-input-57-f903170c0d2c>:11: FutureWarning: suggest_loguniform has been deprecated in v3.0.0. This feature will be removed in v6.0.0. See https://github.com/optuna/optuna/releases/tag/v3.0.0. Use suggest_float(..., log=True) instead.\n",
            "  'gamma': trial.suggest_loguniform('gamma', 1e-8, 1.0),\n",
            "<ipython-input-57-f903170c0d2c>:12: FutureWarning: suggest_uniform has been deprecated in v3.0.0. This feature will be removed in v6.0.0. See https://github.com/optuna/optuna/releases/tag/v3.0.0. Use suggest_float instead.\n",
            "  'colsample_bytree': trial.suggest_uniform('colsample_bytree', 0.0, 1.0),\n",
            "[I 2024-01-11 20:13:44,524] Trial 78 finished with value: 0.7772819124050517 and parameters: {'booster': 'dart', 'lambda': 0.2583314794395038, 'alpha': 2.5397214342094527e-05, 'max_depth': 6, 'eta': 0.082838975712003, 'gamma': 0.010776585387321718, 'colsample_bytree': 0.26837168711031856, 'min_child_weight': 9}. Best is trial 69 with value: 0.7793975856541808.\n",
            "<ipython-input-57-f903170c0d2c>:7: FutureWarning: suggest_loguniform has been deprecated in v3.0.0. This feature will be removed in v6.0.0. See https://github.com/optuna/optuna/releases/tag/v3.0.0. Use suggest_float(..., log=True) instead.\n",
            "  'lambda': trial.suggest_loguniform('lambda', 1e-8, 1.0),\n",
            "<ipython-input-57-f903170c0d2c>:8: FutureWarning: suggest_loguniform has been deprecated in v3.0.0. This feature will be removed in v6.0.0. See https://github.com/optuna/optuna/releases/tag/v3.0.0. Use suggest_float(..., log=True) instead.\n",
            "  'alpha': trial.suggest_loguniform('alpha', 1e-8, 1.0),\n",
            "<ipython-input-57-f903170c0d2c>:10: FutureWarning: suggest_loguniform has been deprecated in v3.0.0. This feature will be removed in v6.0.0. See https://github.com/optuna/optuna/releases/tag/v3.0.0. Use suggest_float(..., log=True) instead.\n",
            "  'eta': trial.suggest_loguniform('eta', 1e-8, 1.0),\n",
            "<ipython-input-57-f903170c0d2c>:11: FutureWarning: suggest_loguniform has been deprecated in v3.0.0. This feature will be removed in v6.0.0. See https://github.com/optuna/optuna/releases/tag/v3.0.0. Use suggest_float(..., log=True) instead.\n",
            "  'gamma': trial.suggest_loguniform('gamma', 1e-8, 1.0),\n",
            "<ipython-input-57-f903170c0d2c>:12: FutureWarning: suggest_uniform has been deprecated in v3.0.0. This feature will be removed in v6.0.0. See https://github.com/optuna/optuna/releases/tag/v3.0.0. Use suggest_float instead.\n",
            "  'colsample_bytree': trial.suggest_uniform('colsample_bytree', 0.0, 1.0),\n",
            "[I 2024-01-11 20:13:46,047] Trial 79 finished with value: 0.7640369154727324 and parameters: {'booster': 'dart', 'lambda': 0.6266221415830017, 'alpha': 1.204820143969522e-05, 'max_depth': 4, 'eta': 0.37572722540585207, 'gamma': 3.0203635462717042e-05, 'colsample_bytree': 0.30418119163999213, 'min_child_weight': 8}. Best is trial 69 with value: 0.7793975856541808.\n",
            "<ipython-input-57-f903170c0d2c>:7: FutureWarning: suggest_loguniform has been deprecated in v3.0.0. This feature will be removed in v6.0.0. See https://github.com/optuna/optuna/releases/tag/v3.0.0. Use suggest_float(..., log=True) instead.\n",
            "  'lambda': trial.suggest_loguniform('lambda', 1e-8, 1.0),\n",
            "<ipython-input-57-f903170c0d2c>:8: FutureWarning: suggest_loguniform has been deprecated in v3.0.0. This feature will be removed in v6.0.0. See https://github.com/optuna/optuna/releases/tag/v3.0.0. Use suggest_float(..., log=True) instead.\n",
            "  'alpha': trial.suggest_loguniform('alpha', 1e-8, 1.0),\n",
            "<ipython-input-57-f903170c0d2c>:10: FutureWarning: suggest_loguniform has been deprecated in v3.0.0. This feature will be removed in v6.0.0. See https://github.com/optuna/optuna/releases/tag/v3.0.0. Use suggest_float(..., log=True) instead.\n",
            "  'eta': trial.suggest_loguniform('eta', 1e-8, 1.0),\n",
            "<ipython-input-57-f903170c0d2c>:11: FutureWarning: suggest_loguniform has been deprecated in v3.0.0. This feature will be removed in v6.0.0. See https://github.com/optuna/optuna/releases/tag/v3.0.0. Use suggest_float(..., log=True) instead.\n",
            "  'gamma': trial.suggest_loguniform('gamma', 1e-8, 1.0),\n",
            "<ipython-input-57-f903170c0d2c>:12: FutureWarning: suggest_uniform has been deprecated in v3.0.0. This feature will be removed in v6.0.0. See https://github.com/optuna/optuna/releases/tag/v3.0.0. Use suggest_float instead.\n",
            "  'colsample_bytree': trial.suggest_uniform('colsample_bytree', 0.0, 1.0),\n",
            "[I 2024-01-11 20:13:49,493] Trial 80 finished with value: 0.7747943263303685 and parameters: {'booster': 'dart', 'lambda': 0.9438692721711421, 'alpha': 0.0011266454631020954, 'max_depth': 6, 'eta': 0.0052065039422688406, 'gamma': 0.0005974366117311409, 'colsample_bytree': 0.3720654696083531, 'min_child_weight': 10}. Best is trial 69 with value: 0.7793975856541808.\n",
            "<ipython-input-57-f903170c0d2c>:7: FutureWarning: suggest_loguniform has been deprecated in v3.0.0. This feature will be removed in v6.0.0. See https://github.com/optuna/optuna/releases/tag/v3.0.0. Use suggest_float(..., log=True) instead.\n",
            "  'lambda': trial.suggest_loguniform('lambda', 1e-8, 1.0),\n",
            "<ipython-input-57-f903170c0d2c>:8: FutureWarning: suggest_loguniform has been deprecated in v3.0.0. This feature will be removed in v6.0.0. See https://github.com/optuna/optuna/releases/tag/v3.0.0. Use suggest_float(..., log=True) instead.\n",
            "  'alpha': trial.suggest_loguniform('alpha', 1e-8, 1.0),\n",
            "<ipython-input-57-f903170c0d2c>:10: FutureWarning: suggest_loguniform has been deprecated in v3.0.0. This feature will be removed in v6.0.0. See https://github.com/optuna/optuna/releases/tag/v3.0.0. Use suggest_float(..., log=True) instead.\n",
            "  'eta': trial.suggest_loguniform('eta', 1e-8, 1.0),\n",
            "<ipython-input-57-f903170c0d2c>:11: FutureWarning: suggest_loguniform has been deprecated in v3.0.0. This feature will be removed in v6.0.0. See https://github.com/optuna/optuna/releases/tag/v3.0.0. Use suggest_float(..., log=True) instead.\n",
            "  'gamma': trial.suggest_loguniform('gamma', 1e-8, 1.0),\n",
            "<ipython-input-57-f903170c0d2c>:12: FutureWarning: suggest_uniform has been deprecated in v3.0.0. This feature will be removed in v6.0.0. See https://github.com/optuna/optuna/releases/tag/v3.0.0. Use suggest_float instead.\n",
            "  'colsample_bytree': trial.suggest_uniform('colsample_bytree', 0.0, 1.0),\n",
            "[I 2024-01-11 20:13:51,418] Trial 81 finished with value: 0.7780828535357132 and parameters: {'booster': 'dart', 'lambda': 0.6118517163456992, 'alpha': 0.00016714972834359608, 'max_depth': 6, 'eta': 0.05418026038161248, 'gamma': 5.846489877611186e-05, 'colsample_bytree': 0.3210410986382636, 'min_child_weight': 10}. Best is trial 69 with value: 0.7793975856541808.\n",
            "<ipython-input-57-f903170c0d2c>:7: FutureWarning: suggest_loguniform has been deprecated in v3.0.0. This feature will be removed in v6.0.0. See https://github.com/optuna/optuna/releases/tag/v3.0.0. Use suggest_float(..., log=True) instead.\n",
            "  'lambda': trial.suggest_loguniform('lambda', 1e-8, 1.0),\n",
            "<ipython-input-57-f903170c0d2c>:8: FutureWarning: suggest_loguniform has been deprecated in v3.0.0. This feature will be removed in v6.0.0. See https://github.com/optuna/optuna/releases/tag/v3.0.0. Use suggest_float(..., log=True) instead.\n",
            "  'alpha': trial.suggest_loguniform('alpha', 1e-8, 1.0),\n",
            "<ipython-input-57-f903170c0d2c>:10: FutureWarning: suggest_loguniform has been deprecated in v3.0.0. This feature will be removed in v6.0.0. See https://github.com/optuna/optuna/releases/tag/v3.0.0. Use suggest_float(..., log=True) instead.\n",
            "  'eta': trial.suggest_loguniform('eta', 1e-8, 1.0),\n",
            "<ipython-input-57-f903170c0d2c>:11: FutureWarning: suggest_loguniform has been deprecated in v3.0.0. This feature will be removed in v6.0.0. See https://github.com/optuna/optuna/releases/tag/v3.0.0. Use suggest_float(..., log=True) instead.\n",
            "  'gamma': trial.suggest_loguniform('gamma', 1e-8, 1.0),\n",
            "<ipython-input-57-f903170c0d2c>:12: FutureWarning: suggest_uniform has been deprecated in v3.0.0. This feature will be removed in v6.0.0. See https://github.com/optuna/optuna/releases/tag/v3.0.0. Use suggest_float instead.\n",
            "  'colsample_bytree': trial.suggest_uniform('colsample_bytree', 0.0, 1.0),\n",
            "[I 2024-01-11 20:13:54,076] Trial 82 finished with value: 0.7779784729274283 and parameters: {'booster': 'dart', 'lambda': 0.30190128079043177, 'alpha': 4.939270638667428e-05, 'max_depth': 6, 'eta': 0.06610040026521416, 'gamma': 0.002307527607734208, 'colsample_bytree': 0.3744939896105435, 'min_child_weight': 10}. Best is trial 69 with value: 0.7793975856541808.\n",
            "<ipython-input-57-f903170c0d2c>:7: FutureWarning: suggest_loguniform has been deprecated in v3.0.0. This feature will be removed in v6.0.0. See https://github.com/optuna/optuna/releases/tag/v3.0.0. Use suggest_float(..., log=True) instead.\n",
            "  'lambda': trial.suggest_loguniform('lambda', 1e-8, 1.0),\n",
            "<ipython-input-57-f903170c0d2c>:8: FutureWarning: suggest_loguniform has been deprecated in v3.0.0. This feature will be removed in v6.0.0. See https://github.com/optuna/optuna/releases/tag/v3.0.0. Use suggest_float(..., log=True) instead.\n",
            "  'alpha': trial.suggest_loguniform('alpha', 1e-8, 1.0),\n",
            "<ipython-input-57-f903170c0d2c>:10: FutureWarning: suggest_loguniform has been deprecated in v3.0.0. This feature will be removed in v6.0.0. See https://github.com/optuna/optuna/releases/tag/v3.0.0. Use suggest_float(..., log=True) instead.\n",
            "  'eta': trial.suggest_loguniform('eta', 1e-8, 1.0),\n",
            "<ipython-input-57-f903170c0d2c>:11: FutureWarning: suggest_loguniform has been deprecated in v3.0.0. This feature will be removed in v6.0.0. See https://github.com/optuna/optuna/releases/tag/v3.0.0. Use suggest_float(..., log=True) instead.\n",
            "  'gamma': trial.suggest_loguniform('gamma', 1e-8, 1.0),\n",
            "<ipython-input-57-f903170c0d2c>:12: FutureWarning: suggest_uniform has been deprecated in v3.0.0. This feature will be removed in v6.0.0. See https://github.com/optuna/optuna/releases/tag/v3.0.0. Use suggest_float instead.\n",
            "  'colsample_bytree': trial.suggest_uniform('colsample_bytree', 0.0, 1.0),\n",
            "[I 2024-01-11 20:13:55,855] Trial 83 finished with value: 0.7759757889965456 and parameters: {'booster': 'dart', 'lambda': 0.9706327788422431, 'alpha': 0.0002591523805779567, 'max_depth': 5, 'eta': 0.025060612132592572, 'gamma': 0.00030526839689262486, 'colsample_bytree': 0.3342496397107442, 'min_child_weight': 9}. Best is trial 69 with value: 0.7793975856541808.\n",
            "<ipython-input-57-f903170c0d2c>:7: FutureWarning: suggest_loguniform has been deprecated in v3.0.0. This feature will be removed in v6.0.0. See https://github.com/optuna/optuna/releases/tag/v3.0.0. Use suggest_float(..., log=True) instead.\n",
            "  'lambda': trial.suggest_loguniform('lambda', 1e-8, 1.0),\n",
            "<ipython-input-57-f903170c0d2c>:8: FutureWarning: suggest_loguniform has been deprecated in v3.0.0. This feature will be removed in v6.0.0. See https://github.com/optuna/optuna/releases/tag/v3.0.0. Use suggest_float(..., log=True) instead.\n",
            "  'alpha': trial.suggest_loguniform('alpha', 1e-8, 1.0),\n",
            "<ipython-input-57-f903170c0d2c>:10: FutureWarning: suggest_loguniform has been deprecated in v3.0.0. This feature will be removed in v6.0.0. See https://github.com/optuna/optuna/releases/tag/v3.0.0. Use suggest_float(..., log=True) instead.\n",
            "  'eta': trial.suggest_loguniform('eta', 1e-8, 1.0),\n",
            "<ipython-input-57-f903170c0d2c>:11: FutureWarning: suggest_loguniform has been deprecated in v3.0.0. This feature will be removed in v6.0.0. See https://github.com/optuna/optuna/releases/tag/v3.0.0. Use suggest_float(..., log=True) instead.\n",
            "  'gamma': trial.suggest_loguniform('gamma', 1e-8, 1.0),\n",
            "<ipython-input-57-f903170c0d2c>:12: FutureWarning: suggest_uniform has been deprecated in v3.0.0. This feature will be removed in v6.0.0. See https://github.com/optuna/optuna/releases/tag/v3.0.0. Use suggest_float instead.\n",
            "  'colsample_bytree': trial.suggest_uniform('colsample_bytree', 0.0, 1.0),\n",
            "[I 2024-01-11 20:13:58,051] Trial 84 finished with value: 0.7697147735727173 and parameters: {'booster': 'dart', 'lambda': 0.11266378131895674, 'alpha': 0.00010987829021853069, 'max_depth': 5, 'eta': 0.17337394959522395, 'gamma': 0.0033075343944256037, 'colsample_bytree': 0.3760199222660143, 'min_child_weight': 10}. Best is trial 69 with value: 0.7793975856541808.\n",
            "<ipython-input-57-f903170c0d2c>:7: FutureWarning: suggest_loguniform has been deprecated in v3.0.0. This feature will be removed in v6.0.0. See https://github.com/optuna/optuna/releases/tag/v3.0.0. Use suggest_float(..., log=True) instead.\n",
            "  'lambda': trial.suggest_loguniform('lambda', 1e-8, 1.0),\n",
            "<ipython-input-57-f903170c0d2c>:8: FutureWarning: suggest_loguniform has been deprecated in v3.0.0. This feature will be removed in v6.0.0. See https://github.com/optuna/optuna/releases/tag/v3.0.0. Use suggest_float(..., log=True) instead.\n",
            "  'alpha': trial.suggest_loguniform('alpha', 1e-8, 1.0),\n",
            "<ipython-input-57-f903170c0d2c>:10: FutureWarning: suggest_loguniform has been deprecated in v3.0.0. This feature will be removed in v6.0.0. See https://github.com/optuna/optuna/releases/tag/v3.0.0. Use suggest_float(..., log=True) instead.\n",
            "  'eta': trial.suggest_loguniform('eta', 1e-8, 1.0),\n",
            "<ipython-input-57-f903170c0d2c>:11: FutureWarning: suggest_loguniform has been deprecated in v3.0.0. This feature will be removed in v6.0.0. See https://github.com/optuna/optuna/releases/tag/v3.0.0. Use suggest_float(..., log=True) instead.\n",
            "  'gamma': trial.suggest_loguniform('gamma', 1e-8, 1.0),\n",
            "<ipython-input-57-f903170c0d2c>:12: FutureWarning: suggest_uniform has been deprecated in v3.0.0. This feature will be removed in v6.0.0. See https://github.com/optuna/optuna/releases/tag/v3.0.0. Use suggest_float instead.\n",
            "  'colsample_bytree': trial.suggest_uniform('colsample_bytree', 0.0, 1.0),\n",
            "[I 2024-01-11 20:14:01,309] Trial 85 finished with value: 0.7340905245584972 and parameters: {'booster': 'dart', 'lambda': 0.6246123352666894, 'alpha': 2.4786339304505502e-05, 'max_depth': 6, 'eta': 0.989667241652521, 'gamma': 0.0012484696422297864, 'colsample_bytree': 0.14878337305801145, 'min_child_weight': 10}. Best is trial 69 with value: 0.7793975856541808.\n",
            "<ipython-input-57-f903170c0d2c>:7: FutureWarning: suggest_loguniform has been deprecated in v3.0.0. This feature will be removed in v6.0.0. See https://github.com/optuna/optuna/releases/tag/v3.0.0. Use suggest_float(..., log=True) instead.\n",
            "  'lambda': trial.suggest_loguniform('lambda', 1e-8, 1.0),\n",
            "<ipython-input-57-f903170c0d2c>:8: FutureWarning: suggest_loguniform has been deprecated in v3.0.0. This feature will be removed in v6.0.0. See https://github.com/optuna/optuna/releases/tag/v3.0.0. Use suggest_float(..., log=True) instead.\n",
            "  'alpha': trial.suggest_loguniform('alpha', 1e-8, 1.0),\n",
            "<ipython-input-57-f903170c0d2c>:10: FutureWarning: suggest_loguniform has been deprecated in v3.0.0. This feature will be removed in v6.0.0. See https://github.com/optuna/optuna/releases/tag/v3.0.0. Use suggest_float(..., log=True) instead.\n",
            "  'eta': trial.suggest_loguniform('eta', 1e-8, 1.0),\n",
            "<ipython-input-57-f903170c0d2c>:11: FutureWarning: suggest_loguniform has been deprecated in v3.0.0. This feature will be removed in v6.0.0. See https://github.com/optuna/optuna/releases/tag/v3.0.0. Use suggest_float(..., log=True) instead.\n",
            "  'gamma': trial.suggest_loguniform('gamma', 1e-8, 1.0),\n",
            "<ipython-input-57-f903170c0d2c>:12: FutureWarning: suggest_uniform has been deprecated in v3.0.0. This feature will be removed in v6.0.0. See https://github.com/optuna/optuna/releases/tag/v3.0.0. Use suggest_float instead.\n",
            "  'colsample_bytree': trial.suggest_uniform('colsample_bytree', 0.0, 1.0),\n",
            "[I 2024-01-11 20:14:03,485] Trial 86 finished with value: 0.777209814459123 and parameters: {'booster': 'dart', 'lambda': 0.05035520017450754, 'alpha': 0.00012298922359647356, 'max_depth': 6, 'eta': 0.037746677024408475, 'gamma': 0.008283527901941774, 'colsample_bytree': 0.28159099970493356, 'min_child_weight': 9}. Best is trial 69 with value: 0.7793975856541808.\n",
            "<ipython-input-57-f903170c0d2c>:7: FutureWarning: suggest_loguniform has been deprecated in v3.0.0. This feature will be removed in v6.0.0. See https://github.com/optuna/optuna/releases/tag/v3.0.0. Use suggest_float(..., log=True) instead.\n",
            "  'lambda': trial.suggest_loguniform('lambda', 1e-8, 1.0),\n",
            "<ipython-input-57-f903170c0d2c>:8: FutureWarning: suggest_loguniform has been deprecated in v3.0.0. This feature will be removed in v6.0.0. See https://github.com/optuna/optuna/releases/tag/v3.0.0. Use suggest_float(..., log=True) instead.\n",
            "  'alpha': trial.suggest_loguniform('alpha', 1e-8, 1.0),\n",
            "<ipython-input-57-f903170c0d2c>:10: FutureWarning: suggest_loguniform has been deprecated in v3.0.0. This feature will be removed in v6.0.0. See https://github.com/optuna/optuna/releases/tag/v3.0.0. Use suggest_float(..., log=True) instead.\n",
            "  'eta': trial.suggest_loguniform('eta', 1e-8, 1.0),\n",
            "<ipython-input-57-f903170c0d2c>:11: FutureWarning: suggest_loguniform has been deprecated in v3.0.0. This feature will be removed in v6.0.0. See https://github.com/optuna/optuna/releases/tag/v3.0.0. Use suggest_float(..., log=True) instead.\n",
            "  'gamma': trial.suggest_loguniform('gamma', 1e-8, 1.0),\n",
            "<ipython-input-57-f903170c0d2c>:12: FutureWarning: suggest_uniform has been deprecated in v3.0.0. This feature will be removed in v6.0.0. See https://github.com/optuna/optuna/releases/tag/v3.0.0. Use suggest_float instead.\n",
            "  'colsample_bytree': trial.suggest_uniform('colsample_bytree', 0.0, 1.0),\n",
            "[I 2024-01-11 20:14:06,646] Trial 87 finished with value: 0.778342604803594 and parameters: {'booster': 'dart', 'lambda': 0.1846797099329446, 'alpha': 6.222515931186303e-06, 'max_depth': 7, 'eta': 0.01848947604742254, 'gamma': 0.00022895342755556637, 'colsample_bytree': 0.44418372907692416, 'min_child_weight': 8}. Best is trial 69 with value: 0.7793975856541808.\n",
            "<ipython-input-57-f903170c0d2c>:7: FutureWarning: suggest_loguniform has been deprecated in v3.0.0. This feature will be removed in v6.0.0. See https://github.com/optuna/optuna/releases/tag/v3.0.0. Use suggest_float(..., log=True) instead.\n",
            "  'lambda': trial.suggest_loguniform('lambda', 1e-8, 1.0),\n",
            "<ipython-input-57-f903170c0d2c>:8: FutureWarning: suggest_loguniform has been deprecated in v3.0.0. This feature will be removed in v6.0.0. See https://github.com/optuna/optuna/releases/tag/v3.0.0. Use suggest_float(..., log=True) instead.\n",
            "  'alpha': trial.suggest_loguniform('alpha', 1e-8, 1.0),\n",
            "<ipython-input-57-f903170c0d2c>:10: FutureWarning: suggest_loguniform has been deprecated in v3.0.0. This feature will be removed in v6.0.0. See https://github.com/optuna/optuna/releases/tag/v3.0.0. Use suggest_float(..., log=True) instead.\n",
            "  'eta': trial.suggest_loguniform('eta', 1e-8, 1.0),\n",
            "<ipython-input-57-f903170c0d2c>:11: FutureWarning: suggest_loguniform has been deprecated in v3.0.0. This feature will be removed in v6.0.0. See https://github.com/optuna/optuna/releases/tag/v3.0.0. Use suggest_float(..., log=True) instead.\n",
            "  'gamma': trial.suggest_loguniform('gamma', 1e-8, 1.0),\n",
            "<ipython-input-57-f903170c0d2c>:12: FutureWarning: suggest_uniform has been deprecated in v3.0.0. This feature will be removed in v6.0.0. See https://github.com/optuna/optuna/releases/tag/v3.0.0. Use suggest_float instead.\n",
            "  'colsample_bytree': trial.suggest_uniform('colsample_bytree', 0.0, 1.0),\n",
            "[I 2024-01-11 20:14:06,902] Trial 88 finished with value: 0.7200685087760832 and parameters: {'booster': 'gblinear', 'lambda': 0.20389138320667186, 'alpha': 1.3277352062790946e-06, 'max_depth': 7, 'eta': 0.02273160220989168, 'gamma': 0.00022990680210803382, 'colsample_bytree': 0.5176855231405924, 'min_child_weight': 8}. Best is trial 69 with value: 0.7793975856541808.\n"
          ]
        },
        {
          "name": "stdout",
          "output_type": "stream",
          "text": [
            "[20:14:06] WARNING: C:\\buildkite-agent\\builds\\buildkite-windows-cpu-autoscaling-group-i-0fdc6d574b9c0d168-1\\xgboost\\xgboost-ci-windows\\src\\learner.cc:767: \n",
            "Parameters: { \"colsample_bytree\", \"gamma\", \"max_depth\", \"min_child_weight\" } are not used.\n",
            "\n"
          ]
        },
        {
          "name": "stderr",
          "output_type": "stream",
          "text": [
            "<ipython-input-57-f903170c0d2c>:7: FutureWarning: suggest_loguniform has been deprecated in v3.0.0. This feature will be removed in v6.0.0. See https://github.com/optuna/optuna/releases/tag/v3.0.0. Use suggest_float(..., log=True) instead.\n",
            "  'lambda': trial.suggest_loguniform('lambda', 1e-8, 1.0),\n",
            "<ipython-input-57-f903170c0d2c>:8: FutureWarning: suggest_loguniform has been deprecated in v3.0.0. This feature will be removed in v6.0.0. See https://github.com/optuna/optuna/releases/tag/v3.0.0. Use suggest_float(..., log=True) instead.\n",
            "  'alpha': trial.suggest_loguniform('alpha', 1e-8, 1.0),\n",
            "<ipython-input-57-f903170c0d2c>:10: FutureWarning: suggest_loguniform has been deprecated in v3.0.0. This feature will be removed in v6.0.0. See https://github.com/optuna/optuna/releases/tag/v3.0.0. Use suggest_float(..., log=True) instead.\n",
            "  'eta': trial.suggest_loguniform('eta', 1e-8, 1.0),\n",
            "<ipython-input-57-f903170c0d2c>:11: FutureWarning: suggest_loguniform has been deprecated in v3.0.0. This feature will be removed in v6.0.0. See https://github.com/optuna/optuna/releases/tag/v3.0.0. Use suggest_float(..., log=True) instead.\n",
            "  'gamma': trial.suggest_loguniform('gamma', 1e-8, 1.0),\n",
            "<ipython-input-57-f903170c0d2c>:12: FutureWarning: suggest_uniform has been deprecated in v3.0.0. This feature will be removed in v6.0.0. See https://github.com/optuna/optuna/releases/tag/v3.0.0. Use suggest_float instead.\n",
            "  'colsample_bytree': trial.suggest_uniform('colsample_bytree', 0.0, 1.0),\n",
            "[I 2024-01-11 20:14:09,892] Trial 89 finished with value: 0.7606387099914343 and parameters: {'booster': 'dart', 'lambda': 0.34308261364024345, 'alpha': 3.739512060443193e-06, 'max_depth': 7, 'eta': 0.2397898877658439, 'gamma': 0.0007191383006728727, 'colsample_bytree': 0.9353419346080621, 'min_child_weight': 8}. Best is trial 69 with value: 0.7793975856541808.\n",
            "<ipython-input-57-f903170c0d2c>:7: FutureWarning: suggest_loguniform has been deprecated in v3.0.0. This feature will be removed in v6.0.0. See https://github.com/optuna/optuna/releases/tag/v3.0.0. Use suggest_float(..., log=True) instead.\n",
            "  'lambda': trial.suggest_loguniform('lambda', 1e-8, 1.0),\n",
            "<ipython-input-57-f903170c0d2c>:8: FutureWarning: suggest_loguniform has been deprecated in v3.0.0. This feature will be removed in v6.0.0. See https://github.com/optuna/optuna/releases/tag/v3.0.0. Use suggest_float(..., log=True) instead.\n",
            "  'alpha': trial.suggest_loguniform('alpha', 1e-8, 1.0),\n",
            "<ipython-input-57-f903170c0d2c>:10: FutureWarning: suggest_loguniform has been deprecated in v3.0.0. This feature will be removed in v6.0.0. See https://github.com/optuna/optuna/releases/tag/v3.0.0. Use suggest_float(..., log=True) instead.\n",
            "  'eta': trial.suggest_loguniform('eta', 1e-8, 1.0),\n",
            "<ipython-input-57-f903170c0d2c>:11: FutureWarning: suggest_loguniform has been deprecated in v3.0.0. This feature will be removed in v6.0.0. See https://github.com/optuna/optuna/releases/tag/v3.0.0. Use suggest_float(..., log=True) instead.\n",
            "  'gamma': trial.suggest_loguniform('gamma', 1e-8, 1.0),\n",
            "<ipython-input-57-f903170c0d2c>:12: FutureWarning: suggest_uniform has been deprecated in v3.0.0. This feature will be removed in v6.0.0. See https://github.com/optuna/optuna/releases/tag/v3.0.0. Use suggest_float instead.\n",
            "  'colsample_bytree': trial.suggest_uniform('colsample_bytree', 0.0, 1.0),\n",
            "[I 2024-01-11 20:14:12,368] Trial 90 finished with value: 0.724770437160225 and parameters: {'booster': 'dart', 'lambda': 0.11214272846346579, 'alpha': 5.9193175162361524e-05, 'max_depth': 7, 'eta': 0.6115932238065738, 'gamma': 5.8555862636409615e-05, 'colsample_bytree': 0.4474464706004047, 'min_child_weight': 9}. Best is trial 69 with value: 0.7793975856541808.\n",
            "<ipython-input-57-f903170c0d2c>:7: FutureWarning: suggest_loguniform has been deprecated in v3.0.0. This feature will be removed in v6.0.0. See https://github.com/optuna/optuna/releases/tag/v3.0.0. Use suggest_float(..., log=True) instead.\n",
            "  'lambda': trial.suggest_loguniform('lambda', 1e-8, 1.0),\n",
            "<ipython-input-57-f903170c0d2c>:8: FutureWarning: suggest_loguniform has been deprecated in v3.0.0. This feature will be removed in v6.0.0. See https://github.com/optuna/optuna/releases/tag/v3.0.0. Use suggest_float(..., log=True) instead.\n",
            "  'alpha': trial.suggest_loguniform('alpha', 1e-8, 1.0),\n",
            "<ipython-input-57-f903170c0d2c>:10: FutureWarning: suggest_loguniform has been deprecated in v3.0.0. This feature will be removed in v6.0.0. See https://github.com/optuna/optuna/releases/tag/v3.0.0. Use suggest_float(..., log=True) instead.\n",
            "  'eta': trial.suggest_loguniform('eta', 1e-8, 1.0),\n",
            "<ipython-input-57-f903170c0d2c>:11: FutureWarning: suggest_loguniform has been deprecated in v3.0.0. This feature will be removed in v6.0.0. See https://github.com/optuna/optuna/releases/tag/v3.0.0. Use suggest_float(..., log=True) instead.\n",
            "  'gamma': trial.suggest_loguniform('gamma', 1e-8, 1.0),\n",
            "<ipython-input-57-f903170c0d2c>:12: FutureWarning: suggest_uniform has been deprecated in v3.0.0. This feature will be removed in v6.0.0. See https://github.com/optuna/optuna/releases/tag/v3.0.0. Use suggest_float instead.\n",
            "  'colsample_bytree': trial.suggest_uniform('colsample_bytree', 0.0, 1.0),\n",
            "[I 2024-01-11 20:14:15,058] Trial 91 finished with value: 0.7741981731655253 and parameters: {'booster': 'dart', 'lambda': 0.9731576193120735, 'alpha': 7.316327799141352e-06, 'max_depth': 6, 'eta': 0.11540794954319826, 'gamma': 0.0004436494679094952, 'colsample_bytree': 0.403327031308761, 'min_child_weight': 10}. Best is trial 69 with value: 0.7793975856541808.\n",
            "<ipython-input-57-f903170c0d2c>:7: FutureWarning: suggest_loguniform has been deprecated in v3.0.0. This feature will be removed in v6.0.0. See https://github.com/optuna/optuna/releases/tag/v3.0.0. Use suggest_float(..., log=True) instead.\n",
            "  'lambda': trial.suggest_loguniform('lambda', 1e-8, 1.0),\n",
            "<ipython-input-57-f903170c0d2c>:8: FutureWarning: suggest_loguniform has been deprecated in v3.0.0. This feature will be removed in v6.0.0. See https://github.com/optuna/optuna/releases/tag/v3.0.0. Use suggest_float(..., log=True) instead.\n",
            "  'alpha': trial.suggest_loguniform('alpha', 1e-8, 1.0),\n",
            "<ipython-input-57-f903170c0d2c>:10: FutureWarning: suggest_loguniform has been deprecated in v3.0.0. This feature will be removed in v6.0.0. See https://github.com/optuna/optuna/releases/tag/v3.0.0. Use suggest_float(..., log=True) instead.\n",
            "  'eta': trial.suggest_loguniform('eta', 1e-8, 1.0),\n",
            "<ipython-input-57-f903170c0d2c>:11: FutureWarning: suggest_loguniform has been deprecated in v3.0.0. This feature will be removed in v6.0.0. See https://github.com/optuna/optuna/releases/tag/v3.0.0. Use suggest_float(..., log=True) instead.\n",
            "  'gamma': trial.suggest_loguniform('gamma', 1e-8, 1.0),\n",
            "<ipython-input-57-f903170c0d2c>:12: FutureWarning: suggest_uniform has been deprecated in v3.0.0. This feature will be removed in v6.0.0. See https://github.com/optuna/optuna/releases/tag/v3.0.0. Use suggest_float instead.\n",
            "  'colsample_bytree': trial.suggest_uniform('colsample_bytree', 0.0, 1.0),\n",
            "[I 2024-01-11 20:14:17,874] Trial 92 finished with value: 0.7754545481635801 and parameters: {'booster': 'dart', 'lambda': 0.5632421060634061, 'alpha': 0.00034282650012474334, 'max_depth': 6, 'eta': 0.0064022951070078155, 'gamma': 0.0016544770157269195, 'colsample_bytree': 0.441749433658253, 'min_child_weight': 9}. Best is trial 69 with value: 0.7793975856541808.\n",
            "<ipython-input-57-f903170c0d2c>:7: FutureWarning: suggest_loguniform has been deprecated in v3.0.0. This feature will be removed in v6.0.0. See https://github.com/optuna/optuna/releases/tag/v3.0.0. Use suggest_float(..., log=True) instead.\n",
            "  'lambda': trial.suggest_loguniform('lambda', 1e-8, 1.0),\n",
            "<ipython-input-57-f903170c0d2c>:8: FutureWarning: suggest_loguniform has been deprecated in v3.0.0. This feature will be removed in v6.0.0. See https://github.com/optuna/optuna/releases/tag/v3.0.0. Use suggest_float(..., log=True) instead.\n",
            "  'alpha': trial.suggest_loguniform('alpha', 1e-8, 1.0),\n",
            "<ipython-input-57-f903170c0d2c>:10: FutureWarning: suggest_loguniform has been deprecated in v3.0.0. This feature will be removed in v6.0.0. See https://github.com/optuna/optuna/releases/tag/v3.0.0. Use suggest_float(..., log=True) instead.\n",
            "  'eta': trial.suggest_loguniform('eta', 1e-8, 1.0),\n",
            "<ipython-input-57-f903170c0d2c>:11: FutureWarning: suggest_loguniform has been deprecated in v3.0.0. This feature will be removed in v6.0.0. See https://github.com/optuna/optuna/releases/tag/v3.0.0. Use suggest_float(..., log=True) instead.\n",
            "  'gamma': trial.suggest_loguniform('gamma', 1e-8, 1.0),\n",
            "<ipython-input-57-f903170c0d2c>:12: FutureWarning: suggest_uniform has been deprecated in v3.0.0. This feature will be removed in v6.0.0. See https://github.com/optuna/optuna/releases/tag/v3.0.0. Use suggest_float instead.\n",
            "  'colsample_bytree': trial.suggest_uniform('colsample_bytree', 0.0, 1.0),\n",
            "[I 2024-01-11 20:14:20,504] Trial 93 finished with value: 0.7752804701150289 and parameters: {'booster': 'dart', 'lambda': 0.2669070976303635, 'alpha': 0.0009960870704184069, 'max_depth': 5, 'eta': 0.017389664356374745, 'gamma': 0.0010674664880332607, 'colsample_bytree': 0.543832709377622, 'min_child_weight': 10}. Best is trial 69 with value: 0.7793975856541808.\n",
            "<ipython-input-57-f903170c0d2c>:7: FutureWarning: suggest_loguniform has been deprecated in v3.0.0. This feature will be removed in v6.0.0. See https://github.com/optuna/optuna/releases/tag/v3.0.0. Use suggest_float(..., log=True) instead.\n",
            "  'lambda': trial.suggest_loguniform('lambda', 1e-8, 1.0),\n",
            "<ipython-input-57-f903170c0d2c>:8: FutureWarning: suggest_loguniform has been deprecated in v3.0.0. This feature will be removed in v6.0.0. See https://github.com/optuna/optuna/releases/tag/v3.0.0. Use suggest_float(..., log=True) instead.\n",
            "  'alpha': trial.suggest_loguniform('alpha', 1e-8, 1.0),\n",
            "<ipython-input-57-f903170c0d2c>:10: FutureWarning: suggest_loguniform has been deprecated in v3.0.0. This feature will be removed in v6.0.0. See https://github.com/optuna/optuna/releases/tag/v3.0.0. Use suggest_float(..., log=True) instead.\n",
            "  'eta': trial.suggest_loguniform('eta', 1e-8, 1.0),\n",
            "<ipython-input-57-f903170c0d2c>:11: FutureWarning: suggest_loguniform has been deprecated in v3.0.0. This feature will be removed in v6.0.0. See https://github.com/optuna/optuna/releases/tag/v3.0.0. Use suggest_float(..., log=True) instead.\n",
            "  'gamma': trial.suggest_loguniform('gamma', 1e-8, 1.0),\n",
            "<ipython-input-57-f903170c0d2c>:12: FutureWarning: suggest_uniform has been deprecated in v3.0.0. This feature will be removed in v6.0.0. See https://github.com/optuna/optuna/releases/tag/v3.0.0. Use suggest_float instead.\n",
            "  'colsample_bytree': trial.suggest_uniform('colsample_bytree', 0.0, 1.0),\n",
            "[I 2024-01-11 20:14:23,256] Trial 94 finished with value: 0.7784045212944719 and parameters: {'booster': 'dart', 'lambda': 0.4252334832389478, 'alpha': 3.6654767133162276e-05, 'max_depth': 6, 'eta': 0.06288059060552806, 'gamma': 0.003389258966695581, 'colsample_bytree': 0.3571820928867497, 'min_child_weight': 9}. Best is trial 69 with value: 0.7793975856541808.\n",
            "<ipython-input-57-f903170c0d2c>:7: FutureWarning: suggest_loguniform has been deprecated in v3.0.0. This feature will be removed in v6.0.0. See https://github.com/optuna/optuna/releases/tag/v3.0.0. Use suggest_float(..., log=True) instead.\n",
            "  'lambda': trial.suggest_loguniform('lambda', 1e-8, 1.0),\n",
            "<ipython-input-57-f903170c0d2c>:8: FutureWarning: suggest_loguniform has been deprecated in v3.0.0. This feature will be removed in v6.0.0. See https://github.com/optuna/optuna/releases/tag/v3.0.0. Use suggest_float(..., log=True) instead.\n",
            "  'alpha': trial.suggest_loguniform('alpha', 1e-8, 1.0),\n",
            "<ipython-input-57-f903170c0d2c>:10: FutureWarning: suggest_loguniform has been deprecated in v3.0.0. This feature will be removed in v6.0.0. See https://github.com/optuna/optuna/releases/tag/v3.0.0. Use suggest_float(..., log=True) instead.\n",
            "  'eta': trial.suggest_loguniform('eta', 1e-8, 1.0),\n",
            "<ipython-input-57-f903170c0d2c>:11: FutureWarning: suggest_loguniform has been deprecated in v3.0.0. This feature will be removed in v6.0.0. See https://github.com/optuna/optuna/releases/tag/v3.0.0. Use suggest_float(..., log=True) instead.\n",
            "  'gamma': trial.suggest_loguniform('gamma', 1e-8, 1.0),\n",
            "<ipython-input-57-f903170c0d2c>:12: FutureWarning: suggest_uniform has been deprecated in v3.0.0. This feature will be removed in v6.0.0. See https://github.com/optuna/optuna/releases/tag/v3.0.0. Use suggest_float instead.\n",
            "  'colsample_bytree': trial.suggest_uniform('colsample_bytree', 0.0, 1.0),\n",
            "[I 2024-01-11 20:14:26,063] Trial 95 finished with value: 0.7718199342625663 and parameters: {'booster': 'dart', 'lambda': 0.16554247705025374, 'alpha': 1.6870453833132962e-05, 'max_depth': 7, 'eta': 0.14075412377169214, 'gamma': 2.1061077552967893e-05, 'colsample_bytree': 0.30196004859670184, 'min_child_weight': 9}. Best is trial 69 with value: 0.7793975856541808.\n",
            "<ipython-input-57-f903170c0d2c>:7: FutureWarning: suggest_loguniform has been deprecated in v3.0.0. This feature will be removed in v6.0.0. See https://github.com/optuna/optuna/releases/tag/v3.0.0. Use suggest_float(..., log=True) instead.\n",
            "  'lambda': trial.suggest_loguniform('lambda', 1e-8, 1.0),\n",
            "<ipython-input-57-f903170c0d2c>:8: FutureWarning: suggest_loguniform has been deprecated in v3.0.0. This feature will be removed in v6.0.0. See https://github.com/optuna/optuna/releases/tag/v3.0.0. Use suggest_float(..., log=True) instead.\n",
            "  'alpha': trial.suggest_loguniform('alpha', 1e-8, 1.0),\n",
            "<ipython-input-57-f903170c0d2c>:10: FutureWarning: suggest_loguniform has been deprecated in v3.0.0. This feature will be removed in v6.0.0. See https://github.com/optuna/optuna/releases/tag/v3.0.0. Use suggest_float(..., log=True) instead.\n",
            "  'eta': trial.suggest_loguniform('eta', 1e-8, 1.0),\n",
            "<ipython-input-57-f903170c0d2c>:11: FutureWarning: suggest_loguniform has been deprecated in v3.0.0. This feature will be removed in v6.0.0. See https://github.com/optuna/optuna/releases/tag/v3.0.0. Use suggest_float(..., log=True) instead.\n",
            "  'gamma': trial.suggest_loguniform('gamma', 1e-8, 1.0),\n",
            "<ipython-input-57-f903170c0d2c>:12: FutureWarning: suggest_uniform has been deprecated in v3.0.0. This feature will be removed in v6.0.0. See https://github.com/optuna/optuna/releases/tag/v3.0.0. Use suggest_float instead.\n",
            "  'colsample_bytree': trial.suggest_uniform('colsample_bytree', 0.0, 1.0),\n",
            "[I 2024-01-11 20:14:27,939] Trial 96 finished with value: 0.7771278661623728 and parameters: {'booster': 'dart', 'lambda': 0.359854169881204, 'alpha': 3.458295466781451e-05, 'max_depth': 6, 'eta': 0.08097006414939845, 'gamma': 0.01689288855096555, 'colsample_bytree': 0.3452765341460564, 'min_child_weight': 8}. Best is trial 69 with value: 0.7793975856541808.\n",
            "<ipython-input-57-f903170c0d2c>:7: FutureWarning: suggest_loguniform has been deprecated in v3.0.0. This feature will be removed in v6.0.0. See https://github.com/optuna/optuna/releases/tag/v3.0.0. Use suggest_float(..., log=True) instead.\n",
            "  'lambda': trial.suggest_loguniform('lambda', 1e-8, 1.0),\n",
            "<ipython-input-57-f903170c0d2c>:8: FutureWarning: suggest_loguniform has been deprecated in v3.0.0. This feature will be removed in v6.0.0. See https://github.com/optuna/optuna/releases/tag/v3.0.0. Use suggest_float(..., log=True) instead.\n",
            "  'alpha': trial.suggest_loguniform('alpha', 1e-8, 1.0),\n",
            "<ipython-input-57-f903170c0d2c>:10: FutureWarning: suggest_loguniform has been deprecated in v3.0.0. This feature will be removed in v6.0.0. See https://github.com/optuna/optuna/releases/tag/v3.0.0. Use suggest_float(..., log=True) instead.\n",
            "  'eta': trial.suggest_loguniform('eta', 1e-8, 1.0),\n",
            "<ipython-input-57-f903170c0d2c>:11: FutureWarning: suggest_loguniform has been deprecated in v3.0.0. This feature will be removed in v6.0.0. See https://github.com/optuna/optuna/releases/tag/v3.0.0. Use suggest_float(..., log=True) instead.\n",
            "  'gamma': trial.suggest_loguniform('gamma', 1e-8, 1.0),\n",
            "<ipython-input-57-f903170c0d2c>:12: FutureWarning: suggest_uniform has been deprecated in v3.0.0. This feature will be removed in v6.0.0. See https://github.com/optuna/optuna/releases/tag/v3.0.0. Use suggest_float instead.\n",
            "  'colsample_bytree': trial.suggest_uniform('colsample_bytree', 0.0, 1.0),\n",
            "[I 2024-01-11 20:14:30,763] Trial 97 finished with value: 0.7777483554880691 and parameters: {'booster': 'dart', 'lambda': 0.5108506730355865, 'alpha': 7.220748777869186e-05, 'max_depth': 6, 'eta': 0.03917959328804684, 'gamma': 0.0004139256219420071, 'colsample_bytree': 0.2526868106527014, 'min_child_weight': 9}. Best is trial 69 with value: 0.7793975856541808.\n",
            "<ipython-input-57-f903170c0d2c>:7: FutureWarning: suggest_loguniform has been deprecated in v3.0.0. This feature will be removed in v6.0.0. See https://github.com/optuna/optuna/releases/tag/v3.0.0. Use suggest_float(..., log=True) instead.\n",
            "  'lambda': trial.suggest_loguniform('lambda', 1e-8, 1.0),\n",
            "<ipython-input-57-f903170c0d2c>:8: FutureWarning: suggest_loguniform has been deprecated in v3.0.0. This feature will be removed in v6.0.0. See https://github.com/optuna/optuna/releases/tag/v3.0.0. Use suggest_float(..., log=True) instead.\n",
            "  'alpha': trial.suggest_loguniform('alpha', 1e-8, 1.0),\n",
            "<ipython-input-57-f903170c0d2c>:10: FutureWarning: suggest_loguniform has been deprecated in v3.0.0. This feature will be removed in v6.0.0. See https://github.com/optuna/optuna/releases/tag/v3.0.0. Use suggest_float(..., log=True) instead.\n",
            "  'eta': trial.suggest_loguniform('eta', 1e-8, 1.0),\n",
            "<ipython-input-57-f903170c0d2c>:11: FutureWarning: suggest_loguniform has been deprecated in v3.0.0. This feature will be removed in v6.0.0. See https://github.com/optuna/optuna/releases/tag/v3.0.0. Use suggest_float(..., log=True) instead.\n",
            "  'gamma': trial.suggest_loguniform('gamma', 1e-8, 1.0),\n",
            "<ipython-input-57-f903170c0d2c>:12: FutureWarning: suggest_uniform has been deprecated in v3.0.0. This feature will be removed in v6.0.0. See https://github.com/optuna/optuna/releases/tag/v3.0.0. Use suggest_float instead.\n",
            "  'colsample_bytree': trial.suggest_uniform('colsample_bytree', 0.0, 1.0),\n",
            "[I 2024-01-11 20:14:34,181] Trial 98 finished with value: 0.7635148468791937 and parameters: {'booster': 'dart', 'lambda': 0.6558491782359027, 'alpha': 0.0019055140000650208, 'max_depth': 7, 'eta': 0.272632613041932, 'gamma': 0.003105511666102507, 'colsample_bytree': 0.3556761897044183, 'min_child_weight': 8}. Best is trial 69 with value: 0.7793975856541808.\n",
            "<ipython-input-57-f903170c0d2c>:7: FutureWarning: suggest_loguniform has been deprecated in v3.0.0. This feature will be removed in v6.0.0. See https://github.com/optuna/optuna/releases/tag/v3.0.0. Use suggest_float(..., log=True) instead.\n",
            "  'lambda': trial.suggest_loguniform('lambda', 1e-8, 1.0),\n",
            "<ipython-input-57-f903170c0d2c>:8: FutureWarning: suggest_loguniform has been deprecated in v3.0.0. This feature will be removed in v6.0.0. See https://github.com/optuna/optuna/releases/tag/v3.0.0. Use suggest_float(..., log=True) instead.\n",
            "  'alpha': trial.suggest_loguniform('alpha', 1e-8, 1.0),\n",
            "<ipython-input-57-f903170c0d2c>:10: FutureWarning: suggest_loguniform has been deprecated in v3.0.0. This feature will be removed in v6.0.0. See https://github.com/optuna/optuna/releases/tag/v3.0.0. Use suggest_float(..., log=True) instead.\n",
            "  'eta': trial.suggest_loguniform('eta', 1e-8, 1.0),\n",
            "<ipython-input-57-f903170c0d2c>:11: FutureWarning: suggest_loguniform has been deprecated in v3.0.0. This feature will be removed in v6.0.0. See https://github.com/optuna/optuna/releases/tag/v3.0.0. Use suggest_float(..., log=True) instead.\n",
            "  'gamma': trial.suggest_loguniform('gamma', 1e-8, 1.0),\n",
            "<ipython-input-57-f903170c0d2c>:12: FutureWarning: suggest_uniform has been deprecated in v3.0.0. This feature will be removed in v6.0.0. See https://github.com/optuna/optuna/releases/tag/v3.0.0. Use suggest_float instead.\n",
            "  'colsample_bytree': trial.suggest_uniform('colsample_bytree', 0.0, 1.0),\n",
            "[I 2024-01-11 20:14:36,815] Trial 99 finished with value: 0.7753588590413143 and parameters: {'booster': 'dart', 'lambda': 0.09578211438850438, 'alpha': 6.907888436397811e-06, 'max_depth': 5, 'eta': 0.01668004819081129, 'gamma': 0.0002481680981575297, 'colsample_bytree': 0.42356132407150227, 'min_child_weight': 8}. Best is trial 69 with value: 0.7793975856541808.\n"
          ]
        }
      ],
      "source": [
        "#estudo Optuna e otimize\n",
        "study = optuna.create_study(direction='maximize')\n",
        "study.optimize(objective, n_trials=100)"
      ]
    },
    {
      "cell_type": "code",
      "execution_count": null,
      "id": "c5384db4",
      "metadata": {
        "id": "c5384db4",
        "outputId": "6d77e64b-9c87-4169-ba47-54e15b9f19dc"
      },
      "outputs": [
        {
          "name": "stdout",
          "output_type": "stream",
          "text": [
            "Número de iterações:  100\n",
            "Melhor resultado:  0.7793975856541808\n",
            "Melhores hiperparâmetros:  {'booster': 'dart', 'lambda': 0.8772056114195729, 'alpha': 4.2974181965344104e-05, 'max_depth': 6, 'eta': 0.07546655870761754, 'gamma': 0.0003959920179080056, 'colsample_bytree': 0.30972139442572455, 'min_child_weight': 9}\n"
          ]
        }
      ],
      "source": [
        "print('Número de iterações: ', len(study.trials))\n",
        "print('Melhor resultado: ', study.best_value)\n",
        "print('Melhores hiperparâmetros: ', study.best_params)"
      ]
    },
    {
      "cell_type": "code",
      "execution_count": null,
      "id": "8eb879ce",
      "metadata": {
        "id": "8eb879ce"
      },
      "outputs": [],
      "source": [
        "params =  {'booster': 'gbtree', 'lambda': 2.1959188975418712e-05, 'alpha': 0.00010646631634838134, 'max_depth': 9, 'eta': 3.681247056663854e-06, 'gamma': 6.016064414609729e-07, 'colsample_bytree': 0.5825676136789031, 'min_child_weight': 6, 'booster': 'gbtree'\n",
        "        }"
      ]
    },
    {
      "cell_type": "code",
      "execution_count": null,
      "id": "24e55d95",
      "metadata": {
        "id": "24e55d95",
        "outputId": "58d278e1-e220-4b06-be13-aa85c1d4e1ae"
      },
      "outputs": [
        {
          "data": {
            "text/html": [
              "<style>#sk-container-id-5 {color: black;background-color: white;}#sk-container-id-5 pre{padding: 0;}#sk-container-id-5 div.sk-toggleable {background-color: white;}#sk-container-id-5 label.sk-toggleable__label {cursor: pointer;display: block;width: 100%;margin-bottom: 0;padding: 0.3em;box-sizing: border-box;text-align: center;}#sk-container-id-5 label.sk-toggleable__label-arrow:before {content: \"▸\";float: left;margin-right: 0.25em;color: #696969;}#sk-container-id-5 label.sk-toggleable__label-arrow:hover:before {color: black;}#sk-container-id-5 div.sk-estimator:hover label.sk-toggleable__label-arrow:before {color: black;}#sk-container-id-5 div.sk-toggleable__content {max-height: 0;max-width: 0;overflow: hidden;text-align: left;background-color: #f0f8ff;}#sk-container-id-5 div.sk-toggleable__content pre {margin: 0.2em;color: black;border-radius: 0.25em;background-color: #f0f8ff;}#sk-container-id-5 input.sk-toggleable__control:checked~div.sk-toggleable__content {max-height: 200px;max-width: 100%;overflow: auto;}#sk-container-id-5 input.sk-toggleable__control:checked~label.sk-toggleable__label-arrow:before {content: \"▾\";}#sk-container-id-5 div.sk-estimator input.sk-toggleable__control:checked~label.sk-toggleable__label {background-color: #d4ebff;}#sk-container-id-5 div.sk-label input.sk-toggleable__control:checked~label.sk-toggleable__label {background-color: #d4ebff;}#sk-container-id-5 input.sk-hidden--visually {border: 0;clip: rect(1px 1px 1px 1px);clip: rect(1px, 1px, 1px, 1px);height: 1px;margin: -1px;overflow: hidden;padding: 0;position: absolute;width: 1px;}#sk-container-id-5 div.sk-estimator {font-family: monospace;background-color: #f0f8ff;border: 1px dotted black;border-radius: 0.25em;box-sizing: border-box;margin-bottom: 0.5em;}#sk-container-id-5 div.sk-estimator:hover {background-color: #d4ebff;}#sk-container-id-5 div.sk-parallel-item::after {content: \"\";width: 100%;border-bottom: 1px solid gray;flex-grow: 1;}#sk-container-id-5 div.sk-label:hover label.sk-toggleable__label {background-color: #d4ebff;}#sk-container-id-5 div.sk-serial::before {content: \"\";position: absolute;border-left: 1px solid gray;box-sizing: border-box;top: 0;bottom: 0;left: 50%;z-index: 0;}#sk-container-id-5 div.sk-serial {display: flex;flex-direction: column;align-items: center;background-color: white;padding-right: 0.2em;padding-left: 0.2em;position: relative;}#sk-container-id-5 div.sk-item {position: relative;z-index: 1;}#sk-container-id-5 div.sk-parallel {display: flex;align-items: stretch;justify-content: center;background-color: white;position: relative;}#sk-container-id-5 div.sk-item::before, #sk-container-id-5 div.sk-parallel-item::before {content: \"\";position: absolute;border-left: 1px solid gray;box-sizing: border-box;top: 0;bottom: 0;left: 50%;z-index: -1;}#sk-container-id-5 div.sk-parallel-item {display: flex;flex-direction: column;z-index: 1;position: relative;background-color: white;}#sk-container-id-5 div.sk-parallel-item:first-child::after {align-self: flex-end;width: 50%;}#sk-container-id-5 div.sk-parallel-item:last-child::after {align-self: flex-start;width: 50%;}#sk-container-id-5 div.sk-parallel-item:only-child::after {width: 0;}#sk-container-id-5 div.sk-dashed-wrapped {border: 1px dashed gray;margin: 0 0.4em 0.5em 0.4em;box-sizing: border-box;padding-bottom: 0.4em;background-color: white;}#sk-container-id-5 div.sk-label label {font-family: monospace;font-weight: bold;display: inline-block;line-height: 1.2em;}#sk-container-id-5 div.sk-label-container {text-align: center;}#sk-container-id-5 div.sk-container {/* jupyter's `normalize.less` sets `[hidden] { display: none; }` but bootstrap.min.css set `[hidden] { display: none !important; }` so we also need the `!important` here to be able to override the default hidden behavior on the sphinx rendered scikit-learn.org. See: https://github.com/scikit-learn/scikit-learn/issues/21755 */display: inline-block !important;position: relative;}#sk-container-id-5 div.sk-text-repr-fallback {display: none;}</style><div id=\"sk-container-id-5\" class=\"sk-top-container\"><div class=\"sk-text-repr-fallback\"><pre>XGBClassifier(alpha=0.00010646631634838134, base_score=None, booster=&#x27;gbtree&#x27;,\n",
              "              callbacks=None, colsample_bylevel=None, colsample_bynode=None,\n",
              "              colsample_bytree=0.5825676136789031, early_stopping_rounds=None,\n",
              "              enable_categorical=False, eta=3.681247056663854e-06,\n",
              "              eval_metric=None, feature_types=None, gamma=6.016064414609729e-07,\n",
              "              gpu_id=None, grow_policy=None, importance_type=None,\n",
              "              interaction_constraints=None, lambda=2.1959188975418712e-05,\n",
              "              learning_rate=None, max_bin=None, max_cat_threshold=None,\n",
              "              max_cat_to_onehot=None, max_delta_step=None, max_depth=9,\n",
              "              max_leaves=None, min_child_weight=6, missing=nan,\n",
              "              monotone_constraints=None, n_estimators=100, n_jobs=None, ...)</pre><b>In a Jupyter environment, please rerun this cell to show the HTML representation or trust the notebook. <br />On GitHub, the HTML representation is unable to render, please try loading this page with nbviewer.org.</b></div><div class=\"sk-container\" hidden><div class=\"sk-item\"><div class=\"sk-estimator sk-toggleable\"><input class=\"sk-toggleable__control sk-hidden--visually\" id=\"sk-estimator-id-5\" type=\"checkbox\" checked><label for=\"sk-estimator-id-5\" class=\"sk-toggleable__label sk-toggleable__label-arrow\">XGBClassifier</label><div class=\"sk-toggleable__content\"><pre>XGBClassifier(alpha=0.00010646631634838134, base_score=None, booster=&#x27;gbtree&#x27;,\n",
              "              callbacks=None, colsample_bylevel=None, colsample_bynode=None,\n",
              "              colsample_bytree=0.5825676136789031, early_stopping_rounds=None,\n",
              "              enable_categorical=False, eta=3.681247056663854e-06,\n",
              "              eval_metric=None, feature_types=None, gamma=6.016064414609729e-07,\n",
              "              gpu_id=None, grow_policy=None, importance_type=None,\n",
              "              interaction_constraints=None, lambda=2.1959188975418712e-05,\n",
              "              learning_rate=None, max_bin=None, max_cat_threshold=None,\n",
              "              max_cat_to_onehot=None, max_delta_step=None, max_depth=9,\n",
              "              max_leaves=None, min_child_weight=6, missing=nan,\n",
              "              monotone_constraints=None, n_estimators=100, n_jobs=None, ...)</pre></div></div></div></div></div>"
            ],
            "text/plain": [
              "XGBClassifier(alpha=0.00010646631634838134, base_score=None, booster='gbtree',\n",
              "              callbacks=None, colsample_bylevel=None, colsample_bynode=None,\n",
              "              colsample_bytree=0.5825676136789031, early_stopping_rounds=None,\n",
              "              enable_categorical=False, eta=3.681247056663854e-06,\n",
              "              eval_metric=None, feature_types=None, gamma=6.016064414609729e-07,\n",
              "              gpu_id=None, grow_policy=None, importance_type=None,\n",
              "              interaction_constraints=None, lambda=2.1959188975418712e-05,\n",
              "              learning_rate=None, max_bin=None, max_cat_threshold=None,\n",
              "              max_cat_to_onehot=None, max_delta_step=None, max_depth=9,\n",
              "              max_leaves=None, min_child_weight=6, missing=nan,\n",
              "              monotone_constraints=None, n_estimators=100, n_jobs=None, ...)"
            ]
          },
          "execution_count": 107,
          "metadata": {},
          "output_type": "execute_result"
        }
      ],
      "source": [
        "# Treino do modelo\n",
        "xgb_clf = xgb.XGBClassifier(**params)\n",
        "\n",
        "xgb_clf.fit(X_train, y_train)"
      ]
    },
    {
      "cell_type": "markdown",
      "id": "b468a4d8",
      "metadata": {
        "id": "b468a4d8"
      },
      "source": [
        "#  Feature Importance"
      ]
    },
    {
      "cell_type": "code",
      "execution_count": null,
      "id": "3240d00f",
      "metadata": {
        "id": "3240d00f"
      },
      "outputs": [],
      "source": [
        "explainer = shap.TreeExplainer(xgb_clf)\n",
        "shap_values = explainer.shap_values(X_train)"
      ]
    },
    {
      "cell_type": "code",
      "execution_count": null,
      "id": "094d80e0",
      "metadata": {
        "id": "094d80e0",
        "outputId": "2284fd9b-5122-42f5-df48-46c5c93b07a5"
      },
      "outputs": [
        {
          "data": {
            "image/png": "[encoded data removed]",
            "text/plain": [
              "<Figure size 576x597.6 with 1 Axes>"
            ]
          },
          "metadata": {
            "needs_background": "light"
          },
          "output_type": "display_data"
        }
      ],
      "source": [
        "shap.summary_plot(shap_values, X_train, plot_type=\"bar\")\n",
        "\n",
        "plt.show()"
      ]
    },
    {
      "cell_type": "markdown",
      "id": "1ae75f47",
      "metadata": {
        "id": "1ae75f47"
      },
      "source": [
        "# Metricas de avaliação de performance"
      ]
    },
    {
      "cell_type": "code",
      "execution_count": null,
      "id": "4cd31736",
      "metadata": {
        "id": "4cd31736"
      },
      "outputs": [],
      "source": [
        "X_train['prob'] = xgb_clf.predict_proba(X_train[features_final].values)[:,0]\n",
        "X_test['prob'] = xgb_clf.predict_proba(X_test[features_final].values)[:,0]\n",
        "X_val['prob'] = xgb_clf.predict_proba(X_val[features_final].values)[:,0]"
      ]
    },
    {
      "cell_type": "code",
      "execution_count": null,
      "id": "bf4082d9",
      "metadata": {
        "id": "bf4082d9",
        "outputId": "6440b6f9-12fa-4f93-a269-0f3bcc5cae30"
      },
      "outputs": [
        {
          "name": "stdout",
          "output_type": "stream",
          "text": [
            " \n",
            "- AUC Treino: 0.8334291313042379\n",
            "- AUC teste: 0.7756994825172\n",
            "- AUC validacao: 0.7816261758205688\n",
            "\n"
          ]
        }
      ],
      "source": [
        "print(f\"\"\"\n",
        "- AUC Treino: {roc_auc_score(1-y_train.astype(int).values, X_train['prob'].values)}\n",
        "- AUC teste: {roc_auc_score(1-y_test.astype(int).values, X_test['prob'].values)}\n",
        "- AUC validacao: {roc_auc_score(1-y_val.astype(int).values, X_val['prob'].values)}\n",
        "\"\"\")"
      ]
    },
    {
      "cell_type": "code",
      "execution_count": null,
      "id": "58b103fd",
      "metadata": {
        "id": "58b103fd"
      },
      "outputs": [],
      "source": [
        "X_train['pred'] = xgb_clf.predict(X_train[features_final].values)\n",
        "X_test['pred'] = xgb_clf.predict(X_test[features_final].values)\n",
        "X_val['pred'] = xgb_clf.predict(X_val[features_final].values)"
      ]
    },
    {
      "cell_type": "code",
      "execution_count": null,
      "id": "54fc6385",
      "metadata": {
        "id": "54fc6385",
        "outputId": "2435195e-c4b1-4b32-d2f8-408e9ed47e40"
      },
      "outputs": [
        {
          "name": "stdout",
          "output_type": "stream",
          "text": [
            "\n",
            "- Acuracy score treino:0.8212988522446607\n",
            "- Acuracy score teste:0.8078291814946619\n",
            "- Acuracy score validacao:0.8120996441281139\n",
            "\n"
          ]
        }
      ],
      "source": [
        "print(f\"\"\"\n",
        "- Acuracy score treino:{ accuracy_score(y_train, X_train['pred'])}\n",
        "- Acuracy score teste:{ accuracy_score(y_test, X_test['pred'])}\n",
        "- Acuracy score validacao:{accuracy_score(y_val, X_val['pred'])}\n",
        "\"\"\")"
      ]
    },
    {
      "cell_type": "code",
      "execution_count": null,
      "id": "7774ad70",
      "metadata": {
        "id": "7774ad70"
      },
      "outputs": [],
      "source": [
        "#funcao KS\n",
        "\n",
        "def ks_stat(y,yhat):\n",
        "    return ks_2samp(yhat[y==1], yhat[y!=1]).statistic\n",
        "ks_score = make_scorer(ks_stat)"
      ]
    },
    {
      "cell_type": "code",
      "execution_count": null,
      "id": "a61744fb",
      "metadata": {
        "id": "a61744fb",
        "outputId": "c935694c-a2e1-4344-a503-dd7e1b37e4e2"
      },
      "outputs": [
        {
          "name": "stdout",
          "output_type": "stream",
          "text": [
            "\n",
            "- KS treino:0.29603597015127503\n",
            "- KS teste:0.24122466183497301\n",
            "- KS validacao:0.25411881812396736\n",
            "\n"
          ]
        }
      ],
      "source": [
        "print(f\"\"\"\n",
        "- KS treino:{ ks_stat(y_train.astype(int),X_train['pred'])}\n",
        "- KS teste:{ ks_stat(y_test.astype(int),X_test['pred'])}\n",
        "- KS validacao:{ ks_stat(y_val.astype(int),X_val['pred'])}\n",
        "\"\"\")"
      ]
    },
    {
      "cell_type": "markdown",
      "id": "a9875234",
      "metadata": {
        "id": "a9875234"
      },
      "source": [
        "# Conclusoes"
      ]
    },
    {
      "cell_type": "code",
      "execution_count": null,
      "id": "f5401109",
      "metadata": {
        "id": "f5401109"
      },
      "outputs": [],
      "source": [
        "O modelo parece ter um bom desempenho geral, mas há uma diferença entre os conjuntos de treino e teste,\n",
        "o que pode indicar alguma tendência para overfitting que realmente está relacionado a quantidade de dados (30 mil linhas) que pode influenciar o desempenho do modelo.\n",
        "Em conjuntos de dados menores, há um risco maior de overfittin."
      ]
    },
    {
      "cell_type": "code",
      "execution_count": null,
      "id": "cbb3c7d9",
      "metadata": {
        "id": "cbb3c7d9"
      },
      "outputs": [],
      "source": []
    },
    {
      "cell_type": "code",
      "execution_count": null,
      "id": "5429e213",
      "metadata": {
        "id": "5429e213"
      },
      "outputs": [],
      "source": []
    }
  ],
  "metadata": {
    "kernelspec": {
      "display_name": "Python 3",
      "language": "python",
      "name": "python3"
    },
    "language_info": {
      "codemirror_mode": {
        "name": "ipython",
        "version": 3
      },
      "file_extension": ".py",
      "mimetype": "text/x-python",
      "name": "python",
      "nbconvert_exporter": "python",
      "pygments_lexer": "ipython3",
      "version": "3.8.8"
    },
    "colab": {
      "provenance": [],
      "name": "case-neon-fina.ipynb",
      "toc_visible": true,
      "include_colab_link": true
    }
  },
  "nbformat": 4,
  "nbformat_minor": 5
}