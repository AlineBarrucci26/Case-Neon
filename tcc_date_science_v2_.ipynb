{
  "nbformat": 4,
  "nbformat_minor": 0,
  "metadata": {
    "colab": {
      "name": "tcc_date_science_v2 .ipynb",
      "provenance": [],
      "toc_visible": true,
      "include_colab_link": true
    },
    "kernelspec": {
      "name": "python3",
      "display_name": "Python 3"
    },
    "language_info": {
      "name": "python"
    }
  },
  "cells": [
    {
      "cell_type": "markdown",
      "metadata": {
        "id": "view-in-github",
        "colab_type": "text"
      },
      "source": [
        "<a href=\"https://colab.research.google.com/github/AlineBarrucci26/AlineBarrucci26/blob/main/tcc_date_science_v2_.ipynb\" target=\"_parent\"><img src=\"https://colab.research.google.com/assets/colab-badge.svg\" alt=\"Open In Colab\"/></a>"
      ]
    },
    {
      "cell_type": "markdown",
      "metadata": {
        "id": "dQO5Uo4tKrC9"
      },
      "source": [
        "##1. Importando Bibliotecas\n"
      ]
    },
    {
      "cell_type": "code",
      "metadata": {
        "colab": {
          "base_uri": "https://localhost:8080/"
        },
        "id": "4Jzo4k1V3XVF",
        "outputId": "4b887bf0-6260-4426-a550-ceb20cdafd99"
      },
      "source": [
        "!pip install investpy"
      ],
      "execution_count": 3,
      "outputs": [
        {
          "output_type": "stream",
          "name": "stdout",
          "text": [
            "Looking in indexes: https://pypi.org/simple, https://us-python.pkg.dev/colab-wheels/public/simple/\n",
            "Collecting investpy\n",
            "  Downloading investpy-1.0.8.tar.gz (4.4 MB)\n",
            "\u001b[K     |████████████████████████████████| 4.4 MB 5.5 MB/s \n",
            "\u001b[?25hCollecting Unidecode>=1.1.1\n",
            "  Downloading Unidecode-1.3.4-py3-none-any.whl (235 kB)\n",
            "\u001b[K     |████████████████████████████████| 235 kB 36.1 MB/s \n",
            "\u001b[?25hRequirement already satisfied: setuptools>=41.2.0 in /usr/local/lib/python3.7/dist-packages (from investpy) (57.4.0)\n",
            "Requirement already satisfied: numpy>=1.17.2 in /usr/local/lib/python3.7/dist-packages (from investpy) (1.21.6)\n",
            "Requirement already satisfied: pandas>=0.25.1 in /usr/local/lib/python3.7/dist-packages (from investpy) (1.3.5)\n",
            "Requirement already satisfied: lxml>=4.4.1 in /usr/local/lib/python3.7/dist-packages (from investpy) (4.9.1)\n",
            "Requirement already satisfied: requests>=2.22.0 in /usr/local/lib/python3.7/dist-packages (from investpy) (2.23.0)\n",
            "Requirement already satisfied: pytz>=2019.3 in /usr/local/lib/python3.7/dist-packages (from investpy) (2022.1)\n",
            "Requirement already satisfied: python-dateutil>=2.7.3 in /usr/local/lib/python3.7/dist-packages (from pandas>=0.25.1->investpy) (2.8.2)\n",
            "Requirement already satisfied: six>=1.5 in /usr/local/lib/python3.7/dist-packages (from python-dateutil>=2.7.3->pandas>=0.25.1->investpy) (1.15.0)\n",
            "Requirement already satisfied: idna<3,>=2.5 in /usr/local/lib/python3.7/dist-packages (from requests>=2.22.0->investpy) (2.10)\n",
            "Requirement already satisfied: certifi>=2017.4.17 in /usr/local/lib/python3.7/dist-packages (from requests>=2.22.0->investpy) (2022.6.15)\n",
            "Requirement already satisfied: chardet<4,>=3.0.2 in /usr/local/lib/python3.7/dist-packages (from requests>=2.22.0->investpy) (3.0.4)\n",
            "Requirement already satisfied: urllib3!=1.25.0,!=1.25.1,<1.26,>=1.21.1 in /usr/local/lib/python3.7/dist-packages (from requests>=2.22.0->investpy) (1.24.3)\n",
            "Building wheels for collected packages: investpy\n",
            "  Building wheel for investpy (setup.py) ... \u001b[?25l\u001b[?25hdone\n",
            "  Created wheel for investpy: filename=investpy-1.0.8-py3-none-any.whl size=4481592 sha256=d709186ef95bf752d8f878633cc874154c9b88b712f55c85d20d031da40e5262\n",
            "  Stored in directory: /root/.cache/pip/wheels/96/a8/a5/0d33c72eaf00b41df7b9dc1e15d2b7c7154b3f1379ed350211\n",
            "Successfully built investpy\n",
            "Installing collected packages: Unidecode, investpy\n",
            "Successfully installed Unidecode-1.3.4 investpy-1.0.8\n"
          ]
        }
      ]
    },
    {
      "cell_type": "code",
      "metadata": {
        "colab": {
          "base_uri": "https://localhost:8080/"
        },
        "id": "SUF7wk-hK6rH",
        "outputId": "47ccd00e-3568-4c8a-aa64-a8b98bcfe32f"
      },
      "source": [
        "pip install git+https://github.com/robertmartin8/PyPortfolioOpt"
      ],
      "execution_count": null,
      "outputs": [
        {
          "output_type": "stream",
          "name": "stdout",
          "text": [
            "Collecting git+https://github.com/robertmartin8/PyPortfolioOpt\n",
            "  Cloning https://github.com/robertmartin8/PyPortfolioOpt to /tmp/pip-req-build-808d3pi6\n",
            "  Running command git clone -q https://github.com/robertmartin8/PyPortfolioOpt /tmp/pip-req-build-808d3pi6\n",
            "  Installing build dependencies ... \u001b[?25l\u001b[?25hdone\n",
            "  Getting requirements to build wheel ... \u001b[?25l\u001b[?25hdone\n",
            "    Preparing wheel metadata ... \u001b[?25l\u001b[?25hdone\n",
            "Requirement already satisfied: pandas>=0.19 in /usr/local/lib/python3.7/dist-packages (from pyportfolioopt==1.4.2) (1.1.5)\n",
            "Requirement already satisfied: scipy<2.0,>=1.3 in /usr/local/lib/python3.7/dist-packages (from pyportfolioopt==1.4.2) (1.4.1)\n",
            "Collecting cvxpy<2.0.0,>=1.1.10\n",
            "  Downloading cvxpy-1.1.15-cp37-cp37m-manylinux_2_24_x86_64.whl (2.7 MB)\n",
            "\u001b[K     |████████████████████████████████| 2.7 MB 5.1 MB/s \n",
            "\u001b[?25hRequirement already satisfied: numpy<2.0,>=1.12 in /usr/local/lib/python3.7/dist-packages (from pyportfolioopt==1.4.2) (1.19.5)\n",
            "Requirement already satisfied: scs>=1.1.6 in /usr/local/lib/python3.7/dist-packages (from cvxpy<2.0.0,>=1.1.10->pyportfolioopt==1.4.2) (2.1.4)\n",
            "Requirement already satisfied: ecos>=2 in /usr/local/lib/python3.7/dist-packages (from cvxpy<2.0.0,>=1.1.10->pyportfolioopt==1.4.2) (2.0.7.post1)\n",
            "Requirement already satisfied: osqp>=0.4.1 in /usr/local/lib/python3.7/dist-packages (from cvxpy<2.0.0,>=1.1.10->pyportfolioopt==1.4.2) (0.6.2.post0)\n",
            "Requirement already satisfied: qdldl in /usr/local/lib/python3.7/dist-packages (from osqp>=0.4.1->cvxpy<2.0.0,>=1.1.10->pyportfolioopt==1.4.2) (0.1.5.post0)\n",
            "Requirement already satisfied: pytz>=2017.2 in /usr/local/lib/python3.7/dist-packages (from pandas>=0.19->pyportfolioopt==1.4.2) (2021.3)\n",
            "Requirement already satisfied: python-dateutil>=2.7.3 in /usr/local/lib/python3.7/dist-packages (from pandas>=0.19->pyportfolioopt==1.4.2) (2.8.2)\n",
            "Requirement already satisfied: six>=1.5 in /usr/local/lib/python3.7/dist-packages (from python-dateutil>=2.7.3->pandas>=0.19->pyportfolioopt==1.4.2) (1.15.0)\n",
            "Building wheels for collected packages: pyportfolioopt\n",
            "  Building wheel for pyportfolioopt (PEP 517) ... \u001b[?25l\u001b[?25hdone\n",
            "  Created wheel for pyportfolioopt: filename=PyPortfolioOpt-1.4.2-py3-none-any.whl size=59623 sha256=ae2a53eb80b80dbcf8f2dfd0e884775c053d80dbeb6576b459b32dfa9bfe8507\n",
            "  Stored in directory: /tmp/pip-ephem-wheel-cache-fq30jgul/wheels/cd/d3/75/98b790a90e1312874fc303d02cef66fda52219f521652b70c9\n",
            "Successfully built pyportfolioopt\n",
            "Installing collected packages: cvxpy, pyportfolioopt\n",
            "  Attempting uninstall: cvxpy\n",
            "    Found existing installation: cvxpy 1.0.31\n",
            "    Uninstalling cvxpy-1.0.31:\n",
            "      Successfully uninstalled cvxpy-1.0.31\n",
            "Successfully installed cvxpy-1.1.15 pyportfolioopt-1.4.2\n"
          ]
        }
      ]
    },
    {
      "cell_type": "code",
      "metadata": {
        "id": "aAHr9QoKK9tK"
      },
      "source": [
        "import pandas as pd\n",
        "import investpy \n",
        "import numpy as np\n",
        "from time import sleep"
      ],
      "execution_count": 15,
      "outputs": []
    },
    {
      "cell_type": "markdown",
      "metadata": {
        "id": "6-AwJ9ocLMOm"
      },
      "source": [
        "##2. Construindo Portfólio\n",
        "\n",
        "Iremos criar um benchmark para comprar modelos otimizaçao e parâmetros através dos indicadores: volatilidade e retorno anualizado.\n",
        "\n",
        "- Pesos flat 25% para cada ativo\n",
        "- Treino 2012 a 2018\n",
        "- Teste 2019 a 2020"
      ]
    },
    {
      "cell_type": "code",
      "metadata": {
        "colab": {
          "base_uri": "https://localhost:8080/",
          "height": 371
        },
        "id": "7F2Fago8UMCw",
        "outputId": "10c04820-c9ee-4c64-d662-451a581eb2b8"
      },
      "source": [
        "ativos = ['ABEV3','BBDC4','BRKM5','CIEL3','CSAN3','EGIE3','ENBR3','EZTC3','GOLL4','ITSA4','LAME4','MRVE3','PETR4','RENT3','SUZB3','UGPA3',\n",
        "          'VVAR3','B3SA3','BEEF3','BRML3','CMIG4','CSNA3','ELET3','ENEV3','FLRY3','HGTX3','ITUB4','LREN3','MULT3','PRIO3','SANB11','TAEE11',\n",
        "          'USIM5','WEGE3','BBAS3','BRAP4','BTOW3','CPFE3','CYRE3','ELET6','ENGI11','GGBR4','HYPE3','JBSS3','MGLU3','PCAR3','QUAL3','SBSP3',\n",
        "          'TIMS3','VALE3','YDUQ3','BBDC3','BRFS3','CCRO3','CPLE6','ECOR3','EMBR3','EQTL3','GOAU4','IGTA3','JHSF3','MRFG3','PETR3','RADL3','SULA11','TOTS3','VIVT3','VIVT3']\n",
        "\n",
        "carteira_passado = pd.DataFrame()\n",
        "from time import sleep\n",
        "for i in ativos:\n",
        "  df_passado = investpy.get_stock_historical_data(stock=i, country='Brazil', from_date='01/01/2018', to_date='31/12/2018').Close\n",
        "  df_passado.rename(i,inplace=True)\n",
        "  df_passado.columns = [i]\n",
        "  carteira_passado = pd.concat([carteira_passado, df_passado], axis=1)\n",
        "  carteira_passado.index.name=\"Date\"\n",
        "carteira_passado\n"
      ],
      "execution_count": 19,
      "outputs": [
        {
          "output_type": "error",
          "ename": "ConnectionError",
          "evalue": "ignored",
          "traceback": [
            "\u001b[0;31m---------------------------------------------------------------------------\u001b[0m",
            "\u001b[0;31mConnectionError\u001b[0m                           Traceback (most recent call last)",
            "\u001b[0;32m<ipython-input-19-6587b3776766>\u001b[0m in \u001b[0;36m<module>\u001b[0;34m()\u001b[0m\n\u001b[1;32m      7\u001b[0m \u001b[0;32mfrom\u001b[0m \u001b[0mtime\u001b[0m \u001b[0;32mimport\u001b[0m \u001b[0msleep\u001b[0m\u001b[0;34m\u001b[0m\u001b[0;34m\u001b[0m\u001b[0m\n\u001b[1;32m      8\u001b[0m \u001b[0;32mfor\u001b[0m \u001b[0mi\u001b[0m \u001b[0;32min\u001b[0m \u001b[0mativos\u001b[0m\u001b[0;34m:\u001b[0m\u001b[0;34m\u001b[0m\u001b[0;34m\u001b[0m\u001b[0m\n\u001b[0;32m----> 9\u001b[0;31m   \u001b[0mdf_passado\u001b[0m \u001b[0;34m=\u001b[0m \u001b[0minvestpy\u001b[0m\u001b[0;34m.\u001b[0m\u001b[0mget_stock_historical_data\u001b[0m\u001b[0;34m(\u001b[0m\u001b[0mstock\u001b[0m\u001b[0;34m=\u001b[0m\u001b[0mi\u001b[0m\u001b[0;34m,\u001b[0m \u001b[0mcountry\u001b[0m\u001b[0;34m=\u001b[0m\u001b[0;34m'Brazil'\u001b[0m\u001b[0;34m,\u001b[0m \u001b[0mfrom_date\u001b[0m\u001b[0;34m=\u001b[0m\u001b[0;34m'01/01/2018'\u001b[0m\u001b[0;34m,\u001b[0m \u001b[0mto_date\u001b[0m\u001b[0;34m=\u001b[0m\u001b[0;34m'31/12/2018'\u001b[0m\u001b[0;34m)\u001b[0m\u001b[0;34m.\u001b[0m\u001b[0mClose\u001b[0m\u001b[0;34m\u001b[0m\u001b[0;34m\u001b[0m\u001b[0m\n\u001b[0m\u001b[1;32m     10\u001b[0m   \u001b[0mdf_passado\u001b[0m\u001b[0;34m.\u001b[0m\u001b[0mrename\u001b[0m\u001b[0;34m(\u001b[0m\u001b[0mi\u001b[0m\u001b[0;34m,\u001b[0m\u001b[0minplace\u001b[0m\u001b[0;34m=\u001b[0m\u001b[0;32mTrue\u001b[0m\u001b[0;34m)\u001b[0m\u001b[0;34m\u001b[0m\u001b[0;34m\u001b[0m\u001b[0m\n\u001b[1;32m     11\u001b[0m   \u001b[0mdf_passado\u001b[0m\u001b[0;34m.\u001b[0m\u001b[0mcolumns\u001b[0m \u001b[0;34m=\u001b[0m \u001b[0;34m[\u001b[0m\u001b[0mi\u001b[0m\u001b[0;34m]\u001b[0m\u001b[0;34m\u001b[0m\u001b[0;34m\u001b[0m\u001b[0m\n",
            "\u001b[0;32m/usr/local/lib/python3.7/dist-packages/investpy/stocks.py\u001b[0m in \u001b[0;36mget_stock_historical_data\u001b[0;34m(stock, country, from_date, to_date, as_json, order, interval)\u001b[0m\n\u001b[1;32m    663\u001b[0m         \u001b[0;32mif\u001b[0m \u001b[0mreq\u001b[0m\u001b[0;34m.\u001b[0m\u001b[0mstatus_code\u001b[0m \u001b[0;34m!=\u001b[0m \u001b[0;36m200\u001b[0m\u001b[0;34m:\u001b[0m\u001b[0;34m\u001b[0m\u001b[0;34m\u001b[0m\u001b[0m\n\u001b[1;32m    664\u001b[0m             raise ConnectionError(\n\u001b[0;32m--> 665\u001b[0;31m                 \u001b[0;34m\"ERR#0015: error \"\u001b[0m \u001b[0;34m+\u001b[0m \u001b[0mstr\u001b[0m\u001b[0;34m(\u001b[0m\u001b[0mreq\u001b[0m\u001b[0;34m.\u001b[0m\u001b[0mstatus_code\u001b[0m\u001b[0;34m)\u001b[0m \u001b[0;34m+\u001b[0m \u001b[0;34m\", try again later.\"\u001b[0m\u001b[0;34m\u001b[0m\u001b[0;34m\u001b[0m\u001b[0m\n\u001b[0m\u001b[1;32m    666\u001b[0m             )\n\u001b[1;32m    667\u001b[0m \u001b[0;34m\u001b[0m\u001b[0m\n",
            "\u001b[0;31mConnectionError\u001b[0m: ERR#0015: error 429, try again later."
          ]
        }
      ]
    },
    {
      "cell_type": "code",
      "metadata": {
        "colab": {
          "base_uri": "https://localhost:8080/"
        },
        "id": "3LDdlgxJU3Ff",
        "outputId": "9696deee-af37-4b87-c4d5-a1cbfd291334"
      },
      "source": [
        "carteira_futuro = pd.DataFrame()\n",
        "\n",
        "for i in ativos:\n",
        "  df_futuro = investpy.get_stock_historical_data(stock=i, country='Brazil', from_date='01/01/2019', to_date='31/12/2020').Close\n",
        "  df_futuro.rename(i,inplace=True)\n",
        "  df_futuro.columns = [i]\n",
        "  carteira_futuro = pd.concat([carteira_futuro, df_futuro], axis=1)\n",
        "  carteira_futuro.index.name=\"Date\"\n",
        "carteira_futuro"
      ],
      "execution_count": null,
      "outputs": [
        {
          "output_type": "execute_result",
          "data": {
            "text/html": [
              "<div>\n",
              "<style scoped>\n",
              "    .dataframe tbody tr th:only-of-type {\n",
              "        vertical-align: middle;\n",
              "    }\n",
              "\n",
              "    .dataframe tbody tr th {\n",
              "        vertical-align: top;\n",
              "    }\n",
              "\n",
              "    .dataframe thead th {\n",
              "        text-align: right;\n",
              "    }\n",
              "</style>\n",
              "<table border=\"1\" class=\"dataframe\">\n",
              "  <thead>\n",
              "    <tr style=\"text-align: right;\">\n",
              "      <th></th>\n",
              "      <th>ITSA4</th>\n",
              "      <th>PETR4</th>\n",
              "      <th>VALE3</th>\n",
              "      <th>ABEV3</th>\n",
              "    </tr>\n",
              "    <tr>\n",
              "      <th>Date</th>\n",
              "      <th></th>\n",
              "      <th></th>\n",
              "      <th></th>\n",
              "      <th></th>\n",
              "    </tr>\n",
              "  </thead>\n",
              "  <tbody>\n",
              "    <tr>\n",
              "      <th>2019-01-02</th>\n",
              "      <td>10.98</td>\n",
              "      <td>23.29</td>\n",
              "      <td>47.77</td>\n",
              "      <td>15.33</td>\n",
              "    </tr>\n",
              "    <tr>\n",
              "      <th>2019-01-03</th>\n",
              "      <td>11.08</td>\n",
              "      <td>23.86</td>\n",
              "      <td>45.82</td>\n",
              "      <td>15.50</td>\n",
              "    </tr>\n",
              "    <tr>\n",
              "      <th>2019-01-04</th>\n",
              "      <td>11.04</td>\n",
              "      <td>23.93</td>\n",
              "      <td>48.80</td>\n",
              "      <td>15.71</td>\n",
              "    </tr>\n",
              "    <tr>\n",
              "      <th>2019-01-07</th>\n",
              "      <td>11.03</td>\n",
              "      <td>24.30</td>\n",
              "      <td>48.54</td>\n",
              "      <td>15.64</td>\n",
              "    </tr>\n",
              "    <tr>\n",
              "      <th>2019-01-08</th>\n",
              "      <td>11.18</td>\n",
              "      <td>24.16</td>\n",
              "      <td>49.01</td>\n",
              "      <td>15.33</td>\n",
              "    </tr>\n",
              "    <tr>\n",
              "      <th>...</th>\n",
              "      <td>...</td>\n",
              "      <td>...</td>\n",
              "      <td>...</td>\n",
              "      <td>...</td>\n",
              "    </tr>\n",
              "    <tr>\n",
              "      <th>2020-12-22</th>\n",
              "      <td>11.40</td>\n",
              "      <td>27.28</td>\n",
              "      <td>86.94</td>\n",
              "      <td>15.51</td>\n",
              "    </tr>\n",
              "    <tr>\n",
              "      <th>2020-12-23</th>\n",
              "      <td>11.67</td>\n",
              "      <td>27.95</td>\n",
              "      <td>87.36</td>\n",
              "      <td>15.50</td>\n",
              "    </tr>\n",
              "    <tr>\n",
              "      <th>2020-12-28</th>\n",
              "      <td>11.80</td>\n",
              "      <td>28.18</td>\n",
              "      <td>87.31</td>\n",
              "      <td>15.77</td>\n",
              "    </tr>\n",
              "    <tr>\n",
              "      <th>2020-12-29</th>\n",
              "      <td>11.87</td>\n",
              "      <td>28.27</td>\n",
              "      <td>87.07</td>\n",
              "      <td>15.95</td>\n",
              "    </tr>\n",
              "    <tr>\n",
              "      <th>2020-12-30</th>\n",
              "      <td>11.73</td>\n",
              "      <td>28.34</td>\n",
              "      <td>87.45</td>\n",
              "      <td>15.65</td>\n",
              "    </tr>\n",
              "  </tbody>\n",
              "</table>\n",
              "<p>497 rows × 4 columns</p>\n",
              "</div>"
            ],
            "text/plain": [
              "            ITSA4  PETR4  VALE3  ABEV3\n",
              "Date                                  \n",
              "2019-01-02  10.98  23.29  47.77  15.33\n",
              "2019-01-03  11.08  23.86  45.82  15.50\n",
              "2019-01-04  11.04  23.93  48.80  15.71\n",
              "2019-01-07  11.03  24.30  48.54  15.64\n",
              "2019-01-08  11.18  24.16  49.01  15.33\n",
              "...           ...    ...    ...    ...\n",
              "2020-12-22  11.40  27.28  86.94  15.51\n",
              "2020-12-23  11.67  27.95  87.36  15.50\n",
              "2020-12-28  11.80  28.18  87.31  15.77\n",
              "2020-12-29  11.87  28.27  87.07  15.95\n",
              "2020-12-30  11.73  28.34  87.45  15.65\n",
              "\n",
              "[497 rows x 4 columns]"
            ]
          },
          "metadata": {},
          "execution_count": 5
        }
      ]
    },
    {
      "cell_type": "code",
      "metadata": {
        "id": "UuRaDnwpVTcG"
      },
      "source": [
        "#Pesos dummy\n",
        "\n",
        "pesos = np.array([0.25,0.25,0.25,0.25])"
      ],
      "execution_count": null,
      "outputs": []
    },
    {
      "cell_type": "markdown",
      "metadata": {
        "id": "IWbRP8gaVeZz"
      },
      "source": [
        "##3. Anualizando Retornos"
      ]
    },
    {
      "cell_type": "code",
      "metadata": {
        "colab": {
          "base_uri": "https://localhost:8080/"
        },
        "id": "fkdAeNMbVYHR",
        "outputId": "adfcffdc-bc02-4998-f1ec-c86795d54e6b"
      },
      "source": [
        "cf_anualizado = (carteira_futuro.iloc[-1]-carteira_futuro.iloc[0])/carteira_futuro.iloc[0]\n",
        "cf_anualizado = ((1+cf_anualizado)**(12/48))-1\n",
        "cf_anualizado"
      ],
      "execution_count": null,
      "outputs": [
        {
          "output_type": "execute_result",
          "data": {
            "text/plain": [
              "ITSA4    0.016656\n",
              "PETR4    0.050286\n",
              "VALE3    0.163191\n",
              "ABEV3    0.005178\n",
              "dtype: float64"
            ]
          },
          "metadata": {},
          "execution_count": 7
        }
      ]
    },
    {
      "cell_type": "code",
      "metadata": {
        "colab": {
          "base_uri": "https://localhost:8080/"
        },
        "id": "KRzNw_p-WZN6",
        "outputId": "488d3c6d-98e8-43d5-c27e-7168d9d17f49"
      },
      "source": [
        "cf_anualizado_carteira = cf_anualizado.dot(pesos)\n",
        "cf_anualizado_carteira"
      ],
      "execution_count": null,
      "outputs": [
        {
          "output_type": "execute_result",
          "data": {
            "text/plain": [
              "0.05882780858030917"
            ]
          },
          "metadata": {},
          "execution_count": 8
        }
      ]
    },
    {
      "cell_type": "markdown",
      "metadata": {
        "id": "U_SJ-ZK_WpqU"
      },
      "source": [
        "##4. Volatilidade da Carteira"
      ]
    },
    {
      "cell_type": "code",
      "metadata": {
        "colab": {
          "base_uri": "https://localhost:8080/"
        },
        "id": "bnqS8n3BWgDx",
        "outputId": "dbd64072-c662-49dc-d722-d5a4c68c66ce"
      },
      "source": [
        "carteira_futuro_retornos = carteira_futuro.pct_change()\n",
        "cov_fut = carteira_futuro_retornos.cov()\n",
        "\n",
        "vol_fut_diaria = np.sqrt(np.dot(pesos.T, np.dot(cov_fut,pesos)))\n",
        "vol_fut_ano = vol_fut_diaria*np.sqrt(252)\n",
        "vol_fut_ano"
      ],
      "execution_count": null,
      "outputs": [
        {
          "output_type": "execute_result",
          "data": {
            "text/plain": [
              "0.3479202990483084"
            ]
          },
          "metadata": {},
          "execution_count": 9
        }
      ]
    },
    {
      "cell_type": "markdown",
      "metadata": {
        "id": "6zMaFWhlXj8K"
      },
      "source": [
        "##5. Estimando Retornos"
      ]
    },
    {
      "cell_type": "markdown",
      "metadata": {
        "id": "fkSfcO3pXY8v"
      },
      "source": [
        "##5.1. Retorno médio Histórico\n",
        "\n",
        "Calcula a média anaulizada dos retornos históricos dos preços (diários). Usar o argumento compounding se necessário para mudar de média geométrica para média aritmética."
      ]
    },
    {
      "cell_type": "code",
      "metadata": {
        "id": "UL5VMxErVOU1"
      },
      "source": [
        "from pypfopt import expected_returns"
      ],
      "execution_count": null,
      "outputs": []
    },
    {
      "cell_type": "code",
      "metadata": {
        "colab": {
          "base_uri": "https://localhost:8080/"
        },
        "id": "N5bXGcH-Xts4",
        "outputId": "a98ec9d0-8344-4085-d5b7-6e20553cfc1c"
      },
      "source": [
        "#Calcular o retorno médio histórico carteira passado\n",
        "\n",
        "retorno_medio = expected_returns.mean_historical_return(carteira_passado)\n",
        "\n",
        "retorno_medio"
      ],
      "execution_count": null,
      "outputs": [
        {
          "output_type": "execute_result",
          "data": {
            "text/plain": [
              "ITSA4    0.364123\n",
              "PETR4    0.507266\n",
              "VALE3    0.570595\n",
              "ABEV3   -0.023191\n",
              "dtype: float64"
            ]
          },
          "metadata": {},
          "execution_count": 11
        }
      ]
    },
    {
      "cell_type": "code",
      "metadata": {
        "colab": {
          "base_uri": "https://localhost:8080/"
        },
        "id": "d-TpVx-LYANl",
        "outputId": "b0d82193-7a43-4f35-c99e-9869ac09bfae"
      },
      "source": [
        "#EMA Retorno médio histórico\n",
        "\n",
        "ema_retorno_medio = np.sum(np.abs(retorno_medio-cf_anualizado))/len(retorno_medio)\n",
        "ema_retorno_medio"
      ],
      "execution_count": null,
      "outputs": [
        {
          "output_type": "execute_result",
          "data": {
            "text/plain": [
              "0.31005492993459083"
            ]
          },
          "metadata": {},
          "execution_count": 12
        }
      ]
    },
    {
      "cell_type": "markdown",
      "metadata": {
        "id": "m4LCrYpNYZB9"
      },
      "source": [
        "##5.2. Média Móvel Exponencial\n",
        "\n",
        "Calcula a média móvel exponencial dos preços diários. O argumento compounding altera de geométrico para artimética. Argumento Span é o tamanho da janela (default 500). "
      ]
    },
    {
      "cell_type": "code",
      "metadata": {
        "colab": {
          "base_uri": "https://localhost:8080/"
        },
        "id": "R5RsOsM8YTx_",
        "outputId": "b92daac5-a058-4834-db92-1cc34e08eaa1"
      },
      "source": [
        "#Média Movel Exponencial \n",
        "\n",
        "mme = expected_returns.ema_historical_return(carteira_passado, span=300)\n",
        "mme"
      ],
      "execution_count": null,
      "outputs": [
        {
          "output_type": "execute_result",
          "data": {
            "text/plain": [
              "ITSA4    0.346252\n",
              "PETR4    0.467731\n",
              "VALE3    0.187745\n",
              "ABEV3   -0.261248\n",
              "Name: 2018-12-28 00:00:00, dtype: float64"
            ]
          },
          "metadata": {},
          "execution_count": 22
        }
      ]
    },
    {
      "cell_type": "code",
      "metadata": {
        "colab": {
          "base_uri": "https://localhost:8080/"
        },
        "id": "8prz819CY1zJ",
        "outputId": "a165ad3b-1009-44a0-c2c6-a7758b2406f3"
      },
      "source": [
        "#Erro médio Absoluto de MME\n",
        "\n",
        "ema_mme = np.sum(np.abs(mme-cf_anualizado))/len(mme)\n",
        "\n",
        "ema_mme"
      ],
      "execution_count": null,
      "outputs": [
        {
          "output_type": "execute_result",
          "data": {
            "text/plain": [
              "0.25950519603144795"
            ]
          },
          "metadata": {},
          "execution_count": 23
        }
      ]
    },
    {
      "cell_type": "markdown",
      "metadata": {
        "id": "RKdn7nQqb_r4"
      },
      "source": [
        "##5.3. Retorno CAPM\n",
        "\n",
        "Os retornos são calculados com base no modelo CAPM. Necessita do seguintes inputs: taxa livre risco, retornos do benchmark (IBOV)\n",
        "\n",
        "Retorno Esperado CAPM = Rf + B(Rm-Rf)\n"
      ]
    },
    {
      "cell_type": "code",
      "metadata": {
        "colab": {
          "base_uri": "https://localhost:8080/"
        },
        "id": "9MRT8vg0aLRr",
        "outputId": "02dfe0c2-dd5f-4797-aaf8-dcf61041d113"
      },
      "source": [
        "#1º Calcular Selic Diaria\n",
        "\n",
        "selic_aa = 0.064\n",
        "selic_diaria = (1+selic_aa)**(1/252) -1\n",
        "selic_diaria"
      ],
      "execution_count": null,
      "outputs": [
        {
          "output_type": "execute_result",
          "data": {
            "text/plain": [
              "0.00024620248904749786"
            ]
          },
          "metadata": {},
          "execution_count": 13
        }
      ]
    },
    {
      "cell_type": "code",
      "metadata": {
        "colab": {
          "base_uri": "https://localhost:8080/"
        },
        "id": "ZB0oCK2Gclda",
        "outputId": "ada65263-dbe8-4fac-cb01-028884457d3e"
      },
      "source": [
        "#2º Calcular IBOV\n",
        "\n",
        "ibov = investpy.get_index_historical_data('Bovespa', country='Brazil', from_date='01/01/2016', to_date='31/12/2018')\n",
        "ibov = pd.DataFrame(ibov['Close'])\n",
        "ibov"
      ],
      "execution_count": null,
      "outputs": [
        {
          "output_type": "execute_result",
          "data": {
            "text/html": [
              "<div>\n",
              "<style scoped>\n",
              "    .dataframe tbody tr th:only-of-type {\n",
              "        vertical-align: middle;\n",
              "    }\n",
              "\n",
              "    .dataframe tbody tr th {\n",
              "        vertical-align: top;\n",
              "    }\n",
              "\n",
              "    .dataframe thead th {\n",
              "        text-align: right;\n",
              "    }\n",
              "</style>\n",
              "<table border=\"1\" class=\"dataframe\">\n",
              "  <thead>\n",
              "    <tr style=\"text-align: right;\">\n",
              "      <th></th>\n",
              "      <th>Close</th>\n",
              "    </tr>\n",
              "    <tr>\n",
              "      <th>Date</th>\n",
              "      <th></th>\n",
              "    </tr>\n",
              "  </thead>\n",
              "  <tbody>\n",
              "    <tr>\n",
              "      <th>2016-01-04</th>\n",
              "      <td>42141.0</td>\n",
              "    </tr>\n",
              "    <tr>\n",
              "      <th>2016-01-05</th>\n",
              "      <td>42419.0</td>\n",
              "    </tr>\n",
              "    <tr>\n",
              "      <th>2016-01-06</th>\n",
              "      <td>41773.0</td>\n",
              "    </tr>\n",
              "    <tr>\n",
              "      <th>2016-01-07</th>\n",
              "      <td>40695.0</td>\n",
              "    </tr>\n",
              "    <tr>\n",
              "      <th>2016-01-08</th>\n",
              "      <td>40612.0</td>\n",
              "    </tr>\n",
              "    <tr>\n",
              "      <th>...</th>\n",
              "      <td>...</td>\n",
              "    </tr>\n",
              "    <tr>\n",
              "      <th>2018-12-20</th>\n",
              "      <td>85269.0</td>\n",
              "    </tr>\n",
              "    <tr>\n",
              "      <th>2018-12-21</th>\n",
              "      <td>85697.0</td>\n",
              "    </tr>\n",
              "    <tr>\n",
              "      <th>2018-12-26</th>\n",
              "      <td>85136.0</td>\n",
              "    </tr>\n",
              "    <tr>\n",
              "      <th>2018-12-27</th>\n",
              "      <td>85460.0</td>\n",
              "    </tr>\n",
              "    <tr>\n",
              "      <th>2018-12-28</th>\n",
              "      <td>87887.0</td>\n",
              "    </tr>\n",
              "  </tbody>\n",
              "</table>\n",
              "<p>740 rows × 1 columns</p>\n",
              "</div>"
            ],
            "text/plain": [
              "              Close\n",
              "Date               \n",
              "2016-01-04  42141.0\n",
              "2016-01-05  42419.0\n",
              "2016-01-06  41773.0\n",
              "2016-01-07  40695.0\n",
              "2016-01-08  40612.0\n",
              "...             ...\n",
              "2018-12-20  85269.0\n",
              "2018-12-21  85697.0\n",
              "2018-12-26  85136.0\n",
              "2018-12-27  85460.0\n",
              "2018-12-28  87887.0\n",
              "\n",
              "[740 rows x 1 columns]"
            ]
          },
          "metadata": {},
          "execution_count": 14
        }
      ]
    },
    {
      "cell_type": "code",
      "metadata": {
        "colab": {
          "base_uri": "https://localhost:8080/"
        },
        "id": "VBBOUPd_c24D",
        "outputId": "c409d71a-b352-4a43-a8c4-257c347753af"
      },
      "source": [
        "#3º Calcular retornos com modelo CAPM\n",
        "\n",
        "capm = expected_returns.capm_return(carteira_passado, market_prices=ibov, risk_free_rate=selic_diaria)\n",
        "capm"
      ],
      "execution_count": null,
      "outputs": [
        {
          "output_type": "execute_result",
          "data": {
            "text/plain": [
              "ITSA4    0.320039\n",
              "PETR4    0.518483\n",
              "VALE3    0.341086\n",
              "ABEV3    0.135851\n",
              "Name: mkt, dtype: float64"
            ]
          },
          "metadata": {},
          "execution_count": 15
        }
      ]
    },
    {
      "cell_type": "code",
      "metadata": {
        "colab": {
          "base_uri": "https://localhost:8080/"
        },
        "id": "fU5zk2aFdKJP",
        "outputId": "4ba5a113-b1d7-416c-b1cb-99dc8fbfed53"
      },
      "source": [
        "#Calcular erro médio absoluto modelo CAPM\n",
        "\n",
        "ema_capm = np.sum(np.abs(capm-cf_anualizado))/len(capm)\n",
        "ema_capm"
      ],
      "execution_count": null,
      "outputs": [
        {
          "output_type": "execute_result",
          "data": {
            "text/plain": [
              "0.2700372463162542"
            ]
          },
          "metadata": {},
          "execution_count": 16
        }
      ]
    },
    {
      "cell_type": "markdown",
      "metadata": {
        "id": "Hmhs_0Cydrru"
      },
      "source": [
        "##6. Estimando Matrizes de Covariância"
      ]
    },
    {
      "cell_type": "code",
      "metadata": {
        "id": "ohPjMqBcdwLT"
      },
      "source": [
        "from pypfopt import risk_models"
      ],
      "execution_count": null,
      "outputs": []
    },
    {
      "cell_type": "markdown",
      "metadata": {
        "id": "PkVoG-R2eOrx"
      },
      "source": [
        "###6.1. Sample Covariance\n",
        "\n",
        "Matriz de covariancia da amostra de preços (inputs preços diários)"
      ]
    },
    {
      "cell_type": "code",
      "metadata": {
        "colab": {
          "base_uri": "https://localhost:8080/"
        },
        "id": "3F-JgzqeeNWM",
        "outputId": "8bbb1f03-2c0e-4021-ec41-ae2984bd94b0"
      },
      "source": [
        "#Sample Covariance\n",
        "\n",
        "sample_cov = risk_models.sample_cov(carteira_passado)\n",
        "sample_cov"
      ],
      "execution_count": null,
      "outputs": [
        {
          "output_type": "execute_result",
          "data": {
            "text/html": [
              "<div>\n",
              "<style scoped>\n",
              "    .dataframe tbody tr th:only-of-type {\n",
              "        vertical-align: middle;\n",
              "    }\n",
              "\n",
              "    .dataframe tbody tr th {\n",
              "        vertical-align: top;\n",
              "    }\n",
              "\n",
              "    .dataframe thead th {\n",
              "        text-align: right;\n",
              "    }\n",
              "</style>\n",
              "<table border=\"1\" class=\"dataframe\">\n",
              "  <thead>\n",
              "    <tr style=\"text-align: right;\">\n",
              "      <th></th>\n",
              "      <th>ITSA4</th>\n",
              "      <th>PETR4</th>\n",
              "      <th>VALE3</th>\n",
              "      <th>ABEV3</th>\n",
              "    </tr>\n",
              "  </thead>\n",
              "  <tbody>\n",
              "    <tr>\n",
              "      <th>ITSA4</th>\n",
              "      <td>0.093731</td>\n",
              "      <td>0.094239</td>\n",
              "      <td>0.042683</td>\n",
              "      <td>0.025746</td>\n",
              "    </tr>\n",
              "    <tr>\n",
              "      <th>PETR4</th>\n",
              "      <td>0.094239</td>\n",
              "      <td>0.273796</td>\n",
              "      <td>0.108572</td>\n",
              "      <td>0.035638</td>\n",
              "    </tr>\n",
              "    <tr>\n",
              "      <th>VALE3</th>\n",
              "      <td>0.042683</td>\n",
              "      <td>0.108572</td>\n",
              "      <td>0.239437</td>\n",
              "      <td>0.027981</td>\n",
              "    </tr>\n",
              "    <tr>\n",
              "      <th>ABEV3</th>\n",
              "      <td>0.025746</td>\n",
              "      <td>0.035638</td>\n",
              "      <td>0.027981</td>\n",
              "      <td>0.041268</td>\n",
              "    </tr>\n",
              "  </tbody>\n",
              "</table>\n",
              "</div>"
            ],
            "text/plain": [
              "          ITSA4     PETR4     VALE3     ABEV3\n",
              "ITSA4  0.093731  0.094239  0.042683  0.025746\n",
              "PETR4  0.094239  0.273796  0.108572  0.035638\n",
              "VALE3  0.042683  0.108572  0.239437  0.027981\n",
              "ABEV3  0.025746  0.035638  0.027981  0.041268"
            ]
          },
          "metadata": {},
          "execution_count": 18
        }
      ]
    },
    {
      "cell_type": "code",
      "metadata": {
        "colab": {
          "base_uri": "https://localhost:8080/"
        },
        "id": "WfRg-btKeYwa",
        "outputId": "9d340632-ed2a-43ed-c87c-e8ff77cd2a84"
      },
      "source": [
        "#Erro medio absoluto sample covariance\n",
        "\n",
        "ema_sample_cova = np.sum(np.abs(np.diag(sample_cov)-np.diag(cov_fut)))/len(np.diag(sample_cov))\n",
        "ema_sample_cova"
      ],
      "execution_count": null,
      "outputs": [
        {
          "output_type": "execute_result",
          "data": {
            "text/plain": [
              "0.1612909961860267"
            ]
          },
          "metadata": {},
          "execution_count": 19
        }
      ]
    },
    {
      "cell_type": "markdown",
      "metadata": {
        "id": "gYcyW6tHe3M3"
      },
      "source": [
        "###6.2. Matriz Semicovariancia\n",
        "\n",
        "Calcula a matriz de covariancia dos inputs de preços diarios dentro de um determinado nível de risco chamado benchmark.\n",
        "\n",
        "Para maiores informações sobre modelos de semicovariancia:\n",
        "\n",
        "- Estrada (2006) - Mean Semivariance Optimization: A Heuristic Approach\n",
        "- Rigamonti (2020) - Mean Variance Optimization is a Good Choice, But for Other Reason than you might think"
      ]
    },
    {
      "cell_type": "code",
      "metadata": {
        "colab": {
          "base_uri": "https://localhost:8080/"
        },
        "id": "PZeuYr9se0Ny",
        "outputId": "233795a7-20e3-45a4-f702-422d3c6beb57"
      },
      "source": [
        "semicov = risk_models.semicovariance(carteira_passado,benchmark=0)\n",
        "semicov"
      ],
      "execution_count": null,
      "outputs": [
        {
          "output_type": "execute_result",
          "data": {
            "text/html": [
              "<div>\n",
              "<style scoped>\n",
              "    .dataframe tbody tr th:only-of-type {\n",
              "        vertical-align: middle;\n",
              "    }\n",
              "\n",
              "    .dataframe tbody tr th {\n",
              "        vertical-align: top;\n",
              "    }\n",
              "\n",
              "    .dataframe thead th {\n",
              "        text-align: right;\n",
              "    }\n",
              "</style>\n",
              "<table border=\"1\" class=\"dataframe\">\n",
              "  <thead>\n",
              "    <tr style=\"text-align: right;\">\n",
              "      <th></th>\n",
              "      <th>ITSA4</th>\n",
              "      <th>PETR4</th>\n",
              "      <th>VALE3</th>\n",
              "      <th>ABEV3</th>\n",
              "    </tr>\n",
              "  </thead>\n",
              "  <tbody>\n",
              "    <tr>\n",
              "      <th>ITSA4</th>\n",
              "      <td>0.042055</td>\n",
              "      <td>0.045643</td>\n",
              "      <td>0.028117</td>\n",
              "      <td>0.016204</td>\n",
              "    </tr>\n",
              "    <tr>\n",
              "      <th>PETR4</th>\n",
              "      <td>0.045643</td>\n",
              "      <td>0.124878</td>\n",
              "      <td>0.057480</td>\n",
              "      <td>0.025370</td>\n",
              "    </tr>\n",
              "    <tr>\n",
              "      <th>VALE3</th>\n",
              "      <td>0.028117</td>\n",
              "      <td>0.057480</td>\n",
              "      <td>0.107428</td>\n",
              "      <td>0.020646</td>\n",
              "    </tr>\n",
              "    <tr>\n",
              "      <th>ABEV3</th>\n",
              "      <td>0.016204</td>\n",
              "      <td>0.025370</td>\n",
              "      <td>0.020646</td>\n",
              "      <td>0.020695</td>\n",
              "    </tr>\n",
              "  </tbody>\n",
              "</table>\n",
              "</div>"
            ],
            "text/plain": [
              "          ITSA4     PETR4     VALE3     ABEV3\n",
              "ITSA4  0.042055  0.045643  0.028117  0.016204\n",
              "PETR4  0.045643  0.124878  0.057480  0.025370\n",
              "VALE3  0.028117  0.057480  0.107428  0.020646\n",
              "ABEV3  0.016204  0.025370  0.020646  0.020695"
            ]
          },
          "metadata": {},
          "execution_count": 20
        }
      ]
    },
    {
      "cell_type": "code",
      "metadata": {
        "colab": {
          "base_uri": "https://localhost:8080/"
        },
        "id": "pzsbePp_f3z3",
        "outputId": "12ed9b7e-6e14-4d69-ddbd-2ce280df410d"
      },
      "source": [
        "#erro medio absoluto matriz semicovariancia\n",
        "\n",
        "ema_semicov = np.sum(np.abs(np.diag(semicov)-np.diag(cov_fut)))/len(np.diag(semicov))\n",
        "ema_semicov"
      ],
      "execution_count": null,
      "outputs": [
        {
          "output_type": "execute_result",
          "data": {
            "text/plain": [
              "0.07299699082209982"
            ]
          },
          "metadata": {},
          "execution_count": 21
        }
      ]
    },
    {
      "cell_type": "markdown",
      "metadata": {
        "id": "jNQKHsZ7gOL2"
      },
      "source": [
        "###6.3. Exponentially-Weigheted Covariance\n",
        "\n",
        "Retorna uma matriz decovariancia dentro de uma janela detempo. Ela da peso maior para os dados mais recentes através do argumento span"
      ]
    },
    {
      "cell_type": "code",
      "metadata": {
        "colab": {
          "base_uri": "https://localhost:8080/"
        },
        "id": "91Ob8oG9gFal",
        "outputId": "33846d94-9268-401a-b60a-33844a1302fe"
      },
      "source": [
        "exp_cov = risk_models.exp_cov(carteira_passado,span=400)\n",
        "exp_cov"
      ],
      "execution_count": null,
      "outputs": [
        {
          "output_type": "execute_result",
          "data": {
            "text/html": [
              "<div>\n",
              "<style scoped>\n",
              "    .dataframe tbody tr th:only-of-type {\n",
              "        vertical-align: middle;\n",
              "    }\n",
              "\n",
              "    .dataframe tbody tr th {\n",
              "        vertical-align: top;\n",
              "    }\n",
              "\n",
              "    .dataframe thead th {\n",
              "        text-align: right;\n",
              "    }\n",
              "</style>\n",
              "<table border=\"1\" class=\"dataframe\">\n",
              "  <thead>\n",
              "    <tr style=\"text-align: right;\">\n",
              "      <th></th>\n",
              "      <th>ITSA4</th>\n",
              "      <th>PETR4</th>\n",
              "      <th>VALE3</th>\n",
              "      <th>ABEV3</th>\n",
              "    </tr>\n",
              "  </thead>\n",
              "  <tbody>\n",
              "    <tr>\n",
              "      <th>ITSA4</th>\n",
              "      <td>0.094867</td>\n",
              "      <td>0.085913</td>\n",
              "      <td>0.027109</td>\n",
              "      <td>0.029175</td>\n",
              "    </tr>\n",
              "    <tr>\n",
              "      <th>PETR4</th>\n",
              "      <td>0.085913</td>\n",
              "      <td>0.249286</td>\n",
              "      <td>0.047334</td>\n",
              "      <td>0.033886</td>\n",
              "    </tr>\n",
              "    <tr>\n",
              "      <th>VALE3</th>\n",
              "      <td>0.027109</td>\n",
              "      <td>0.047334</td>\n",
              "      <td>0.139717</td>\n",
              "      <td>0.023906</td>\n",
              "    </tr>\n",
              "    <tr>\n",
              "      <th>ABEV3</th>\n",
              "      <td>0.029175</td>\n",
              "      <td>0.033886</td>\n",
              "      <td>0.023906</td>\n",
              "      <td>0.048599</td>\n",
              "    </tr>\n",
              "  </tbody>\n",
              "</table>\n",
              "</div>"
            ],
            "text/plain": [
              "          ITSA4     PETR4     VALE3     ABEV3\n",
              "ITSA4  0.094867  0.085913  0.027109  0.029175\n",
              "PETR4  0.085913  0.249286  0.047334  0.033886\n",
              "VALE3  0.027109  0.047334  0.139717  0.023906\n",
              "ABEV3  0.029175  0.033886  0.023906  0.048599"
            ]
          },
          "metadata": {},
          "execution_count": 22
        }
      ]
    },
    {
      "cell_type": "code",
      "metadata": {
        "colab": {
          "base_uri": "https://localhost:8080/"
        },
        "id": "uP31JgiRgtI4",
        "outputId": "7da4429e-7147-4047-ee24-36cadc553736"
      },
      "source": [
        "#Erro médio absoluto exp cov\n",
        "\n",
        "ema_exp_cov = np.sum(np.abs(np.diag(exp_cov)-np.diag(cov_fut)))/len(np.diag(exp_cov))\n",
        "\n",
        "ema_exp_cov"
      ],
      "execution_count": null,
      "outputs": [
        {
          "output_type": "execute_result",
          "data": {
            "text/plain": [
              "0.1323501718623484"
            ]
          },
          "metadata": {},
          "execution_count": 23
        }
      ]
    },
    {
      "cell_type": "markdown",
      "metadata": {
        "id": "NXd2XwTkhGK4"
      },
      "source": [
        "###6.4. Ledoit Wolf Estimators\n",
        "\n",
        "O objetivo dos estimadores shrinkage é reduzir o erro da previsão da matriz de covariancia, trazendo valores extremos para valores mais próximos dentro da matriz. \n",
        "\n",
        "- constant_variance = diagonal da matriz de covariancia como sendo a média das variancias do retorno\n",
        "- single_factor: baseado no Sharpe Model factor - utiliza o beta como parametro da função que irá encolher a matriz\n",
        "- constant_correlation: relacionado a matriz de correlação e desvio padrão da amostra\n",
        "\n",
        "Referências\n",
        "\n",
        "- Robert Martin:https://reasonabledeviations.com/notes/papers/ledoit_wolf_covariance/\n",
        "- Honey, I Shrunk the Sample Covariance Matrix: https://jpm.pm-research.com/content/30/4/110\n",
        "- Sharpe Factor Model: https://www.researchgate.net/publication/227357145_A_Simplified_Model_for_Portfolio_Analysis\n"
      ]
    },
    {
      "cell_type": "code",
      "metadata": {
        "colab": {
          "base_uri": "https://localhost:8080/"
        },
        "id": "sLErHsvrg8IX",
        "outputId": "98541061-ffef-4e98-a587-4c4bb6c8ed0e"
      },
      "source": [
        "lw_cov = risk_models.CovarianceShrinkage(carteira_passado).ledoit_wolf()\n",
        "lw_cov"
      ],
      "execution_count": null,
      "outputs": [
        {
          "output_type": "execute_result",
          "data": {
            "text/html": [
              "<div>\n",
              "<style scoped>\n",
              "    .dataframe tbody tr th:only-of-type {\n",
              "        vertical-align: middle;\n",
              "    }\n",
              "\n",
              "    .dataframe tbody tr th {\n",
              "        vertical-align: top;\n",
              "    }\n",
              "\n",
              "    .dataframe thead th {\n",
              "        text-align: right;\n",
              "    }\n",
              "</style>\n",
              "<table border=\"1\" class=\"dataframe\">\n",
              "  <thead>\n",
              "    <tr style=\"text-align: right;\">\n",
              "      <th></th>\n",
              "      <th>ITSA4</th>\n",
              "      <th>PETR4</th>\n",
              "      <th>VALE3</th>\n",
              "      <th>ABEV3</th>\n",
              "    </tr>\n",
              "  </thead>\n",
              "  <tbody>\n",
              "    <tr>\n",
              "      <th>ITSA4</th>\n",
              "      <td>0.094986</td>\n",
              "      <td>0.092206</td>\n",
              "      <td>0.041762</td>\n",
              "      <td>0.025191</td>\n",
              "    </tr>\n",
              "    <tr>\n",
              "      <th>PETR4</th>\n",
              "      <td>0.092206</td>\n",
              "      <td>0.271166</td>\n",
              "      <td>0.106230</td>\n",
              "      <td>0.034869</td>\n",
              "    </tr>\n",
              "    <tr>\n",
              "      <th>VALE3</th>\n",
              "      <td>0.041762</td>\n",
              "      <td>0.106230</td>\n",
              "      <td>0.237548</td>\n",
              "      <td>0.027377</td>\n",
              "    </tr>\n",
              "    <tr>\n",
              "      <th>ABEV3</th>\n",
              "      <td>0.025191</td>\n",
              "      <td>0.034869</td>\n",
              "      <td>0.027377</td>\n",
              "      <td>0.043655</td>\n",
              "    </tr>\n",
              "  </tbody>\n",
              "</table>\n",
              "</div>"
            ],
            "text/plain": [
              "          ITSA4     PETR4     VALE3     ABEV3\n",
              "ITSA4  0.094986  0.092206  0.041762  0.025191\n",
              "PETR4  0.092206  0.271166  0.106230  0.034869\n",
              "VALE3  0.041762  0.106230  0.237548  0.027377\n",
              "ABEV3  0.025191  0.034869  0.027377  0.043655"
            ]
          },
          "metadata": {},
          "execution_count": 24
        }
      ]
    },
    {
      "cell_type": "code",
      "metadata": {
        "colab": {
          "base_uri": "https://localhost:8080/"
        },
        "id": "Gj8M_gIriH46",
        "outputId": "6cdb4af6-2e4c-45bf-b663-1250de0b13d6"
      },
      "source": [
        "#EMA Ledoit Wolf\n",
        "\n",
        "ema_lw_cov = np.sum(np.abs(np.diag(lw_cov)-np.diag(cov_fut)))/len(lw_cov)\n",
        "ema_lw_cov"
      ],
      "execution_count": null,
      "outputs": [
        {
          "output_type": "execute_result",
          "data": {
            "text/plain": [
              "0.16107170240643046"
            ]
          },
          "metadata": {},
          "execution_count": 25
        }
      ]
    },
    {
      "cell_type": "markdown",
      "metadata": {
        "id": "1-5sL8IOqKI9"
      },
      "source": [
        "##7. Modelos de Otimização\n"
      ]
    },
    {
      "cell_type": "markdown",
      "metadata": {
        "id": "ydQxTIxjqrrY"
      },
      "source": [
        "###7.1. Modelo de Portfólio Mínima Variância\n",
        "\n",
        "Modelos de otimização demínima volatilidade tem comoobjetivo reduzir a volatilidade do portfolio sendo que os pesos tenham que somar 100%. Posições somente long only. Para carteira long-short deixar o parametro (weight-bounds(None,None))"
      ]
    },
    {
      "cell_type": "code",
      "metadata": {
        "id": "h-mjFsgmiWm8"
      },
      "source": [
        "from pypfopt import EfficientFrontier"
      ],
      "execution_count": null,
      "outputs": []
    },
    {
      "cell_type": "code",
      "metadata": {
        "id": "ac22-l2crGlh"
      },
      "source": [
        "mv = EfficientFrontier(mme,exp_cov)"
      ],
      "execution_count": null,
      "outputs": []
    },
    {
      "cell_type": "code",
      "metadata": {
        "colab": {
          "base_uri": "https://localhost:8080/"
        },
        "id": "d_WbZM0Zrkxv",
        "outputId": "8996f07b-0211-4ed7-cdcb-c76e4d317e23"
      },
      "source": [
        "mv.min_volatility()"
      ],
      "execution_count": null,
      "outputs": [
        {
          "output_type": "execute_result",
          "data": {
            "text/plain": [
              "OrderedDict([('ITSA4', 0.1896005873053982),\n",
              "             ('PETR4', 0.0),\n",
              "             ('VALE3', 0.1452103989072766),\n",
              "             ('ABEV3', 0.6651890137873252)])"
            ]
          },
          "metadata": {},
          "execution_count": 39
        }
      ]
    },
    {
      "cell_type": "code",
      "metadata": {
        "colab": {
          "base_uri": "https://localhost:8080/"
        },
        "id": "YsSvejDrrm8p",
        "outputId": "4c80b0ae-f706-4f0e-9027-2e7ec19729be"
      },
      "source": [
        "pesos_vol = mv.clean_weights()\n",
        "pesos_vol"
      ],
      "execution_count": null,
      "outputs": [
        {
          "output_type": "execute_result",
          "data": {
            "text/plain": [
              "OrderedDict([('ITSA4', 0.1896),\n",
              "             ('PETR4', 0.0),\n",
              "             ('VALE3', 0.14521),\n",
              "             ('ABEV3', 0.66519)])"
            ]
          },
          "metadata": {},
          "execution_count": 40
        }
      ]
    },
    {
      "cell_type": "code",
      "metadata": {
        "colab": {
          "base_uri": "https://localhost:8080/",
          "height": 265
        },
        "id": "HNDV7cttrvLi",
        "outputId": "3100629a-8337-4e72-d813-bf9bbf8158d4"
      },
      "source": [
        "pd.Series(pesos_vol).plot.barh();"
      ],
      "execution_count": null,
      "outputs": [
        {
          "output_type": "display_data",
          "data": {
            "image/png": "[encoded data removed]",
            "text/plain": [
              "<Figure size 432x288 with 1 Axes>"
            ]
          },
          "metadata": {
            "needs_background": "light"
          }
        }
      ]
    },
    {
      "cell_type": "code",
      "metadata": {
        "colab": {
          "base_uri": "https://localhost:8080/"
        },
        "id": "kriWb2Lxr0EI",
        "outputId": "1459fab4-fef9-44c0-cbea-6593b25a847f"
      },
      "source": [
        "mv.portfolio_performance(verbose=True, risk_free_rate=selic_aa)"
      ],
      "execution_count": null,
      "outputs": [
        {
          "output_type": "stream",
          "name": "stdout",
          "text": [
            "Expected annual return: -8.1%\n",
            "Annual volatility: 20.3%\n",
            "Sharpe Ratio: -0.71\n"
          ]
        },
        {
          "output_type": "execute_result",
          "data": {
            "text/plain": [
              "(-0.0808667868606238, 0.20329874567314016, -0.7125808198223607)"
            ]
          },
          "metadata": {},
          "execution_count": 42
        }
      ]
    },
    {
      "cell_type": "code",
      "metadata": {
        "colab": {
          "base_uri": "https://localhost:8080/"
        },
        "id": "XiekRzzus3jD",
        "outputId": "0236a16f-1542-4f8e-e287-8d4cc22f5e03"
      },
      "source": [
        "pesos_vol = pesos_vol.values()\n",
        "pesos_vol = list(pesos_vol)\n",
        "pesos_vol = np.array(pesos_vol)\n",
        "pesos_vol"
      ],
      "execution_count": null,
      "outputs": [
        {
          "output_type": "execute_result",
          "data": {
            "text/plain": [
              "array([0.1896 , 0.     , 0.14521, 0.66519])"
            ]
          },
          "metadata": {},
          "execution_count": 43
        }
      ]
    },
    {
      "cell_type": "code",
      "metadata": {
        "colab": {
          "base_uri": "https://localhost:8080/"
        },
        "id": "zrubYk95tCYj",
        "outputId": "ed17b704-52f9-4479-c93a-4e88ef4dbdb0"
      },
      "source": [
        "#Comparar a volatilidade\n",
        "\n",
        "vol_otimizada = np.sqrt(np.dot(pesos_vol.T, np.dot(cov_fut, pesos_vol)))\n",
        "vol_otimizada = vol_otimizada*np.sqrt(252)\n",
        "vol_otimizada"
      ],
      "execution_count": null,
      "outputs": [
        {
          "output_type": "execute_result",
          "data": {
            "text/plain": [
              "0.32518660311495384"
            ]
          },
          "metadata": {},
          "execution_count": 44
        }
      ]
    },
    {
      "cell_type": "code",
      "metadata": {
        "colab": {
          "base_uri": "https://localhost:8080/"
        },
        "id": "Mh0l4wc0tbsS",
        "outputId": "3b988c05-7aae-4cbc-a94b-e19c21e13b3e"
      },
      "source": [
        "#Comparar retorno\n",
        "retorno_min_vol = cf_anualizado.dot(pesos_vol)\n",
        "retorno_min_vol"
      ],
      "execution_count": null,
      "outputs": [
        {
          "output_type": "execute_result",
          "data": {
            "text/plain": [
              "0.030299401253053443"
            ]
          },
          "metadata": {},
          "execution_count": 45
        }
      ]
    },
    {
      "cell_type": "markdown",
      "metadata": {
        "id": "Tx-h5WsAtyr9"
      },
      "source": [
        "###7.1.1. Função Regularizadora"
      ]
    },
    {
      "cell_type": "code",
      "metadata": {
        "id": "EwwD2HIdtg_5"
      },
      "source": [
        "from pypfopt import objective_functions"
      ],
      "execution_count": null,
      "outputs": []
    },
    {
      "cell_type": "code",
      "metadata": {
        "colab": {
          "base_uri": "https://localhost:8080/"
        },
        "id": "GhjpU_AYt4uQ",
        "outputId": "684ca68e-8170-4321-aa2a-004430656ca5"
      },
      "source": [
        "mv_2 = EfficientFrontier(mme,exp_cov)\n",
        "mv_2.add_objective(objective_functions.L2_reg, gamma=0.1)\n",
        "mv_2.min_volatility()\n",
        "pesos_2 = mv_2.clean_weights()\n",
        "pesos_2"
      ],
      "execution_count": null,
      "outputs": [
        {
          "output_type": "execute_result",
          "data": {
            "text/plain": [
              "OrderedDict([('ITSA4', 0.26646),\n",
              "             ('PETR4', 0.08473),\n",
              "             ('VALE3', 0.23586),\n",
              "             ('ABEV3', 0.41294)])"
            ]
          },
          "metadata": {},
          "execution_count": 47
        }
      ]
    },
    {
      "cell_type": "code",
      "metadata": {
        "colab": {
          "base_uri": "https://localhost:8080/"
        },
        "id": "rszFFORhuafU",
        "outputId": "5157bf6c-50b1-413a-f7e7-9fb4a0ea0dcc"
      },
      "source": [
        "pesos_2 = pesos_2.values()\n",
        "pesos_2 = list(pesos_2)\n",
        "pesos_2 = np.array(pesos_2)\n",
        "pesos_2"
      ],
      "execution_count": null,
      "outputs": [
        {
          "output_type": "execute_result",
          "data": {
            "text/plain": [
              "array([0.26646, 0.08473, 0.23586, 0.41294])"
            ]
          },
          "metadata": {},
          "execution_count": 48
        }
      ]
    },
    {
      "cell_type": "code",
      "metadata": {
        "colab": {
          "base_uri": "https://localhost:8080/"
        },
        "id": "Fj2iLNLYu7sk",
        "outputId": "e5e8ec34-b07b-4ff9-99fe-8c2af04afa07"
      },
      "source": [
        "vol_otimizada2 = np.sqrt(np.dot(pesos_2.T, np.dot(cov_fut, pesos_2)))\n",
        "vol_otimizada2 = vol_otimizada2*np.sqrt(252)\n",
        "vol_otimizada2"
      ],
      "execution_count": null,
      "outputs": [
        {
          "output_type": "execute_result",
          "data": {
            "text/plain": [
              "0.3211687363501976"
            ]
          },
          "metadata": {},
          "execution_count": 49
        }
      ]
    },
    {
      "cell_type": "code",
      "metadata": {
        "colab": {
          "base_uri": "https://localhost:8080/"
        },
        "id": "37XGmWT9vDpb",
        "outputId": "7edad9ce-6641-483e-c168-b92c05c62408"
      },
      "source": [
        "retorno_min_vol_2 = cf_anualizado.dot(pesos_2)\n",
        "retorno_min_vol_2"
      ],
      "execution_count": null,
      "outputs": [
        {
          "output_type": "execute_result",
          "data": {
            "text/plain": [
              "0.04932739531699506"
            ]
          },
          "metadata": {},
          "execution_count": 50
        }
      ]
    },
    {
      "cell_type": "markdown",
      "metadata": {
        "id": "8HWdehEFvqYc"
      },
      "source": [
        "##7.2. Modelo de Otimização Risco Eficiente\n",
        "\n",
        "Maximizar o retorno de um portfólio dado um target de risco"
      ]
    },
    {
      "cell_type": "code",
      "metadata": {
        "colab": {
          "base_uri": "https://localhost:8080/"
        },
        "id": "_UIr6nycvHkw",
        "outputId": "778acc35-60a8-4784-d9a9-9a4ae20a664c"
      },
      "source": [
        "risco_eficiente = EfficientFrontier(mme, exp_cov)\n",
        "risco_eficiente.efficient_risk(target_volatility=0.25)\n",
        "re_pesos = risco_eficiente.clean_weights(rounding=2)\n",
        "re_pesos"
      ],
      "execution_count": null,
      "outputs": [
        {
          "output_type": "execute_result",
          "data": {
            "text/plain": [
              "OrderedDict([('ITSA4', 0.58),\n",
              "             ('PETR4', 0.04),\n",
              "             ('VALE3', 0.28),\n",
              "             ('ABEV3', 0.1)])"
            ]
          },
          "metadata": {},
          "execution_count": 51
        }
      ]
    },
    {
      "cell_type": "code",
      "metadata": {
        "colab": {
          "base_uri": "https://localhost:8080/"
        },
        "id": "BJEwhZjMwJDE",
        "outputId": "8535240a-7209-47ae-aa10-466ba7a0e87b"
      },
      "source": [
        "risco_eficiente.portfolio_performance(verbose=True, risk_free_rate=selic_aa)"
      ],
      "execution_count": null,
      "outputs": [
        {
          "output_type": "stream",
          "name": "stdout",
          "text": [
            "Expected annual return: 24.5%\n",
            "Annual volatility: 25.0%\n",
            "Sharpe Ratio: 0.72\n"
          ]
        },
        {
          "output_type": "execute_result",
          "data": {
            "text/plain": [
              "(0.2452352883708576, 0.2500000008124674, 0.724941151127466)"
            ]
          },
          "metadata": {},
          "execution_count": 52
        }
      ]
    },
    {
      "cell_type": "code",
      "metadata": {
        "colab": {
          "base_uri": "https://localhost:8080/"
        },
        "id": "y5VBZKNMwmCf",
        "outputId": "98813771-49ff-4e88-ca13-d02c335eb6d3"
      },
      "source": [
        "re_pesos = re_pesos.values()\n",
        "re_pesos = list(re_pesos)\n",
        "re_pesos = np.array(re_pesos)\n",
        "re_pesos"
      ],
      "execution_count": null,
      "outputs": [
        {
          "output_type": "execute_result",
          "data": {
            "text/plain": [
              "array([0.58, 0.04, 0.28, 0.1 ])"
            ]
          },
          "metadata": {},
          "execution_count": 53
        }
      ]
    },
    {
      "cell_type": "code",
      "metadata": {
        "colab": {
          "base_uri": "https://localhost:8080/"
        },
        "id": "E8R3_gfowyQc",
        "outputId": "d8388b54-4321-470b-c0fe-30e403b42153"
      },
      "source": [
        "vol_re_otimizada = np.sqrt(np.dot(re_pesos.T, np.dot(cov_fut, re_pesos)))\n",
        "vol_re_otimizada = vol_re_otimizada*np.sqrt(252)\n",
        "vol_re_otimizada"
      ],
      "execution_count": null,
      "outputs": [
        {
          "output_type": "execute_result",
          "data": {
            "text/plain": [
              "0.3304167622144683"
            ]
          },
          "metadata": {},
          "execution_count": 54
        }
      ]
    },
    {
      "cell_type": "code",
      "metadata": {
        "colab": {
          "base_uri": "https://localhost:8080/"
        },
        "id": "F4zCj-RFw_iG",
        "outputId": "d1e3d9f3-afd2-4423-8d5b-bf3d3b355b32"
      },
      "source": [
        "retorno_re_pesos = cf_anualizado.dot(re_pesos)\n",
        "retorno_re_pesos"
      ],
      "execution_count": null,
      "outputs": [
        {
          "output_type": "execute_result",
          "data": {
            "text/plain": [
              "0.05788315086560185"
            ]
          },
          "metadata": {},
          "execution_count": 55
        }
      ]
    },
    {
      "cell_type": "markdown",
      "metadata": {
        "id": "Ul4uZ708xbix"
      },
      "source": [
        "##7.3. Modelo de Otimização Retorno Eficiente\n",
        "\n",
        "Minimizaro risco dado um target de retorno"
      ]
    },
    {
      "cell_type": "code",
      "metadata": {
        "colab": {
          "base_uri": "https://localhost:8080/"
        },
        "id": "8DCXMTKmxUiX",
        "outputId": "46a539a2-651e-4cdd-f400-1c35126c7329"
      },
      "source": [
        "retorno_eficiente = EfficientFrontier(mme, exp_cov)\n",
        "retorno_eficiente.efficient_return(target_return=0.25)\n",
        "pesos_retorno_eficiente = retorno_eficiente.clean_weights()\n",
        "pesos_retorno_eficiente"
      ],
      "execution_count": null,
      "outputs": [
        {
          "output_type": "execute_result",
          "data": {
            "text/plain": [
              "OrderedDict([('ITSA4', 0.58368),\n",
              "             ('PETR4', 0.04332),\n",
              "             ('VALE3', 0.27859),\n",
              "             ('ABEV3', 0.09441)])"
            ]
          },
          "metadata": {},
          "execution_count": 56
        }
      ]
    },
    {
      "cell_type": "code",
      "metadata": {
        "colab": {
          "base_uri": "https://localhost:8080/"
        },
        "id": "shJPTPz3x8vH",
        "outputId": "61a79d86-257a-413c-e0f2-b57a840ed5c0"
      },
      "source": [
        "pesos_retorno_eficiente = pesos_retorno_eficiente.values()\n",
        "pesos_retorno_eficiente = list(pesos_retorno_eficiente)\n",
        "pesos_retorno_eficiente = np.array(pesos_retorno_eficiente)\n",
        "pesos_retorno_eficiente"
      ],
      "execution_count": null,
      "outputs": [
        {
          "output_type": "execute_result",
          "data": {
            "text/plain": [
              "array([0.58368, 0.04332, 0.27859, 0.09441])"
            ]
          },
          "metadata": {},
          "execution_count": 57
        }
      ]
    },
    {
      "cell_type": "code",
      "metadata": {
        "colab": {
          "base_uri": "https://localhost:8080/"
        },
        "id": "6B4P2IJIyNTb",
        "outputId": "7aa0a6c3-9b2d-443d-a738-93d96830689b"
      },
      "source": [
        "vol_re_otimizada2 = np.sqrt(np.dot(pesos_retorno_eficiente.T, np.dot(cov_fut, pesos_retorno_eficiente)))\n",
        "vol_re_otimizada2 = vol_re_otimizada2*np.sqrt(252)\n",
        "vol_re_otimizada2"
      ],
      "execution_count": null,
      "outputs": [
        {
          "output_type": "execute_result",
          "data": {
            "text/plain": [
              "0.3311534907066422"
            ]
          },
          "metadata": {},
          "execution_count": 58
        }
      ]
    },
    {
      "cell_type": "code",
      "metadata": {
        "colab": {
          "base_uri": "https://localhost:8080/"
        },
        "id": "1LKWzBfKyV86",
        "outputId": "3d7e8e24-115e-4062-c51c-fa518fff3fdc"
      },
      "source": [
        "retorno_eficiente_2 = cf_anualizado.dot(pesos_retorno_eficiente)\n",
        "retorno_eficiente_2"
      ],
      "execution_count": null,
      "outputs": [
        {
          "output_type": "execute_result",
          "data": {
            "text/plain": [
              "0.05785234794401577"
            ]
          },
          "metadata": {},
          "execution_count": 59
        }
      ]
    },
    {
      "cell_type": "markdown",
      "metadata": {
        "id": "9KtHiUmyz6B4"
      },
      "source": [
        "##7.4. Portfólio Max Sharpe\n",
        "\n",
        "Modelo de maximização de Sharpe Ratio tem como objetivo maximzar o resultado da expressão (RiskFree - Retorno Esperado)/Volatilidade"
      ]
    },
    {
      "cell_type": "code",
      "metadata": {
        "colab": {
          "base_uri": "https://localhost:8080/",
          "height": 265
        },
        "id": "_GKjoKQJyemf",
        "outputId": "a09877be-bb04-4f64-c58d-bfd4d9145d8f"
      },
      "source": [
        "msharpe = EfficientFrontier(mme, exp_cov)\n",
        "msharpe.max_sharpe(risk_free_rate=selic_aa)\n",
        "sharpe_pesos = msharpe.clean_weights()\n",
        "pd.Series(sharpe_pesos).plot.barh();"
      ],
      "execution_count": null,
      "outputs": [
        {
          "output_type": "display_data",
          "data": {
            "image/png": "[encoded data removed]",
            "text/plain": [
              "<Figure size 432x288 with 1 Axes>"
            ]
          },
          "metadata": {
            "needs_background": "light"
          }
        }
      ]
    },
    {
      "cell_type": "code",
      "metadata": {
        "id": "pJ0I_v3K0niw"
      },
      "source": [
        "sharpe_pesos = sharpe_pesos.values()\n",
        "sharpe_pesos = list(sharpe_pesos)\n",
        "sharpe_pesos = np.array(sharpe_pesos)"
      ],
      "execution_count": null,
      "outputs": []
    },
    {
      "cell_type": "code",
      "metadata": {
        "id": "zV9lSwQ-00yg"
      },
      "source": [
        "volsharpe = np.sqrt(np.dot(sharpe_pesos.T, np.dot(cov_fut, sharpe_pesos)))\n",
        "volsharpe = volsharpe*np.sqrt(252)\n",
        "volsharpe"
      ],
      "execution_count": null,
      "outputs": []
    },
    {
      "cell_type": "code",
      "metadata": {
        "id": "EXQSa7d71Bjc"
      },
      "source": [
        "retorno_sharpe = cf_anualizado.dot(sharpe_pesos)\n",
        "retorno_sharpe"
      ],
      "execution_count": null,
      "outputs": []
    },
    {
      "cell_type": "code",
      "metadata": {
        "colab": {
          "base_uri": "https://localhost:8080/"
        },
        "id": "YLWW5gIE1HPy",
        "outputId": "e6bfd78a-9dc1-4191-91ee-65b20b70db72"
      },
      "source": [
        "msharpe.portfolio_performance(verbose=True, risk_free_rate=selic_aa)"
      ],
      "execution_count": null,
      "outputs": [
        {
          "output_type": "stream",
          "name": "stdout",
          "text": [
            "Expected annual return: 36.9%\n",
            "Annual volatility: 31.0%\n",
            "Sharpe Ratio: 0.99\n"
          ]
        },
        {
          "output_type": "execute_result",
          "data": {
            "text/plain": [
              "(0.36924780851238914, 0.30962018536100533, 0.9858782564724643)"
            ]
          },
          "metadata": {},
          "execution_count": 73
        }
      ]
    },
    {
      "cell_type": "markdown",
      "metadata": {
        "id": "O_IMs-Bcvlvk"
      },
      "source": [
        "##8. Cenários Avançados de Otimização"
      ]
    },
    {
      "cell_type": "markdown",
      "metadata": {
        "id": "kqCokJrHyEQT"
      },
      "source": [
        "###8.1. Criando nova *carteira*"
      ]
    },
    {
      "cell_type": "code",
      "metadata": {
        "colab": {
          "base_uri": "https://localhost:8080/",
          "height": 450
        },
        "id": "LquXdf_Q00U0",
        "outputId": "cb8c72f7-4873-4c71-ca3a-45e6d0ae5731"
      },
      "source": [
        "ativos = ['ITSA4', 'PETR4', 'VALE3', 'ABEV3', 'IGTA3', 'BRML3','BBDC4','BBAS3','LREN3','RENT3']\n",
        "\n",
        "inicio = '01/01/2017'\n",
        "fim='31/12/2020'\n",
        "\n",
        "carteira = pd.DataFrame()\n",
        "\n",
        "for i in ativos:\n",
        "  df_cenario = investpy.get_stock_historical_data(stock=i, country='Brazil', from_date=inicio, to_date=fim).Close\n",
        "  df_cenario.rename(i,inplace=True)\n",
        "  df_cenario.columns = [i]\n",
        "  carteira = pd.concat([carteira, df_cenario], axis=1)\n",
        "  carteira.index.name=\"Date\"\n",
        "carteira"
      ],
      "execution_count": null,
      "outputs": [
        {
          "output_type": "execute_result",
          "data": {
            "text/html": [
              "<div>\n",
              "<style scoped>\n",
              "    .dataframe tbody tr th:only-of-type {\n",
              "        vertical-align: middle;\n",
              "    }\n",
              "\n",
              "    .dataframe tbody tr th {\n",
              "        vertical-align: top;\n",
              "    }\n",
              "\n",
              "    .dataframe thead th {\n",
              "        text-align: right;\n",
              "    }\n",
              "</style>\n",
              "<table border=\"1\" class=\"dataframe\">\n",
              "  <thead>\n",
              "    <tr style=\"text-align: right;\">\n",
              "      <th></th>\n",
              "      <th>ITSA4</th>\n",
              "      <th>PETR4</th>\n",
              "      <th>VALE3</th>\n",
              "      <th>ABEV3</th>\n",
              "      <th>IGTA3</th>\n",
              "      <th>BRML3</th>\n",
              "      <th>BBDC4</th>\n",
              "      <th>BBAS3</th>\n",
              "      <th>LREN3</th>\n",
              "      <th>RENT3</th>\n",
              "    </tr>\n",
              "    <tr>\n",
              "      <th>Date</th>\n",
              "      <th></th>\n",
              "      <th></th>\n",
              "      <th></th>\n",
              "      <th></th>\n",
              "      <th></th>\n",
              "      <th></th>\n",
              "      <th></th>\n",
              "      <th></th>\n",
              "      <th></th>\n",
              "      <th></th>\n",
              "    </tr>\n",
              "  </thead>\n",
              "  <tbody>\n",
              "    <tr>\n",
              "      <th>2017-01-02</th>\n",
              "      <td>6.25</td>\n",
              "      <td>14.06</td>\n",
              "      <td>25.06</td>\n",
              "      <td>15.36</td>\n",
              "      <td>26.62</td>\n",
              "      <td>10.45</td>\n",
              "      <td>13.98</td>\n",
              "      <td>25.03</td>\n",
              "      <td>20.43</td>\n",
              "      <td>10.81</td>\n",
              "    </tr>\n",
              "    <tr>\n",
              "      <th>2017-01-03</th>\n",
              "      <td>6.53</td>\n",
              "      <td>14.87</td>\n",
              "      <td>26.17</td>\n",
              "      <td>15.67</td>\n",
              "      <td>27.13</td>\n",
              "      <td>11.03</td>\n",
              "      <td>14.57</td>\n",
              "      <td>26.18</td>\n",
              "      <td>21.05</td>\n",
              "      <td>11.27</td>\n",
              "    </tr>\n",
              "    <tr>\n",
              "      <th>2017-01-04</th>\n",
              "      <td>6.57</td>\n",
              "      <td>14.87</td>\n",
              "      <td>25.70</td>\n",
              "      <td>15.55</td>\n",
              "      <td>27.83</td>\n",
              "      <td>11.01</td>\n",
              "      <td>14.48</td>\n",
              "      <td>26.04</td>\n",
              "      <td>20.87</td>\n",
              "      <td>11.45</td>\n",
              "    </tr>\n",
              "    <tr>\n",
              "      <th>2017-01-05</th>\n",
              "      <td>6.63</td>\n",
              "      <td>15.11</td>\n",
              "      <td>26.68</td>\n",
              "      <td>15.63</td>\n",
              "      <td>28.44</td>\n",
              "      <td>11.26</td>\n",
              "      <td>14.64</td>\n",
              "      <td>25.98</td>\n",
              "      <td>20.67</td>\n",
              "      <td>11.28</td>\n",
              "    </tr>\n",
              "    <tr>\n",
              "      <th>2017-01-06</th>\n",
              "      <td>6.60</td>\n",
              "      <td>15.02</td>\n",
              "      <td>25.97</td>\n",
              "      <td>15.50</td>\n",
              "      <td>28.60</td>\n",
              "      <td>11.15</td>\n",
              "      <td>14.73</td>\n",
              "      <td>26.26</td>\n",
              "      <td>20.43</td>\n",
              "      <td>11.27</td>\n",
              "    </tr>\n",
              "    <tr>\n",
              "      <th>...</th>\n",
              "      <td>...</td>\n",
              "      <td>...</td>\n",
              "      <td>...</td>\n",
              "      <td>...</td>\n",
              "      <td>...</td>\n",
              "      <td>...</td>\n",
              "      <td>...</td>\n",
              "      <td>...</td>\n",
              "      <td>...</td>\n",
              "      <td>...</td>\n",
              "    </tr>\n",
              "    <tr>\n",
              "      <th>2020-12-22</th>\n",
              "      <td>11.40</td>\n",
              "      <td>27.28</td>\n",
              "      <td>86.94</td>\n",
              "      <td>15.51</td>\n",
              "      <td>36.49</td>\n",
              "      <td>9.85</td>\n",
              "      <td>24.18</td>\n",
              "      <td>38.29</td>\n",
              "      <td>43.16</td>\n",
              "      <td>64.88</td>\n",
              "    </tr>\n",
              "    <tr>\n",
              "      <th>2020-12-23</th>\n",
              "      <td>11.67</td>\n",
              "      <td>27.95</td>\n",
              "      <td>87.36</td>\n",
              "      <td>15.50</td>\n",
              "      <td>36.96</td>\n",
              "      <td>10.01</td>\n",
              "      <td>24.73</td>\n",
              "      <td>38.92</td>\n",
              "      <td>43.72</td>\n",
              "      <td>66.60</td>\n",
              "    </tr>\n",
              "    <tr>\n",
              "      <th>2020-12-28</th>\n",
              "      <td>11.80</td>\n",
              "      <td>28.18</td>\n",
              "      <td>87.31</td>\n",
              "      <td>15.77</td>\n",
              "      <td>37.58</td>\n",
              "      <td>10.25</td>\n",
              "      <td>24.97</td>\n",
              "      <td>39.35</td>\n",
              "      <td>43.97</td>\n",
              "      <td>66.70</td>\n",
              "    </tr>\n",
              "    <tr>\n",
              "      <th>2020-12-29</th>\n",
              "      <td>11.87</td>\n",
              "      <td>28.27</td>\n",
              "      <td>87.07</td>\n",
              "      <td>15.95</td>\n",
              "      <td>36.86</td>\n",
              "      <td>10.06</td>\n",
              "      <td>24.93</td>\n",
              "      <td>39.12</td>\n",
              "      <td>44.13</td>\n",
              "      <td>67.06</td>\n",
              "    </tr>\n",
              "    <tr>\n",
              "      <th>2020-12-30</th>\n",
              "      <td>11.73</td>\n",
              "      <td>28.34</td>\n",
              "      <td>87.45</td>\n",
              "      <td>15.65</td>\n",
              "      <td>37.15</td>\n",
              "      <td>9.90</td>\n",
              "      <td>24.58</td>\n",
              "      <td>38.80</td>\n",
              "      <td>43.54</td>\n",
              "      <td>68.95</td>\n",
              "    </tr>\n",
              "  </tbody>\n",
              "</table>\n",
              "<p>988 rows × 10 columns</p>\n",
              "</div>"
            ],
            "text/plain": [
              "            ITSA4  PETR4  VALE3  ABEV3  ...  BBDC4  BBAS3  LREN3  RENT3\n",
              "Date                                    ...                            \n",
              "2017-01-02   6.25  14.06  25.06  15.36  ...  13.98  25.03  20.43  10.81\n",
              "2017-01-03   6.53  14.87  26.17  15.67  ...  14.57  26.18  21.05  11.27\n",
              "2017-01-04   6.57  14.87  25.70  15.55  ...  14.48  26.04  20.87  11.45\n",
              "2017-01-05   6.63  15.11  26.68  15.63  ...  14.64  25.98  20.67  11.28\n",
              "2017-01-06   6.60  15.02  25.97  15.50  ...  14.73  26.26  20.43  11.27\n",
              "...           ...    ...    ...    ...  ...    ...    ...    ...    ...\n",
              "2020-12-22  11.40  27.28  86.94  15.51  ...  24.18  38.29  43.16  64.88\n",
              "2020-12-23  11.67  27.95  87.36  15.50  ...  24.73  38.92  43.72  66.60\n",
              "2020-12-28  11.80  28.18  87.31  15.77  ...  24.97  39.35  43.97  66.70\n",
              "2020-12-29  11.87  28.27  87.07  15.95  ...  24.93  39.12  44.13  67.06\n",
              "2020-12-30  11.73  28.34  87.45  15.65  ...  24.58  38.80  43.54  68.95\n",
              "\n",
              "[988 rows x 10 columns]"
            ]
          },
          "metadata": {},
          "execution_count": 28
        }
      ]
    },
    {
      "cell_type": "code",
      "metadata": {
        "colab": {
          "base_uri": "https://localhost:8080/"
        },
        "id": "02Pv4wUD1cRl",
        "outputId": "05e45f71-963a-4042-9ba1-e7dec1e21a83"
      },
      "source": [
        "#Adicionando renda fixa\n",
        "\n",
        "search_results = investpy.search_quotes(text='tesouro', products=['bonds'], countries=['brazil'], n_results=30)\n",
        "\n",
        "for search_result in search_results[7:8]:\n",
        "  print(search_result)"
      ],
      "execution_count": null,
      "outputs": [
        {
          "output_type": "stream",
          "name": "stdout",
          "text": [
            "{\"id_\": 1089896, \"name\": \"Tesouro IPCA + NTNB 6 15-May-2035\", \"symbol\": \"NTB051535=\", \"country\": \"brazil\", \"tag\": \"/rates-bonds/ntnb-6-15-may-2035\", \"pair_type\": \"bonds\", \"exchange\": \"OTC Bonds\"}\n"
          ]
        }
      ]
    },
    {
      "cell_type": "code",
      "metadata": {
        "id": "ozgPxNeY1vfe"
      },
      "source": [
        "ipca_2035 = search_result.retrieve_historical_data(from_date=inicio,to_date=fim)"
      ],
      "execution_count": null,
      "outputs": []
    },
    {
      "cell_type": "code",
      "metadata": {
        "colab": {
          "base_uri": "https://localhost:8080/",
          "height": 450
        },
        "id": "O6NuCP0a1-j1",
        "outputId": "8c774605-376f-4db5-dafc-5d63953da8ec"
      },
      "source": [
        "ipca_2035"
      ],
      "execution_count": null,
      "outputs": [
        {
          "output_type": "execute_result",
          "data": {
            "text/html": [
              "<div>\n",
              "<style scoped>\n",
              "    .dataframe tbody tr th:only-of-type {\n",
              "        vertical-align: middle;\n",
              "    }\n",
              "\n",
              "    .dataframe tbody tr th {\n",
              "        vertical-align: top;\n",
              "    }\n",
              "\n",
              "    .dataframe thead th {\n",
              "        text-align: right;\n",
              "    }\n",
              "</style>\n",
              "<table border=\"1\" class=\"dataframe\">\n",
              "  <thead>\n",
              "    <tr style=\"text-align: right;\">\n",
              "      <th></th>\n",
              "      <th>Open</th>\n",
              "      <th>High</th>\n",
              "      <th>Low</th>\n",
              "      <th>Close</th>\n",
              "      <th>Change Pct</th>\n",
              "    </tr>\n",
              "    <tr>\n",
              "      <th>Date</th>\n",
              "      <th></th>\n",
              "      <th></th>\n",
              "      <th></th>\n",
              "      <th></th>\n",
              "      <th></th>\n",
              "    </tr>\n",
              "  </thead>\n",
              "  <tbody>\n",
              "    <tr>\n",
              "      <th>2017-01-02</th>\n",
              "      <td>3071.644</td>\n",
              "      <td>3071.644</td>\n",
              "      <td>3071.644</td>\n",
              "      <td>3071.644</td>\n",
              "      <td>2.79</td>\n",
              "    </tr>\n",
              "    <tr>\n",
              "      <th>2017-01-03</th>\n",
              "      <td>3065.696</td>\n",
              "      <td>3065.696</td>\n",
              "      <td>3065.696</td>\n",
              "      <td>3065.696</td>\n",
              "      <td>-0.19</td>\n",
              "    </tr>\n",
              "    <tr>\n",
              "      <th>2017-01-04</th>\n",
              "      <td>3063.069</td>\n",
              "      <td>3063.069</td>\n",
              "      <td>3063.069</td>\n",
              "      <td>3063.069</td>\n",
              "      <td>-0.09</td>\n",
              "    </tr>\n",
              "    <tr>\n",
              "      <th>2017-01-05</th>\n",
              "      <td>3067.052</td>\n",
              "      <td>3067.052</td>\n",
              "      <td>3067.052</td>\n",
              "      <td>3067.052</td>\n",
              "      <td>0.13</td>\n",
              "    </tr>\n",
              "    <tr>\n",
              "      <th>2017-01-06</th>\n",
              "      <td>3057.831</td>\n",
              "      <td>3057.831</td>\n",
              "      <td>3057.831</td>\n",
              "      <td>3057.831</td>\n",
              "      <td>-0.30</td>\n",
              "    </tr>\n",
              "    <tr>\n",
              "      <th>...</th>\n",
              "      <td>...</td>\n",
              "      <td>...</td>\n",
              "      <td>...</td>\n",
              "      <td>...</td>\n",
              "      <td>...</td>\n",
              "    </tr>\n",
              "    <tr>\n",
              "      <th>2020-12-21</th>\n",
              "      <td>4384.612</td>\n",
              "      <td>4420.040</td>\n",
              "      <td>4384.612</td>\n",
              "      <td>4406.710</td>\n",
              "      <td>-0.09</td>\n",
              "    </tr>\n",
              "    <tr>\n",
              "      <th>2020-12-22</th>\n",
              "      <td>4435.510</td>\n",
              "      <td>4435.510</td>\n",
              "      <td>4422.140</td>\n",
              "      <td>4422.140</td>\n",
              "      <td>0.35</td>\n",
              "    </tr>\n",
              "    <tr>\n",
              "      <th>2020-12-23</th>\n",
              "      <td>4430.111</td>\n",
              "      <td>4430.111</td>\n",
              "      <td>4416.753</td>\n",
              "      <td>4416.750</td>\n",
              "      <td>-0.12</td>\n",
              "    </tr>\n",
              "    <tr>\n",
              "      <th>2020-12-28</th>\n",
              "      <td>4435.728</td>\n",
              "      <td>4435.728</td>\n",
              "      <td>4413.475</td>\n",
              "      <td>4435.730</td>\n",
              "      <td>0.43</td>\n",
              "    </tr>\n",
              "    <tr>\n",
              "      <th>2020-12-29</th>\n",
              "      <td>4440.774</td>\n",
              "      <td>4471.760</td>\n",
              "      <td>4440.774</td>\n",
              "      <td>4471.760</td>\n",
              "      <td>0.81</td>\n",
              "    </tr>\n",
              "  </tbody>\n",
              "</table>\n",
              "<p>973 rows × 5 columns</p>\n",
              "</div>"
            ],
            "text/plain": [
              "                Open      High       Low     Close  Change Pct\n",
              "Date                                                          \n",
              "2017-01-02  3071.644  3071.644  3071.644  3071.644        2.79\n",
              "2017-01-03  3065.696  3065.696  3065.696  3065.696       -0.19\n",
              "2017-01-04  3063.069  3063.069  3063.069  3063.069       -0.09\n",
              "2017-01-05  3067.052  3067.052  3067.052  3067.052        0.13\n",
              "2017-01-06  3057.831  3057.831  3057.831  3057.831       -0.30\n",
              "...              ...       ...       ...       ...         ...\n",
              "2020-12-21  4384.612  4420.040  4384.612  4406.710       -0.09\n",
              "2020-12-22  4435.510  4435.510  4422.140  4422.140        0.35\n",
              "2020-12-23  4430.111  4430.111  4416.753  4416.750       -0.12\n",
              "2020-12-28  4435.728  4435.728  4413.475  4435.730        0.43\n",
              "2020-12-29  4440.774  4471.760  4440.774  4471.760        0.81\n",
              "\n",
              "[973 rows x 5 columns]"
            ]
          },
          "metadata": {},
          "execution_count": 32
        }
      ]
    },
    {
      "cell_type": "code",
      "metadata": {
        "id": "dqud4Vwb1_wb"
      },
      "source": [
        "ipca_2035 = ipca_2035.rename({'Close':'TesouroIPCA'}, axis=1)"
      ],
      "execution_count": null,
      "outputs": []
    },
    {
      "cell_type": "code",
      "metadata": {
        "colab": {
          "base_uri": "https://localhost:8080/"
        },
        "id": "tliWBHYy2JS3",
        "outputId": "4b74763f-ab06-41cc-b744-ae41b980e073"
      },
      "source": [
        "ipca_2035 = ipca_2035['TesouroIPCA']\n",
        "ipca_2035"
      ],
      "execution_count": null,
      "outputs": [
        {
          "output_type": "execute_result",
          "data": {
            "text/plain": [
              "Date\n",
              "2017-01-02    3071.644\n",
              "2017-01-03    3065.696\n",
              "2017-01-04    3063.069\n",
              "2017-01-05    3067.052\n",
              "2017-01-06    3057.831\n",
              "                ...   \n",
              "2020-12-21    4406.710\n",
              "2020-12-22    4422.140\n",
              "2020-12-23    4416.750\n",
              "2020-12-28    4435.730\n",
              "2020-12-29    4471.760\n",
              "Name: TesouroIPCA, Length: 973, dtype: float64"
            ]
          },
          "metadata": {},
          "execution_count": 34
        }
      ]
    },
    {
      "cell_type": "code",
      "metadata": {
        "colab": {
          "base_uri": "https://localhost:8080/",
          "height": 450
        },
        "id": "7dtetko02Ol1",
        "outputId": "44aa5ef1-4ca3-4a5f-8828-b11ed9ae8611"
      },
      "source": [
        "carteira = pd.merge(carteira, ipca_2035, how='inner', left_index=True, right_index=True)\n",
        "carteira"
      ],
      "execution_count": null,
      "outputs": [
        {
          "output_type": "execute_result",
          "data": {
            "text/html": [
              "<div>\n",
              "<style scoped>\n",
              "    .dataframe tbody tr th:only-of-type {\n",
              "        vertical-align: middle;\n",
              "    }\n",
              "\n",
              "    .dataframe tbody tr th {\n",
              "        vertical-align: top;\n",
              "    }\n",
              "\n",
              "    .dataframe thead th {\n",
              "        text-align: right;\n",
              "    }\n",
              "</style>\n",
              "<table border=\"1\" class=\"dataframe\">\n",
              "  <thead>\n",
              "    <tr style=\"text-align: right;\">\n",
              "      <th></th>\n",
              "      <th>ITSA4</th>\n",
              "      <th>PETR4</th>\n",
              "      <th>VALE3</th>\n",
              "      <th>ABEV3</th>\n",
              "      <th>IGTA3</th>\n",
              "      <th>BRML3</th>\n",
              "      <th>BBDC4</th>\n",
              "      <th>BBAS3</th>\n",
              "      <th>LREN3</th>\n",
              "      <th>RENT3</th>\n",
              "      <th>TesouroIPCA</th>\n",
              "    </tr>\n",
              "    <tr>\n",
              "      <th>Date</th>\n",
              "      <th></th>\n",
              "      <th></th>\n",
              "      <th></th>\n",
              "      <th></th>\n",
              "      <th></th>\n",
              "      <th></th>\n",
              "      <th></th>\n",
              "      <th></th>\n",
              "      <th></th>\n",
              "      <th></th>\n",
              "      <th></th>\n",
              "    </tr>\n",
              "  </thead>\n",
              "  <tbody>\n",
              "    <tr>\n",
              "      <th>2017-01-02</th>\n",
              "      <td>6.25</td>\n",
              "      <td>14.06</td>\n",
              "      <td>25.06</td>\n",
              "      <td>15.36</td>\n",
              "      <td>26.62</td>\n",
              "      <td>10.45</td>\n",
              "      <td>13.98</td>\n",
              "      <td>25.03</td>\n",
              "      <td>20.43</td>\n",
              "      <td>10.81</td>\n",
              "      <td>3071.644</td>\n",
              "    </tr>\n",
              "    <tr>\n",
              "      <th>2017-01-03</th>\n",
              "      <td>6.53</td>\n",
              "      <td>14.87</td>\n",
              "      <td>26.17</td>\n",
              "      <td>15.67</td>\n",
              "      <td>27.13</td>\n",
              "      <td>11.03</td>\n",
              "      <td>14.57</td>\n",
              "      <td>26.18</td>\n",
              "      <td>21.05</td>\n",
              "      <td>11.27</td>\n",
              "      <td>3065.696</td>\n",
              "    </tr>\n",
              "    <tr>\n",
              "      <th>2017-01-04</th>\n",
              "      <td>6.57</td>\n",
              "      <td>14.87</td>\n",
              "      <td>25.70</td>\n",
              "      <td>15.55</td>\n",
              "      <td>27.83</td>\n",
              "      <td>11.01</td>\n",
              "      <td>14.48</td>\n",
              "      <td>26.04</td>\n",
              "      <td>20.87</td>\n",
              "      <td>11.45</td>\n",
              "      <td>3063.069</td>\n",
              "    </tr>\n",
              "    <tr>\n",
              "      <th>2017-01-05</th>\n",
              "      <td>6.63</td>\n",
              "      <td>15.11</td>\n",
              "      <td>26.68</td>\n",
              "      <td>15.63</td>\n",
              "      <td>28.44</td>\n",
              "      <td>11.26</td>\n",
              "      <td>14.64</td>\n",
              "      <td>25.98</td>\n",
              "      <td>20.67</td>\n",
              "      <td>11.28</td>\n",
              "      <td>3067.052</td>\n",
              "    </tr>\n",
              "    <tr>\n",
              "      <th>2017-01-06</th>\n",
              "      <td>6.60</td>\n",
              "      <td>15.02</td>\n",
              "      <td>25.97</td>\n",
              "      <td>15.50</td>\n",
              "      <td>28.60</td>\n",
              "      <td>11.15</td>\n",
              "      <td>14.73</td>\n",
              "      <td>26.26</td>\n",
              "      <td>20.43</td>\n",
              "      <td>11.27</td>\n",
              "      <td>3057.831</td>\n",
              "    </tr>\n",
              "    <tr>\n",
              "      <th>...</th>\n",
              "      <td>...</td>\n",
              "      <td>...</td>\n",
              "      <td>...</td>\n",
              "      <td>...</td>\n",
              "      <td>...</td>\n",
              "      <td>...</td>\n",
              "      <td>...</td>\n",
              "      <td>...</td>\n",
              "      <td>...</td>\n",
              "      <td>...</td>\n",
              "      <td>...</td>\n",
              "    </tr>\n",
              "    <tr>\n",
              "      <th>2020-12-21</th>\n",
              "      <td>11.38</td>\n",
              "      <td>27.02</td>\n",
              "      <td>86.86</td>\n",
              "      <td>15.42</td>\n",
              "      <td>37.07</td>\n",
              "      <td>10.09</td>\n",
              "      <td>23.69</td>\n",
              "      <td>37.79</td>\n",
              "      <td>43.95</td>\n",
              "      <td>65.74</td>\n",
              "      <td>4406.710</td>\n",
              "    </tr>\n",
              "    <tr>\n",
              "      <th>2020-12-22</th>\n",
              "      <td>11.40</td>\n",
              "      <td>27.28</td>\n",
              "      <td>86.94</td>\n",
              "      <td>15.51</td>\n",
              "      <td>36.49</td>\n",
              "      <td>9.85</td>\n",
              "      <td>24.18</td>\n",
              "      <td>38.29</td>\n",
              "      <td>43.16</td>\n",
              "      <td>64.88</td>\n",
              "      <td>4422.140</td>\n",
              "    </tr>\n",
              "    <tr>\n",
              "      <th>2020-12-23</th>\n",
              "      <td>11.67</td>\n",
              "      <td>27.95</td>\n",
              "      <td>87.36</td>\n",
              "      <td>15.50</td>\n",
              "      <td>36.96</td>\n",
              "      <td>10.01</td>\n",
              "      <td>24.73</td>\n",
              "      <td>38.92</td>\n",
              "      <td>43.72</td>\n",
              "      <td>66.60</td>\n",
              "      <td>4416.750</td>\n",
              "    </tr>\n",
              "    <tr>\n",
              "      <th>2020-12-28</th>\n",
              "      <td>11.80</td>\n",
              "      <td>28.18</td>\n",
              "      <td>87.31</td>\n",
              "      <td>15.77</td>\n",
              "      <td>37.58</td>\n",
              "      <td>10.25</td>\n",
              "      <td>24.97</td>\n",
              "      <td>39.35</td>\n",
              "      <td>43.97</td>\n",
              "      <td>66.70</td>\n",
              "      <td>4435.730</td>\n",
              "    </tr>\n",
              "    <tr>\n",
              "      <th>2020-12-29</th>\n",
              "      <td>11.87</td>\n",
              "      <td>28.27</td>\n",
              "      <td>87.07</td>\n",
              "      <td>15.95</td>\n",
              "      <td>36.86</td>\n",
              "      <td>10.06</td>\n",
              "      <td>24.93</td>\n",
              "      <td>39.12</td>\n",
              "      <td>44.13</td>\n",
              "      <td>67.06</td>\n",
              "      <td>4471.760</td>\n",
              "    </tr>\n",
              "  </tbody>\n",
              "</table>\n",
              "<p>968 rows × 11 columns</p>\n",
              "</div>"
            ],
            "text/plain": [
              "            ITSA4  PETR4  VALE3  ABEV3  ...  BBAS3  LREN3  RENT3  TesouroIPCA\n",
              "Date                                    ...                                  \n",
              "2017-01-02   6.25  14.06  25.06  15.36  ...  25.03  20.43  10.81     3071.644\n",
              "2017-01-03   6.53  14.87  26.17  15.67  ...  26.18  21.05  11.27     3065.696\n",
              "2017-01-04   6.57  14.87  25.70  15.55  ...  26.04  20.87  11.45     3063.069\n",
              "2017-01-05   6.63  15.11  26.68  15.63  ...  25.98  20.67  11.28     3067.052\n",
              "2017-01-06   6.60  15.02  25.97  15.50  ...  26.26  20.43  11.27     3057.831\n",
              "...           ...    ...    ...    ...  ...    ...    ...    ...          ...\n",
              "2020-12-21  11.38  27.02  86.86  15.42  ...  37.79  43.95  65.74     4406.710\n",
              "2020-12-22  11.40  27.28  86.94  15.51  ...  38.29  43.16  64.88     4422.140\n",
              "2020-12-23  11.67  27.95  87.36  15.50  ...  38.92  43.72  66.60     4416.750\n",
              "2020-12-28  11.80  28.18  87.31  15.77  ...  39.35  43.97  66.70     4435.730\n",
              "2020-12-29  11.87  28.27  87.07  15.95  ...  39.12  44.13  67.06     4471.760\n",
              "\n",
              "[968 rows x 11 columns]"
            ]
          },
          "metadata": {},
          "execution_count": 35
        }
      ]
    },
    {
      "cell_type": "code",
      "metadata": {
        "id": "KcjQpb0222Ko"
      },
      "source": [
        "#Matriz de Covariancia\n",
        "\n",
        "cov_matrix = risk_models.CovarianceShrinkage(carteira).ledoit_wolf()"
      ],
      "execution_count": null,
      "outputs": []
    },
    {
      "cell_type": "code",
      "metadata": {
        "id": "fUqp6DiT3AmH"
      },
      "source": [
        "#Retorno estimado\n",
        "\n",
        "selic_aa2 = 0.0190\n",
        "selic_diaria2 = (1+selic_aa2)**(1/252)-1"
      ],
      "execution_count": null,
      "outputs": []
    },
    {
      "cell_type": "code",
      "metadata": {
        "id": "lxaZVThW3f8F"
      },
      "source": [
        "#Obter Ibovespa\n",
        "\n",
        "ibov2 = investpy.get_index_historical_data('Bovespa', country='Brazil', from_date=inicio,to_date=fim)\n",
        "ibov2 = pd.DataFrame(ibov2['Close'])"
      ],
      "execution_count": null,
      "outputs": []
    },
    {
      "cell_type": "code",
      "metadata": {
        "colab": {
          "base_uri": "https://localhost:8080/"
        },
        "id": "7PsQb3ZJ35ws",
        "outputId": "f0fd1349-3d21-43a0-b822-91cae1ea4e8a"
      },
      "source": [
        "capm_carteira = expected_returns.capm_return(carteira, market_prices=ibov2, risk_free_rate=selic_diaria2)\n",
        "capm_carteira"
      ],
      "execution_count": null,
      "outputs": [
        {
          "output_type": "execute_result",
          "data": {
            "text/plain": [
              "ITSA4          0.303368\n",
              "PETR4          0.386293\n",
              "VALE3          0.261243\n",
              "ABEV3          0.165679\n",
              "IGTA3          0.272307\n",
              "BRML3          0.312656\n",
              "BBDC4          0.354992\n",
              "BBAS3          0.397150\n",
              "LREN3          0.297542\n",
              "RENT3          0.315008\n",
              "TesouroIPCA    0.054912\n",
              "Name: mkt, dtype: float64"
            ]
          },
          "metadata": {},
          "execution_count": 39
        }
      ]
    },
    {
      "cell_type": "markdown",
      "metadata": {
        "id": "DX76js854Vg3"
      },
      "source": [
        "###9.Long and Short"
      ]
    },
    {
      "cell_type": "code",
      "metadata": {
        "colab": {
          "base_uri": "https://localhost:8080/"
        },
        "id": "ykJsUmEp5b5H",
        "outputId": "c229604b-45dc-4c7d-dd7d-6b9f4d7abcc8"
      },
      "source": [
        "ls = EfficientFrontier(capm_carteira, cov_matrix, weight_bounds=(None,None))\n",
        "ls.min_volatility()\n",
        "ls_pesos = ls.clean_weights()\n",
        "ls_pesos"
      ],
      "execution_count": null,
      "outputs": [
        {
          "output_type": "execute_result",
          "data": {
            "text/plain": [
              "OrderedDict([('ITSA4', 0.04338),\n",
              "             ('PETR4', -0.01737),\n",
              "             ('VALE3', 0.08821),\n",
              "             ('ABEV3', 0.10084),\n",
              "             ('IGTA3', -0.00995),\n",
              "             ('BRML3', -0.03826),\n",
              "             ('BBDC4', 0.01337),\n",
              "             ('BBAS3', -0.11305),\n",
              "             ('LREN3', 0.02197),\n",
              "             ('RENT3', 0.01678),\n",
              "             ('TesouroIPCA', 0.89407)])"
            ]
          },
          "metadata": {},
          "execution_count": 40
        }
      ]
    },
    {
      "cell_type": "markdown",
      "metadata": {
        "id": "KtBLPd5T5-9f"
      },
      "source": [
        "##10. Restrições Setoriais"
      ]
    },
    {
      "cell_type": "code",
      "metadata": {
        "colab": {
          "base_uri": "https://localhost:8080/"
        },
        "id": "RaCsQTuHB4BP",
        "outputId": "59d60f90-d1d3-4436-fe9d-699f1723b589"
      },
      "source": [
        "#Trabalhar com modelos proprietários de estimativa de retorno\n",
        "\n",
        "ativos = ['ITSA4', 'PETR4', 'VALE3', 'ABEV3', 'IGTA3', 'BRML3','BBDC4','BBAS3','LREN3','RENT3', 'TesouroIPCA']\n",
        "\n",
        "retornos_estimados = np.array([0.1,0.1,0.14,0.08,0.1,0.09,0.08,0.1,0.07,0.09,0.05])\n",
        "\n",
        "retorno_analista = pd.Series(data=retornos_estimados,index=ativos)\n",
        "retorno_analista"
      ],
      "execution_count": null,
      "outputs": [
        {
          "output_type": "execute_result",
          "data": {
            "text/plain": [
              "ITSA4          0.10\n",
              "PETR4          0.10\n",
              "VALE3          0.14\n",
              "ABEV3          0.08\n",
              "IGTA3          0.10\n",
              "BRML3          0.09\n",
              "BBDC4          0.08\n",
              "BBAS3          0.10\n",
              "LREN3          0.07\n",
              "RENT3          0.09\n",
              "TesouroIPCA    0.05\n",
              "dtype: float64"
            ]
          },
          "metadata": {},
          "execution_count": 41
        }
      ]
    },
    {
      "cell_type": "code",
      "metadata": {
        "id": "wC1krRIRCoiK"
      },
      "source": [
        "sector_mapper ={\"ITSA4\": \"Bancos\",\n",
        "                \"PETR4\": \"Commodities\",\n",
        "                \"VALE3\": \"Commodities\",\n",
        "                \"ABEV3\": \"Varejo\",\n",
        "                \"IGTA3\": \"Shoppings\",\n",
        "                \"BRML3\": \"Shoppings\",\n",
        "                \"BBDC4\": \"Bancos\",\n",
        "                \"BBAS3\": \"Bancos\",\n",
        "                \"LREN3\": \"Varejo\",\n",
        "                \"RENT3\": \"Varejo\",\n",
        "                \"TesouroIPCA\": \"Renda Fixa\"}"
      ],
      "execution_count": null,
      "outputs": []
    },
    {
      "cell_type": "code",
      "metadata": {
        "id": "NWEOAiEoDaLA"
      },
      "source": [
        "sector_lower = {\"Commodities\": 0.05} #pelo menos 5% ou mais\n",
        "sector_upper = {\"Varejo\": 0.10} #menos que 10% alocado em varejo"
      ],
      "execution_count": null,
      "outputs": []
    },
    {
      "cell_type": "code",
      "metadata": {
        "colab": {
          "base_uri": "https://localhost:8080/"
        },
        "id": "P-Wi9p-uDtIy",
        "outputId": "2ff82d04-917d-4583-911b-8e89a240158a"
      },
      "source": [
        "restricao_setorial = EfficientFrontier(retorno_analista, cov_matrix)\n",
        "restricao_setorial.add_objective(objective_functions.L2_reg, gamma=0.1)\n",
        "restricao_setorial.add_sector_constraints(sector_mapper, sector_lower, sector_upper)\n",
        "restricao_setorial.efficient_risk(target_volatility=0.25)\n",
        "pesos_restricao = restricao_setorial.clean_weights()\n",
        "pesos_restricao\n",
        "\n"
      ],
      "execution_count": null,
      "outputs": [
        {
          "output_type": "execute_result",
          "data": {
            "text/plain": [
              "OrderedDict([('ITSA4', 0.14221),\n",
              "             ('PETR4', 0.08701),\n",
              "             ('VALE3', 0.32386),\n",
              "             ('ABEV3', 0.06135),\n",
              "             ('IGTA3', 0.13618),\n",
              "             ('BRML3', 0.06115),\n",
              "             ('BBDC4', 0.02518),\n",
              "             ('BBAS3', 0.0871),\n",
              "             ('LREN3', 0.0),\n",
              "             ('RENT3', 0.03865),\n",
              "             ('TesouroIPCA', 0.03733)])"
            ]
          },
          "metadata": {},
          "execution_count": 44
        }
      ]
    },
    {
      "cell_type": "markdown",
      "metadata": {
        "id": "7XU4hdZBEw2l"
      },
      "source": [
        "###11. Restrição Específica"
      ]
    },
    {
      "cell_type": "code",
      "metadata": {
        "colab": {
          "base_uri": "https://localhost:8080/"
        },
        "id": "tyH2x4GdE0ec",
        "outputId": "69e2163d-f274-4d9e-8c44-3263f9bda88e"
      },
      "source": [
        "#Carregar o modelo\n",
        "\n",
        "restricao_ativo = EfficientFrontier(retorno_analista, cov_matrix)\n",
        "\n",
        "#Construir a restrição \n",
        "\n",
        "tesouro = restricao_ativo.tickers.index(\"TesouroIPCA\")\n",
        "restricao_ativo.add_constraint(lambda w:w[tesouro] >=0.10)\n",
        "\n",
        "#realizar otimização\n",
        "restricao_ativo.max_sharpe()\n",
        "\n",
        "#buscar os pesos\n",
        "\n",
        "pesos_ativo = restricao_ativo.clean_weights()\n",
        "pesos_ativo\n"
      ],
      "execution_count": null,
      "outputs": [
        {
          "output_type": "execute_result",
          "data": {
            "text/plain": [
              "OrderedDict([('ITSA4', 0.08172),\n",
              "             ('PETR4', 0.0),\n",
              "             ('VALE3', 0.29393),\n",
              "             ('ABEV3', 0.10728),\n",
              "             ('IGTA3', 0.05761),\n",
              "             ('BRML3', 0.0),\n",
              "             ('BBDC4', 0.0),\n",
              "             ('BBAS3', 0.0),\n",
              "             ('LREN3', 0.0),\n",
              "             ('RENT3', 0.0),\n",
              "             ('TesouroIPCA', 0.45946)])"
            ]
          },
          "metadata": {},
          "execution_count": 46
        }
      ]
    },
    {
      "cell_type": "code",
      "metadata": {
        "colab": {
          "base_uri": "https://localhost:8080/",
          "height": 592
        },
        "id": "aTujwMdXF8uM",
        "outputId": "1415065d-4a31-45b1-a2c1-97da4fcc795f"
      },
      "source": [
        "pd.Series(pesos_ativo).plot.pie(figsize=(10,10))"
      ],
      "execution_count": null,
      "outputs": [
        {
          "output_type": "execute_result",
          "data": {
            "text/plain": [
              "<matplotlib.axes._subplots.AxesSubplot at 0x7f55f51097d0>"
            ]
          },
          "metadata": {},
          "execution_count": 47
        },
        {
          "output_type": "display_data",
          "data": {
            "image/png": "[encoded data removed]",
            "text/plain": [
              "<Figure size 720x720 with 1 Axes>"
            ]
          },
          "metadata": {}
        }
      ]
    },
    {
      "cell_type": "markdown",
      "metadata": {
        "id": "wXUYsRqQGRz7"
      },
      "source": [
        "###12.Otimização Semivariancia\n",
        "\n",
        "Otimizando um portfólio que utiliza como objetivo a minimização da semivariancia de acordo com uma restriçao de retorno\n",
        "- Referência: Estrada, J (2007). Mean-Semivariance Optimization: A Heuristic Approach."
      ]
    },
    {
      "cell_type": "code",
      "metadata": {
        "colab": {
          "base_uri": "https://localhost:8080/",
          "height": 390
        },
        "id": "CcxRs0ERGI-y",
        "outputId": "98ad56d2-3f5e-48fd-a02a-a9205f156a50"
      },
      "source": [
        "semicov = risk_models.semicovariance(carteira, benchmark=0)\n",
        "semicov"
      ],
      "execution_count": null,
      "outputs": [
        {
          "output_type": "execute_result",
          "data": {
            "text/html": [
              "<div>\n",
              "<style scoped>\n",
              "    .dataframe tbody tr th:only-of-type {\n",
              "        vertical-align: middle;\n",
              "    }\n",
              "\n",
              "    .dataframe tbody tr th {\n",
              "        vertical-align: top;\n",
              "    }\n",
              "\n",
              "    .dataframe thead th {\n",
              "        text-align: right;\n",
              "    }\n",
              "</style>\n",
              "<table border=\"1\" class=\"dataframe\">\n",
              "  <thead>\n",
              "    <tr style=\"text-align: right;\">\n",
              "      <th></th>\n",
              "      <th>ITSA4</th>\n",
              "      <th>PETR4</th>\n",
              "      <th>VALE3</th>\n",
              "      <th>ABEV3</th>\n",
              "      <th>IGTA3</th>\n",
              "      <th>BRML3</th>\n",
              "      <th>BBDC4</th>\n",
              "      <th>BBAS3</th>\n",
              "      <th>LREN3</th>\n",
              "      <th>RENT3</th>\n",
              "      <th>TesouroIPCA</th>\n",
              "    </tr>\n",
              "  </thead>\n",
              "  <tbody>\n",
              "    <tr>\n",
              "      <th>ITSA4</th>\n",
              "      <td>0.048811</td>\n",
              "      <td>0.043258</td>\n",
              "      <td>0.021531</td>\n",
              "      <td>0.029382</td>\n",
              "      <td>0.039852</td>\n",
              "      <td>0.047543</td>\n",
              "      <td>0.045130</td>\n",
              "      <td>0.053457</td>\n",
              "      <td>0.040264</td>\n",
              "      <td>0.038566</td>\n",
              "      <td>0.011704</td>\n",
              "    </tr>\n",
              "    <tr>\n",
              "      <th>PETR4</th>\n",
              "      <td>0.043258</td>\n",
              "      <td>0.101849</td>\n",
              "      <td>0.036087</td>\n",
              "      <td>0.033092</td>\n",
              "      <td>0.047608</td>\n",
              "      <td>0.056219</td>\n",
              "      <td>0.049328</td>\n",
              "      <td>0.063372</td>\n",
              "      <td>0.043236</td>\n",
              "      <td>0.046914</td>\n",
              "      <td>0.016361</td>\n",
              "    </tr>\n",
              "    <tr>\n",
              "      <th>VALE3</th>\n",
              "      <td>0.021531</td>\n",
              "      <td>0.036087</td>\n",
              "      <td>0.070263</td>\n",
              "      <td>0.018276</td>\n",
              "      <td>0.022439</td>\n",
              "      <td>0.027174</td>\n",
              "      <td>0.024968</td>\n",
              "      <td>0.028495</td>\n",
              "      <td>0.023426</td>\n",
              "      <td>0.025745</td>\n",
              "      <td>0.005052</td>\n",
              "    </tr>\n",
              "    <tr>\n",
              "      <th>ABEV3</th>\n",
              "      <td>0.029382</td>\n",
              "      <td>0.033092</td>\n",
              "      <td>0.018276</td>\n",
              "      <td>0.041551</td>\n",
              "      <td>0.031736</td>\n",
              "      <td>0.036226</td>\n",
              "      <td>0.029949</td>\n",
              "      <td>0.035041</td>\n",
              "      <td>0.032452</td>\n",
              "      <td>0.029520</td>\n",
              "      <td>0.008571</td>\n",
              "    </tr>\n",
              "    <tr>\n",
              "      <th>IGTA3</th>\n",
              "      <td>0.039852</td>\n",
              "      <td>0.047608</td>\n",
              "      <td>0.022439</td>\n",
              "      <td>0.031736</td>\n",
              "      <td>0.061016</td>\n",
              "      <td>0.061108</td>\n",
              "      <td>0.043375</td>\n",
              "      <td>0.053155</td>\n",
              "      <td>0.046036</td>\n",
              "      <td>0.046015</td>\n",
              "      <td>0.014420</td>\n",
              "    </tr>\n",
              "    <tr>\n",
              "      <th>BRML3</th>\n",
              "      <td>0.047543</td>\n",
              "      <td>0.056219</td>\n",
              "      <td>0.027174</td>\n",
              "      <td>0.036226</td>\n",
              "      <td>0.061108</td>\n",
              "      <td>0.081348</td>\n",
              "      <td>0.050953</td>\n",
              "      <td>0.063383</td>\n",
              "      <td>0.054101</td>\n",
              "      <td>0.052966</td>\n",
              "      <td>0.016034</td>\n",
              "    </tr>\n",
              "    <tr>\n",
              "      <th>BBDC4</th>\n",
              "      <td>0.045130</td>\n",
              "      <td>0.049328</td>\n",
              "      <td>0.024968</td>\n",
              "      <td>0.029949</td>\n",
              "      <td>0.043375</td>\n",
              "      <td>0.050953</td>\n",
              "      <td>0.054775</td>\n",
              "      <td>0.058382</td>\n",
              "      <td>0.041788</td>\n",
              "      <td>0.041569</td>\n",
              "      <td>0.012940</td>\n",
              "    </tr>\n",
              "    <tr>\n",
              "      <th>BBAS3</th>\n",
              "      <td>0.053457</td>\n",
              "      <td>0.063372</td>\n",
              "      <td>0.028495</td>\n",
              "      <td>0.035041</td>\n",
              "      <td>0.053155</td>\n",
              "      <td>0.063383</td>\n",
              "      <td>0.058382</td>\n",
              "      <td>0.082566</td>\n",
              "      <td>0.051590</td>\n",
              "      <td>0.050361</td>\n",
              "      <td>0.017799</td>\n",
              "    </tr>\n",
              "    <tr>\n",
              "      <th>LREN3</th>\n",
              "      <td>0.040264</td>\n",
              "      <td>0.043236</td>\n",
              "      <td>0.023426</td>\n",
              "      <td>0.032452</td>\n",
              "      <td>0.046036</td>\n",
              "      <td>0.054101</td>\n",
              "      <td>0.041788</td>\n",
              "      <td>0.051590</td>\n",
              "      <td>0.064808</td>\n",
              "      <td>0.045293</td>\n",
              "      <td>0.012048</td>\n",
              "    </tr>\n",
              "    <tr>\n",
              "      <th>RENT3</th>\n",
              "      <td>0.038566</td>\n",
              "      <td>0.046914</td>\n",
              "      <td>0.025745</td>\n",
              "      <td>0.029520</td>\n",
              "      <td>0.046015</td>\n",
              "      <td>0.052966</td>\n",
              "      <td>0.041569</td>\n",
              "      <td>0.050361</td>\n",
              "      <td>0.045293</td>\n",
              "      <td>0.069389</td>\n",
              "      <td>0.012273</td>\n",
              "    </tr>\n",
              "    <tr>\n",
              "      <th>TesouroIPCA</th>\n",
              "      <td>0.011704</td>\n",
              "      <td>0.016361</td>\n",
              "      <td>0.005052</td>\n",
              "      <td>0.008571</td>\n",
              "      <td>0.014420</td>\n",
              "      <td>0.016034</td>\n",
              "      <td>0.012940</td>\n",
              "      <td>0.017799</td>\n",
              "      <td>0.012048</td>\n",
              "      <td>0.012273</td>\n",
              "      <td>0.008669</td>\n",
              "    </tr>\n",
              "  </tbody>\n",
              "</table>\n",
              "</div>"
            ],
            "text/plain": [
              "                ITSA4     PETR4     VALE3  ...     LREN3     RENT3  TesouroIPCA\n",
              "ITSA4        0.048811  0.043258  0.021531  ...  0.040264  0.038566     0.011704\n",
              "PETR4        0.043258  0.101849  0.036087  ...  0.043236  0.046914     0.016361\n",
              "VALE3        0.021531  0.036087  0.070263  ...  0.023426  0.025745     0.005052\n",
              "ABEV3        0.029382  0.033092  0.018276  ...  0.032452  0.029520     0.008571\n",
              "IGTA3        0.039852  0.047608  0.022439  ...  0.046036  0.046015     0.014420\n",
              "BRML3        0.047543  0.056219  0.027174  ...  0.054101  0.052966     0.016034\n",
              "BBDC4        0.045130  0.049328  0.024968  ...  0.041788  0.041569     0.012940\n",
              "BBAS3        0.053457  0.063372  0.028495  ...  0.051590  0.050361     0.017799\n",
              "LREN3        0.040264  0.043236  0.023426  ...  0.064808  0.045293     0.012048\n",
              "RENT3        0.038566  0.046914  0.025745  ...  0.045293  0.069389     0.012273\n",
              "TesouroIPCA  0.011704  0.016361  0.005052  ...  0.012048  0.012273     0.008669\n",
              "\n",
              "[11 rows x 11 columns]"
            ]
          },
          "metadata": {},
          "execution_count": 48
        }
      ]
    },
    {
      "cell_type": "code",
      "metadata": {
        "id": "kPKHyZrZIFFm"
      },
      "source": [
        "from pypfopt import EfficientSemivariance"
      ],
      "execution_count": null,
      "outputs": []
    },
    {
      "cell_type": "code",
      "metadata": {
        "id": "jVbGbeu9IKun"
      },
      "source": [
        "retornos_df = expected_returns.returns_from_prices(carteira)\n",
        "retornos_df = retornos_df.dropna()"
      ],
      "execution_count": null,
      "outputs": []
    },
    {
      "cell_type": "code",
      "metadata": {
        "colab": {
          "base_uri": "https://localhost:8080/"
        },
        "id": "lFenQRx_I4Zp",
        "outputId": "d56b1281-82ea-49e4-e493-893cb976f3de"
      },
      "source": [
        "ef_semiv = EfficientSemivariance(capm_carteira, retornos_df)\n",
        "ef_semiv.efficient_return(0.2)\n",
        "ef_pesos = ef_semiv.clean_weights()\n",
        "ef_pesos"
      ],
      "execution_count": null,
      "outputs": [
        {
          "output_type": "execute_result",
          "data": {
            "text/plain": [
              "OrderedDict([('ITSA4', 0.02271),\n",
              "             ('PETR4', 0.01076),\n",
              "             ('VALE3', 0.19681),\n",
              "             ('ABEV3', 0.0476),\n",
              "             ('IGTA3', 0.0),\n",
              "             ('BRML3', 0.0),\n",
              "             ('BBDC4', 0.20116),\n",
              "             ('BBAS3', 0.0),\n",
              "             ('LREN3', 0.03027),\n",
              "             ('RENT3', 0.08571),\n",
              "             ('TesouroIPCA', 0.40499)])"
            ]
          },
          "metadata": {},
          "execution_count": 56
        }
      ]
    },
    {
      "cell_type": "code",
      "metadata": {
        "colab": {
          "base_uri": "https://localhost:8080/"
        },
        "id": "EpA3SGoQJER6",
        "outputId": "4ce99c19-6596-42c1-9e44-407bd92df65c"
      },
      "source": [
        "ef_semiv.portfolio_performance(verbose=True, risk_free_rate=selic_diaria2)"
      ],
      "execution_count": null,
      "outputs": [
        {
          "output_type": "stream",
          "name": "stdout",
          "text": [
            "Expected annual return: 20.0%\n",
            "Annual semi-deviation: 12.7%\n",
            "Sortino Ratio: 1.58\n"
          ]
        },
        {
          "output_type": "execute_result",
          "data": {
            "text/plain": [
              "(0.20000000000000004, 0.1268108408040784, 1.5765632215829073)"
            ]
          },
          "metadata": {},
          "execution_count": 57
        }
      ]
    },
    {
      "cell_type": "code",
      "metadata": {
        "id": "nMt4Bvx3JV5x"
      },
      "source": [
        ""
      ],
      "execution_count": null,
      "outputs": []
    },
    {
      "cell_type": "markdown",
      "metadata": {
        "id": "D5yfHEboKgWX"
      },
      "source": [
        "###13. Hierarchical Risk Parity\n",
        "-Marcos López de Prado: Building Diversified Portfolios that Outperform Out of Sample. The Journal of Portfolio Management, 42(4), 59–69."
      ]
    },
    {
      "cell_type": "code",
      "metadata": {
        "id": "n_f8BFY6Kixn"
      },
      "source": [
        "from pypfopt import HRPOpt"
      ],
      "execution_count": null,
      "outputs": []
    },
    {
      "cell_type": "code",
      "metadata": {
        "id": "I_d5V7cLKn4_"
      },
      "source": [
        "hrp_portfolio = HRPOpt(retornos_df)"
      ],
      "execution_count": null,
      "outputs": []
    },
    {
      "cell_type": "code",
      "metadata": {
        "colab": {
          "base_uri": "https://localhost:8080/"
        },
        "id": "hc5icuzxKt3h",
        "outputId": "80256376-6a4f-4f57-b559-3c97de80cb11"
      },
      "source": [
        "hrp_portfolio.optimize()"
      ],
      "execution_count": null,
      "outputs": [
        {
          "output_type": "execute_result",
          "data": {
            "text/plain": [
              "OrderedDict([('ABEV3', 0.11915090473835604),\n",
              "             ('BBAS3', 0.02929615397011615),\n",
              "             ('BBDC4', 0.02255000650071865),\n",
              "             ('BRML3', 0.01957307597835427),\n",
              "             ('IGTA3', 0.03818904885421308),\n",
              "             ('ITSA4', 0.027219058278358),\n",
              "             ('LREN3', 0.03855242337344744),\n",
              "             ('PETR4', 0.01660740586568325),\n",
              "             ('RENT3', 0.03131697988978764),\n",
              "             ('TesouroIPCA', 0.5882769945631984),\n",
              "             ('VALE3', 0.06926794798776706)])"
            ]
          },
          "metadata": {},
          "execution_count": 61
        }
      ]
    },
    {
      "cell_type": "code",
      "metadata": {
        "colab": {
          "base_uri": "https://localhost:8080/"
        },
        "id": "z-Zf-M7DK2bg",
        "outputId": "c76f4d6b-f2ec-459d-d239-5c4561ecd1ed"
      },
      "source": [
        "hrp_portfolio.portfolio_performance(verbose=True, risk_free_rate=selic_diaria2)"
      ],
      "execution_count": null,
      "outputs": [
        {
          "output_type": "stream",
          "name": "stdout",
          "text": [
            "Expected annual return: 15.2%\n",
            "Annual volatility: 14.7%\n",
            "Sharpe Ratio: 1.03\n"
          ]
        },
        {
          "output_type": "execute_result",
          "data": {
            "text/plain": [
              "(0.15154715532900723, 0.14667426813870393, 1.0327132697569068)"
            ]
          },
          "metadata": {},
          "execution_count": 62
        }
      ]
    },
    {
      "cell_type": "code",
      "metadata": {
        "id": "hAa7EO73K8tw"
      },
      "source": [
        "from pypfopt import plotting"
      ],
      "execution_count": null,
      "outputs": []
    },
    {
      "cell_type": "code",
      "metadata": {
        "colab": {
          "base_uri": "https://localhost:8080/",
          "height": 314
        },
        "id": "lDsSDx2-LCik",
        "outputId": "571122c2-5fc4-4093-946e-8e4e784fea95"
      },
      "source": [
        "plotting.plot_dendrogram(hrp_portfolio)"
      ],
      "execution_count": null,
      "outputs": [
        {
          "output_type": "execute_result",
          "data": {
            "text/plain": [
              "<matplotlib.axes._subplots.AxesSubplot at 0x7f55f4a90290>"
            ]
          },
          "metadata": {},
          "execution_count": 64
        },
        {
          "output_type": "display_data",
          "data": {
            "image/png": "[encoded data removed]",
            "text/plain": [
              "<Figure size 432x288 with 1 Axes>"
            ]
          },
          "metadata": {
            "needs_background": "light"
          }
        }
      ]
    },
    {
      "cell_type": "code",
      "metadata": {
        "id": "azjYeKjvLGcG"
      },
      "source": [
        ""
      ],
      "execution_count": null,
      "outputs": []
    }
  ]
}