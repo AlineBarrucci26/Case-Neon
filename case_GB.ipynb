{
  "cells": [
    {
      "cell_type": "markdown",
      "metadata": {
        "id": "view-in-github",
        "colab_type": "text"
      },
      "source": [
        "<a href=\"https://colab.research.google.com/github/AlineBarrucci26/TCC_MBA_data_science_analytics/blob/main/case_GB.ipynb\" target=\"_parent\"><img src=\"https://colab.research.google.com/assets/colab-badge.svg\" alt=\"Open In Colab\"/></a>"
      ]
    },
    {
      "cell_type": "code",
      "execution_count": null,
      "id": "de3b5c3a",
      "metadata": {
        "id": "de3b5c3a"
      },
      "outputs": [],
      "source": [
        "Uma máquina de produção parada custa cerca de R$ 3.500/dia para o Grupo Boticário.\n",
        "No caso de a máquina falhar, ficamos cerca de 8 dias sem máquina.\n",
        "Caso apliquemos a manutenção preventiva, ficaríamos apenas 5 dias sem máquina. \n",
        "Baseado nestas informações, elabore um modelo de manutenção preventiva com os dados anexados.\n",
        "\n",
        "Objetivo prever quando a maquina vai falhar? e realizar uma manutençao preventiva"
      ]
    },
    {
      "cell_type": "code",
      "execution_count": null,
      "id": "9d7d1f36",
      "metadata": {
        "id": "9d7d1f36",
        "outputId": "c34a9bae-128f-4350-a80a-ce07e87d6b23"
      },
      "outputs": [
        {
          "name": "stdout",
          "output_type": "stream",
          "text": [
            "Requirement already satisfied: pip in c:\\users\\aline\\anaconda3\\lib\\site-packages (21.0.1)\n",
            "Requirement already satisfied: install in c:\\users\\aline\\anaconda3\\lib\\site-packages (1.3.5)\n",
            "Requirement already satisfied: scikit-plot in c:\\users\\aline\\anaconda3\\lib\\site-packages (0.3.7)\n",
            "Requirement already satisfied: joblib>=0.10 in c:\\users\\aline\\anaconda3\\lib\\site-packages (from scikit-plot) (1.2.0)\n",
            "Requirement already satisfied: scipy>=0.9 in c:\\users\\aline\\anaconda3\\lib\\site-packages (from scikit-plot) (1.6.2)\n",
            "Requirement already satisfied: scikit-learn>=0.18 in c:\\users\\aline\\anaconda3\\lib\\site-packages (from scikit-plot) (1.2.2)\n",
            "Requirement already satisfied: matplotlib>=1.4.0 in c:\\users\\aline\\anaconda3\\lib\\site-packages (from scikit-plot) (3.3.4)\n",
            "Requirement already satisfied: python-dateutil>=2.1 in c:\\users\\aline\\anaconda3\\lib\\site-packages (from matplotlib>=1.4.0->scikit-plot) (2.8.1)\n",
            "Requirement already satisfied: pyparsing!=2.0.4,!=2.1.2,!=2.1.6,>=2.0.3 in c:\\users\\aline\\anaconda3\\lib\\site-packages (from matplotlib>=1.4.0->scikit-plot) (2.4.7)\n",
            "Requirement already satisfied: cycler>=0.10 in c:\\users\\aline\\anaconda3\\lib\\site-packages (from matplotlib>=1.4.0->scikit-plot) (0.10.0)\n",
            "Requirement already satisfied: numpy>=1.15 in c:\\users\\aline\\anaconda3\\lib\\site-packages (from matplotlib>=1.4.0->scikit-plot) (1.22.4)\n",
            "Requirement already satisfied: pillow>=6.2.0 in c:\\users\\aline\\anaconda3\\lib\\site-packages (from matplotlib>=1.4.0->scikit-plot) (8.2.0)\n",
            "Requirement already satisfied: kiwisolver>=1.0.1 in c:\\users\\aline\\anaconda3\\lib\\site-packages (from matplotlib>=1.4.0->scikit-plot) (1.3.1)\n",
            "Requirement already satisfied: six in c:\\users\\aline\\anaconda3\\lib\\site-packages (from cycler>=0.10->matplotlib>=1.4.0->scikit-plot) (1.15.0)\n",
            "Requirement already satisfied: threadpoolctl>=2.0.0 in c:\\users\\aline\\anaconda3\\lib\\site-packages (from scikit-learn>=0.18->scikit-plot) (2.1.0)\n",
            "Requirement already satisfied: imbalanced-learn in c:\\users\\aline\\anaconda3\\lib\\site-packages (0.10.1)\n",
            "Requirement already satisfied: threadpoolctl>=2.0.0 in c:\\users\\aline\\anaconda3\\lib\\site-packages (from imbalanced-learn) (2.1.0)\n",
            "Requirement already satisfied: numpy>=1.17.3 in c:\\users\\aline\\anaconda3\\lib\\site-packages (from imbalanced-learn) (1.22.4)\n",
            "Requirement already satisfied: joblib>=1.1.1 in c:\\users\\aline\\anaconda3\\lib\\site-packages (from imbalanced-learn) (1.2.0)\n",
            "Requirement already satisfied: scipy>=1.3.2 in c:\\users\\aline\\anaconda3\\lib\\site-packages (from imbalanced-learn) (1.6.2)\n",
            "Requirement already satisfied: scikit-learn>=1.0.2 in c:\\users\\aline\\anaconda3\\lib\\site-packages (from imbalanced-learn) (1.2.2)\n"
          ]
        }
      ],
      "source": [
        "! pip install pip install scikit-plot\n",
        "! pip install imbalanced-learn"
      ]
    },
    {
      "cell_type": "code",
      "execution_count": null,
      "id": "5cca9cd8",
      "metadata": {
        "id": "5cca9cd8"
      },
      "outputs": [],
      "source": [
        "import pandas as pd\n",
        "import numpy as np\n",
        "\n",
        "\n",
        "import tqdm\n",
        "import matplotlib.pyplot as plt\n",
        "import matplotlib.ticker as mtick\n",
        "import seaborn as sns\n",
        "\n",
        "import matplotlib.pyplot as plt\n",
        "import seaborn as sns\n",
        "import scikitplot as skplt\n",
        "from sklearn.inspection import permutation_importance\n",
        "from matplotlib import pyplot\n",
        "\n",
        "\n",
        "from sklearn.linear_model import LogisticRegression\n",
        "from sklearn.metrics import classification_report\n",
        "from sklearn.model_selection import train_test_split\n",
        "from sklearn.metrics import roc_auc_score, roc_curve, accuracy_score\n",
        "\n",
        "from imblearn.under_sampling import RandomUnderSampler\n"
      ]
    },
    {
      "cell_type": "code",
      "execution_count": null,
      "id": "c97b9625",
      "metadata": {
        "id": "c97b9625"
      },
      "outputs": [],
      "source": [
        "#lendo o data frame\n",
        "df = pd.read_csv('./registro_falha_maquinasGB.csv',sep = ';')"
      ]
    },
    {
      "cell_type": "code",
      "execution_count": null,
      "id": "ba291820",
      "metadata": {
        "id": "ba291820",
        "outputId": "972946c6-b6b1-4fac-d4ff-8cefcd147f56"
      },
      "outputs": [
        {
          "data": {
            "text/html": [
              "<div>\n",
              "<style scoped>\n",
              "    .dataframe tbody tr th:only-of-type {\n",
              "        vertical-align: middle;\n",
              "    }\n",
              "\n",
              "    .dataframe tbody tr th {\n",
              "        vertical-align: top;\n",
              "    }\n",
              "\n",
              "    .dataframe thead th {\n",
              "        text-align: right;\n",
              "    }\n",
              "</style>\n",
              "<table border=\"1\" class=\"dataframe\">\n",
              "  <thead>\n",
              "    <tr style=\"text-align: right;\">\n",
              "      <th></th>\n",
              "      <th>Unnamed: 0</th>\n",
              "      <th>dispositivo</th>\n",
              "      <th>falhou</th>\n",
              "      <th>atributo1</th>\n",
              "      <th>atributo2</th>\n",
              "      <th>atributo3</th>\n",
              "      <th>atributo4</th>\n",
              "      <th>atributo5</th>\n",
              "      <th>atributo6</th>\n",
              "      <th>atributo7</th>\n",
              "      <th>atributo8</th>\n",
              "      <th>atributo9</th>\n",
              "      <th>data</th>\n",
              "    </tr>\n",
              "  </thead>\n",
              "  <tbody>\n",
              "    <tr>\n",
              "      <th>0</th>\n",
              "      <td>0</td>\n",
              "      <td>B0T01085</td>\n",
              "      <td>0</td>\n",
              "      <td>215630672</td>\n",
              "      <td>56</td>\n",
              "      <td>0</td>\n",
              "      <td>52</td>\n",
              "      <td>6</td>\n",
              "      <td>407438</td>\n",
              "      <td>0</td>\n",
              "      <td>0</td>\n",
              "      <td>7</td>\n",
              "      <td>2020-08-10</td>\n",
              "    </tr>\n",
              "    <tr>\n",
              "      <th>1</th>\n",
              "      <td>1</td>\n",
              "      <td>B0T0166B</td>\n",
              "      <td>0</td>\n",
              "      <td>61370680</td>\n",
              "      <td>0</td>\n",
              "      <td>3</td>\n",
              "      <td>0</td>\n",
              "      <td>6</td>\n",
              "      <td>403174</td>\n",
              "      <td>0</td>\n",
              "      <td>0</td>\n",
              "      <td>0</td>\n",
              "      <td>2020-08-10</td>\n",
              "    </tr>\n",
              "    <tr>\n",
              "      <th>2</th>\n",
              "      <td>2</td>\n",
              "      <td>B0T01E6Y</td>\n",
              "      <td>0</td>\n",
              "      <td>173295968</td>\n",
              "      <td>0</td>\n",
              "      <td>0</td>\n",
              "      <td>0</td>\n",
              "      <td>12</td>\n",
              "      <td>237394</td>\n",
              "      <td>0</td>\n",
              "      <td>0</td>\n",
              "      <td>0</td>\n",
              "      <td>2020-08-10</td>\n",
              "    </tr>\n",
              "    <tr>\n",
              "      <th>3</th>\n",
              "      <td>3</td>\n",
              "      <td>B0T01JE0</td>\n",
              "      <td>0</td>\n",
              "      <td>79694024</td>\n",
              "      <td>0</td>\n",
              "      <td>0</td>\n",
              "      <td>0</td>\n",
              "      <td>6</td>\n",
              "      <td>410186</td>\n",
              "      <td>0</td>\n",
              "      <td>0</td>\n",
              "      <td>0</td>\n",
              "      <td>2020-08-10</td>\n",
              "    </tr>\n",
              "    <tr>\n",
              "      <th>4</th>\n",
              "      <td>4</td>\n",
              "      <td>B0T01R2B</td>\n",
              "      <td>0</td>\n",
              "      <td>135970480</td>\n",
              "      <td>0</td>\n",
              "      <td>0</td>\n",
              "      <td>0</td>\n",
              "      <td>15</td>\n",
              "      <td>313173</td>\n",
              "      <td>0</td>\n",
              "      <td>0</td>\n",
              "      <td>3</td>\n",
              "      <td>2020-08-10</td>\n",
              "    </tr>\n",
              "  </tbody>\n",
              "</table>\n",
              "</div>"
            ],
            "text/plain": [
              "   Unnamed: 0 dispositivo  falhou  atributo1  atributo2  atributo3  atributo4  \\\n",
              "0           0    B0T01085       0  215630672         56          0         52   \n",
              "1           1    B0T0166B       0   61370680          0          3          0   \n",
              "2           2    B0T01E6Y       0  173295968          0          0          0   \n",
              "3           3    B0T01JE0       0   79694024          0          0          0   \n",
              "4           4    B0T01R2B       0  135970480          0          0          0   \n",
              "\n",
              "   atributo5  atributo6  atributo7  atributo8  atributo9        data  \n",
              "0          6     407438          0          0          7  2020-08-10  \n",
              "1          6     403174          0          0          0  2020-08-10  \n",
              "2         12     237394          0          0          0  2020-08-10  \n",
              "3          6     410186          0          0          0  2020-08-10  \n",
              "4         15     313173          0          0          3  2020-08-10  "
            ]
          },
          "execution_count": 4,
          "metadata": {},
          "output_type": "execute_result"
        }
      ],
      "source": [
        "#observando algumas variaveis\n",
        "df.head(5)"
      ]
    },
    {
      "cell_type": "code",
      "execution_count": null,
      "id": "89a64f5f",
      "metadata": {
        "id": "89a64f5f",
        "outputId": "9ba61dad-56d2-4bfc-8fa0-f0b99520a831"
      },
      "outputs": [
        {
          "name": "stdout",
          "output_type": "stream",
          "text": [
            "<class 'pandas.core.frame.DataFrame'>\n",
            "RangeIndex: 124494 entries, 0 to 124493\n",
            "Data columns (total 13 columns):\n",
            " #   Column       Non-Null Count   Dtype \n",
            "---  ------       --------------   ----- \n",
            " 0   Unnamed: 0   124494 non-null  int64 \n",
            " 1   dispositivo  124494 non-null  object\n",
            " 2   falhou       124494 non-null  int64 \n",
            " 3   atributo1    124494 non-null  int64 \n",
            " 4   atributo2    124494 non-null  int64 \n",
            " 5   atributo3    124494 non-null  int64 \n",
            " 6   atributo4    124494 non-null  int64 \n",
            " 7   atributo5    124494 non-null  int64 \n",
            " 8   atributo6    124494 non-null  int64 \n",
            " 9   atributo7    124494 non-null  int64 \n",
            " 10  atributo8    124494 non-null  int64 \n",
            " 11  atributo9    124494 non-null  int64 \n",
            " 12  data         124494 non-null  object\n",
            "dtypes: int64(11), object(2)\n",
            "memory usage: 12.3+ MB\n"
          ]
        }
      ],
      "source": [
        "#tipos de dados\n",
        "df.info()"
      ]
    },
    {
      "cell_type": "code",
      "execution_count": null,
      "id": "8a23b51d",
      "metadata": {
        "id": "8a23b51d",
        "outputId": "2df06892-a08b-4e75-f3aa-a5b83b2eaeb4"
      },
      "outputs": [
        {
          "data": {
            "text/html": [
              "<div>\n",
              "<style scoped>\n",
              "    .dataframe tbody tr th:only-of-type {\n",
              "        vertical-align: middle;\n",
              "    }\n",
              "\n",
              "    .dataframe tbody tr th {\n",
              "        vertical-align: top;\n",
              "    }\n",
              "\n",
              "    .dataframe thead th {\n",
              "        text-align: right;\n",
              "    }\n",
              "</style>\n",
              "<table border=\"1\" class=\"dataframe\">\n",
              "  <thead>\n",
              "    <tr style=\"text-align: right;\">\n",
              "      <th></th>\n",
              "      <th>Unnamed: 0</th>\n",
              "      <th>falhou</th>\n",
              "      <th>atributo1</th>\n",
              "      <th>atributo2</th>\n",
              "      <th>atributo3</th>\n",
              "      <th>atributo4</th>\n",
              "      <th>atributo5</th>\n",
              "      <th>atributo6</th>\n",
              "      <th>atributo7</th>\n",
              "      <th>atributo8</th>\n",
              "      <th>atributo9</th>\n",
              "    </tr>\n",
              "  </thead>\n",
              "  <tbody>\n",
              "    <tr>\n",
              "      <th>count</th>\n",
              "      <td>124494.000000</td>\n",
              "      <td>124494.000000</td>\n",
              "      <td>1.244940e+05</td>\n",
              "      <td>124494.000000</td>\n",
              "      <td>124494.000000</td>\n",
              "      <td>124494.000000</td>\n",
              "      <td>124494.000000</td>\n",
              "      <td>124494.000000</td>\n",
              "      <td>124494.000000</td>\n",
              "      <td>124494.000000</td>\n",
              "      <td>124494.000000</td>\n",
              "    </tr>\n",
              "    <tr>\n",
              "      <th>mean</th>\n",
              "      <td>62246.500000</td>\n",
              "      <td>0.000851</td>\n",
              "      <td>1.223868e+08</td>\n",
              "      <td>159.484762</td>\n",
              "      <td>9.940455</td>\n",
              "      <td>1.741120</td>\n",
              "      <td>14.222693</td>\n",
              "      <td>260172.858025</td>\n",
              "      <td>0.292528</td>\n",
              "      <td>0.292528</td>\n",
              "      <td>12.451524</td>\n",
              "    </tr>\n",
              "    <tr>\n",
              "      <th>std</th>\n",
              "      <td>35938.466544</td>\n",
              "      <td>0.029167</td>\n",
              "      <td>7.045960e+07</td>\n",
              "      <td>2179.657730</td>\n",
              "      <td>185.747321</td>\n",
              "      <td>22.908507</td>\n",
              "      <td>15.943021</td>\n",
              "      <td>99151.009852</td>\n",
              "      <td>7.436924</td>\n",
              "      <td>7.436924</td>\n",
              "      <td>191.425623</td>\n",
              "    </tr>\n",
              "    <tr>\n",
              "      <th>min</th>\n",
              "      <td>0.000000</td>\n",
              "      <td>0.000000</td>\n",
              "      <td>0.000000e+00</td>\n",
              "      <td>0.000000</td>\n",
              "      <td>0.000000</td>\n",
              "      <td>0.000000</td>\n",
              "      <td>1.000000</td>\n",
              "      <td>8.000000</td>\n",
              "      <td>0.000000</td>\n",
              "      <td>0.000000</td>\n",
              "      <td>0.000000</td>\n",
              "    </tr>\n",
              "    <tr>\n",
              "      <th>25%</th>\n",
              "      <td>31123.250000</td>\n",
              "      <td>0.000000</td>\n",
              "      <td>6.127675e+07</td>\n",
              "      <td>0.000000</td>\n",
              "      <td>0.000000</td>\n",
              "      <td>0.000000</td>\n",
              "      <td>8.000000</td>\n",
              "      <td>221452.000000</td>\n",
              "      <td>0.000000</td>\n",
              "      <td>0.000000</td>\n",
              "      <td>0.000000</td>\n",
              "    </tr>\n",
              "    <tr>\n",
              "      <th>50%</th>\n",
              "      <td>62246.500000</td>\n",
              "      <td>0.000000</td>\n",
              "      <td>1.227957e+08</td>\n",
              "      <td>0.000000</td>\n",
              "      <td>0.000000</td>\n",
              "      <td>0.000000</td>\n",
              "      <td>10.000000</td>\n",
              "      <td>249799.500000</td>\n",
              "      <td>0.000000</td>\n",
              "      <td>0.000000</td>\n",
              "      <td>0.000000</td>\n",
              "    </tr>\n",
              "    <tr>\n",
              "      <th>75%</th>\n",
              "      <td>93369.750000</td>\n",
              "      <td>0.000000</td>\n",
              "      <td>1.833084e+08</td>\n",
              "      <td>0.000000</td>\n",
              "      <td>0.000000</td>\n",
              "      <td>0.000000</td>\n",
              "      <td>12.000000</td>\n",
              "      <td>310266.000000</td>\n",
              "      <td>0.000000</td>\n",
              "      <td>0.000000</td>\n",
              "      <td>0.000000</td>\n",
              "    </tr>\n",
              "    <tr>\n",
              "      <th>max</th>\n",
              "      <td>124493.000000</td>\n",
              "      <td>1.000000</td>\n",
              "      <td>2.441405e+08</td>\n",
              "      <td>64968.000000</td>\n",
              "      <td>24929.000000</td>\n",
              "      <td>1666.000000</td>\n",
              "      <td>98.000000</td>\n",
              "      <td>689161.000000</td>\n",
              "      <td>832.000000</td>\n",
              "      <td>832.000000</td>\n",
              "      <td>18701.000000</td>\n",
              "    </tr>\n",
              "  </tbody>\n",
              "</table>\n",
              "</div>"
            ],
            "text/plain": [
              "          Unnamed: 0         falhou     atributo1      atributo2  \\\n",
              "count  124494.000000  124494.000000  1.244940e+05  124494.000000   \n",
              "mean    62246.500000       0.000851  1.223868e+08     159.484762   \n",
              "std     35938.466544       0.029167  7.045960e+07    2179.657730   \n",
              "min         0.000000       0.000000  0.000000e+00       0.000000   \n",
              "25%     31123.250000       0.000000  6.127675e+07       0.000000   \n",
              "50%     62246.500000       0.000000  1.227957e+08       0.000000   \n",
              "75%     93369.750000       0.000000  1.833084e+08       0.000000   \n",
              "max    124493.000000       1.000000  2.441405e+08   64968.000000   \n",
              "\n",
              "           atributo3      atributo4      atributo5      atributo6  \\\n",
              "count  124494.000000  124494.000000  124494.000000  124494.000000   \n",
              "mean        9.940455       1.741120      14.222693  260172.858025   \n",
              "std       185.747321      22.908507      15.943021   99151.009852   \n",
              "min         0.000000       0.000000       1.000000       8.000000   \n",
              "25%         0.000000       0.000000       8.000000  221452.000000   \n",
              "50%         0.000000       0.000000      10.000000  249799.500000   \n",
              "75%         0.000000       0.000000      12.000000  310266.000000   \n",
              "max     24929.000000    1666.000000      98.000000  689161.000000   \n",
              "\n",
              "           atributo7      atributo8      atributo9  \n",
              "count  124494.000000  124494.000000  124494.000000  \n",
              "mean        0.292528       0.292528      12.451524  \n",
              "std         7.436924       7.436924     191.425623  \n",
              "min         0.000000       0.000000       0.000000  \n",
              "25%         0.000000       0.000000       0.000000  \n",
              "50%         0.000000       0.000000       0.000000  \n",
              "75%         0.000000       0.000000       0.000000  \n",
              "max       832.000000     832.000000   18701.000000  "
            ]
          },
          "execution_count": 6,
          "metadata": {},
          "output_type": "execute_result"
        }
      ],
      "source": [
        "#estatisticas basicas\n",
        "df.describe()"
      ]
    },
    {
      "cell_type": "code",
      "execution_count": null,
      "id": "ac54841e",
      "metadata": {
        "id": "ac54841e",
        "outputId": "0a15c5ff-8a77-4a28-c702-ea03d4e09faf"
      },
      "outputs": [
        {
          "data": {
            "text/plain": [
              "124494"
            ]
          },
          "execution_count": 7,
          "metadata": {},
          "output_type": "execute_result"
        }
      ],
      "source": [
        "# quantos dispositivos temos no df\n",
        "df['dispositivo'].count()"
      ]
    },
    {
      "cell_type": "code",
      "execution_count": null,
      "id": "dbcb290c",
      "metadata": {
        "id": "dbcb290c",
        "outputId": "33c706de-fe0b-44ae-eadf-fccaa07201a9"
      },
      "outputs": [
        {
          "data": {
            "text/plain": [
              "1168"
            ]
          },
          "execution_count": 8,
          "metadata": {},
          "output_type": "execute_result"
        }
      ],
      "source": [
        "# um mesmo disposito aparece mais de uma vez no df\n",
        "df.groupby('dispositivo').dispositivo.nunique().count()"
      ]
    },
    {
      "cell_type": "code",
      "execution_count": null,
      "id": "8a1c0249",
      "metadata": {
        "scrolled": true,
        "id": "8a1c0249",
        "outputId": "94578da5-cfdb-445b-e849-80352e46e029"
      },
      "outputs": [
        {
          "data": {
            "text/html": [
              "<div>\n",
              "<style scoped>\n",
              "    .dataframe tbody tr th:only-of-type {\n",
              "        vertical-align: middle;\n",
              "    }\n",
              "\n",
              "    .dataframe tbody tr th {\n",
              "        vertical-align: top;\n",
              "    }\n",
              "\n",
              "    .dataframe thead th {\n",
              "        text-align: right;\n",
              "    }\n",
              "</style>\n",
              "<table border=\"1\" class=\"dataframe\">\n",
              "  <thead>\n",
              "    <tr style=\"text-align: right;\">\n",
              "      <th></th>\n",
              "      <th>Unnamed: 0</th>\n",
              "      <th>dispositivo</th>\n",
              "      <th>falhou</th>\n",
              "      <th>atributo1</th>\n",
              "      <th>atributo2</th>\n",
              "      <th>atributo3</th>\n",
              "      <th>atributo4</th>\n",
              "      <th>atributo5</th>\n",
              "      <th>atributo6</th>\n",
              "      <th>atributo7</th>\n",
              "      <th>atributo8</th>\n",
              "      <th>atributo9</th>\n",
              "      <th>data</th>\n",
              "      <th>mudou_dispositivo</th>\n",
              "    </tr>\n",
              "  </thead>\n",
              "  <tbody>\n",
              "    <tr>\n",
              "      <th>0</th>\n",
              "      <td>0</td>\n",
              "      <td>B0T01085</td>\n",
              "      <td>0</td>\n",
              "      <td>215630672</td>\n",
              "      <td>56</td>\n",
              "      <td>0</td>\n",
              "      <td>52</td>\n",
              "      <td>6</td>\n",
              "      <td>407438</td>\n",
              "      <td>0</td>\n",
              "      <td>0</td>\n",
              "      <td>7</td>\n",
              "      <td>2020-08-10</td>\n",
              "      <td>1</td>\n",
              "    </tr>\n",
              "    <tr>\n",
              "      <th>1163</th>\n",
              "      <td>1163</td>\n",
              "      <td>B0T01085</td>\n",
              "      <td>0</td>\n",
              "      <td>1650864</td>\n",
              "      <td>56</td>\n",
              "      <td>0</td>\n",
              "      <td>52</td>\n",
              "      <td>6</td>\n",
              "      <td>407438</td>\n",
              "      <td>0</td>\n",
              "      <td>0</td>\n",
              "      <td>7</td>\n",
              "      <td>2020-08-11</td>\n",
              "      <td>0</td>\n",
              "    </tr>\n",
              "    <tr>\n",
              "      <th>2326</th>\n",
              "      <td>2326</td>\n",
              "      <td>B0T01085</td>\n",
              "      <td>0</td>\n",
              "      <td>124017368</td>\n",
              "      <td>56</td>\n",
              "      <td>0</td>\n",
              "      <td>52</td>\n",
              "      <td>6</td>\n",
              "      <td>407438</td>\n",
              "      <td>0</td>\n",
              "      <td>0</td>\n",
              "      <td>7</td>\n",
              "      <td>2020-08-12</td>\n",
              "      <td>0</td>\n",
              "    </tr>\n",
              "    <tr>\n",
              "      <th>3489</th>\n",
              "      <td>3489</td>\n",
              "      <td>B0T01085</td>\n",
              "      <td>0</td>\n",
              "      <td>128073224</td>\n",
              "      <td>56</td>\n",
              "      <td>0</td>\n",
              "      <td>52</td>\n",
              "      <td>6</td>\n",
              "      <td>407439</td>\n",
              "      <td>0</td>\n",
              "      <td>0</td>\n",
              "      <td>7</td>\n",
              "      <td>2020-08-13</td>\n",
              "      <td>0</td>\n",
              "    </tr>\n",
              "    <tr>\n",
              "      <th>4651</th>\n",
              "      <td>4651</td>\n",
              "      <td>B0T01085</td>\n",
              "      <td>0</td>\n",
              "      <td>97393448</td>\n",
              "      <td>56</td>\n",
              "      <td>0</td>\n",
              "      <td>52</td>\n",
              "      <td>6</td>\n",
              "      <td>408114</td>\n",
              "      <td>0</td>\n",
              "      <td>0</td>\n",
              "      <td>7</td>\n",
              "      <td>2020-08-14</td>\n",
              "      <td>0</td>\n",
              "    </tr>\n",
              "  </tbody>\n",
              "</table>\n",
              "</div>"
            ],
            "text/plain": [
              "      Unnamed: 0 dispositivo  falhou  atributo1  atributo2  atributo3  \\\n",
              "0              0    B0T01085       0  215630672         56          0   \n",
              "1163        1163    B0T01085       0    1650864         56          0   \n",
              "2326        2326    B0T01085       0  124017368         56          0   \n",
              "3489        3489    B0T01085       0  128073224         56          0   \n",
              "4651        4651    B0T01085       0   97393448         56          0   \n",
              "\n",
              "      atributo4  atributo5  atributo6  atributo7  atributo8  atributo9  \\\n",
              "0            52          6     407438          0          0          7   \n",
              "1163         52          6     407438          0          0          7   \n",
              "2326         52          6     407438          0          0          7   \n",
              "3489         52          6     407439          0          0          7   \n",
              "4651         52          6     408114          0          0          7   \n",
              "\n",
              "            data  mudou_dispositivo  \n",
              "0     2020-08-10                  1  \n",
              "1163  2020-08-11                  0  \n",
              "2326  2020-08-12                  0  \n",
              "3489  2020-08-13                  0  \n",
              "4651  2020-08-14                  0  "
            ]
          },
          "execution_count": 10,
          "metadata": {},
          "output_type": "execute_result"
        }
      ],
      "source": [
        "# vou ordernar o dataframe por dispositvo e data e contar 1 quando aparece um dispositivo novo no df.\n",
        "df=df.sort_values(by=['dispositivo','data'], ascending=[True, True])\n",
        "df['mudou_dispositivo'] = np.where((df.dispositivo != df.dispositivo.shift(1)), 1, 0)\n",
        "df.head(5)"
      ]
    },
    {
      "cell_type": "code",
      "execution_count": null,
      "id": "9a144992",
      "metadata": {
        "id": "9a144992",
        "outputId": "782de899-07d6-4672-e2a1-00fe4ada4a08"
      },
      "outputs": [
        {
          "data": {
            "text/plain": [
              "dispositivo\n",
              "B0T01085      6\n",
              "B0T013BB      6\n",
              "B0T0166B      6\n",
              "B0T01E6Y     48\n",
              "B0T01JE0      6\n",
              "           ... \n",
              "Q0B1VMZB    292\n",
              "Q0B1VQFY    125\n",
              "Q0B26YZB     84\n",
              "Q0B282ZV     84\n",
              "Q0B2PBHX     83\n",
              "Name: mudou_dispositivo, Length: 1168, dtype: int64"
            ]
          },
          "execution_count": 11,
          "metadata": {},
          "output_type": "execute_result"
        }
      ],
      "source": [
        "df.groupby('dispositivo').mudou_dispositivo.count()"
      ]
    },
    {
      "cell_type": "raw",
      "id": "29e61f7a",
      "metadata": {
        "id": "29e61f7a"
      },
      "source": [
        "# um mesmo dispostivo pode aparecer varias vezes em diferentes datas. "
      ]
    },
    {
      "cell_type": "code",
      "execution_count": null,
      "id": "451327f7",
      "metadata": {
        "id": "451327f7",
        "outputId": "2f64cee2-1d4f-4153-949a-5d393e377ada"
      },
      "outputs": [
        {
          "data": {
            "text/plain": [
              "304"
            ]
          },
          "execution_count": 12,
          "metadata": {},
          "output_type": "execute_result"
        }
      ],
      "source": [
        "#total de datas no data frame\n",
        "df['data'].nunique()"
      ]
    },
    {
      "cell_type": "code",
      "execution_count": null,
      "id": "156034f0",
      "metadata": {
        "id": "156034f0"
      },
      "outputs": [],
      "source": [
        "#transformando data em ano mes\n",
        "df['anomes'] = df['data'].astype(str).str.slice(0,7)"
      ]
    },
    {
      "cell_type": "code",
      "execution_count": null,
      "id": "650a59b2",
      "metadata": {
        "id": "650a59b2",
        "outputId": "57d26aa1-61ad-48d7-c2f0-87e098ac037e"
      },
      "outputs": [
        {
          "data": {
            "text/plain": [
              "0.000851446656063746"
            ]
          },
          "execution_count": 14,
          "metadata": {},
          "output_type": "execute_result"
        }
      ],
      "source": [
        "#média de falhha\n",
        "df['falhou'].mean()"
      ]
    },
    {
      "cell_type": "code",
      "execution_count": null,
      "id": "b29932d1",
      "metadata": {
        "id": "b29932d1",
        "outputId": "c4510834-6fd4-41aa-94e3-df24e0fd8cd6"
      },
      "outputs": [
        {
          "data": {
            "text/plain": [
              "anomes\n",
              "2020-08    18621\n",
              "2020-09    21206\n",
              "2020-10    20850\n",
              "2020-11    13187\n",
              "2020-12    11399\n",
              "2021-01    10829\n",
              "2021-02     9610\n",
              "2021-03     9521\n",
              "2021-04     4950\n",
              "2021-05     4038\n",
              "2021-06      283\n",
              "Name: anomes, dtype: int64"
            ]
          },
          "execution_count": 15,
          "metadata": {},
          "output_type": "execute_result"
        }
      ],
      "source": [
        "df.groupby(['anomes'])['anomes'].count()"
      ]
    },
    {
      "cell_type": "raw",
      "id": "3014bd65",
      "metadata": {
        "id": "3014bd65"
      },
      "source": [
        "Observei que a frequencia de dispositivos listados por mes diminuiu bastante com o passar dos meses."
      ]
    },
    {
      "cell_type": "code",
      "execution_count": null,
      "id": "6864d118",
      "metadata": {
        "scrolled": true,
        "id": "6864d118",
        "outputId": "56926497-aae7-4b93-b67d-4c6ff53da591"
      },
      "outputs": [
        {
          "data": {
            "text/plain": [
              "anomes\n",
              "2020-08    0.013655\n",
              "2020-09    0.015262\n",
              "2020-10    0.008033\n",
              "2020-11    0.005623\n",
              "2020-12    0.017672\n",
              "2021-01    0.004820\n",
              "2021-02    0.011246\n",
              "2021-03    0.006426\n",
              "2021-04    0.000000\n",
              "2021-05    0.001607\n",
              "2021-06    0.000803\n",
              "Name: falhou, dtype: float64"
            ]
          },
          "execution_count": 16,
          "metadata": {},
          "output_type": "execute_result"
        }
      ],
      "source": [
        "#probabilidade de falha por mes\n",
        "df.groupby(['anomes'])['falhou'].sum()/df['falhou'].count()*100"
      ]
    },
    {
      "cell_type": "code",
      "execution_count": null,
      "id": "94200e4d",
      "metadata": {
        "id": "94200e4d"
      },
      "outputs": [],
      "source": [
        "E consequentemente o numero de falhas diminuem tambem. "
      ]
    },
    {
      "cell_type": "code",
      "execution_count": null,
      "id": "b949c98f",
      "metadata": {
        "id": "b949c98f"
      },
      "outputs": [],
      "source": [
        "df['data'] = pd.to_datetime(df['data'].str.title(),format='%Y-%m-%d')                            "
      ]
    },
    {
      "cell_type": "raw",
      "id": "5404ae52",
      "metadata": {
        "id": "5404ae52"
      },
      "source": [
        "Presupondo que a varivel dispositivo é cada maquina funcionando e falhou é se apresentou problema ou não.\n",
        "Primeira hipotese a ser testada é se o evento de falha acontece em dispositivos que se repetem na base. \n",
        "A ideia é se o mesmo dispositivo está apresentando falha"
      ]
    },
    {
      "cell_type": "code",
      "execution_count": null,
      "id": "d181bf5e",
      "metadata": {
        "id": "d181bf5e"
      },
      "outputs": [],
      "source": [
        "dispositivos_falha = df[(df['falhou']==1)]"
      ]
    },
    {
      "cell_type": "code",
      "execution_count": null,
      "id": "bbe1bb26",
      "metadata": {
        "id": "bbe1bb26",
        "outputId": "773309f4-a9b1-450a-f671-46eb8580d06e"
      },
      "outputs": [
        {
          "data": {
            "text/plain": [
              "106"
            ]
          },
          "execution_count": 19,
          "metadata": {},
          "output_type": "execute_result"
        }
      ],
      "source": [
        "dispositivos_falha['dispositivo'].count()"
      ]
    },
    {
      "cell_type": "code",
      "execution_count": null,
      "id": "42223ba9",
      "metadata": {
        "id": "42223ba9",
        "outputId": "fb231e8c-c2a2-488f-f53b-55864e943f68"
      },
      "outputs": [
        {
          "data": {
            "text/plain": [
              "falhou\n",
              "1    106\n",
              "Name: dispositivo, dtype: int64"
            ]
          },
          "execution_count": 20,
          "metadata": {},
          "output_type": "execute_result"
        }
      ],
      "source": [
        "dispositivos_falha.groupby('falhou').dispositivo.nunique()"
      ]
    },
    {
      "cell_type": "raw",
      "id": "023bc335",
      "metadata": {
        "id": "023bc335"
      },
      "source": [
        "A primeira hipotese é desconsiderada dado que os dispositivos que apresentam falhar nao se repetem "
      ]
    },
    {
      "cell_type": "code",
      "execution_count": null,
      "id": "6b216745",
      "metadata": {
        "id": "6b216745"
      },
      "outputs": [],
      "source": []
    },
    {
      "cell_type": "markdown",
      "id": "0e41145a",
      "metadata": {
        "id": "0e41145a"
      },
      "source": [
        "Vou fazer uma variavel que conta a diferença de dias da primeira vez que o dispositivo aparece para a data que consta na planilha"
      ]
    },
    {
      "cell_type": "code",
      "execution_count": null,
      "id": "d16acbd8",
      "metadata": {
        "id": "d16acbd8"
      },
      "outputs": [],
      "source": [
        "Aux = df"
      ]
    },
    {
      "cell_type": "code",
      "execution_count": null,
      "id": "d2d716ea",
      "metadata": {
        "id": "d2d716ea"
      },
      "outputs": [],
      "source": [
        "#Select the first record of each machine\n",
        "inicio = Aux[Aux['mudou_dispositivo'] == 1]\n",
        "inicio = inicio[['data','dispositivo']]"
      ]
    },
    {
      "cell_type": "code",
      "execution_count": null,
      "id": "46af0af7",
      "metadata": {
        "id": "46af0af7"
      },
      "outputs": [],
      "source": [
        "#rename date to start_date\n",
        "inicio=inicio.rename(index=str, columns={\"data\": \"comeco_data\"})\n",
        "#convert START_DATE to date\n",
        "inicio['comeco_data'] = pd.to_datetime(starter['comeco_data'])"
      ]
    },
    {
      "cell_type": "code",
      "execution_count": null,
      "id": "5d43129a",
      "metadata": {
        "id": "5d43129a"
      },
      "outputs": [],
      "source": [
        "Aux=Aux.sort_values(by=['dispositivo', 'data'], ascending=[True, True])\n",
        "inicio=inicio.sort_values(by=['dispositivo'], ascending=[True])\n",
        "df  =Aux.merge(inicio, on=['dispositivo'], how='left')"
      ]
    },
    {
      "cell_type": "code",
      "execution_count": null,
      "id": "71bb3900",
      "metadata": {
        "id": "71bb3900",
        "outputId": "bb2d1c2e-cd7b-41df-828d-12903c5dc9cc"
      },
      "outputs": [
        {
          "data": {
            "text/html": [
              "<div>\n",
              "<style scoped>\n",
              "    .dataframe tbody tr th:only-of-type {\n",
              "        vertical-align: middle;\n",
              "    }\n",
              "\n",
              "    .dataframe tbody tr th {\n",
              "        vertical-align: top;\n",
              "    }\n",
              "\n",
              "    .dataframe thead th {\n",
              "        text-align: right;\n",
              "    }\n",
              "</style>\n",
              "<table border=\"1\" class=\"dataframe\">\n",
              "  <thead>\n",
              "    <tr style=\"text-align: right;\">\n",
              "      <th></th>\n",
              "      <th>Unnamed: 0</th>\n",
              "      <th>dispositivo</th>\n",
              "      <th>falhou</th>\n",
              "      <th>atributo1</th>\n",
              "      <th>atributo2</th>\n",
              "      <th>atributo3</th>\n",
              "      <th>atributo4</th>\n",
              "      <th>atributo5</th>\n",
              "      <th>atributo6</th>\n",
              "      <th>atributo7</th>\n",
              "      <th>atributo8</th>\n",
              "      <th>atributo9</th>\n",
              "      <th>data</th>\n",
              "      <th>mudou_dispositivo</th>\n",
              "      <th>anomes</th>\n",
              "      <th>comeco_data</th>\n",
              "    </tr>\n",
              "  </thead>\n",
              "  <tbody>\n",
              "    <tr>\n",
              "      <th>0</th>\n",
              "      <td>0</td>\n",
              "      <td>B0T01085</td>\n",
              "      <td>0</td>\n",
              "      <td>215630672</td>\n",
              "      <td>56</td>\n",
              "      <td>0</td>\n",
              "      <td>52</td>\n",
              "      <td>6</td>\n",
              "      <td>407438</td>\n",
              "      <td>0</td>\n",
              "      <td>0</td>\n",
              "      <td>7</td>\n",
              "      <td>2020-08-10</td>\n",
              "      <td>1</td>\n",
              "      <td>2020-08</td>\n",
              "      <td>2020-08-10</td>\n",
              "    </tr>\n",
              "    <tr>\n",
              "      <th>1</th>\n",
              "      <td>1163</td>\n",
              "      <td>B0T01085</td>\n",
              "      <td>0</td>\n",
              "      <td>1650864</td>\n",
              "      <td>56</td>\n",
              "      <td>0</td>\n",
              "      <td>52</td>\n",
              "      <td>6</td>\n",
              "      <td>407438</td>\n",
              "      <td>0</td>\n",
              "      <td>0</td>\n",
              "      <td>7</td>\n",
              "      <td>2020-08-11</td>\n",
              "      <td>0</td>\n",
              "      <td>2020-08</td>\n",
              "      <td>2020-08-10</td>\n",
              "    </tr>\n",
              "    <tr>\n",
              "      <th>2</th>\n",
              "      <td>2326</td>\n",
              "      <td>B0T01085</td>\n",
              "      <td>0</td>\n",
              "      <td>124017368</td>\n",
              "      <td>56</td>\n",
              "      <td>0</td>\n",
              "      <td>52</td>\n",
              "      <td>6</td>\n",
              "      <td>407438</td>\n",
              "      <td>0</td>\n",
              "      <td>0</td>\n",
              "      <td>7</td>\n",
              "      <td>2020-08-12</td>\n",
              "      <td>0</td>\n",
              "      <td>2020-08</td>\n",
              "      <td>2020-08-10</td>\n",
              "    </tr>\n",
              "    <tr>\n",
              "      <th>3</th>\n",
              "      <td>3489</td>\n",
              "      <td>B0T01085</td>\n",
              "      <td>0</td>\n",
              "      <td>128073224</td>\n",
              "      <td>56</td>\n",
              "      <td>0</td>\n",
              "      <td>52</td>\n",
              "      <td>6</td>\n",
              "      <td>407439</td>\n",
              "      <td>0</td>\n",
              "      <td>0</td>\n",
              "      <td>7</td>\n",
              "      <td>2020-08-13</td>\n",
              "      <td>0</td>\n",
              "      <td>2020-08</td>\n",
              "      <td>2020-08-10</td>\n",
              "    </tr>\n",
              "    <tr>\n",
              "      <th>4</th>\n",
              "      <td>4651</td>\n",
              "      <td>B0T01085</td>\n",
              "      <td>0</td>\n",
              "      <td>97393448</td>\n",
              "      <td>56</td>\n",
              "      <td>0</td>\n",
              "      <td>52</td>\n",
              "      <td>6</td>\n",
              "      <td>408114</td>\n",
              "      <td>0</td>\n",
              "      <td>0</td>\n",
              "      <td>7</td>\n",
              "      <td>2020-08-14</td>\n",
              "      <td>0</td>\n",
              "      <td>2020-08</td>\n",
              "      <td>2020-08-10</td>\n",
              "    </tr>\n",
              "  </tbody>\n",
              "</table>\n",
              "</div>"
            ],
            "text/plain": [
              "   Unnamed: 0 dispositivo  falhou  atributo1  atributo2  atributo3  atributo4  \\\n",
              "0           0    B0T01085       0  215630672         56          0         52   \n",
              "1        1163    B0T01085       0    1650864         56          0         52   \n",
              "2        2326    B0T01085       0  124017368         56          0         52   \n",
              "3        3489    B0T01085       0  128073224         56          0         52   \n",
              "4        4651    B0T01085       0   97393448         56          0         52   \n",
              "\n",
              "   atributo5  atributo6  atributo7  atributo8  atributo9       data  \\\n",
              "0          6     407438          0          0          7 2020-08-10   \n",
              "1          6     407438          0          0          7 2020-08-11   \n",
              "2          6     407438          0          0          7 2020-08-12   \n",
              "3          6     407439          0          0          7 2020-08-13   \n",
              "4          6     408114          0          0          7 2020-08-14   \n",
              "\n",
              "   mudou_dispositivo   anomes comeco_data  \n",
              "0                  1  2020-08  2020-08-10  \n",
              "1                  0  2020-08  2020-08-10  \n",
              "2                  0  2020-08  2020-08-10  \n",
              "3                  0  2020-08  2020-08-10  \n",
              "4                  0  2020-08  2020-08-10  "
            ]
          },
          "execution_count": 123,
          "metadata": {},
          "output_type": "execute_result"
        }
      ],
      "source": [
        "df.head(5)"
      ]
    },
    {
      "cell_type": "code",
      "execution_count": null,
      "id": "2ded2b84",
      "metadata": {
        "id": "2ded2b84"
      },
      "outputs": [],
      "source": [
        "df['dias'] = pd.to_datetime(df['data']) - pd.to_datetime(df['comeco_data'])"
      ]
    },
    {
      "cell_type": "raw",
      "id": "8ee3adf8",
      "metadata": {
        "id": "8ee3adf8"
      },
      "source": [
        "A Ideia é tentar identificar apos quantos dias o dispositivo aparece na planilha vem a apresentar falha."
      ]
    },
    {
      "cell_type": "code",
      "execution_count": null,
      "id": "de638fb9",
      "metadata": {
        "id": "de638fb9",
        "outputId": "01f2503e-5bfc-462b-f718-eae410ba423f"
      },
      "outputs": [
        {
          "data": {
            "text/plain": [
              "Timedelta('298 days 00:00:00')"
            ]
          },
          "execution_count": 126,
          "metadata": {},
          "output_type": "execute_result"
        }
      ],
      "source": [
        "df[df['falhou']==1]['dias'].max()"
      ]
    },
    {
      "cell_type": "code",
      "execution_count": null,
      "id": "e9afd2e4",
      "metadata": {
        "id": "e9afd2e4",
        "outputId": "7dbc5bd9-04b3-44de-cf2a-0476681fd96c"
      },
      "outputs": [
        {
          "data": {
            "text/plain": [
              "Timedelta('4 days 00:00:00')"
            ]
          },
          "execution_count": 127,
          "metadata": {},
          "output_type": "execute_result"
        }
      ],
      "source": [
        "df[df['falhou']==1]['dias'].min()"
      ]
    },
    {
      "cell_type": "code",
      "execution_count": null,
      "id": "66836da9",
      "metadata": {
        "id": "66836da9",
        "outputId": "cefca106-1fc4-4750-fca6-95a780ddcce8"
      },
      "outputs": [
        {
          "data": {
            "text/plain": [
              "Timedelta('106 days 21:44:09.056603774')"
            ]
          },
          "execution_count": 128,
          "metadata": {},
          "output_type": "execute_result"
        }
      ],
      "source": [
        "df[df['falhou']==1]['dias'].mean()"
      ]
    },
    {
      "cell_type": "raw",
      "id": "6474fce8",
      "metadata": {
        "id": "6474fce8"
      },
      "source": [
        "A diferença de dias mais longas entre o começo do \"uso\" do dispositivo até ele apresentar falha é 298\n",
        "e o minimo é 4 dias.\n",
        "Na média os dispositivos que apresentam falhas - apresentam falhas apos 106 dias de uso.\n"
      ]
    },
    {
      "cell_type": "markdown",
      "id": "059d70a9",
      "metadata": {
        "id": "059d70a9"
      },
      "source": [
        "# Alise Variaveis explicativas (atributos)"
      ]
    },
    {
      "cell_type": "code",
      "execution_count": null,
      "id": "db4e748a",
      "metadata": {
        "id": "db4e748a",
        "outputId": "a389ae0e-102c-47b5-c286-9e0b027dfcff"
      },
      "outputs": [
        {
          "data": {
            "image/png": "[encoded data removed]",
            "text/plain": [
              "<Figure size 1152x1440 with 12 Axes>"
            ]
          },
          "metadata": {
            "needs_background": "light"
          },
          "output_type": "display_data"
        }
      ],
      "source": [
        "df.hist(figsize=(16, 20), bins=50, xlabelsize=8, ylabelsize=8); # ; avoid having the matplotlib verbose informations"
      ]
    },
    {
      "cell_type": "code",
      "execution_count": null,
      "id": "5973ee0f",
      "metadata": {
        "id": "5973ee0f",
        "outputId": "ce7200d5-c315-4322-e1ea-12de07a1c5ef"
      },
      "outputs": [
        {
          "data": {
            "image/png": "[encoded data removed]",
            "text/plain": [
              "<Figure size 900x180 with 6 Axes>"
            ]
          },
          "metadata": {
            "needs_background": "light"
          },
          "output_type": "display_data"
        },
        {
          "data": {
            "image/png": "[encoded data removed]",
            "text/plain": [
              "<Figure size 900x180 with 5 Axes>"
            ]
          },
          "metadata": {
            "needs_background": "light"
          },
          "output_type": "display_data"
        }
      ],
      "source": [
        "for i in range(0, len(df.columns), 9):\n",
        "    sns.pairplot(data=df,\n",
        "                x_vars=df.columns[i:i+5],\n",
        "                y_vars=['falhou'])"
      ]
    },
    {
      "cell_type": "code",
      "execution_count": null,
      "id": "09fc3617",
      "metadata": {
        "id": "09fc3617"
      },
      "outputs": [],
      "source": [
        "correlation = df.corr()"
      ]
    },
    {
      "cell_type": "code",
      "execution_count": null,
      "id": "c01d55bd",
      "metadata": {
        "id": "c01d55bd",
        "outputId": "8006c41e-8351-49b0-8ef5-e086eca1c96c"
      },
      "outputs": [
        {
          "data": {
            "text/plain": [
              "<AxesSubplot:>"
            ]
          },
          "execution_count": 240,
          "metadata": {},
          "output_type": "execute_result"
        },
        {
          "data": {
            "image/png": "[encoded data removed]",
            "text/plain": [
              "<Figure size 432x288 with 2 Axes>"
            ]
          },
          "metadata": {
            "needs_background": "light"
          },
          "output_type": "display_data"
        }
      ],
      "source": [
        "# plot da matriz de correlação\n",
        "\n",
        "plot = sns.heatmap(correlation, annot = True, fmt=\".1f\", linewidths=.6)\n",
        "plot"
      ]
    },
    {
      "cell_type": "raw",
      "id": "e7cc51c1",
      "metadata": {
        "id": "e7cc51c1"
      },
      "source": [
        "Nenhuma variavel tem uma boa correlação com a variavel falhou\n",
        "apenas a variavel atributo 7 esta altamente correlacionada ao atributo 8 e uma delas pode ser excluida\n",
        "a variavel atributo3 tem uma correlação significante (0.5) com a atributo 9 porem nao precisa ser excluida"
      ]
    },
    {
      "cell_type": "code",
      "execution_count": null,
      "id": "7ccb3ca6",
      "metadata": {
        "id": "7ccb3ca6"
      },
      "outputs": [],
      "source": [
        "#calculo do IV\n",
        "def iv_woe(data, target, bins=10, show_woe=False):\n",
        "    \n",
        "    #Empty Dataframe\n",
        "    newDF,woeDF = pd.DataFrame(), pd.DataFrame()\n",
        "    \n",
        "    #Extract Column Names\n",
        "    cols = data.columns\n",
        "    \n",
        "    #Run WOE and IV on all the independent variables\n",
        "    for ivars in cols[~cols.isin([target])]:\n",
        "        if (data[ivars].dtype.kind in 'bifc') and (len(np.unique(data[ivars]))>10):\n",
        "            binned_x = pd.qcut(data[ivars], bins,  duplicates='drop')\n",
        "            d0 = pd.DataFrame({'x': binned_x, 'y': data[target]})\n",
        "        else:\n",
        "            d0 = pd.DataFrame({'x': data[ivars], 'y': data[target]})\n",
        "        d = d0.groupby(\"x\", as_index=False).agg({\"y\": [\"count\", \"sum\"]})\n",
        "        d.columns = ['Cutoff', 'N', 'Events']\n",
        "        d['% of Events'] = np.maximum(d['Events'], 0.5) / d['Events'].sum()\n",
        "        d['Non-Events'] = d['N'] - d['Events']\n",
        "        d['% of Non-Events'] = np.maximum(d['Non-Events'], 0.5) / d['Non-Events'].sum()\n",
        "        d['WoE'] = np.log(d['% of Events']/d['% of Non-Events'])\n",
        "        d['IV'] = d['WoE'] * (d['% of Events'] - d['% of Non-Events'])\n",
        "        d.insert(loc=0, column='Variable', value=ivars)\n",
        "        print(\"Information value of \" + ivars + \" is \" + str(round(d['IV'].sum(),6)))\n",
        "        temp =pd.DataFrame({\"Variable\" : [ivars], \"IV\" : [d['IV'].sum()]}, columns = [\"Variable\", \"IV\"])\n",
        "        newDF=pd.concat([newDF,temp], axis=0)\n",
        "        woeDF=pd.concat([woeDF,d], axis=0)\n",
        "\n",
        "        #Show WOE Table\n",
        "        if show_woe == True:\n",
        "            print(d)\n",
        "    return newDF, woeDF"
      ]
    },
    {
      "cell_type": "code",
      "execution_count": null,
      "id": "7e05b787",
      "metadata": {
        "scrolled": true,
        "id": "7e05b787",
        "outputId": "84ca05a5-6d3e-42e1-d75f-2778fcefc83e"
      },
      "outputs": [
        {
          "name": "stdout",
          "output_type": "stream",
          "text": [
            "Information value of Unnamed: 0 is 0.416471\n",
            "Information value of dispositivo is 14.58569\n",
            "Information value of atributo1 is 0.161802\n",
            "Information value of atributo2 is 0.0\n",
            "Information value of atributo3 is 0.0\n",
            "Information value of atributo4 is 0.0\n",
            "Information value of atributo5 is 0.139519\n",
            "Information value of atributo6 is 0.205411\n",
            "Information value of atributo7 is 0.0\n",
            "Information value of atributo8 is 0.0\n",
            "Information value of atributo9 is 0.045126\n",
            "Information value of data is 1.61809\n",
            "Information value of mudou_dispositivo is 0.003306\n"
          ]
        }
      ],
      "source": [
        "iv, woe = iv_woe(data = df, target = 'falhou')"
      ]
    },
    {
      "cell_type": "markdown",
      "id": "b7495e9c",
      "metadata": {
        "id": "b7495e9c"
      },
      "source": [
        "A variavel Atributo6 tem o maior IV, seguido do Atributo1 e Atributo5 as demais não explicam nada sobre a ocorrencia do evento.\n",
        "Unnamed e dispositivo não seram consideradas, assim como data e anomes."
      ]
    },
    {
      "cell_type": "markdown",
      "id": "c4b46891",
      "metadata": {
        "id": "c4b46891"
      },
      "source": [
        "# Modelagem"
      ]
    },
    {
      "cell_type": "markdown",
      "id": "b47e5df5",
      "metadata": {
        "id": "b47e5df5"
      },
      "source": [
        "Dado que a média de uso do dispositivo para ele apresentar falhas é 106 dias.\n",
        "O modelo tera apenas os dispositivos que tem uso Maior ou igual a 106 dias,\n",
        "Essa sera a primeira condição para o produto ter mais chances de falhas."
      ]
    },
    {
      "cell_type": "code",
      "execution_count": null,
      "id": "6d498d39",
      "metadata": {
        "id": "6d498d39"
      },
      "outputs": [],
      "source": [
        "base_modelagem =  df[df['dias'] >= '106 days 21:44:09.056603774']"
      ]
    },
    {
      "cell_type": "code",
      "execution_count": null,
      "id": "d9fd07dc",
      "metadata": {
        "id": "d9fd07dc"
      },
      "outputs": [],
      "source": [
        "var = ['atributo1','atributo2','atributo3','atributo4','atributo5','atributo6','atributo7','atributo8','atributo9','mudou_dispositivo']"
      ]
    },
    {
      "cell_type": "code",
      "execution_count": null,
      "id": "f6c2abee",
      "metadata": {
        "id": "f6c2abee"
      },
      "outputs": [],
      "source": [
        "X = base_modelagem[var]\n",
        "y = base_modelagem['falhou']"
      ]
    },
    {
      "cell_type": "code",
      "execution_count": null,
      "id": "b322645e",
      "metadata": {
        "id": "b322645e",
        "outputId": "67c5cd31-0226-45ec-ae65-9f6a51c090b0"
      },
      "outputs": [
        {
          "name": "stderr",
          "output_type": "stream",
          "text": [
            "C:\\Users\\Aline\\anaconda3\\lib\\site-packages\\seaborn\\_decorators.py:36: FutureWarning: Pass the following variable as a keyword arg: x. From version 0.12, the only valid positional argument will be `data`, and passing other arguments without an explicit keyword will result in an error or misinterpretation.\n",
            "  warnings.warn(\n"
          ]
        },
        {
          "data": {
            "image/png": "[encoded data removed]",
            "text/plain": [
              "<Figure size 432x288 with 1 Axes>"
            ]
          },
          "metadata": {
            "needs_background": "light"
          },
          "output_type": "display_data"
        }
      ],
      "source": [
        "# plotar gráfico de barras para as Classes\n",
        "sns.countplot('falhou', data=base_modelagem);"
      ]
    },
    {
      "cell_type": "markdown",
      "id": "4c3bb058",
      "metadata": {
        "id": "4c3bb058"
      },
      "source": [
        "É importante observar que o evento falhou =  1 é raro e pode impactar no treinamento do modelo.\n",
        "Vou treinar um modelo sem nenhum tratamento para observas os resultados"
      ]
    },
    {
      "cell_type": "code",
      "execution_count": null,
      "id": "f066f34a",
      "metadata": {
        "id": "f066f34a"
      },
      "outputs": [],
      "source": [
        "# dividir o dataset entre treino e teste\n",
        "X_train, X_test, y_train, y_test = train_test_split(X, y, stratify=y, shuffle=True)"
      ]
    },
    {
      "cell_type": "code",
      "execution_count": null,
      "id": "d903d8fe",
      "metadata": {
        "id": "d903d8fe",
        "outputId": "c43dec98-18c7-4fa7-caaa-0459d88871c2"
      },
      "outputs": [
        {
          "data": {
            "text/html": [
              "<style>#sk-container-id-4 {color: black;background-color: white;}#sk-container-id-4 pre{padding: 0;}#sk-container-id-4 div.sk-toggleable {background-color: white;}#sk-container-id-4 label.sk-toggleable__label {cursor: pointer;display: block;width: 100%;margin-bottom: 0;padding: 0.3em;box-sizing: border-box;text-align: center;}#sk-container-id-4 label.sk-toggleable__label-arrow:before {content: \"▸\";float: left;margin-right: 0.25em;color: #696969;}#sk-container-id-4 label.sk-toggleable__label-arrow:hover:before {color: black;}#sk-container-id-4 div.sk-estimator:hover label.sk-toggleable__label-arrow:before {color: black;}#sk-container-id-4 div.sk-toggleable__content {max-height: 0;max-width: 0;overflow: hidden;text-align: left;background-color: #f0f8ff;}#sk-container-id-4 div.sk-toggleable__content pre {margin: 0.2em;color: black;border-radius: 0.25em;background-color: #f0f8ff;}#sk-container-id-4 input.sk-toggleable__control:checked~div.sk-toggleable__content {max-height: 200px;max-width: 100%;overflow: auto;}#sk-container-id-4 input.sk-toggleable__control:checked~label.sk-toggleable__label-arrow:before {content: \"▾\";}#sk-container-id-4 div.sk-estimator input.sk-toggleable__control:checked~label.sk-toggleable__label {background-color: #d4ebff;}#sk-container-id-4 div.sk-label input.sk-toggleable__control:checked~label.sk-toggleable__label {background-color: #d4ebff;}#sk-container-id-4 input.sk-hidden--visually {border: 0;clip: rect(1px 1px 1px 1px);clip: rect(1px, 1px, 1px, 1px);height: 1px;margin: -1px;overflow: hidden;padding: 0;position: absolute;width: 1px;}#sk-container-id-4 div.sk-estimator {font-family: monospace;background-color: #f0f8ff;border: 1px dotted black;border-radius: 0.25em;box-sizing: border-box;margin-bottom: 0.5em;}#sk-container-id-4 div.sk-estimator:hover {background-color: #d4ebff;}#sk-container-id-4 div.sk-parallel-item::after {content: \"\";width: 100%;border-bottom: 1px solid gray;flex-grow: 1;}#sk-container-id-4 div.sk-label:hover label.sk-toggleable__label {background-color: #d4ebff;}#sk-container-id-4 div.sk-serial::before {content: \"\";position: absolute;border-left: 1px solid gray;box-sizing: border-box;top: 0;bottom: 0;left: 50%;z-index: 0;}#sk-container-id-4 div.sk-serial {display: flex;flex-direction: column;align-items: center;background-color: white;padding-right: 0.2em;padding-left: 0.2em;position: relative;}#sk-container-id-4 div.sk-item {position: relative;z-index: 1;}#sk-container-id-4 div.sk-parallel {display: flex;align-items: stretch;justify-content: center;background-color: white;position: relative;}#sk-container-id-4 div.sk-item::before, #sk-container-id-4 div.sk-parallel-item::before {content: \"\";position: absolute;border-left: 1px solid gray;box-sizing: border-box;top: 0;bottom: 0;left: 50%;z-index: -1;}#sk-container-id-4 div.sk-parallel-item {display: flex;flex-direction: column;z-index: 1;position: relative;background-color: white;}#sk-container-id-4 div.sk-parallel-item:first-child::after {align-self: flex-end;width: 50%;}#sk-container-id-4 div.sk-parallel-item:last-child::after {align-self: flex-start;width: 50%;}#sk-container-id-4 div.sk-parallel-item:only-child::after {width: 0;}#sk-container-id-4 div.sk-dashed-wrapped {border: 1px dashed gray;margin: 0 0.4em 0.5em 0.4em;box-sizing: border-box;padding-bottom: 0.4em;background-color: white;}#sk-container-id-4 div.sk-label label {font-family: monospace;font-weight: bold;display: inline-block;line-height: 1.2em;}#sk-container-id-4 div.sk-label-container {text-align: center;}#sk-container-id-4 div.sk-container {/* jupyter's `normalize.less` sets `[hidden] { display: none; }` but bootstrap.min.css set `[hidden] { display: none !important; }` so we also need the `!important` here to be able to override the default hidden behavior on the sphinx rendered scikit-learn.org. See: https://github.com/scikit-learn/scikit-learn/issues/21755 */display: inline-block !important;position: relative;}#sk-container-id-4 div.sk-text-repr-fallback {display: none;}</style><div id=\"sk-container-id-4\" class=\"sk-top-container\"><div class=\"sk-text-repr-fallback\"><pre>LogisticRegression()</pre><b>In a Jupyter environment, please rerun this cell to show the HTML representation or trust the notebook. <br />On GitHub, the HTML representation is unable to render, please try loading this page with nbviewer.org.</b></div><div class=\"sk-container\" hidden><div class=\"sk-item\"><div class=\"sk-estimator sk-toggleable\"><input class=\"sk-toggleable__control sk-hidden--visually\" id=\"sk-estimator-id-4\" type=\"checkbox\" checked><label for=\"sk-estimator-id-4\" class=\"sk-toggleable__label sk-toggleable__label-arrow\">LogisticRegression</label><div class=\"sk-toggleable__content\"><pre>LogisticRegression()</pre></div></div></div></div></div>"
            ],
            "text/plain": [
              "LogisticRegression()"
            ]
          },
          "execution_count": 170,
          "metadata": {},
          "output_type": "execute_result"
        }
      ],
      "source": [
        "# instanciar e treinar um modelo de Regressão Logística\n",
        "model = LogisticRegression()\n",
        "model.fit(X_train, y_train)"
      ]
    },
    {
      "cell_type": "code",
      "execution_count": null,
      "id": "5e1c05cd",
      "metadata": {
        "id": "5e1c05cd"
      },
      "outputs": [],
      "source": [
        "# fazer as previsões em cima dos dados de teste\n",
        "y_pred = model.predict(X_test)\n",
        "y_proba = model.predict_proba(X_test)"
      ]
    },
    {
      "cell_type": "code",
      "execution_count": null,
      "id": "b7d65da3",
      "metadata": {
        "scrolled": false,
        "id": "b7d65da3",
        "outputId": "f9c85e14-1312-40b5-893e-b430bf14f145"
      },
      "outputs": [
        {
          "name": "stdout",
          "output_type": "stream",
          "text": [
            "Acurácia: 0.9989\n",
            "\n",
            "AUC: 0.5000\n",
            "\n"
          ]
        },
        {
          "data": {
            "image/png": "[encoded data removed]",
            "text/plain": [
              "<Figure size 432x288 with 2 Axes>"
            ]
          },
          "metadata": {
            "needs_background": "light"
          },
          "output_type": "display_data"
        }
      ],
      "source": [
        "# plotar a matrix de confusão\n",
        "skplt.metrics.plot_confusion_matrix(y_test, y_pred, normalize=True)\n",
        "# imprimir relatório de classificação\n",
        "\n",
        "# imprimir a acurácia do modelo\n",
        "print(\"Acurácia: {:.4f}\\n\".format(accuracy_score(y_test, y_pred)))\n",
        "\n",
        "# imprimir a área sob a curva\n",
        "print(\"AUC: {:.4f}\\n\".format(roc_auc_score(y_test, y_pred)))"
      ]
    },
    {
      "cell_type": "markdown",
      "id": "07cdcc37",
      "metadata": {
        "id": "07cdcc37"
      },
      "source": [
        "Uma Acuracia de 0.99 é de desconfiar,\n",
        "o modelo previu corretamente todos as nao falhas e falhas principalmente pelo baixo volume de falhas na base.\n",
        "as variaveis explicativas como visto mais acima nao explicam muito o modelo confirmando isso nos numeros abaixo;"
      ]
    },
    {
      "cell_type": "code",
      "execution_count": null,
      "id": "e04d22f6",
      "metadata": {
        "id": "e04d22f6",
        "outputId": "f479c86d-75b1-44c3-e426-ea9346479a0e"
      },
      "outputs": [
        {
          "name": "stdout",
          "output_type": "stream",
          "text": [
            "Feature : 0 has score  : 0.0 \n",
            "Feature : 1 has score  : 0.0 \n",
            "Feature : 2 has score  : 0.0 \n",
            "Feature : 3 has score  : 0.0 \n",
            "Feature : 4 has score  : 0.0 \n",
            "Feature : 5 has score  : 0.0 \n",
            "Feature : 6 has score  : 0.0 \n",
            "Feature : 7 has score  : 0.0 \n",
            "Feature : 8 has score  : 0.0 \n",
            "Feature : 9 has score  : 0.0 \n"
          ]
        }
      ],
      "source": [
        "# perform permutation importance\n",
        "results = permutation_importance(model, X, y, scoring='accuracy')\n",
        "# get importance\n",
        "importance = results.importances_mean\n",
        "importance=np.sort(importance)\n",
        "# summarize feature importance\n",
        "for index,val in enumerate(importance):\n",
        "    print(\"Feature : {} has score  : {} \".format(index,val))"
      ]
    },
    {
      "cell_type": "markdown",
      "id": "786e7df6",
      "metadata": {
        "id": "786e7df6"
      },
      "source": [
        "Para tentar melhorar os resultados vou usar uma tecnica de balancamento das classes."
      ]
    },
    {
      "cell_type": "code",
      "execution_count": null,
      "id": "929c880e",
      "metadata": {
        "id": "929c880e"
      },
      "outputs": [],
      "source": [
        "# usar técnica under-sampling\n",
        "rus = RandomUnderSampler()"
      ]
    },
    {
      "cell_type": "code",
      "execution_count": null,
      "id": "fa937345",
      "metadata": {
        "id": "fa937345",
        "outputId": "89017bed-3327-4abd-90dd-c749172937ff"
      },
      "outputs": [
        {
          "name": "stdout",
          "output_type": "stream",
          "text": [
            "0    41\n",
            "1    41\n",
            "Name: falhou, dtype: int64\n"
          ]
        },
        {
          "name": "stderr",
          "output_type": "stream",
          "text": [
            "C:\\Users\\Aline\\anaconda3\\lib\\site-packages\\seaborn\\_decorators.py:36: FutureWarning: Pass the following variable as a keyword arg: x. From version 0.12, the only valid positional argument will be `data`, and passing other arguments without an explicit keyword will result in an error or misinterpretation.\n",
            "  warnings.warn(\n"
          ]
        },
        {
          "data": {
            "image/png": "[encoded data removed]",
            "text/plain": [
              "<Figure size 432x288 with 1 Axes>"
            ]
          },
          "metadata": {
            "needs_background": "light"
          },
          "output_type": "display_data"
        }
      ],
      "source": [
        "# usar técnica under-sampling\n",
        "rus = RandomUnderSampler()\n",
        "\n",
        "X_res, y_res = rus.fit_resample(X_train, y_train)\n",
        "\n",
        "# ver o balanceamento das classes\n",
        "print(pd.Series(y_res).value_counts())\n",
        "\n",
        "# plotar a nova distribuição de classes\n",
        "sns.countplot(y_res);"
      ]
    },
    {
      "cell_type": "code",
      "execution_count": null,
      "id": "941d6436",
      "metadata": {
        "id": "941d6436",
        "outputId": "d1f17912-bc45-4d0b-d217-378063ff66c4"
      },
      "outputs": [
        {
          "name": "stdout",
          "output_type": "stream",
          "text": [
            "Acurácia: 0.9067\n",
            "\n",
            "AUC: 0.6322\n",
            "\n"
          ]
        },
        {
          "data": {
            "image/png": "[encoded data removed]",
            "text/plain": [
              "<Figure size 432x288 with 2 Axes>"
            ]
          },
          "metadata": {
            "needs_background": "light"
          },
          "output_type": "display_data"
        }
      ],
      "source": [
        "# instanciar e treinar um modelo de Regressão Logística\n",
        "model_res = LogisticRegression()\n",
        "model_res.fit(X_res, y_res)\n",
        "\n",
        "# fazer as previsões em cima dos dados de teste\n",
        "y_pred_res = model_res.predict(X_test)\n",
        "y_proba_res = model_res.predict_proba(X_test)\n",
        "\n",
        "# plotar a matrix de confusão\n",
        "skplt.metrics.plot_confusion_matrix(y_test, y_pred_res, normalize=True)\n",
        "\n",
        "# imprimir a acurácia do modelo\n",
        "print(\"Acurácia: {:.4f}\\n\".format(accuracy_score(y_test, y_pred_res)))\n",
        "\n",
        "# imprimir a área sob da curva\n",
        "print(\"AUC: {:.4f}\\n\".format(roc_auc_score(y_test, y_pred_res)))\n",
        "     "
      ]
    },
    {
      "cell_type": "markdown",
      "id": "48965e32",
      "metadata": {
        "id": "48965e32"
      },
      "source": [
        "Uma acuracia de 90% é mais aceitavel e podemos e nosso objetivo é prever as falhas e o modelo previu 36% das falhas que foram verdadeiras falhas. "
      ]
    },
    {
      "cell_type": "code",
      "execution_count": null,
      "id": "bd6f971e",
      "metadata": {
        "id": "bd6f971e",
        "outputId": "abcb53d1-2095-490c-fe43-0b3d0f30fd13"
      },
      "outputs": [
        {
          "data": {
            "text/html": [
              "<style>#sk-container-id-2 {color: black;background-color: white;}#sk-container-id-2 pre{padding: 0;}#sk-container-id-2 div.sk-toggleable {background-color: white;}#sk-container-id-2 label.sk-toggleable__label {cursor: pointer;display: block;width: 100%;margin-bottom: 0;padding: 0.3em;box-sizing: border-box;text-align: center;}#sk-container-id-2 label.sk-toggleable__label-arrow:before {content: \"▸\";float: left;margin-right: 0.25em;color: #696969;}#sk-container-id-2 label.sk-toggleable__label-arrow:hover:before {color: black;}#sk-container-id-2 div.sk-estimator:hover label.sk-toggleable__label-arrow:before {color: black;}#sk-container-id-2 div.sk-toggleable__content {max-height: 0;max-width: 0;overflow: hidden;text-align: left;background-color: #f0f8ff;}#sk-container-id-2 div.sk-toggleable__content pre {margin: 0.2em;color: black;border-radius: 0.25em;background-color: #f0f8ff;}#sk-container-id-2 input.sk-toggleable__control:checked~div.sk-toggleable__content {max-height: 200px;max-width: 100%;overflow: auto;}#sk-container-id-2 input.sk-toggleable__control:checked~label.sk-toggleable__label-arrow:before {content: \"▾\";}#sk-container-id-2 div.sk-estimator input.sk-toggleable__control:checked~label.sk-toggleable__label {background-color: #d4ebff;}#sk-container-id-2 div.sk-label input.sk-toggleable__control:checked~label.sk-toggleable__label {background-color: #d4ebff;}#sk-container-id-2 input.sk-hidden--visually {border: 0;clip: rect(1px 1px 1px 1px);clip: rect(1px, 1px, 1px, 1px);height: 1px;margin: -1px;overflow: hidden;padding: 0;position: absolute;width: 1px;}#sk-container-id-2 div.sk-estimator {font-family: monospace;background-color: #f0f8ff;border: 1px dotted black;border-radius: 0.25em;box-sizing: border-box;margin-bottom: 0.5em;}#sk-container-id-2 div.sk-estimator:hover {background-color: #d4ebff;}#sk-container-id-2 div.sk-parallel-item::after {content: \"\";width: 100%;border-bottom: 1px solid gray;flex-grow: 1;}#sk-container-id-2 div.sk-label:hover label.sk-toggleable__label {background-color: #d4ebff;}#sk-container-id-2 div.sk-serial::before {content: \"\";position: absolute;border-left: 1px solid gray;box-sizing: border-box;top: 0;bottom: 0;left: 50%;z-index: 0;}#sk-container-id-2 div.sk-serial {display: flex;flex-direction: column;align-items: center;background-color: white;padding-right: 0.2em;padding-left: 0.2em;position: relative;}#sk-container-id-2 div.sk-item {position: relative;z-index: 1;}#sk-container-id-2 div.sk-parallel {display: flex;align-items: stretch;justify-content: center;background-color: white;position: relative;}#sk-container-id-2 div.sk-item::before, #sk-container-id-2 div.sk-parallel-item::before {content: \"\";position: absolute;border-left: 1px solid gray;box-sizing: border-box;top: 0;bottom: 0;left: 50%;z-index: -1;}#sk-container-id-2 div.sk-parallel-item {display: flex;flex-direction: column;z-index: 1;position: relative;background-color: white;}#sk-container-id-2 div.sk-parallel-item:first-child::after {align-self: flex-end;width: 50%;}#sk-container-id-2 div.sk-parallel-item:last-child::after {align-self: flex-start;width: 50%;}#sk-container-id-2 div.sk-parallel-item:only-child::after {width: 0;}#sk-container-id-2 div.sk-dashed-wrapped {border: 1px dashed gray;margin: 0 0.4em 0.5em 0.4em;box-sizing: border-box;padding-bottom: 0.4em;background-color: white;}#sk-container-id-2 div.sk-label label {font-family: monospace;font-weight: bold;display: inline-block;line-height: 1.2em;}#sk-container-id-2 div.sk-label-container {text-align: center;}#sk-container-id-2 div.sk-container {/* jupyter's `normalize.less` sets `[hidden] { display: none; }` but bootstrap.min.css set `[hidden] { display: none !important; }` so we also need the `!important` here to be able to override the default hidden behavior on the sphinx rendered scikit-learn.org. See: https://github.com/scikit-learn/scikit-learn/issues/21755 */display: inline-block !important;position: relative;}#sk-container-id-2 div.sk-text-repr-fallback {display: none;}</style><div id=\"sk-container-id-2\" class=\"sk-top-container\"><div class=\"sk-text-repr-fallback\"><pre>LogisticRegression()</pre><b>In a Jupyter environment, please rerun this cell to show the HTML representation or trust the notebook. <br />On GitHub, the HTML representation is unable to render, please try loading this page with nbviewer.org.</b></div><div class=\"sk-container\" hidden><div class=\"sk-item\"><div class=\"sk-estimator sk-toggleable\"><input class=\"sk-toggleable__control sk-hidden--visually\" id=\"sk-estimator-id-2\" type=\"checkbox\" checked><label for=\"sk-estimator-id-2\" class=\"sk-toggleable__label sk-toggleable__label-arrow\">LogisticRegression</label><div class=\"sk-toggleable__content\"><pre>LogisticRegression()</pre></div></div></div></div></div>"
            ],
            "text/plain": [
              "LogisticRegression()"
            ]
          },
          "execution_count": 148,
          "metadata": {},
          "output_type": "execute_result"
        }
      ],
      "source": [
        "model_res"
      ]
    },
    {
      "cell_type": "code",
      "execution_count": null,
      "id": "12414fbf",
      "metadata": {
        "id": "12414fbf",
        "outputId": "cc012d03-8907-4948-a48c-505400063964"
      },
      "outputs": [
        {
          "data": {
            "text/plain": [
              "array([[-4.35087709e-08,  3.34559561e-09, -5.39429288e-10,\n",
              "        -3.64733545e-11, -9.59783053e-10, -1.69895667e-05,\n",
              "         7.00624865e-11,  7.00624865e-11, -3.96848931e-10,\n",
              "         0.00000000e+00]])"
            ]
          },
          "execution_count": 149,
          "metadata": {},
          "output_type": "execute_result"
        }
      ],
      "source": [
        "model.coef_"
      ]
    },
    {
      "cell_type": "code",
      "execution_count": null,
      "id": "fe09ece9",
      "metadata": {
        "id": "fe09ece9",
        "outputId": "562fca7f-0894-473e-874f-da7f1db58a40"
      },
      "outputs": [
        {
          "name": "stdout",
          "output_type": "stream",
          "text": [
            "Feature : 0 has score  : -0.007317073170731714 \n",
            "Feature : 1 has score  : 0.0 \n",
            "Feature : 2 has score  : 0.0 \n",
            "Feature : 3 has score  : 0.0 \n",
            "Feature : 4 has score  : 0.0 \n",
            "Feature : 5 has score  : 0.0 \n",
            "Feature : 6 has score  : 0.0 \n",
            "Feature : 7 has score  : 0.0 \n",
            "Feature : 8 has score  : 0.0121951219512195 \n",
            "Feature : 9 has score  : 0.09999999999999999 \n"
          ]
        }
      ],
      "source": [
        "# perform permutation importance\n",
        "results = permutation_importance(model_res, X_res, y_res, scoring='accuracy')\n",
        "# get importance\n",
        "importance = results.importances_mean\n",
        "importance=np.sort(importance)\n",
        "# summarize feature importance\n",
        "for index,val in enumerate(importance):\n",
        "    print(\"Feature : {} has score  : {} \".format(index,val))"
      ]
    },
    {
      "cell_type": "markdown",
      "id": "3b6b7f7c",
      "metadata": {
        "id": "3b6b7f7c"
      },
      "source": [
        "Acima temos a importancia das variaveis e temos apenas a feature  0, 8 e 9 com importancia sendo o atributo 9 e a variavel mudou_dispositivo."
      ]
    },
    {
      "cell_type": "markdown",
      "id": "fb0eb793",
      "metadata": {
        "id": "fb0eb793"
      },
      "source": [
        "Conclusão - as manutenções preventivas devem ocorrer apos os 106 dias de \"uso\" do dispositivo.\n",
        "As chaces do dipositivo apresentar falha apos os 106 dias é de 36%. "
      ]
    },
    {
      "cell_type": "code",
      "execution_count": null,
      "id": "3393d49e",
      "metadata": {
        "id": "3393d49e"
      },
      "outputs": [],
      "source": []
    },
    {
      "cell_type": "code",
      "execution_count": null,
      "id": "ebce7928",
      "metadata": {
        "id": "ebce7928"
      },
      "outputs": [],
      "source": []
    }
  ],
  "metadata": {
    "kernelspec": {
      "display_name": "Python 3",
      "language": "python",
      "name": "python3"
    },
    "language_info": {
      "codemirror_mode": {
        "name": "ipython",
        "version": 3
      },
      "file_extension": ".py",
      "mimetype": "text/x-python",
      "name": "python",
      "nbconvert_exporter": "python",
      "pygments_lexer": "ipython3",
      "version": "3.8.8"
    },
    "colab": {
      "provenance": [],
      "include_colab_link": true
    }
  },
  "nbformat": 4,
  "nbformat_minor": 5
}